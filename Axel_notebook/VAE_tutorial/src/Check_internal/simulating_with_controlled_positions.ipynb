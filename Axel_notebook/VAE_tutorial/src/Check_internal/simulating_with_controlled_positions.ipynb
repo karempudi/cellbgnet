{
 "cells": [
  {
   "cell_type": "code",
   "execution_count": 23,
   "metadata": {},
   "outputs": [],
   "source": [
    "import numpy as np\n",
    "import matplotlib.pyplot as plt\n",
    "import torch\n",
    "import os \n",
    "os.chdir('C:/Users/Raket/OneDrive - Uppsala universitet/Desktop/Sommarjobb/Chromosome_project/cellbgnet/')\n",
    "import cellbgnet\n",
    "%matplotlib qt5\n"
   ]
  },
  {
   "cell_type": "code",
   "execution_count": 24,
   "metadata": {},
   "outputs": [],
   "source": [
    "param_file = 'C:/Users/Raket/OneDrive - Uppsala universitet/Desktop/Sommarjobb/Chromosome_project/cellbgnet/cellbgnet/utils/reference_files/reference_Axel_45deg_changed_params.yaml'\n",
    "param = cellbgnet.utils.param_io.ParamHandling().load_params(param_file)\n"
   ]
  },
  {
   "cell_type": "code",
   "execution_count": 25,
   "metadata": {},
   "outputs": [],
   "source": [
    "psf_params = param.PSF.to_dict()\n",
    "simulation_params = param.Simulation.to_dict()\n",
    "hardware_params = param.Hardware.to_dict()\n",
    "train_size = simulation_params['train_size']"
   ]
  },
  {
   "cell_type": "code",
   "execution_count": 26,
   "metadata": {},
   "outputs": [
    {
     "ename": "AttributeError",
     "evalue": "module 'cellbgnet' has no attribute 'model'",
     "output_type": "error",
     "traceback": [
      "\u001b[1;31m---------------------------------------------------------------------------\u001b[0m",
      "\u001b[1;31mAttributeError\u001b[0m                            Traceback (most recent call last)",
      "Cell \u001b[1;32mIn[26], line 1\u001b[0m\n\u001b[1;32m----> 1\u001b[0m model \u001b[39m=\u001b[39m cellbgnet\u001b[39m.\u001b[39;49mmodel\u001b[39m.\u001b[39mCellBGModel(param)\n\u001b[0;32m      3\u001b[0m model\u001b[39m.\u001b[39minit_recorder()\n\u001b[0;32m      5\u001b[0m model\u001b[39m.\u001b[39minit_eval_data()\n",
      "\u001b[1;31mAttributeError\u001b[0m: module 'cellbgnet' has no attribute 'model'"
     ]
    }
   ],
   "source": [
    "model = cellbgnet.model.CellBGModel(param)\n",
    "\n",
    "model.init_recorder()\n",
    "\n",
    "model.init_eval_data()"
   ]
  },
  {
   "cell_type": "code",
   "execution_count": 27,
   "metadata": {},
   "outputs": [
    {
     "ename": "NameError",
     "evalue": "name 'cellbnet' is not defined",
     "output_type": "error",
     "traceback": [
      "\u001b[1;31m---------------------------------------------------------------------------\u001b[0m",
      "\u001b[1;31mNameError\u001b[0m                                 Traceback (most recent call last)",
      "Cell \u001b[1;32mIn[27], line 1\u001b[0m\n\u001b[1;32m----> 1\u001b[0m cellbnet\u001b[39m.\u001b[39mmodel\n",
      "\u001b[1;31mNameError\u001b[0m: name 'cellbnet' is not defined"
     ]
    }
   ],
   "source": []
  },
  {
   "cell_type": "code",
   "execution_count": null,
   "metadata": {},
   "outputs": [],
   "source": []
  }
 ],
 "metadata": {
  "kernelspec": {
   "display_name": "Python 3 (ipykernel)",
   "language": "python",
   "name": "python3"
  },
  "language_info": {
   "codemirror_mode": {
    "name": "ipython",
    "version": 3
   },
   "file_extension": ".py",
   "mimetype": "text/x-python",
   "name": "python",
   "nbconvert_exporter": "python",
   "pygments_lexer": "ipython3",
   "version": "3.8.16"
  },
  "orig_nbformat": 4
 },
 "nbformat": 4,
 "nbformat_minor": 2
}
