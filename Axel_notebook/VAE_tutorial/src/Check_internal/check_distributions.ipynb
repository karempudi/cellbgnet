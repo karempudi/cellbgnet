{
 "cells": [
  {
   "cell_type": "code",
   "execution_count": 1,
   "metadata": {},
   "outputs": [],
   "source": [
    "import numpy as np\n",
    "import matplotlib.pyplot as plt\n",
    "from skimage.io import imread\n",
    "import seaborn as sns\n",
    "sns.set_style('white')\n",
    "import matplotlib\n",
    "import pandas as pd\n",
    "\n",
    "%matplotlib qt5"
   ]
  },
  {
   "cell_type": "code",
   "execution_count": 2,
   "metadata": {},
   "outputs": [],
   "source": [
    "df_matches = pd.read_csv(\"C:/Users/Raket/OneDrive - Uppsala universitet/Desktop/Sommarjobb/Chromosome_project\\data/rotated_700_matches.csv\")\n",
    "df_predictions = pd.read_csv(\"C:/Users/Raket/OneDrive - Uppsala universitet/Desktop/Sommarjobb/Chromosome_project\\data/rotated_700_predictions.csv\")\n",
    "df_GT = pd.read_csv(\"C:/Users/Raket/OneDrive - Uppsala universitet/Desktop/Sommarjobb/Chromosome_project\\data/rotated_700_GT.csv\")"
   ]
  },
  {
   "cell_type": "code",
   "execution_count": 27,
   "metadata": {},
   "outputs": [
    {
     "data": {
      "text/plain": [
       "2969.735107421875"
      ]
     },
     "execution_count": 27,
     "metadata": {},
     "output_type": "execute_result"
    }
   ],
   "source": [
    "df_predictions['phot'].max()"
   ]
  },
  {
   "cell_type": "code",
   "execution_count": null,
   "metadata": {},
   "outputs": [],
   "source": []
  }
 ],
 "metadata": {
  "kernelspec": {
   "display_name": "Chromosome_project",
   "language": "python",
   "name": "python3"
  },
  "language_info": {
   "codemirror_mode": {
    "name": "ipython",
    "version": 3
   },
   "file_extension": ".py",
   "mimetype": "text/x-python",
   "name": "python",
   "nbconvert_exporter": "python",
   "pygments_lexer": "ipython3",
   "version": "3.8.16"
  },
  "orig_nbformat": 4
 },
 "nbformat": 4,
 "nbformat_minor": 2
}
