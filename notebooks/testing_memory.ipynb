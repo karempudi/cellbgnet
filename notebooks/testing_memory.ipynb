{
 "cells": [
  {
   "cell_type": "code",
   "execution_count": 1,
   "metadata": {},
   "outputs": [],
   "source": [
    "%reload_ext autoreload\n",
    "%autoreload 2\n",
    "#%reload_ext notexbook'\n",
    "#%texify"
   ]
  },
  {
   "cell_type": "code",
   "execution_count": 2,
   "metadata": {},
   "outputs": [],
   "source": [
    "import numpy as np\n",
    "import matplotlib.pyplot as plt\n",
    "import torch\n",
    "\n",
    "import os\n",
    "\n",
    "os.chdir('/home/axtr7550/Chromosome_project/cellbgnet/')\n",
    "import cellbgnet\n",
    "import cellbgnet.utils\n",
    "\n",
    "from cellbgnet.datasets import DataSimulator\n",
    "from cellbgnet.utils.hardware import cpu, gpu\n",
    "from cellbgnet.model import CellBGModel\n",
    "from cellbgnet.simulation.psf_kernel import SMAPSplineCoefficient\n",
    "from cellbgnet.generic.emitter import EmitterSet\n",
    "from cellbgnet.train_loss_infer import generate_probmap_cells\n",
    "\n",
    "os.chdir('/home/axtr7550/Chromosome_project/cellbgnet/notebooks')\n",
    "\n",
    "from skimage.io import imread\n",
    "from skimage.measure import label\n",
    "import random\n",
    "import edt\n",
    "from skimage.filters import gaussian\n",
    "from scipy.ndimage import rotate\n",
    "import random\n",
    "import pickle\n",
    "import pathlib\n",
    "from pathlib import Path\n",
    "%matplotlib qt5"
   ]
  },
  {
   "cell_type": "code",
   "execution_count": 25,
   "metadata": {},
   "outputs": [],
   "source": [
    "param_file = '../cellbgnet/utils/reference_files/reference.yaml'\n",
    "param = cellbgnet.utils.param_io.ParamHandling().load_params(param_file)"
   ]
  },
  {
   "cell_type": "code",
   "execution_count": 32,
   "metadata": {},
   "outputs": [],
   "source": [
    "psf_params = param.PSF.to_dict()\n",
    "simulation_params = param.Simulation.to_dict()\n",
    "hardware_params = param.Hardware.to_dict()\n",
    "train_size = simulation_params['train_size']\n",
    "calib_file = psf_params['calib_file']"
   ]
  },
  {
   "cell_type": "code",
   "execution_count": 33,
   "metadata": {},
   "outputs": [],
   "source": [
    "psf_size = 41\n",
    "xextent = [-0.5, 127.5]\n",
    "yextent = [-0.5, 127.5]\n",
    "zextent = [-400, 400]\n",
    "scale = torch.tensor([(xextent[1] - xextent[0]),\n",
    "                      (yextent[1] - yextent[0]),\n",
    "                      (zextent[1] - zextent[0])])\n",
    "shift = torch.tensor([xextent[0], yextent[0], zextent[0]])"
   ]
  },
  {
   "cell_type": "code",
   "execution_count": 43,
   "metadata": {},
   "outputs": [
    {
     "name": "stdout",
     "output_type": "stream",
     "text": [
      "INITIATING CUDA IMPLEMENTATION\n"
     ]
    }
   ],
   "source": [
    "psf = SMAPSplineCoefficient(calib_file=calib_file).init_spline(\n",
    "xextent=[-0.5, 127.5], yextent=[-0.5, 127.5], img_shape=[128, 128], device='cuda', \n",
    "roi_size=None, roi_auto_center=None)"
   ]
  },
  {
   "cell_type": "code",
   "execution_count": 44,
   "metadata": {},
   "outputs": [],
   "source": [
    "xyz = (torch.tensor([60, 60, 0])).view(-1, 3)\n",
    "photon_scale = 1000\n",
    "photons = torch.ones((xyz.shape[0]))*photon_scale"
   ]
  },
  {
   "cell_type": "code",
   "execution_count": 47,
   "metadata": {},
   "outputs": [
    {
     "name": "stdout",
     "output_type": "stream",
     "text": [
      " /nIN CUDA! /nIN CUDA! /nIN CUDA! /nIN CUDA! /nIN CUDA! /nIN CUDA! /nIN CUDA! /nIN CUDA! /nIN CUDA! /nIN CUDA! /nIN CUDA! /nIN CUDA! /nIN CUDA! /nIN CUDA! /nIN CUDA! /nIN CUDA! /nIN CUDA! /nIN CUDA! /nIN CUDA! /nIN CUDA! /nIN CUDA! /nIN CUDA! /nIN CUDA! /nIN CUDA! /nIN CUDA! /nIN CUDA! /nIN CUDA! /nIN CUDA! /nIN CUDA! /nIN CUDA! /nIN CUDA! /nIN CUDA! /nIN CUDA! /nIN CUDA! /nIN CUDA! /nIN CUDA! /nIN CUDA! /nIN CUDA! /nIN CUDA! /nIN CUDA! /nIN CUDA! /nIN CUDA! /nIN CUDA! /nIN CUDA! /nIN CUDA! /nIN CUDA! /nIN CUDA! /nIN CUDA! /nIN CUDA! /nIN CUDA! /nIN CUDA! /nIN CUDA! /nIN CUDA! /nIN CUDA! /nIN CUDA! /nIN CUDA! /nIN CUDA! /nIN CUDA! /nIN CUDA! /nIN CUDA! /nIN CUDA! /nIN CUDA! /nIN CUDA! /nIN CUDA! /nIN CUDA! /nIN CUDA! /nIN CUDA! /nIN CUDA! /nIN CUDA! /nIN CUDA! /nIN CUDA! /nIN CUDA! /nIN CUDA! /nIN CUDA! /nIN CUDA! /nIN CUDA! /nIN CUDA! /nIN CUDA! /nIN CUDA! /nIN CUDA! /nIN CUDA! /nIN CUDA! /nIN CUDA! /nIN CUDA! /nIN CUDA! /nIN CUDA! /nIN CUDA! /nIN CUDA! /nIN CUDA! /nIN CUDA! /nIN CUDA! /nIN CUDA! /nIN CUDA! /nIN CUDA! /nIN CUDA! /nIN CUDA! /nIN CUDA! /nIN CUDA! /nIN CUDA! /nIN CUDA! /nIN CUDA! /nIN CUDA! /nIN CUDA! /nIN CUDA! /nIN CUDA! /nIN CUDA! /nIN CUDA! /nIN CUDA! /nIN CUDA! /nIN CUDA! /nIN CUDA! /nIN CUDA! /nIN CUDA! /nIN CUDA! /nIN CUDA! /nIN CUDA! /nIN CUDA! /nIN CUDA! /nIN CUDA! /nIN CUDA! /nIN CUDA! /nIN CUDA! /nIN CUDA! /nIN CUDA! /nIN CUDA! /nIN CUDA! /nIN CUDA! /nIN CUDA! /nIN CUDA! /nIN CUDA! /nIN CUDA! /nIN CUDA! /nIN CUDA! /nIN CUDA! /nIN CUDA! /nIN CUDA! /nIN CUDA! /nIN CUDA! /nIN CUDA! /nIN CUDA! /nIN CUDA! /nIN CUDA! /nIN CUDA! /nIN CUDA! /nIN CUDA! /nIN CUDA! /nIN CUDA! /nIN CUDA! /nIN CUDA! /nIN CUDA! /nIN CUDA! /nIN CUDA! /nIN CUDA! /nIN CUDA! /nIN CUDA! /nIN CUDA! /nIN CUDA! /nIN CUDA! /nIN CUDA! /nIN CUDA! /nIN CUDA! /nIN CUDA! /nIN CUDA! /nIN CUDA! /nIN CUDA! /nIN CUDA! /nIN CUDA! /nIN CUDA! /nIN CUDA! /nIN CUDA! /nIN CUDA! /nIN CUDA! /nIN CUDA! /nIN CUDA! /nIN CUDA! /nIN CUDA! /nIN CUDA! /nIN CUDA! /nIN CUDA! /nIN CUDA! /nIN CUDA! /nIN CUDA! /nIN CUDA! /nIN CUDA! /nIN CUDA! /nIN CUDA! /nIN CUDA! /nIN CUDA! /nIN CUDA! /nIN CUDA! /nIN CUDA! /nIN CUDA! /nIN CUDA! /nIN CUDA! /nIN CUDA! /nIN CUDA! /nIN CUDA! /nIN CUDA! /nIN CUDA! /nIN CUDA! /nIN CUDA! /nIN CUDA! /nIN CUDA! /nIN CUDA! /nIN CUDA! /nIN CUDA! /nIN CUDA! /nIN CUDA! /nIN CUDA! /nIN CUDA! /nIN CUDA! /nIN CUDA! /nIN CUDA! /nIN CUDA! /nIN CUDA! /nIN CUDA! /nIN CUDA! /nIN CUDA! /nIN CUDA! /nIN CUDA! /nIN CUDA! /nIN CUDA! /nIN CUDA! /nIN CUDA! /nIN CUDA! /nIN CUDA! /nIN CUDA! /nIN CUDA! /nIN CUDA! /nIN CUDA! /nIN CUDA! /nIN CUDA! /nIN CUDA! /nIN CUDA! /nIN CUDA! /nIN CUDA! /nIN CUDA! /nIN CUDA! /nIN CUDA! /nIN CUDA! /nIN CUDA! /nIN CUDA! /nIN CUDA! /nIN CUDA! /nIN CUDA! /nIN CUDA! /nIN CUDA! /nIN CUDA! /nIN CUDA! /nIN CUDA! /nIN CUDA! /nIN CUDA! /nIN CUDA! /nIN CUDA! /nIN CUDA! /nIN CUDA! /nIN CUDA! /nIN CUDA! /nIN CUDA! /nIN CUDA! /nIN CUDA! /nIN CUDA! /nIN CUDA! /nIN CUDA! /nIN CUDA! /nIN CUDA! /nIN CUDA! /nIN CUDA! /nIN CUDA! /nIN CUDA! /nIN CUDA! /nIN CUDA! /nIN CUDA! /nIN CUDA! /nIN CUDA! /nIN CUDA! /nIN CUDA! /nIN CUDA! /nIN CUDA! /nIN CUDA! /nIN CUDA! /nIN CUDA! /nIN CUDA! /nIN CUDA! /nIN CUDA! /nIN CUDA! /nIN CUDA! /nIN CUDA! /nIN CUDA! /nIN CUDA! /nIN CUDA! /nIN CUDA! /nIN CUDA! /nIN CUDA! /nIN CUDA! /nIN CUDA! /nIN CUDA! /nIN CUDA! /nIN CUDA! /nIN CUDA! /nIN CUDA! /nIN CUDA! /nIN CUDA! /nIN CUDA! /nIN CUDA! /nIN CUDA! /nIN CUDA! /nIN CUDA! /nIN CUDA! /nIN CUDA! /nIN CUDA! /nIN CUDA! /nIN CUDA! /nIN CUDA! /nIN CUDA! /nIN CUDA! /nIN CUDA! /nIN CUDA! /nIN CUDA! /nIN CUDA! /nIN CUDA! /nIN CUDA! /nIN CUDA! /nIN CUDA! /nIN CUDA! /nIN CUDA! /nIN CUDA! /nIN CUDA! /nIN CUDA! /nIN CUDA! /nIN CUDA! /nIN CUDA! /nIN CUDA! /nIN CUDA! /nIN CUDA! /nIN CUDA! /nIN CUDA! /nIN CUDA! /nIN CUDA! /nIN CUDA! /nIN CUDA! /nIN CUDA! /nIN CUDA! /nIN CUDA! /nIN CUDA! /nIN CUDA! /nIN CUDA! /nIN CUDA! /nIN CUDA! /nIN CUDA! /nIN CUDA! /nIN CUDA! /nIN CUDA! /nIN CUDA! /nIN CUDA! /nIN CUDA! /nIN CUDA! /nIN CUDA! /nIN CUDA! /nIN CUDA! /nIN CUDA! /nIN CUDA! /nIN CUDA! /nIN CUDA! /nIN CUDA! /nIN CUDA! /nIN CUDA! /nIN CUDA! /nIN CUDA! /nIN CUDA! /nIN CUDA! /nIN CUDA! /nIN CUDA! /nIN CUDA! /nIN CUDA! /nIN CUDA! /nIN CUDA! /nIN CUDA! /nIN CUDA! /nIN CUDA! /nIN CUDA! /nIN CUDA! /nIN CUDA! /nIN CUDA! /nIN CUDA! /nIN CUDA! /nIN CUDA! /nIN CUDA! /nIN CUDA! /nIN CUDA! /nIN CUDA! /nIN CUDA! /nIN CUDA! /nIN CUDA! /nIN CUDA! /nIN CUDA! /nIN CUDA! /nIN CUDA! /nIN CUDA! /nIN CUDA! /nIN CUDA! /nIN CUDA! /nIN CUDA! /nIN CUDA! /nIN CUDA! /nIN CUDA! /nIN CUDA! /nIN CUDA! /nIN CUDA! /nIN CUDA! /nIN CUDA! /nIN CUDA! /nIN CUDA! /nIN CUDA! /nIN CUDA! /nIN CUDA! /nIN CUDA! /nIN CUDA! /nIN CUDA! /nIN CUDA! /nIN CUDA! /nIN CUDA! /nIN CUDA! /nIN CUDA! /nIN CUDA! /nIN CUDA! /nIN CUDA! /nIN CUDA! /nIN CUDA! /nIN CUDA! /nIN CUDA! /nIN CUDA! /nIN CUDA! /nIN CUDA! /nIN CUDA! /nIN CUDA! /nIN CUDA! /nIN CUDA! /nIN CUDA! /nIN CUDA! /nIN CUDA! /nIN CUDA! /nIN CUDA! /nIN CUDA! /nIN CUDA! /nIN CUDA! /nIN CUDA! /nIN CUDA! /nIN CUDA! /nIN CUDA! /nIN CUDA! /nIN CUDA! /nIN CUDA! /nIN CUDA! /nIN CUDA! /nIN CUDA! /nIN CUDA! /nIN CUDA! /nIN CUDA! /nIN CUDA! /nIN CUDA! /nIN CUDA! /nIN CUDA! /nIN CUDA! /nIN CUDA! /nIN CUDA! /nIN CUDA! /nIN CUDA! /nIN CUDA! /nIN CUDA! /nIN CUDA! /nIN CUDA! /nIN CUDA! /nIN CUDA! /nIN CUDA! /nIN CUDA! /nIN CUDA! /nIN CUDA! /nIN CUDA! /nIN CUDA! /nIN CUDA! /nIN CUDA! /nIN CUDA! /nIN CUDA! /nIN CUDA! /nIN CUDA! /nIN CUDA! /nIN CUDA! /nIN CUDA! /nIN CUDA! /nIN CUDA! /nIN CUDA! /nIN CUDA! /nIN CUDA! /nIN CUDA! /nIN CUDA! /nIN CUDA! /nIN CUDA! /nIN CUDA! /nIN CUDA! /nIN CUDA! /nIN CUDA! /nIN CUDA! /nIN CUDA! /nIN CUDA! /nIN CUDA! /nIN CUDA! /nIN CUDA! /nIN CUDA! /nIN CUDA! /nIN CUDA! /nIN CUDA! /nIN CUDA! /nIN CUDA! /nIN CUDA! /nIN CUDA! /nIN CUDA! /nIN CUDA! /nIN CUDA! /nIN CUDA! /nIN CUDA! /nIN CUDA! /nIN CUDA! /nIN CUDA! /nIN CUDA! /nIN CUDA! /nIN CUDA! /nIN CUDA! /nIN CUDA! /nIN CUDA! /nIN CUDA! /nIN CUDA! /nIN CUDA! /nIN CUDA! /nIN CUDA! /nIN CUDA! /nIN CUDA! /nIN CUDA! /nIN CUDA! /nIN CUDA! /nIN CUDA! /nIN CUDA! /nIN CUDA! /nIN CUDA! /nIN CUDA! /nIN CUDA! /nIN CUDA! /nIN CUDA! /nIN CUDA! /nIN CUDA! /nIN CUDA! /nIN CUDA! /nIN CUDA! /nIN CUDA! /nIN CUDA! /nIN CUDA! /nIN CUDA! /nIN CUDA! /nIN CUDA! /nIN CUDA! /nIN CUDA! /nIN CUDA! /nIN CUDA! /nIN CUDA! /nIN CUDA! /nIN CUDA! /nIN CUDA! /nIN CUDA! /nIN CUDA! /nIN CUDA! /nIN CUDA! /nIN CUDA! /nIN CUDA! /nIN CUDA! /nIN CUDA! /nIN CUDA! /nIN CUDA! /nIN CUDA! /nIN CUDA! /nIN CUDA! /nIN CUDA! /nIN CUDA! /nIN CUDA! /nIN CUDA! /nIN CUDA! /nIN CUDA! /nIN CUDA! /nIN CUDA! /nIN CUDA! /nIN CUDA! /nIN CUDA! /nIN CUDA! /nIN CUDA! /nIN CUDA! /nIN CUDA! /nIN CUDA! /nIN CUDA! /nIN CUDA! /nIN CUDA! /nIN CUDA! /nIN CUDA! /nIN CUDA! /nIN CUDA! /nIN CUDA! /nIN CUDA! /nIN CUDA! /nIN CUDA! /nIN CUDA! /nIN CUDA! /nIN CUDA! /nIN CUDA! /nIN CUDA! /nIN CUDA! /nIN CUDA! /nIN CUDA! /nIN CUDA! /nIN CUDA! /nIN CUDA! /nIN CUDA! /nIN CUDA! /nIN CUDA! /nIN CUDA! /nIN CUDA! /nIN CUDA! /nIN CUDA! /nIN CUDA! /nIN CUDA! /nIN CUDA! /nIN CUDA! /nIN CUDA! /nIN CUDA! /nIN CUDA! /nIN CUDA! /nIN CUDA! /nIN CUDA! /nIN CUDA! /nIN CUDA! /nIN CUDA! /nIN CUDA! /nIN CUDA! /nIN CUDA! /nIN CUDA! /nIN CUDA! /nIN CUDA! /nIN CUDA! /nIN CUDA! /nIN CUDA! /nIN CUDA! /nIN CUDA! /nIN CUDA! /nIN CUDA! /nIN CUDA! /nIN CUDA! /nIN CUDA! /nIN CUDA! /nIN CUDA! /nIN CUDA! /nIN CUDA! /nIN CUDA! /nIN CUDA! /nIN CUDA! /nIN CUDA! /nIN CUDA! /nIN CUDA! /nIN CUDA! /nIN CUDA! /nIN CUDA! /nIN CUDA! /nIN CUDA! /nIN CUDA! /nIN CUDA! /nIN CUDA! /nIN CUDA! /nIN CUDA! /nIN CUDA! /nIN CUDA! /nIN CUDA! /nIN CUDA! /nIN CUDA! /nIN CUDA! /nIN CUDA! /nIN CUDA! /nIN CUDA! /nIN CUDA! /nIN CUDA! /nIN CUDA! /nIN CUDA! /nIN CUDA! /nIN CUDA! /nIN CUDA! /nIN CUDA! /nIN CUDA! /nIN CUDA! /nIN CUDA! /nIN CUDA! /nIN CUDA! /nIN CUDA! /nIN CUDA! /nIN CUDA! /nIN CUDA! /nIN CUDA! /nIN CUDA! /nIN CUDA! /nIN CUDA! /nIN CUDA! /nIN CUDA! /nIN CUDA! /nIN CUDA! /nIN CUDA! /nIN CUDA! /nIN CUDA! /nIN CUDA! /nIN CUDA! /nIN CUDA! /nIN CUDA! /nIN CUDA! /nIN CUDA! /nIN CUDA! /nIN CUDA! /nIN CUDA! /nIN CUDA! /nIN CUDA! /nIN CUDA! /nIN CUDA! /nIN CUDA! /nIN CUDA! /nIN CUDA! /nIN CUDA! /nIN CUDA! /nIN CUDA! /nIN CUDA! /nIN CUDA! /nIN CUDA! /nIN CUDA! /nIN CUDA! /nIN CUDA! /nIN CUDA! /nIN CUDA! /nIN CUDA! /nIN CUDA! /nIN CUDA! /nIN CUDA! /nIN CUDA! /nIN CUDA! /nIN CUDA! /nIN CUDA! /nIN CUDA! /nIN CUDA! /nIN CUDA! /nIN CUDA! /nIN CUDA! /nIN CUDA! /nIN CUDA! /nIN CUDA! /nIN CUDA! /nIN CUDA! /nIN CUDA! /nIN CUDA! /nIN CUDA! /nIN CUDA! /nIN CUDA! /nIN CUDA! /nIN CUDA! /nIN CUDA! /nIN CUDA! /nIN CUDA! /nIN CUDA! /nIN CUDA! /nIN CUDA! /nIN CUDA! /nIN CUDA! /nIN CUDA! /nIN CUDA! /nIN CUDA! /nIN CUDA! /nIN CUDA! /nIN CUDA! /nIN CUDA! /nIN CUDA! /nIN CUDA! /nIN CUDA! /nIN CUDA! /nIN CUDA! /nIN CUDA! /nIN CUDA! /nIN CUDA! /nIN CUDA! /nIN CUDA! /nIN CUDA! /nIN CUDA! /nIN CUDA! /nIN CUDA! /nIN CUDA! /nIN CUDA! /nIN CUDA! /nIN CUDA! /nIN CUDA! /nIN CUDA! /nIN CUDA! /nIN CUDA! /nIN CUDA! /nIN CUDA! /nIN CUDA! /nIN CUDA! /nIN CUDA! /nIN CUDA! /nIN CUDA! /nIN CUDA! /nIN CUDA! /nIN CUDA! /nIN CUDA! /nIN CUDA! /nIN CUDA! /nIN CUDA! /nIN CUDA! /nIN CUDA! /nIN CUDA! /nIN CUDA! /nIN CUDA! /nIN CUDA! /nIN CUDA! /nIN CUDA! /nIN CUDA! /nIN CUDA! /nIN CUDA! /nIN CUDA! /nIN CUDA! /nIN CUDA! /nIN CUDA! /nIN CUDA! /nIN CUDA! /nIN CUDA! /nIN CUDA! /nIN CUDA! /nIN CUDA! /nIN CUDA! /nIN CUDA! /nIN CUDA! /nIN CUDA! /nIN CUDA! /nIN CUDA! /nIN CUDA! /nIN CUDA! /nIN CUDA! /nIN CUDA! /nIN CUDA! /nIN CUDA! /nIN CUDA! /nIN CUDA! /nIN CUDA! /nIN CUDA! /nIN CUDA! /nIN CUDA! /nIN CUDA! /nIN CUDA! /nIN CUDA! /nIN CUDA! /nIN CUDA! /nIN CUDA! /nIN CUDA! /nIN CUDA! /nIN CUDA! /nIN CUDA! /nIN CUDA! /nIN CUDA! /nIN CUDA! /nIN CUDA! /nIN CUDA! /nIN CUDA! /nIN CUDA! /nIN CUDA! /nIN CUDA! /nIN CUDA! /nIN CUDA! /nIN CUDA! /nIN CUDA! /nIN CUDA! /nIN CUDA! /nIN CUDA! /nIN CUDA! /nIN CUDA! /nIN CUDA! /nIN CUDA! /nIN CUDA! /nIN CUDA! /nIN CUDA! /nIN CUDA! /nIN CUDA! /nIN CUDA! /nIN CUDA! /nIN CUDA! /nIN CUDA! /nIN CUDA! /nIN CUDA! /nIN CUDA! /nIN CUDA! /nIN CUDA! /nIN CUDA! /nIN CUDA! /nIN CUDA! /nIN CUDA! /nIN CUDA! /nIN CUDA! /nIN CUDA! /nIN CUDA! /nIN CUDA! /nIN CUDA! /nIN CUDA! /nIN CUDA! /nIN CUDA! /nIN CUDA! /nIN CUDA! /nIN CUDA! /nIN CUDA! /nIN CUDA! /nIN CUDA! /nIN CUDA! /nIN CUDA! /nIN CUDA! /nIN CUDA! /nIN CUDA! /nIN CUDA! /nIN CUDA! /nIN CUDA! /nIN CUDA! /nIN CUDA! /nIN CUDA! /nIN CUDA! /nIN CUDA! /nIN CUDA! /nIN CUDA! /nIN CUDA! /nIN CUDA! /nIN CUDA! /nIN CUDA! /nIN CUDA! /nIN CUDA! /nIN CUDA! /nIN CUDA! /nIN CUDA! /nIN CUDA! /nIN CUDA! /nIN CUDA! /nIN CUDA! /nIN CUDA! /nIN CUDA! /nIN CUDA! /nIN CUDA! /nIN CUDA! /nIN CUDA! /nIN CUDA! /nIN CUDA! /nIN CUDA! /nIN CUDA! /nIN CUDA! /nIN CUDA! /nIN CUDA! /nIN CUDA! /nIN CUDA! /nIN CUDA! /nIN CUDA! /nIN CUDA! /nIN CUDA! /nIN CUDA! /nIN CUDA! /nIN CUDA! /nIN CUDA! /nIN CUDA! /nIN CUDA! /nIN CUDA! /nIN CUDA! /nIN CUDA! /nIN CUDA! /nIN CUDA! /nIN CUDA! /nIN CUDA! /nIN CUDA! /nIN CUDA! /nIN CUDA! /nIN CUDA! /nIN CUDA! /nIN CUDA! /nIN CUDA! /nIN CUDA! /nIN CUDA! /nIN CUDA! /nIN CUDA! /nIN CUDA! /nIN CUDA! /nIN CUDA! /nIN CUDA! /nIN CUDA! /nIN CUDA! /nIN CUDA! /nIN CUDA! /nIN CUDA! /nIN CUDA! /nIN CUDA! /nIN CUDA! /nIN CUDA! /nIN CUDA! /nIN CUDA! /nIN CUDA! /nIN CUDA! /nIN CUDA! /nIN CUDA! /nIN CUDA! /nIN CUDA! /nIN CUDA! /nIN CUDA! /nIN CUDA! /nIN CUDA! /nIN CUDA! /nIN CUDA! /nIN CUDA! /nIN CUDA! /nIN CUDA! /nIN CUDA! /nIN CUDA! /nIN CUDA! /nIN CUDA! /nIN CUDA! /nIN CUDA! /nIN CUDA! /nIN CUDA! /nIN CUDA! /nIN CUDA! /nIN CUDA! /nIN CUDA! /nIN CUDA! /nIN CUDA! /nIN CUDA! /nIN CUDA! /nIN CUDA! /nIN CUDA! /nIN CUDA! /nIN CUDA! /nIN CUDA! /nIN CUDA! /nIN CUDA! /nIN CUDA! /nIN CUDA! /nIN CUDA! /nIN CUDA! /nIN CUDA! /nIN CUDA! /nIN CUDA! /nIN CUDA! /nIN CUDA! /nIN CUDA! /nIN CUDA! /nIN CUDA! /nIN CUDA! /nIN CUDA! /nIN CUDA! /nIN CUDA! /nIN CUDA! /nIN CUDA! /nIN CUDA! /nIN CUDA! /nIN CUDA! /nIN CUDA! /nIN CUDA! /nIN CUDA! /nIN CUDA! /nIN CUDA! /nIN CUDA! /nIN CUDA! /nIN CUDA! /nIN CUDA! /nIN CUDA! /nIN CUDA! /nIN CUDA! /nIN CUDA! /nIN CUDA! /nIN CUDA! /nIN CUDA! /nIN CUDA! /nIN CUDA! /nIN CUDA! /nIN CUDA! /nIN CUDA! /nIN CUDA! /nIN CUDA! /nIN CUDA! /nIN CUDA! /nIN CUDA! /nIN CUDA! /nIN CUDA! /nIN CUDA! /nIN CUDA! /nIN CUDA! /nIN CUDA! /nIN CUDA! /nIN CUDA! /nIN CUDA! /nIN CUDA! /nIN CUDA! /nIN CUDA! /nIN CUDA! /nIN CUDA! /nIN CUDA! /nIN CUDA! /nIN CUDA! /nIN CUDA! /nIN CUDA! /nIN CUDA! /nIN CUDA! /nIN CUDA! /nIN CUDA! /nIN CUDA! /nIN CUDA! /nIN CUDA! /nIN CUDA! /nIN CUDA! /nIN CUDA! /nIN CUDA! "
     ]
    }
   ],
   "source": [
    "for i in range(1000):\n",
    "    psf.forward(xyz, photons);\n"
   ]
  },
  {
   "cell_type": "code",
   "execution_count": null,
   "metadata": {},
   "outputs": [],
   "source": [
    " "
   ]
  },
  {
   "cell_type": "code",
   "execution_count": null,
   "metadata": {},
   "outputs": [],
   "source": []
  }
 ],
 "metadata": {
  "kernelspec": {
   "display_name": "compile_spline",
   "language": "python",
   "name": "compile_spline"
  },
  "language_info": {
   "codemirror_mode": {
    "name": "ipython",
    "version": 3
   },
   "file_extension": ".py",
   "mimetype": "text/x-python",
   "name": "python",
   "nbconvert_exporter": "python",
   "pygments_lexer": "ipython3",
   "version": "3.11.3"
  },
  "orig_nbformat": 4
 },
 "nbformat": 4,
 "nbformat_minor": 2
}
