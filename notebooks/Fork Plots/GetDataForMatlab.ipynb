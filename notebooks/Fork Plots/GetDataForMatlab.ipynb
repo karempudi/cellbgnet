{
 "cells": [
  {
   "cell_type": "code",
   "execution_count": 1,
   "id": "71923bc4",
   "metadata": {},
   "outputs": [],
   "source": [
    "import numpy as np\n",
    "import matplotlib.pyplot as plt\n",
    "import torch\n",
    "import time\n",
    "import sys\n",
    "import pathlib\n",
    "from pathlib import Path\n",
    "import pickle\n",
    "import operator\n",
    "sys.setrecursionlimit(10000)"
   ]
  },
  {
   "cell_type": "code",
   "execution_count": 2,
   "id": "27690310",
   "metadata": {},
   "outputs": [],
   "source": [
    "import cellbgnet\n",
    "import cellbgnet.utils\n",
    "from cellbgnet.datasets import DataSimulator\n",
    "from cellbgnet.utils.hardware import cpu, gpu\n",
    "from cellbgnet.model import CellBGModel\n",
    "from cellbgnet.analyze_eval import *"
   ]
  },
  {
   "cell_type": "code",
   "execution_count": 3,
   "id": "06f951e5",
   "metadata": {},
   "outputs": [],
   "source": [
    "import scipy.signal\n",
    "import skimage.io as sio"
   ]
  },
  {
   "cell_type": "code",
   "execution_count": 4,
   "id": "f133eeec",
   "metadata": {},
   "outputs": [],
   "source": [
    "outputdir = '/home/pk/Documents/3DForkPlots/chromosome/'"
   ]
  },
  {
   "cell_type": "code",
   "execution_count": 5,
   "id": "61c510ee",
   "metadata": {},
   "outputs": [],
   "source": [
    "model_path = Path('/mnt/sda1/SMLAT/training_runs/good_models/model_8865_venus_low_ph.pkl')\n",
    "with open(model_path, 'rb') as f:\n",
    "    model = pickle.load(f)"
   ]
  },
  {
   "cell_type": "markdown",
   "id": "2fac68c4",
   "metadata": {},
   "source": [
    "Save training fluorescence images and location of cell masks"
   ]
  },
  {
   "cell_type": "code",
   "execution_count": 6,
   "id": "822eb506",
   "metadata": {},
   "outputs": [],
   "source": [
    "savedir = outputdir+'/'+'train_images'\n",
    "eval_imgs_all = model.evaluation_params['eval_imgs']\n",
    "for i in range(len(eval_imgs_all)):\n",
    "    filename = savedir+'/'+f'{i:04d}'+'.tiff'\n",
    "    sio.imsave(filename,eval_imgs_all[i],plugin='tifffile')"
   ]
  },
  {
   "cell_type": "code",
   "execution_count": 7,
   "id": "fa0a40db",
   "metadata": {},
   "outputs": [],
   "source": [
    "eval_filenames=model.evaluation_params['eval_filenames']\n",
    "txtfile = outputdir+'/'+ 'train_cell_masks.txt'\n",
    "with open(txtfile, 'w') as f:\n",
    "    for i in range(len(eval_filenames)):\n",
    "         f.write(eval_filenames[i].as_posix()+\"\\n\")\n",
    "f.close()"
   ]
  },
  {
   "cell_type": "markdown",
   "id": "34678613",
   "metadata": {},
   "source": [
    "Save predicted and true dot localizations on training data"
   ]
  },
  {
   "cell_type": "code",
   "execution_count": 8,
   "id": "00e4a7e7",
   "metadata": {},
   "outputs": [
    {
     "name": "stdout",
     "output_type": "stream",
     "text": [
      "processing area:99/99, input field_xy:[1258 1301 1004 1043], use_coordconv:True, retain locs in area:[1278, 1301, 1024, 1043]\n"
     ]
    }
   ],
   "source": [
    "eval2 = eval_imgs_all\n",
    "plot_num = None\n",
    "preds_raw, n_per_img, plot_area = recognition(model=model, eval_imgs_all=eval2, batch_size=512, use_tqdm=False,\n",
    "                                     nms=True, candidate_threshold=0.1,\n",
    "                                     nms_threshold=0.5,\n",
    "                                     pixel_nm=model.data_generator.psf_params['pixel_size_xy'],\n",
    "                                     plot_num=None,\n",
    "                                     win_size=model.data_generator.simulation_params['train_size'],\n",
    "                                     padding=True,\n",
    "                                     padded_background=model.simulation_params['bg_values'])"
   ]
  },
  {
   "cell_type": "code",
   "execution_count": 9,
   "id": "dc476eb2",
   "metadata": {},
   "outputs": [],
   "source": [
    "import csv\n",
    "csvfile = outputdir+'/'+'decode_train_output.csv'\n",
    "with open(csvfile, 'w') as f:\n",
    "    table = csv.writer(f)\n",
    "    header=['molecule','image','x','y','z','photon','prob',\\\n",
    "            'sigma_x','sigma_y','sigma_z','sigma_photon',\\\n",
    "            'x_offset','y_offset','z_offset']\n",
    "    table.writerow(header)\n",
    "    for i in range(len(preds_raw)):\n",
    "        table.writerow(preds_raw[i])\n",
    "f.close()"
   ]
  },
  {
   "cell_type": "code",
   "execution_count": 10,
   "id": "efabf8a8",
   "metadata": {},
   "outputs": [],
   "source": [
    "trues_raw=model.evaluation_params['ground_truth']\n",
    "csvfile = outputdir+'/'+'train_data.csv'\n",
    "with open(csvfile, 'w') as f:\n",
    "    table = csv.writer(f)\n",
    "    header=['molecule','image','x','y','z','photon',]\n",
    "    table.writerow(header)\n",
    "    for i in range(len(trues_raw)):\n",
    "        table.writerow(trues_raw[i])\n",
    "f.close()"
   ]
  },
  {
   "cell_type": "code",
   "execution_count": null,
   "id": "66ab1eb0",
   "metadata": {},
   "outputs": [],
   "source": []
  },
  {
   "cell_type": "code",
   "execution_count": 11,
   "id": "a5749ac0",
   "metadata": {},
   "outputs": [],
   "source": [
    "trues_raw=model.evaluation_params['ground_truth']\n",
    "csvfile = outputdir+'/'+'train_data_dummy_sigmas.csv'\n",
    "with open(csvfile, 'w') as f:\n",
    "    table = csv.writer(f)\n",
    "    header=['molecule','image','x','y','z','photon',\\\n",
    "            'sigma_x', 'sigma_y', 'sigma_z','sigma_photon',\\\n",
    "            'x_offset','y_offset','z_offset']\n",
    "    table.writerow(header)\n",
    "    for i in range(len(trues_raw)):\n",
    "        trues_raw[i].extend([0.0, 0.0, 0.0, 0.0, 0.0, 0.0, 0.0])\n",
    "        table.writerow(trues_raw[i])\n",
    "f.close()"
   ]
  },
  {
   "cell_type": "code",
   "execution_count": null,
   "id": "ccf2ee1c",
   "metadata": {},
   "outputs": [],
   "source": []
  },
  {
   "cell_type": "markdown",
   "id": "0b0d2b87",
   "metadata": {},
   "source": [
    "### Preds list has the following in order\n",
    "\n",
    "    1. counter of the molecule \n",
    "    2. image number used to index into the number of the image in the prediction arrays\n",
    "    3. x position in nm where 0 is top left corner\n",
    "    4. y position in nm where 0 is top left corner\n",
    "    5. z position in nm where 0 is from the reference 0 nm in height\n",
    "    6. photon counts \n",
    "    7. probability afer nms\n",
    "    8. x_sigma in nm \n",
    "    9. y_sigma in nm\n",
    "    10. z_sigma in nm\n",
    "    11. photon_counts_sigma\n",
    "    12. x offset\n",
    "    13. y offset\n"
   ]
  },
  {
   "cell_type": "code",
   "execution_count": null,
   "id": "a4373d5e",
   "metadata": {},
   "outputs": [],
   "source": []
  }
 ],
 "metadata": {
  "kernelspec": {
   "display_name": "Python 3 (ipykernel)",
   "language": "python",
   "name": "python3"
  },
  "language_info": {
   "codemirror_mode": {
    "name": "ipython",
    "version": 3
   },
   "file_extension": ".py",
   "mimetype": "text/x-python",
   "name": "python",
   "nbconvert_exporter": "python",
   "pygments_lexer": "ipython3",
   "version": "3.9.7"
  }
 },
 "nbformat": 4,
 "nbformat_minor": 5
}
