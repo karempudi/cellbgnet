{
 "cells": [
  {
   "cell_type": "code",
   "execution_count": 1,
   "id": "ea96bf8a",
   "metadata": {},
   "outputs": [],
   "source": [
    "%reload_ext autoreload\n",
    "%autoreload 2\n",
    "#%reload_ext notexbook\n",
    "#%texify"
   ]
  },
  {
   "cell_type": "code",
   "execution_count": 357,
   "id": "71923bc4",
   "metadata": {},
   "outputs": [],
   "source": [
    "import numpy as np\n",
    "import matplotlib.pyplot as plt\n",
    "import torch\n",
    "import time\n",
    "import sys\n",
    "import pathlib\n",
    "from pathlib import Path\n",
    "import pickle\n",
    "import operator\n",
    "sys.setrecursionlimit(10000)\n",
    "%matplotlib qt5"
   ]
  },
  {
   "cell_type": "code",
   "execution_count": 358,
   "id": "27690310",
   "metadata": {},
   "outputs": [
    {
     "ename": "",
     "evalue": "",
     "output_type": "error",
     "traceback": [
      "\u001b[1;31mThe Kernel crashed while executing code in the the current cell or a previous cell. Please review the code in the cell(s) to identify a possible cause of the failure. Click <a href='https://aka.ms/vscodeJupyterKernelCrash'>here</a> for more info. View Jupyter <a href='command:jupyter.viewOutput'>log</a> for further details."
     ]
    },
    {
     "ename": "",
     "evalue": "",
     "output_type": "error",
     "traceback": [
      "\u001b[1;31mThe Kernel crashed while executing code in the the current cell or a previous cell. Please review the code in the cell(s) to identify a possible cause of the failure. Click <a href='https://aka.ms/vscodeJupyterKernelCrash'>here</a> for more info. View Jupyter <a href='command:jupyter.viewOutput'>log</a> for further details."
     ]
    }
   ],
   "source": [
    "import cellbgnet\n",
    "import cellbgnet.utils\n",
    "from cellbgnet.datasets import DataSimulator\n",
    "from cellbgnet.utils.hardware import cpu, gpu\n",
    "from cellbgnet.model import CellBGModel\n",
    "from cellbgnet.analyze_eval import *\n",
    "from cellbgnet.analyze_eval import recognition, plot_full_img_predictions, assemble_full_img_predictions"
   ]
  },
  {
   "cell_type": "code",
   "execution_count": 4,
   "id": "06f951e5",
   "metadata": {},
   "outputs": [],
   "source": [
    "import scipy.signal\n",
    "import skimage.io as sio"
   ]
  },
  {
   "cell_type": "code",
   "execution_count": 5,
   "id": "f133eeec",
   "metadata": {},
   "outputs": [],
   "source": [
    "outputdir = '/mnt/sda1/SMLAT/data/real_data/chromosome_dots/pooled_3041_ter_pos01/fork_outputs/'"
   ]
  },
  {
   "cell_type": "code",
   "execution_count": 6,
   "id": "61c510ee",
   "metadata": {},
   "outputs": [],
   "source": [
    "model_path = Path('/mnt/sda1/SMLAT/training_runs/good_models/model_8865_venus_low_ph.pkl')\n",
    "with open(model_path, 'rb') as f:\n",
    "    model = pickle.load(f)"
   ]
  },
  {
   "cell_type": "markdown",
   "id": "2fac68c4",
   "metadata": {},
   "source": [
    "Save training fluorescence images and location of cell masks"
   ]
  },
  {
   "cell_type": "code",
   "execution_count": 7,
   "id": "9d2b042b",
   "metadata": {},
   "outputs": [],
   "source": [
    "venus_images = Path('/mnt/sda1/SMLAT/data/real_data/chromosome_dots/pooled_3041_ter_pos01/venus/')\n",
    "venus_filenames = sorted(list(venus_images.glob('*.tiff')))"
   ]
  },
  {
   "cell_type": "code",
   "execution_count": 8,
   "id": "4030bd84",
   "metadata": {},
   "outputs": [],
   "source": [
    "venus_filenames = venus_filenames"
   ]
  },
  {
   "cell_type": "code",
   "execution_count": 9,
   "id": "c665fee9",
   "metadata": {},
   "outputs": [],
   "source": [
    "eval_imgs_all = []\n",
    "for filename in venus_filenames:\n",
    "    eval_imgs_all.append(sio.imread(filename))"
   ]
  },
  {
   "cell_type": "code",
   "execution_count": 10,
   "id": "0432e2a0",
   "metadata": {},
   "outputs": [],
   "source": [
    "eval_imgs_all = np.stack(eval_imgs_all)"
   ]
  },
  {
   "cell_type": "code",
   "execution_count": 11,
   "id": "6d37f24b",
   "metadata": {},
   "outputs": [
    {
     "data": {
      "text/plain": [
       "(301, 1041, 1302)"
      ]
     },
     "execution_count": 11,
     "metadata": {},
     "output_type": "execute_result"
    }
   ],
   "source": [
    "eval_imgs_all.shape"
   ]
  },
  {
   "cell_type": "code",
   "execution_count": null,
   "id": "3c112794",
   "metadata": {},
   "outputs": [],
   "source": []
  },
  {
   "cell_type": "code",
   "execution_count": 12,
   "id": "fa0a40db",
   "metadata": {},
   "outputs": [],
   "source": [
    "txtfile = outputdir+'/'+ 'train_cell_masks.txt'\n",
    "with open(txtfile, 'w') as f:\n",
    "    for i in range(len(venus_filenames)):\n",
    "         f.write(venus_filenames[i].as_posix()+\"\\n\")\n",
    "f.close()"
   ]
  },
  {
   "cell_type": "markdown",
   "id": "34678613",
   "metadata": {},
   "source": [
    "Save predicted and true dot localizations on training data"
   ]
  },
  {
   "cell_type": "code",
   "execution_count": 13,
   "id": "00e4a7e7",
   "metadata": {},
   "outputs": [
    {
     "name": "stdout",
     "output_type": "stream",
     "text": [
      "processing area:99/99, input field_xy:[1258 1301 1004 1043], use_coordconv:True, retain locs in area:[1278, 1301, 1024, 1043]\n"
     ]
    }
   ],
   "source": [
    "eval2 = eval_imgs_all\n",
    "fov_size = [eval_imgs_all.shape[2] * 65, eval_imgs_all.shape[1] * 65]\n",
    "plot_num = None\n",
    "preds_raw, n_per_img, plot_area = recognition(model=model, eval_imgs_all=eval2, batch_size=32, use_tqdm=False,\n",
    "                                     nms=True, candidate_threshold=0.05,\n",
    "                                     nms_threshold=0.05,\n",
    "                                     pixel_nm=model.data_generator.psf_params['pixel_size_xy'],\n",
    "                                     plot_num=1,\n",
    "                                     win_size=model.data_generator.simulation_params['train_size'],\n",
    "                                     padding=True,\n",
    "                                     padded_background=model.simulation_params['bg_values'])"
   ]
  },
  {
   "cell_type": "code",
   "execution_count": 14,
   "id": "74cc1fdc",
   "metadata": {},
   "outputs": [
    {
     "data": {
      "text/plain": [
       "[84630, 67665]"
      ]
     },
     "execution_count": 14,
     "metadata": {},
     "output_type": "execute_result"
    }
   ],
   "source": [
    "fov_size"
   ]
  },
  {
   "cell_type": "code",
   "execution_count": 15,
   "id": "39505210",
   "metadata": {},
   "outputs": [],
   "source": [
    "plot_full_img_predictions(model, plot_infs=plot_area, eval_csv=None,\n",
    "                          plot_num=1, fov_size=fov_size,\n",
    "                          pixel_size=[65, 65])"
   ]
  },
  {
   "cell_type": "code",
   "execution_count": 15,
   "id": "12fcb4f2",
   "metadata": {},
   "outputs": [],
   "source": [
    "sigma_x = np.array([x[7] for x in preds_raw])\n",
    "sigma_y = np.array([x[8] for x in preds_raw])\n",
    "sigma_z = np.array([x[9] for x in preds_raw])\n",
    "sigma_ph = np.array([x[10] for x in preds_raw])\n",
    "fig, ax = plt.subplots(nrows=2, ncols=2)\n",
    "ax[0, 0].hist(sigma_x, bins=100)\n",
    "ax[0, 0].axvspan(sigma_x.min(), sigma_x.max(), color='green', alpha=0.1)\n",
    "ax[0, 0].set_xlabel(r'$\\sigma_x$ [nm]')\n",
    "ax[0, 0].set_ylabel('counts')\n",
    "ax[0, 0].set_title(f\"Mean sigma_x is {np.mean(sigma_x):0.3f}, min:{np.min(sigma_x):0.3f}, max:{np.max(sigma_x):0.3f}\")\n",
    "\n",
    "ax[0, 1].hist(sigma_y, bins=100)\n",
    "ax[0, 1].axvspan(sigma_y.min(), sigma_y.max(), color='green', alpha=0.1)\n",
    "ax[0, 1].set_xlabel(r'$\\sigma_y$ [nm]')\n",
    "ax[0, 1].set_ylabel('counts')\n",
    "ax[0, 1].set_title(f\"Mean sigma_y is {np.mean(sigma_y):0.3f}, min:{np.min(sigma_y):0.3f}, max:{np.max(sigma_y):0.3f}\")\n",
    "\n",
    "\n",
    "ax[1, 0].hist(sigma_z, bins=100)\n",
    "ax[1, 0].axvspan(sigma_z.min(), sigma_z.max(), color='green', alpha=0.1)\n",
    "ax[1, 0].set_xlabel(r'$\\sigma_z$ [nm]')\n",
    "ax[1, 0].set_ylabel('counts')\n",
    "ax[1, 0].set_title(f\"Mean sigma_z is {np.mean(sigma_z):0.3f}, min:{np.min(sigma_z):0.3f}, max:{np.max(sigma_z):0.3f}\")\n",
    "\n",
    "ax[1, 1].hist(sigma_ph, bins=50)\n",
    "ax[1, 1].axvspan(sigma_ph.min(), sigma_ph.max(), color='green', alpha=0.1)\n",
    "ax[1, 1].set_xlabel(r'$\\sigma_{ph}$ ADU')\n",
    "ax[1, 1].set_ylabel('counts')\n",
    "ax[1, 1].set_title(f\"Mean sigma_ph is {np.mean(sigma_ph):0.3f}, min:{np.min(sigma_ph):0.3f}, max:{np.max(sigma_ph):0.3f}\")\n",
    "\n",
    "fig.suptitle('Sigmas predicted by the network')\n",
    "plt.tight_layout()\n",
    "plt.show()"
   ]
  },
  {
   "cell_type": "code",
   "execution_count": 17,
   "id": "83d16c8b",
   "metadata": {},
   "outputs": [],
   "source": [
    "offsets_x = np.array([x[11] for x in preds_raw])\n",
    "offsets_y = np.array([x[12] for x in preds_raw])"
   ]
  },
  {
   "cell_type": "code",
   "execution_count": 18,
   "id": "a7cd39e5",
   "metadata": {},
   "outputs": [],
   "source": [
    "fig, ax = plt.subplots(nrows=1, ncols=2)\n",
    "ax[0].hist(offsets_x, bins=100,density=True)\n",
    "ax[0].axvspan(offsets_x.min(), offsets_x.max(), color='green', alpha=0.1)\n",
    "ax[0].set_xlabel('offsets_x')\n",
    "ax[0].set_ylabel('counts')\n",
    "ax[0].set_title(f\"Mean offset_x is {np.mean(offsets_x):0.3f}, min:{np.min(offsets_x):0.3f}, max:{np.max(offsets_x):0.3f}\")\n",
    "\n",
    "ax[1].hist(offsets_y, bins=100, density=True)\n",
    "ax[1].axvspan(offsets_y.min(), offsets_y.max(), color='green', alpha=0.1)\n",
    "ax[1].set_xlabel('offsets_y')\n",
    "ax[1].set_ylabel('counts')\n",
    "ax[1].set_title(f\"Mean offset_y is {np.mean(offsets_y):0.3f}, min:{np.min(offsets_y):0.3f}, max:{np.max(offsets_y):0.3f}\")\n",
    "\n",
    "\n",
    "fig.suptitle('Offsets predicted by the network')\n",
    "plt.tight_layout()\n",
    "plt.show()"
   ]
  },
  {
   "cell_type": "code",
   "execution_count": null,
   "id": "3ac25eff",
   "metadata": {},
   "outputs": [],
   "source": []
  },
  {
   "cell_type": "code",
   "execution_count": null,
   "id": "4900d2be",
   "metadata": {},
   "outputs": [],
   "source": []
  },
  {
   "cell_type": "code",
   "execution_count": 20,
   "id": "c5fd6106",
   "metadata": {},
   "outputs": [
    {
     "name": "stdout",
     "output_type": "stream",
     "text": [
      "After nms filter.. (135348, 13)\n"
     ]
    }
   ],
   "source": [
    "filtered_preds = filt_preds_xyz(preds_raw, sigma_x=20, sigma_y=20, sigma_z=40, is_3d=True)"
   ]
  },
  {
   "cell_type": "code",
   "execution_count": 16,
   "id": "db10d111",
   "metadata": {},
   "outputs": [],
   "source": [
    "z_values = np.array([x[4] for x in preds_raw])\n",
    "ph_values = np.array([x[5] for x in preds_raw])"
   ]
  },
  {
   "cell_type": "code",
   "execution_count": 17,
   "id": "a22c1eca",
   "metadata": {},
   "outputs": [
    {
     "data": {
      "text/plain": [
       "(136027, 136027)"
      ]
     },
     "execution_count": 17,
     "metadata": {},
     "output_type": "execute_result"
    }
   ],
   "source": [
    "len(z_values), len(ph_values)"
   ]
  },
  {
   "cell_type": "code",
   "execution_count": 23,
   "id": "12c7a1a4",
   "metadata": {},
   "outputs": [],
   "source": [
    "plt.figure()\n",
    "plt.scatter(z_values, ph_values)\n",
    "plt.show()"
   ]
  },
  {
   "cell_type": "code",
   "execution_count": 24,
   "id": "7f970df8",
   "metadata": {},
   "outputs": [],
   "source": [
    "plt.figure()\n",
    "plt.hist(z_values, bins=1000)\n",
    "plt.show()"
   ]
  },
  {
   "cell_type": "code",
   "execution_count": 25,
   "id": "d7e3afb1",
   "metadata": {},
   "outputs": [
    {
     "data": {
      "text/plain": [
       "110750"
      ]
     },
     "execution_count": 25,
     "metadata": {},
     "output_type": "execute_result"
    }
   ],
   "source": [
    "len(filtered_preds)"
   ]
  },
  {
   "cell_type": "code",
   "execution_count": 26,
   "id": "89b9eb30",
   "metadata": {},
   "outputs": [
    {
     "data": {
      "text/plain": [
       "array([2.0000000e+00, 1.0000000e+00, 1.7790553e+04, 3.2863596e+03,\n",
       "       3.0838913e+02, 2.2437366e+03, 7.7320665e-01, 1.3856201e+01,\n",
       "       1.8931519e+01, 3.7946724e+01, 2.9915436e+02, 2.0080650e-01,\n",
       "       5.9380222e-02], dtype=float32)"
      ]
     },
     "execution_count": 26,
     "metadata": {},
     "output_type": "execute_result"
    }
   ],
   "source": [
    "filtered_preds[0]"
   ]
  },
  {
   "cell_type": "code",
   "execution_count": 27,
   "id": "d2565c0b",
   "metadata": {},
   "outputs": [],
   "source": [
    "z_values_filtered = np.array([x[4] for x in filtered_preds])"
   ]
  },
  {
   "cell_type": "code",
   "execution_count": 28,
   "id": "3e1aea74",
   "metadata": {},
   "outputs": [
    {
     "data": {
      "text/plain": [
       "(110750,)"
      ]
     },
     "execution_count": 28,
     "metadata": {},
     "output_type": "execute_result"
    }
   ],
   "source": [
    "z_values_filtered.shape"
   ]
  },
  {
   "cell_type": "code",
   "execution_count": 29,
   "id": "4cc236bb",
   "metadata": {},
   "outputs": [],
   "source": [
    "plt.figure()\n",
    "plt.hist(z_values_filtered, bins=1000)\n",
    "plt.show()"
   ]
  },
  {
   "cell_type": "code",
   "execution_count": 30,
   "id": "712af686",
   "metadata": {},
   "outputs": [
    {
     "data": {
      "text/plain": [
       "93.13534"
      ]
     },
     "execution_count": 30,
     "metadata": {},
     "output_type": "execute_result"
    }
   ],
   "source": [
    "np.mean(z_values_filtered)"
   ]
  },
  {
   "cell_type": "code",
   "execution_count": 31,
   "id": "93bd436e",
   "metadata": {},
   "outputs": [
    {
     "data": {
      "text/plain": [
       "103.15979"
      ]
     },
     "execution_count": 31,
     "metadata": {},
     "output_type": "execute_result"
    }
   ],
   "source": [
    "np.std(z_values_filtered)"
   ]
  },
  {
   "cell_type": "code",
   "execution_count": 33,
   "id": "0a09f474",
   "metadata": {},
   "outputs": [],
   "source": [
    "offsets_x = np.array([x[11] for x in filtered_preds])\n",
    "offsets_y = np.array([x[12] for x in filtered_preds])"
   ]
  },
  {
   "cell_type": "code",
   "execution_count": 34,
   "id": "2e67976e",
   "metadata": {},
   "outputs": [],
   "source": [
    "fig, ax = plt.subplots(nrows=1, ncols=2)\n",
    "ax[0].hist(offsets_x, bins=100,density=True)\n",
    "ax[0].axvspan(offsets_x.min(), offsets_x.max(), color='green', alpha=0.1)\n",
    "ax[0].set_xlabel('offsets_x')\n",
    "ax[0].set_ylabel('counts')\n",
    "ax[0].set_title(f\"Mean offset_x is {np.mean(offsets_x):0.3f}, min:{np.min(offsets_x):0.3f}, max:{np.max(offsets_x):0.3f}\")\n",
    "\n",
    "ax[1].hist(offsets_y, bins=100, density=True)\n",
    "ax[1].axvspan(offsets_y.min(), offsets_y.max(), color='green', alpha=0.1)\n",
    "ax[1].set_xlabel('offsets_y')\n",
    "ax[1].set_ylabel('counts')\n",
    "ax[1].set_title(f\"Mean offset_y is {np.mean(offsets_y):0.3f}, min:{np.min(offsets_y):0.3f}, max:{np.max(offsets_y):0.3f}\")\n",
    "\n",
    "\n",
    "fig.suptitle('Offsets predicted by the network')\n",
    "plt.tight_layout()\n",
    "plt.show()"
   ]
  },
  {
   "cell_type": "code",
   "execution_count": null,
   "id": "0fa29863",
   "metadata": {},
   "outputs": [],
   "source": []
  },
  {
   "cell_type": "code",
   "execution_count": 16,
   "id": "dc476eb2",
   "metadata": {},
   "outputs": [],
   "source": [
    "import csv\n",
    "csvfile = outputdir+'/'+'cellbgnet_output.csv'\n",
    "with open(csvfile, 'w') as f:\n",
    "    table = csv.writer(f)\n",
    "    header=['molecule','image','x','y','z','photon','prob',\\\n",
    "            'sigma_x','sigma_y','sigma_z','sigma_photon',\\\n",
    "            'x_offset','y_offset','z_offset']\n",
    "    table.writerow(header)\n",
    "    for i in range(len(preds_raw)):\n",
    "        table.writerow(preds_raw[i])\n",
    "f.close()"
   ]
  },
  {
   "cell_type": "code",
   "execution_count": null,
   "id": "6e5172ac",
   "metadata": {},
   "outputs": [],
   "source": []
  },
  {
   "cell_type": "code",
   "execution_count": null,
   "id": "384e2be0",
   "metadata": {},
   "outputs": [],
   "source": []
  },
  {
   "cell_type": "code",
   "execution_count": null,
   "id": "7a59d408",
   "metadata": {},
   "outputs": [],
   "source": []
  },
  {
   "cell_type": "markdown",
   "id": "0b0d2b87",
   "metadata": {},
   "source": [
    "### Preds list has the following in order\n",
    "\n",
    "    1. counter of the molecule \n",
    "    2. image number used to index into the number of the image in the prediction arrays\n",
    "    3. x position in nm where 0 is top left corner\n",
    "    4. y position in nm where 0 is top left corner\n",
    "    5. z position in nm where 0 is from the reference 0 nm in height\n",
    "    6. photon counts \n",
    "    7. probability afer nms\n",
    "    8. x_sigma in nm \n",
    "    9. y_sigma in nm\n",
    "    10. z_sigma in nm\n",
    "    11. photon_counts_sigma\n",
    "    12. x offset\n",
    "    13. y offset\n"
   ]
  },
  {
   "cell_type": "code",
   "execution_count": null,
   "id": "a4373d5e",
   "metadata": {},
   "outputs": [],
   "source": []
  }
 ],
 "metadata": {
  "kernelspec": {
   "display_name": "compile_spline",
   "language": "python",
   "name": "compile_spline"
  },
  "language_info": {
   "codemirror_mode": {
    "name": "ipython",
    "version": 3
   },
   "file_extension": ".py",
   "mimetype": "text/x-python",
   "name": "python",
   "nbconvert_exporter": "python",
   "pygments_lexer": "ipython3",
   "version": "3.11.3"
  }
 },
 "nbformat": 4,
 "nbformat_minor": 5
}
