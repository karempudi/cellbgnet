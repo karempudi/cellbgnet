{
 "cells": [
  {
   "cell_type": "code",
   "execution_count": 1,
   "id": "acf1612c",
   "metadata": {},
   "outputs": [],
   "source": [
    "%reload_ext autoreload\n",
    "%autoreload 2\n",
    "#%reload_ext notexbook'\n",
    "#%texify"
   ]
  },
  {
   "attachments": {},
   "cell_type": "markdown",
   "id": "79ca0edf",
   "metadata": {},
   "source": [
    "#### Generating Evaluation data using 30 random segmentation masks"
   ]
  },
  {
   "cell_type": "code",
   "execution_count": 2,
   "id": "c65196de",
   "metadata": {},
   "outputs": [],
   "source": [
    "import numpy as np\n",
    "import matplotlib.pyplot as plt\n",
    "import torch\n",
    "\n",
    "import os\n",
    "\n",
    "os.chdir('/home/axtr7550/Chromosome_project/cellbgnet/')\n",
    "import cellbgnet\n",
    "import cellbgnet.utils\n",
    "\n",
    "from cellbgnet.datasets import DataSimulator\n",
    "from cellbgnet.utils.hardware import cpu, gpu\n",
    "from cellbgnet.model import CellBGModel\n",
    "from cellbgnet.simulation.psf_kernel import SMAPSplineCoefficient\n",
    "from cellbgnet.generic.emitter import EmitterSet\n",
    "from cellbgnet.train_loss_infer import generate_probmap_cells\n",
    "\n",
    "os.chdir('/home/axtr7550/Chromosome_project/cellbgnet/notebooks')\n",
    "\n",
    "from skimage.io import imread\n",
    "from skimage.measure import label\n",
    "import random\n",
    "import edt\n",
    "from skimage.filters import gaussian\n",
    "from scipy.ndimage import rotate\n",
    "import random\n",
    "import pickle\n",
    "import pathlib\n",
    "from pathlib import Path\n",
    "%matplotlib qt5"
   ]
  },
  {
   "cell_type": "code",
   "execution_count": 3,
   "id": "95de9359",
   "metadata": {},
   "outputs": [],
   "source": [
    "param_file = '../cellbgnet/utils/reference_files/reference.yaml'\n",
    "param = cellbgnet.utils.param_io.ParamHandling().load_params(param_file)"
   ]
  },
  {
   "cell_type": "code",
   "execution_count": 4,
   "id": "a662ab27",
   "metadata": {},
   "outputs": [],
   "source": [
    "psf_params = param.PSF.to_dict()\n",
    "simulation_params = param.Simulation.to_dict()\n",
    "hardware_params = param.Hardware.to_dict()\n",
    "train_size = simulation_params['train_size']"
   ]
  },
  {
   "cell_type": "code",
   "execution_count": 5,
   "id": "1c1d693c",
   "metadata": {},
   "outputs": [],
   "source": [
    "with open(param.Simulation.edt_noise_map_path, 'rb') as fp:\n",
    "    edt_noise_map = pickle.load(fp)"
   ]
  },
  {
   "cell_type": "code",
   "execution_count": 6,
   "id": "6fdb2beb",
   "metadata": {},
   "outputs": [
    {
     "name": "stdout",
     "output_type": "stream",
     "text": [
      "INITIATING CPU IMPLEMENTATION\n",
      "training sliding windows on camera chip:\n",
      "Area num: 0, field_xy: [0, 127, 0, 127]\n",
      "Area num: 1, field_xy: [114, 241, 0, 127]\n",
      "Area num: 2, field_xy: [228, 355, 0, 127]\n",
      "Area num: 3, field_xy: [342, 469, 0, 127]\n",
      "Area num: 4, field_xy: [456, 583, 0, 127]\n",
      "Area num: 5, field_xy: [570, 697, 0, 127]\n",
      "Area num: 6, field_xy: [684, 811, 0, 127]\n",
      "Area num: 7, field_xy: [798, 925, 0, 127]\n",
      "Area num: 8, field_xy: [912, 1039, 0, 127]\n",
      "Area num: 9, field_xy: [1026, 1153, 0, 127]\n",
      "Area num: 10, field_xy: [1140, 1267, 0, 127]\n",
      "Area num: 11, field_xy: [1174, 1301, 0, 127]\n",
      "Area num: 12, field_xy: [0, 127, 114, 241]\n",
      "Area num: 13, field_xy: [114, 241, 114, 241]\n",
      "Area num: 14, field_xy: [228, 355, 114, 241]\n",
      "Area num: 15, field_xy: [342, 469, 114, 241]\n",
      "Area num: 16, field_xy: [456, 583, 114, 241]\n",
      "Area num: 17, field_xy: [570, 697, 114, 241]\n",
      "Area num: 18, field_xy: [684, 811, 114, 241]\n",
      "Area num: 19, field_xy: [798, 925, 114, 241]\n",
      "Area num: 20, field_xy: [912, 1039, 114, 241]\n",
      "Area num: 21, field_xy: [1026, 1153, 114, 241]\n",
      "Area num: 22, field_xy: [1140, 1267, 114, 241]\n",
      "Area num: 23, field_xy: [1174, 1301, 114, 241]\n",
      "Area num: 24, field_xy: [0, 127, 228, 355]\n",
      "Area num: 25, field_xy: [114, 241, 228, 355]\n",
      "Area num: 26, field_xy: [228, 355, 228, 355]\n",
      "Area num: 27, field_xy: [342, 469, 228, 355]\n",
      "Area num: 28, field_xy: [456, 583, 228, 355]\n",
      "Area num: 29, field_xy: [570, 697, 228, 355]\n",
      "Area num: 30, field_xy: [684, 811, 228, 355]\n",
      "Area num: 31, field_xy: [798, 925, 228, 355]\n",
      "Area num: 32, field_xy: [912, 1039, 228, 355]\n",
      "Area num: 33, field_xy: [1026, 1153, 228, 355]\n",
      "Area num: 34, field_xy: [1140, 1267, 228, 355]\n",
      "Area num: 35, field_xy: [1174, 1301, 228, 355]\n",
      "Area num: 36, field_xy: [0, 127, 342, 469]\n",
      "Area num: 37, field_xy: [114, 241, 342, 469]\n",
      "Area num: 38, field_xy: [228, 355, 342, 469]\n",
      "Area num: 39, field_xy: [342, 469, 342, 469]\n",
      "Area num: 40, field_xy: [456, 583, 342, 469]\n",
      "Area num: 41, field_xy: [570, 697, 342, 469]\n",
      "Area num: 42, field_xy: [684, 811, 342, 469]\n",
      "Area num: 43, field_xy: [798, 925, 342, 469]\n",
      "Area num: 44, field_xy: [912, 1039, 342, 469]\n",
      "Area num: 45, field_xy: [1026, 1153, 342, 469]\n",
      "Area num: 46, field_xy: [1140, 1267, 342, 469]\n",
      "Area num: 47, field_xy: [1174, 1301, 342, 469]\n",
      "Area num: 48, field_xy: [0, 127, 456, 583]\n",
      "Area num: 49, field_xy: [114, 241, 456, 583]\n",
      "Area num: 50, field_xy: [228, 355, 456, 583]\n",
      "Area num: 51, field_xy: [342, 469, 456, 583]\n",
      "Area num: 52, field_xy: [456, 583, 456, 583]\n",
      "Area num: 53, field_xy: [570, 697, 456, 583]\n",
      "Area num: 54, field_xy: [684, 811, 456, 583]\n",
      "Area num: 55, field_xy: [798, 925, 456, 583]\n",
      "Area num: 56, field_xy: [912, 1039, 456, 583]\n",
      "Area num: 57, field_xy: [1026, 1153, 456, 583]\n",
      "Area num: 58, field_xy: [1140, 1267, 456, 583]\n",
      "Area num: 59, field_xy: [1174, 1301, 456, 583]\n",
      "Area num: 60, field_xy: [0, 127, 570, 697]\n",
      "Area num: 61, field_xy: [114, 241, 570, 697]\n",
      "Area num: 62, field_xy: [228, 355, 570, 697]\n",
      "Area num: 63, field_xy: [342, 469, 570, 697]\n",
      "Area num: 64, field_xy: [456, 583, 570, 697]\n",
      "Area num: 65, field_xy: [570, 697, 570, 697]\n",
      "Area num: 66, field_xy: [684, 811, 570, 697]\n",
      "Area num: 67, field_xy: [798, 925, 570, 697]\n",
      "Area num: 68, field_xy: [912, 1039, 570, 697]\n",
      "Area num: 69, field_xy: [1026, 1153, 570, 697]\n",
      "Area num: 70, field_xy: [1140, 1267, 570, 697]\n",
      "Area num: 71, field_xy: [1174, 1301, 570, 697]\n",
      "Area num: 72, field_xy: [0, 127, 684, 811]\n",
      "Area num: 73, field_xy: [114, 241, 684, 811]\n",
      "Area num: 74, field_xy: [228, 355, 684, 811]\n",
      "Area num: 75, field_xy: [342, 469, 684, 811]\n",
      "Area num: 76, field_xy: [456, 583, 684, 811]\n",
      "Area num: 77, field_xy: [570, 697, 684, 811]\n",
      "Area num: 78, field_xy: [684, 811, 684, 811]\n",
      "Area num: 79, field_xy: [798, 925, 684, 811]\n",
      "Area num: 80, field_xy: [912, 1039, 684, 811]\n",
      "Area num: 81, field_xy: [1026, 1153, 684, 811]\n",
      "Area num: 82, field_xy: [1140, 1267, 684, 811]\n",
      "Area num: 83, field_xy: [1174, 1301, 684, 811]\n",
      "Area num: 84, field_xy: [0, 127, 798, 925]\n",
      "Area num: 85, field_xy: [114, 241, 798, 925]\n",
      "Area num: 86, field_xy: [228, 355, 798, 925]\n",
      "Area num: 87, field_xy: [342, 469, 798, 925]\n",
      "Area num: 88, field_xy: [456, 583, 798, 925]\n",
      "Area num: 89, field_xy: [570, 697, 798, 925]\n",
      "Area num: 90, field_xy: [684, 811, 798, 925]\n",
      "Area num: 91, field_xy: [798, 925, 798, 925]\n",
      "Area num: 92, field_xy: [912, 1039, 798, 925]\n",
      "Area num: 93, field_xy: [1026, 1153, 798, 925]\n",
      "Area num: 94, field_xy: [1140, 1267, 798, 925]\n",
      "Area num: 95, field_xy: [1174, 1301, 798, 925]\n",
      "Area num: 96, field_xy: [0, 127, 912, 1039]\n",
      "Area num: 97, field_xy: [114, 241, 912, 1039]\n",
      "Area num: 98, field_xy: [228, 355, 912, 1039]\n",
      "Area num: 99, field_xy: [342, 469, 912, 1039]\n",
      "Area num: 100, field_xy: [456, 583, 912, 1039]\n",
      "Area num: 101, field_xy: [570, 697, 912, 1039]\n",
      "Area num: 102, field_xy: [684, 811, 912, 1039]\n",
      "Area num: 103, field_xy: [798, 925, 912, 1039]\n",
      "Area num: 104, field_xy: [912, 1039, 912, 1039]\n",
      "Area num: 105, field_xy: [1026, 1153, 912, 1039]\n",
      "Area num: 106, field_xy: [1140, 1267, 912, 1039]\n",
      "Area num: 107, field_xy: [1174, 1301, 912, 1039]\n",
      "Area num: 108, field_xy: [0, 127, 913, 1040]\n",
      "Area num: 109, field_xy: [114, 241, 913, 1040]\n",
      "Area num: 110, field_xy: [228, 355, 913, 1040]\n",
      "Area num: 111, field_xy: [342, 469, 913, 1040]\n",
      "Area num: 112, field_xy: [456, 583, 913, 1040]\n",
      "Area num: 113, field_xy: [570, 697, 913, 1040]\n",
      "Area num: 114, field_xy: [684, 811, 913, 1040]\n",
      "Area num: 115, field_xy: [798, 925, 913, 1040]\n",
      "Area num: 116, field_xy: [912, 1039, 913, 1040]\n",
      "Area num: 117, field_xy: [1026, 1153, 913, 1040]\n",
      "Area num: 118, field_xy: [1140, 1267, 913, 1040]\n",
      "Area num: 119, field_xy: [1174, 1301, 913, 1040]\n"
     ]
    }
   ],
   "source": [
    "model = cellbgnet.model.CellBGModel(param)"
   ]
  },
  {
   "attachments": {},
   "cell_type": "markdown",
   "id": "9cef7c08",
   "metadata": {},
   "source": [
    "#### Read 30 random segmentation masks"
   ]
  },
  {
   "cell_type": "code",
   "execution_count": 7,
   "id": "d36a5097",
   "metadata": {},
   "outputs": [],
   "source": [
    "filenames = model.data_generator.cell_mask_filenames\n"
   ]
  },
  {
   "cell_type": "code",
   "execution_count": 8,
   "id": "43fd413d",
   "metadata": {},
   "outputs": [],
   "source": [
    "random_filenames = random.choices(filenames, k=30)"
   ]
  },
  {
   "cell_type": "code",
   "execution_count": 9,
   "id": "8d691e01",
   "metadata": {},
   "outputs": [
    {
     "name": "stderr",
     "output_type": "stream",
     "text": [
      "/home/axtr7550/anaconda3/envs/compile_spline/lib/python3.11/site-packages/imageio/plugins/pillow.py:297: UserWarning: Loading 16-bit (uint16) PNG as int32 due to limitations in pillow's PNG decoder. This will be fixed in a future version of pillow which will make this warning dissapear.\n",
      "  warnings.warn(\n"
     ]
    }
   ],
   "source": [
    "cell_masks = []\n",
    "for i, file in enumerate(random_filenames,0):\n",
    "    img = imread(file)\n",
    "    #img = rotate(img, random_angles[i], reshape=False)\n",
    "    cell_masks.append(img)"
   ]
  },
  {
   "cell_type": "code",
   "execution_count": 10,
   "id": "d20023f8",
   "metadata": {},
   "outputs": [
    {
     "data": {
      "text/plain": [
       "(1041, 1302)"
      ]
     },
     "execution_count": 10,
     "metadata": {},
     "output_type": "execute_result"
    }
   ],
   "source": [
    "img.shape"
   ]
  },
  {
   "cell_type": "code",
   "execution_count": 11,
   "id": "47864a30",
   "metadata": {},
   "outputs": [],
   "source": [
    "cell_masks_batch = np.stack(cell_masks)"
   ]
  },
  {
   "cell_type": "code",
   "execution_count": 12,
   "id": "d15047da",
   "metadata": {},
   "outputs": [
    {
     "data": {
      "text/plain": [
       "(30, 1041, 1302)"
      ]
     },
     "execution_count": 12,
     "metadata": {},
     "output_type": "execute_result"
    }
   ],
   "source": [
    "cell_masks_batch.shape"
   ]
  },
  {
   "cell_type": "code",
   "execution_count": 12,
   "id": "502414ab",
   "metadata": {},
   "outputs": [],
   "source": [
    "plt.figure()\n",
    "plt.imshow(cell_masks_batch[0])\n",
    "plt.show()"
   ]
  },
  {
   "cell_type": "code",
   "execution_count": 13,
   "id": "d1e842de",
   "metadata": {},
   "outputs": [],
   "source": [
    "prob_map = (cell_masks_batch > 0) * 0.003125"
   ]
  },
  {
   "cell_type": "code",
   "execution_count": 14,
   "id": "b0c340f6",
   "metadata": {},
   "outputs": [],
   "source": [
    "plt.figure()\n",
    "plt.imshow(prob_map[0])\n",
    "plt.show()"
   ]
  },
  {
   "cell_type": "code",
   "execution_count": 14,
   "id": "95f68685",
   "metadata": {},
   "outputs": [
    {
     "name": "stdout",
     "output_type": "stream",
     "text": [
      "INITIATING CPU IMPLEMENTATION\n"
     ]
    }
   ],
   "source": [
    "data_gen = DataSimulator(psf_params, simulation_params, hardware_params)"
   ]
  },
  {
   "cell_type": "code",
   "execution_count": 15,
   "id": "3cbd31a6",
   "metadata": {},
   "outputs": [],
   "source": [
    "S, X_os, Y_os, Z, I, field_xy = data_gen.sampling(batch_size=128, prob_map=gpu(prob_map), local_context=None,\n",
    "                                                  iter_num=None)"
   ]
  },
  {
   "cell_type": "code",
   "execution_count": 16,
   "id": "6277898d",
   "metadata": {},
   "outputs": [
    {
     "data": {
      "text/plain": [
       "torch.Size([30, 1, 1041, 1302])"
      ]
     },
     "execution_count": 16,
     "metadata": {},
     "output_type": "execute_result"
    }
   ],
   "source": [
    "S.shape"
   ]
  },
  {
   "cell_type": "code",
   "execution_count": 18,
   "id": "c4ff5595",
   "metadata": {},
   "outputs": [],
   "source": [
    "plt.figure()\n",
    "plt.imshow(S[0][0].cpu().numpy())\n",
    "plt.show()"
   ]
  },
  {
   "cell_type": "code",
   "execution_count": 17,
   "id": "1ff98cad",
   "metadata": {},
   "outputs": [],
   "source": [
    "index = 0\n",
    "fig, ax = plt.subplots(nrows=1, ncols=6)\n",
    "ax[0].imshow(S[index][0].cpu().numpy())\n",
    "ax[0].set_title('Dot location')\n",
    "x_os_img = ax[1].imshow(X_os[index][0].cpu().numpy())\n",
    "ax[1].set_title('X offset')\n",
    "#fig.colorbar(x_os_img, ax=ax[1])\n",
    "y_os_img = ax[2].imshow(Y_os[index][0].cpu().numpy())\n",
    "ax[2].set_title('Y offset')\n",
    "#fig.colorbar(y_os_img, ax=ax[2])\n",
    "z_vals_img = ax[3].imshow(Z[index][0].cpu().numpy())\n",
    "ax[3].set_title('Z value')\n",
    "#fig.colorbar(z_vals_img, ax=ax[3])\n",
    "i_vals_img = ax[4].imshow(I[index][0].cpu().numpy())\n",
    "ax[4].set_title('Intensity Value')\n",
    "#fig.colorbar(i_vals_img, ax=ax[4])\n",
    "ax[5].imshow(cell_masks_batch[index])\n",
    "ax[5].set_title('cell mask')\n",
    "plt.show()"
   ]
  },
  {
   "cell_type": "code",
   "execution_count": 20,
   "id": "cce58585",
   "metadata": {},
   "outputs": [
    {
     "name": "stdout",
     "output_type": "stream",
     "text": [
      "ON CPU /n"
     ]
    }
   ],
   "source": [
    "imgs_sim = data_gen.simulate_psfs(S, X_os, Y_os, Z, I)\n",
    "#6 seconds on cuda for 128"
   ]
  },
  {
   "cell_type": "code",
   "execution_count": 21,
   "id": "83002719",
   "metadata": {},
   "outputs": [],
   "source": [
    "imgs_sim.to('cpu');\n",
    "torch.cuda.empty_cache()"
   ]
  },
  {
   "cell_type": "code",
   "execution_count": 110,
   "id": "cf8962a8",
   "metadata": {},
   "outputs": [],
   "source": [
    "index = 14\n",
    "fig, ax = plt.subplots(nrows=1, ncols=5)\n",
    "ax[0].imshow(prob_map[index])\n",
    "ax[0].set_title('Probabilty map')\n",
    "ax[1].imshow(cell_masks_batch[index])\n",
    "ax[1].set_title('Cell mask sampled')\n",
    "ax[2].imshow(imgs_sim[index, 0].cpu().numpy())\n",
    "ax[2].set_title('Simulated PSFs')\n",
    "ax[3].imshow(S[index, 0].cpu().numpy())\n",
    "ax[3].set_title('Emitter pixel locs')\n",
    "ax[4].imshow(I[index, 0].cpu().numpy() * psf_params['photon_scale'])\n",
    "ax[4].set_title('Intensity values')\n",
    "plt.show()"
   ]
  },
  {
   "cell_type": "code",
   "execution_count": 111,
   "id": "6da9761c",
   "metadata": {},
   "outputs": [
    {
     "data": {
      "text/plain": [
       "torch.Size([16, 1, 1041, 1302])"
      ]
     },
     "execution_count": 111,
     "metadata": {},
     "output_type": "execute_result"
    }
   ],
   "source": [
    "S.shape"
   ]
  },
  {
   "cell_type": "code",
   "execution_count": 112,
   "id": "b763b5f3",
   "metadata": {},
   "outputs": [],
   "source": [
    "xyzi = torch.cat([X_os[:, :, None], Y_os[:, :, None], Z[:, :, None], I[:, :, None]], 2)\n",
    "xyzi = xyzi[:, 0]"
   ]
  },
  {
   "cell_type": "code",
   "execution_count": 113,
   "id": "c3a0dcb1",
   "metadata": {},
   "outputs": [],
   "source": [
    "S = S[:, 0]"
   ]
  },
  {
   "cell_type": "code",
   "execution_count": 114,
   "id": "ada7622b",
   "metadata": {},
   "outputs": [],
   "source": [
    "s_inds = tuple(S.nonzero().transpose(1, 0))\n",
    "# get these molecules' sub-pixel xy offsets, z positions and photons\n",
    "xyzi_true = xyzi[s_inds[0], :, s_inds[1], s_inds[2]]"
   ]
  },
  {
   "cell_type": "code",
   "execution_count": 115,
   "id": "29ca4df0",
   "metadata": {},
   "outputs": [
    {
     "data": {
      "text/plain": [
       "tensor([[-0.4194, -0.0597, -0.5988,  0.9801],\n",
       "        [ 0.0782,  0.0996,  0.8808,  0.5664],\n",
       "        [ 0.2575, -0.3706,  0.2145,  0.9321],\n",
       "        ...,\n",
       "        [-0.4316,  0.1570,  0.2781,  0.2726],\n",
       "        [ 0.0060,  0.2557, -0.3518,  0.3088],\n",
       "        [ 0.3582, -0.3238,  0.9471,  0.3994]], device='cuda:0')"
      ]
     },
     "execution_count": 115,
     "metadata": {},
     "output_type": "execute_result"
    }
   ],
   "source": [
    "xyzi_true"
   ]
  },
  {
   "cell_type": "code",
   "execution_count": 72,
   "id": "b2287a44",
   "metadata": {},
   "outputs": [],
   "source": [
    "xyzi_true[:, 0] += s_inds[2] + 0.5"
   ]
  },
  {
   "cell_type": "code",
   "execution_count": 73,
   "id": "4fd3dfc8",
   "metadata": {},
   "outputs": [],
   "source": [
    "xyzi_true[:, 1] += s_inds[1] + 0.5"
   ]
  },
  {
   "cell_type": "code",
   "execution_count": 74,
   "id": "6b780331",
   "metadata": {},
   "outputs": [],
   "source": [
    "pos_tar = xyzi_true[:, :3]"
   ]
  },
  {
   "cell_type": "code",
   "execution_count": 75,
   "id": "826f184c",
   "metadata": {},
   "outputs": [
    {
     "data": {
      "text/plain": [
       "torch.Size([310, 3])"
      ]
     },
     "execution_count": 75,
     "metadata": {},
     "output_type": "execute_result"
    }
   ],
   "source": [
    "pos_tar.shape"
   ]
  },
  {
   "cell_type": "code",
   "execution_count": 76,
   "id": "80d56c5c",
   "metadata": {},
   "outputs": [],
   "source": [
    "pos_tar[:, 2] *= 500"
   ]
  },
  {
   "cell_type": "code",
   "execution_count": 77,
   "id": "e0e1919d",
   "metadata": {},
   "outputs": [
    {
     "data": {
      "text/plain": [
       "tensor([[ 890.2706,   99.5039,  165.7851],\n",
       "        [ 395.2706,  100.4327,   11.7564],\n",
       "        [ 896.1362,  100.8500,  366.1547],\n",
       "        [ 660.7841,  101.7123,  -56.5692],\n",
       "        [ 466.5576,  103.6314,  224.9723],\n",
       "        [ 880.7797,  103.7611,  377.2502],\n",
       "        [ 759.2938,  104.0477,  121.3163],\n",
       "        [ 962.3259,  104.4124, -123.3896],\n",
       "        [ 515.4755,  105.3145, -177.2394],\n",
       "        [ 964.3440,  106.8332,  -50.8567],\n",
       "        [ 424.2227,  108.5312,  139.4918],\n",
       "        [ 801.9818,  108.3000,   93.4972],\n",
       "        [ 819.9946,  144.0252,   10.2363],\n",
       "        [ 745.3091,  145.8513,  -73.6389],\n",
       "        [ 866.8130,  145.3471, -332.9089],\n",
       "        [ 911.1019,  146.7239,  459.3462],\n",
       "        [ 519.8839,  147.5663,  -20.2745],\n",
       "        [ 961.2925,  148.5636, -389.7341],\n",
       "        [ 969.5105,  148.6700,  137.1928],\n",
       "        [ 874.7700,  149.6493,  399.7937],\n",
       "        [ 908.9656,  150.3132,  416.8392],\n",
       "        [ 761.9042,  152.9388, -117.0293],\n",
       "        [1083.5704,  152.9137,  195.6698],\n",
       "        [ 925.4402,  189.2348,  178.0077],\n",
       "        [1048.0507,  190.5099,  -52.9121],\n",
       "        [ 606.3149,  191.8548, -118.7590],\n",
       "        [ 385.6790,  192.1386,  272.7706],\n",
       "        [1022.9267,  194.2643,  350.1494],\n",
       "        [ 430.1808,  195.7879, -174.6537],\n",
       "        [ 556.9743,  195.4069, -305.1498],\n",
       "        [ 776.8625,  195.9876,  207.8291],\n",
       "        [ 943.7881,  195.4435,   16.1727],\n",
       "        [ 478.3847,  196.8440, -362.9228],\n",
       "        [ 614.6563,  196.5343,  -19.7231],\n",
       "        [ 892.3705,  234.9235, -285.6988],\n",
       "        [1097.2532,  235.4783,  277.9949],\n",
       "        [ 620.9708,  236.1114,   81.4426],\n",
       "        [ 564.5604,  237.0061, -288.6086],\n",
       "        [ 394.6270,  239.8154,  290.1167],\n",
       "        [ 363.0244,  240.4085,  170.4388],\n",
       "        [ 574.4437,  240.9310, -472.6344],\n",
       "        [ 814.6360,  240.2325,  -84.8124],\n",
       "        [ 910.1440,  240.5681,  477.9283],\n",
       "        [ 390.8270,  241.7964,  221.0485],\n",
       "        [ 599.0330,  241.8296,  108.2028],\n",
       "        [ 953.5657,  241.7775,  -40.4763],\n",
       "        [ 507.4526,  242.0121,  167.5647],\n",
       "        [ 737.4881,  242.5468, -312.4825],\n",
       "        [ 975.3375,  242.6560, -300.1537],\n",
       "        [ 899.2108,  278.6909,  -44.5953],\n",
       "        [ 419.5607,  279.5810,  306.0964],\n",
       "        [1070.5333,  279.9822, -491.4742],\n",
       "        [ 839.6107,  280.8134,  416.2219],\n",
       "        [1041.8495,  281.6628, -281.4937],\n",
       "        [ 579.5703,  282.6141, -442.3306],\n",
       "        [ 793.1631,  282.9029,  450.6208],\n",
       "        [ 435.6348,  283.3542,  135.8030],\n",
       "        [ 972.5929,  283.1590,  304.3951],\n",
       "        [ 921.8597,  284.6463, -194.4543],\n",
       "        [1007.6752,  284.8847, -346.9490],\n",
       "        [ 728.6202,  285.1065,  293.0260],\n",
       "        [ 786.3276,  285.2471,   97.1995],\n",
       "        [ 980.1174,  286.5392, -433.8175],\n",
       "        [1071.2549,  286.1872,   33.0619],\n",
       "        [ 950.0604,  324.6310, -330.3252],\n",
       "        [1024.0287,  325.3315, -420.8483],\n",
       "        [ 796.7335,  326.5270,  302.3656],\n",
       "        [ 615.7446,  327.0178, -160.7041],\n",
       "        [1090.4711,  327.5193, -329.5895],\n",
       "        [ 386.9657,  328.8335, -320.7675],\n",
       "        [ 894.2382,  328.5470,  410.3454],\n",
       "        [ 902.9785,  329.9150, -160.8131],\n",
       "        [ 561.0447,  330.8847,  -10.0938],\n",
       "        [ 876.9684,  330.2154, -252.6366],\n",
       "        [ 854.0413,  331.2294,  192.1350],\n",
       "        [ 981.3680,  331.5020, -434.9793],\n",
       "        [ 521.3449,  368.1334, -331.7735],\n",
       "        [1081.7305,  368.8603,  -34.7604],\n",
       "        [ 434.7358,  369.2703,  416.0141],\n",
       "        [ 892.0966,  369.6575,  188.3036],\n",
       "        [ 704.3099,  370.7683, -472.7080],\n",
       "        [ 769.0591,  370.1525,   36.9070],\n",
       "        [ 987.1132,  370.0601, -294.0133],\n",
       "        [ 711.7574,  371.2132,  320.3960],\n",
       "        [ 770.0878,  371.2655, -245.5305],\n",
       "        [ 444.6113,  372.4504,  331.9064],\n",
       "        [ 497.7313,  372.9787, -467.9779],\n",
       "        [ 861.8680,  372.8605,   34.9464],\n",
       "        [ 419.3620,  373.8192, -250.8745],\n",
       "        [ 891.9382,  374.6014, -121.9515],\n",
       "        [ 958.6085,  374.5636,  257.2612],\n",
       "        [ 646.2391,  375.8332,  321.9208],\n",
       "        [ 488.6133,  376.8760,  284.2218],\n",
       "        [ 793.8771,  376.5837,  401.1602],\n",
       "        [ 611.6462,  413.5754, -497.1382],\n",
       "        [ 676.9019,  413.9974, -333.6163],\n",
       "        [ 860.5128,  413.7804,  475.2031],\n",
       "        [ 966.0052,  413.6252, -192.3043],\n",
       "        [ 476.6434,  414.6571,  347.5076],\n",
       "        [ 585.5406,  414.0854,  181.2558],\n",
       "        [ 596.3400,  415.0963,  -36.1857],\n",
       "        [ 906.4572,  415.4749, -158.5032],\n",
       "        [ 612.4748,  416.8045,  333.7177],\n",
       "        [ 500.1781,  417.3118,  -96.9298],\n",
       "        [ 583.2576,  417.4984, -353.8305],\n",
       "        [ 495.2747,  418.8375, -299.7008],\n",
       "        [ 722.4689,  418.4201,  410.4469],\n",
       "        [1000.6819,  418.8734,  274.4573],\n",
       "        [1010.0655,  418.5040,   33.9659],\n",
       "        [1050.3528,  418.3751, -423.2500],\n",
       "        [ 490.4924,  420.4097, -222.0849],\n",
       "        [ 525.2667,  420.6683,   74.1962],\n",
       "        [ 919.9777,  420.7185,  336.6833],\n",
       "        [ 933.6434,  420.4846,  321.7239],\n",
       "        [ 981.4573,  420.3634,   33.5465],\n",
       "        [1009.1998,  456.4778,  -37.8173],\n",
       "        [ 653.9683,  457.8957,  113.9016],\n",
       "        [ 777.6560,  457.1199, -205.9191],\n",
       "        [ 428.6733,  458.9534, -125.0387],\n",
       "        [ 495.3194,  459.9152,  364.7276],\n",
       "        [ 580.7662,  459.6006, -241.9266],\n",
       "        [ 560.3436,  460.9974, -355.4450],\n",
       "        [ 752.3675,  460.5208,  167.4435],\n",
       "        [ 991.8215,  460.1680,   95.5325],\n",
       "        [1043.4609,  460.3104,  455.1435],\n",
       "        [ 482.1952,  461.7752,  -21.7871],\n",
       "        [ 503.7916,  461.2301, -320.1115],\n",
       "        [ 505.8149,  461.2162,   31.0612],\n",
       "        [ 683.3959,  462.0414,  489.1825],\n",
       "        [ 352.2478,  464.8802, -208.8614],\n",
       "        [ 638.1646,  464.7279,  265.6037],\n",
       "        [ 692.1298,  464.8220,  -16.8134],\n",
       "        [ 845.2778,  465.2706,  -24.5782],\n",
       "        [ 990.3131,  465.8549,  378.7057],\n",
       "        [ 584.4901,  502.7710,   29.6803],\n",
       "        [ 722.4184,  502.9329,  266.5104],\n",
       "        [ 666.2634,  503.3551,  256.9261],\n",
       "        [ 857.2070,  504.5677,  -54.1516],\n",
       "        [ 945.6575,  504.4012,  281.9188],\n",
       "        [ 509.4313,  505.1925,  -32.7765],\n",
       "        [ 512.4150,  505.2768,  338.2969],\n",
       "        [ 718.5281,  506.3085,  234.0559],\n",
       "        [ 829.3748,  506.8369,  236.8788],\n",
       "        [ 956.2706,  506.7106, -496.4233],\n",
       "        [ 510.0573,  507.9353, -327.1357],\n",
       "        [ 878.4487,  507.2622,   80.8112],\n",
       "        [ 391.5065,  508.8841,  369.7490],\n",
       "        [ 765.6690,  509.8268,  486.6678],\n",
       "        [ 891.9337,  509.4582, -375.7666],\n",
       "        [ 633.5665,  510.5931,  -15.0552],\n",
       "        [ 782.2642,  546.2164,  -41.2859],\n",
       "        [ 803.7457,  546.3750,  425.1801],\n",
       "        [1092.3978,  546.0578, -147.0571],\n",
       "        [ 708.8560,  547.3718,   -7.8022],\n",
       "        [1054.3312,  547.5025,  357.4241],\n",
       "        [ 855.3773,  548.8719, -232.8563],\n",
       "        [ 547.7089,  549.6962, -441.4622],\n",
       "        [ 608.2883,  549.2607, -324.3441],\n",
       "        [ 863.0005,  549.4755,  211.1505],\n",
       "        [ 576.8949,  550.0087, -242.2087],\n",
       "        [ 381.8997,  551.9961, -487.2574],\n",
       "        [ 888.0408,  551.4084, -470.5291],\n",
       "        [1077.4510,  551.1825,  407.8940],\n",
       "        [1087.8759,  551.8682,   59.2759],\n",
       "        [ 417.5975,  552.3589,  311.8250],\n",
       "        [ 685.7750,  552.4025, -408.6924],\n",
       "        [ 605.3904,  553.6478, -427.3279],\n",
       "        [ 584.3398,  592.0059, -409.5496],\n",
       "        [ 447.5908,  593.7252,  174.6400],\n",
       "        [ 732.7817,  593.2916,   37.6664],\n",
       "        [1024.3306,  593.4315, -391.7998],\n",
       "        [1030.5739,  593.9899,  194.0888],\n",
       "        [ 648.6693,  594.9365, -313.4760],\n",
       "        [ 544.3159,  597.3471,   81.0711],\n",
       "        [ 667.8516,  597.1227, -295.3768],\n",
       "        [ 893.9619,  597.5007,  379.5693],\n",
       "        [ 972.2191,  598.6871, -289.1866],\n",
       "        [ 755.5041,  635.1016,  404.3406],\n",
       "        [ 898.1273,  635.9468, -354.0095],\n",
       "        [ 557.2083,  636.0046, -184.1328],\n",
       "        [ 731.9870,  636.5031,  494.1595],\n",
       "        [1017.7506,  636.5276,  162.1233],\n",
       "        [ 786.9191,  637.9359,  423.3844],\n",
       "        [ 794.8345,  637.8231,  372.4892],\n",
       "        [ 615.9659,  638.2936, -339.4113],\n",
       "        [ 943.8447,  638.8721, -175.6911],\n",
       "        [ 345.4504,  639.2454,  311.6194],\n",
       "        [ 361.0238,  640.8564,  362.3822],\n",
       "        [ 753.3356,  641.9138, -489.2451],\n",
       "        [1038.2504,  642.0383,  210.4613],\n",
       "        [ 924.7239,  643.5585,  204.3667],\n",
       "        [ 787.1048,  680.6818, -351.4151],\n",
       "        [ 941.2750,  681.8538,  450.7993],\n",
       "        [ 709.9297,  682.1096, -296.2814],\n",
       "        [1012.8043,  682.4184,   34.8274],\n",
       "        [ 480.8035,  683.7291, -245.7786],\n",
       "        [ 716.8268,  683.5380, -399.0083],\n",
       "        [ 847.9541,  683.7023,  119.8332],\n",
       "        [ 741.2440,  684.2582,  195.9772],\n",
       "        [ 861.7205,  684.7793,  153.8565],\n",
       "        [1013.4656,  684.9433,  -76.5471],\n",
       "        [ 526.7509,  685.3002,  396.6771],\n",
       "        [1096.7485,  685.0091, -136.1698],\n",
       "        [ 515.0330,  687.4765, -141.6904],\n",
       "        [ 655.7623,  688.5400, -338.2258],\n",
       "        [ 866.4149,  688.3419, -497.0849],\n",
       "        [ 472.3895,  725.9761,  -19.8972],\n",
       "        [ 468.9000,  726.3508,   56.4859],\n",
       "        [ 668.6733,  726.3484, -217.0930],\n",
       "        [1081.7617,  726.1530, -360.2424],\n",
       "        [ 401.2313,  727.3322, -125.5330],\n",
       "        [ 414.2513,  728.2231,  296.4435],\n",
       "        [ 415.5224,  728.6121,  -14.3520],\n",
       "        [1044.6296,  728.5764,  324.1615],\n",
       "        [1089.1466,  728.7224, -279.4685],\n",
       "        [ 406.8265,  729.2895,  -52.5652],\n",
       "        [ 515.7606,  729.6270, -383.8520],\n",
       "        [ 781.4288,  729.5809,  193.8662],\n",
       "        [ 409.4011,  730.5566,  312.9517],\n",
       "        [ 823.7827,  730.3770,  346.9776],\n",
       "        [ 906.7146,  730.4168, -468.2386],\n",
       "        [ 914.6928,  730.5355, -487.7372],\n",
       "        [ 368.7085,  731.4179, -490.9958],\n",
       "        [ 654.5858,  731.2635, -152.1843],\n",
       "        [ 805.6948,  732.6300, -386.2205],\n",
       "        [ 933.9464,  732.4601,  140.3984],\n",
       "        [ 982.5150,  732.6417, -126.5793],\n",
       "        [ 919.0541,  733.5175, -334.6355],\n",
       "        [ 420.8500,  771.8003, -194.4329],\n",
       "        [ 530.1224,  771.6160, -320.2024],\n",
       "        [ 860.6915,  772.5998,  364.4668],\n",
       "        [ 954.2521,  772.6628,   18.7933],\n",
       "        [ 978.4183,  772.9142, -149.7678],\n",
       "        [1046.9983,  772.1662, -109.3946],\n",
       "        [ 747.1061,  773.7988,   18.3228],\n",
       "        [ 581.7668,  774.9718, -430.3765],\n",
       "        [ 762.7930,  774.8994,  479.8912],\n",
       "        [ 742.9471,  775.1100,  -58.9184],\n",
       "        [ 442.8201,  777.3489, -393.0342],\n",
       "        [ 439.8802,  778.1301,  274.4746],\n",
       "        [ 472.5814,  779.1140,   40.8344],\n",
       "        [ 626.3924,  814.2038,  375.5097],\n",
       "        [1057.0796,  816.5574, -408.7911],\n",
       "        [ 413.5994,  817.5355, -488.9979],\n",
       "        [ 623.0427,  817.2449,  393.8610],\n",
       "        [ 371.1645,  818.0183,  466.5749],\n",
       "        [ 382.0793,  818.3140,  -88.4883],\n",
       "        [ 854.9614,  818.2336, -485.4247],\n",
       "        [ 430.6408,  819.6503,  458.4466],\n",
       "        [ 738.0730,  819.2472, -472.1176],\n",
       "        [ 503.9039,  820.2070,  230.4761],\n",
       "        [ 547.0521,  820.2395, -109.7086],\n",
       "        [ 584.8459,  820.9036,  446.2826],\n",
       "        [ 996.1039,  820.6987, -241.3195],\n",
       "        [ 725.8093,  821.8351, -233.8382],\n",
       "        [ 733.5001,  821.5703,  279.4685],\n",
       "        [1058.2776,  821.3782, -368.7269],\n",
       "        [ 579.1563,  822.9373,  106.4778],\n",
       "        [ 828.3439,  822.4009,  362.5670],\n",
       "        [ 722.8641,  858.9158, -391.1817],\n",
       "        [ 683.8103,  859.1288,  141.7636],\n",
       "        [ 833.0795,  859.0797,  354.8742],\n",
       "        [ 915.0476,  859.0513, -325.7025],\n",
       "        [ 951.2912,  859.6976,   19.1329],\n",
       "        [1050.9739,  859.7064,  -86.9723],\n",
       "        [ 968.2151,  860.1326,  -58.4313],\n",
       "        [1040.9390,  860.5400, -454.1557],\n",
       "        [ 985.5989,  861.4365, -392.4913],\n",
       "        [ 372.2467,  862.3048,  131.1771],\n",
       "        [ 467.5437,  862.2460,   55.7083],\n",
       "        [ 791.0925,  862.0900,  115.0186],\n",
       "        [ 817.1899,  862.0516,  133.7328],\n",
       "        [1054.0632,  862.2086, -370.0513],\n",
       "        [ 835.8768,  863.2337,  164.8730],\n",
       "        [ 570.1193,  865.5849, -368.3218],\n",
       "        [ 399.2222,  866.1137, -227.0744],\n",
       "        [ 457.3932,  866.2015,  155.8437],\n",
       "        [ 435.6477,  868.8279, -138.9750],\n",
       "        [ 850.7697,  868.8860, -119.2272],\n",
       "        [ 723.2673,  904.9901,  409.1252],\n",
       "        [1089.6998,  904.3123, -291.6244],\n",
       "        [ 753.1537,  905.5958,   33.6858],\n",
       "        [1017.1620,  905.7729,  -88.4943],\n",
       "        [1018.3613,  905.7874,   32.3051],\n",
       "        [ 587.8016,  906.9147, -131.5028],\n",
       "        [ 686.0670,  906.8412, -300.4153],\n",
       "        [1056.6498,  906.9634,  490.8655],\n",
       "        [ 607.8148,  908.9334,  -33.9744],\n",
       "        [ 882.1412,  908.4271,  151.5341],\n",
       "        [ 422.1913,  909.6841,  498.9877],\n",
       "        [ 660.7393,  909.8997, -427.7850],\n",
       "        [ 583.4084,  910.0669,  373.8340],\n",
       "        [ 624.8106,  910.6472,  212.2487],\n",
       "        [ 898.3663,  910.6335, -330.5345],\n",
       "        [1043.9034,  910.7956,  184.3481],\n",
       "        [ 818.6905,  911.3879, -423.3889],\n",
       "        [ 938.9230,  912.8973,  255.5345],\n",
       "        [ 769.7944,  949.8390, -415.1131],\n",
       "        [ 833.5912,  949.5101, -242.9851],\n",
       "        [ 479.6786,  950.9726,   33.4881],\n",
       "        [ 558.3492,  950.2649, -105.4767],\n",
       "        [ 935.5016,  950.1085, -264.1127],\n",
       "        [ 942.1978,  950.4523, -420.7274],\n",
       "        [ 816.6872,  951.0413,  241.5658],\n",
       "        [1008.4116,  951.4476,  -80.6621],\n",
       "        [ 432.4376,  954.1748, -375.2377],\n",
       "        [ 824.5630,  955.2219,   19.6276],\n",
       "        [ 493.4724,  956.9226,  207.8723],\n",
       "        [ 958.5536,  956.9373,   83.0637],\n",
       "        [1074.2365,  957.8557, -225.3545]], device='cuda:0')"
      ]
     },
     "execution_count": 77,
     "metadata": {},
     "output_type": "execute_result"
    }
   ],
   "source": [
    "pos_tar"
   ]
  },
  {
   "cell_type": "code",
   "execution_count": 78,
   "id": "e16bf722",
   "metadata": {},
   "outputs": [
    {
     "data": {
      "text/plain": [
       "tensor(0.8469, device='cuda:0')"
      ]
     },
     "execution_count": 78,
     "metadata": {},
     "output_type": "execute_result"
    }
   ],
   "source": [
    "xyzi_true[0, 3]"
   ]
  },
  {
   "cell_type": "code",
   "execution_count": 79,
   "id": "b14b7d70",
   "metadata": {},
   "outputs": [
    {
     "ename": "type",
     "evalue": "name 'single_psfs' is not defined",
     "output_type": "error",
     "traceback": [
      "\u001b[0;31m---------------------------------------------------------------------------\u001b[0m",
      "\u001b[0;31mNameError\u001b[0m                                 Traceback (most recent call last)",
      "Cell \u001b[0;32mIn[79], line 2\u001b[0m\n\u001b[1;32m      1\u001b[0m plt\u001b[39m.\u001b[39mfigure()\n\u001b[0;32m----> 2\u001b[0m plt\u001b[39m.\u001b[39mimshow((single_psfs[\u001b[39m0\u001b[39m] \u001b[39m*\u001b[39m \u001b[39m0.3924\u001b[39m \u001b[39m*\u001b[39m  \u001b[39m3000\u001b[39m)\u001b[39m.\u001b[39mnumpy())\n\u001b[1;32m      3\u001b[0m plt\u001b[39m.\u001b[39mshow()\n",
      "\u001b[0;31mNameError\u001b[0m: name 'single_psfs' is not defined"
     ]
    }
   ],
   "source": [
    "plt.figure()\n",
    "plt.imshow((single_psfs[0] * 0.3924 *  3000).numpy())\n",
    "plt.show()"
   ]
  },
  {
   "cell_type": "code",
   "execution_count": null,
   "id": "dd53422e",
   "metadata": {},
   "outputs": [],
   "source": []
  },
  {
   "cell_type": "code",
   "execution_count": 35,
   "id": "21fa7b00",
   "metadata": {},
   "outputs": [],
   "source": [
    "from cellbgnet.utils.plot_funcs import PlotFrameCoord"
   ]
  },
  {
   "cell_type": "code",
   "execution_count": 36,
   "id": "f288c093",
   "metadata": {},
   "outputs": [
    {
     "data": {
      "text/plain": [
       "torch.Size([1, 1, 1041, 1302])"
      ]
     },
     "execution_count": 36,
     "metadata": {},
     "output_type": "execute_result"
    }
   ],
   "source": [
    "imgs_sim.shape"
   ]
  },
  {
   "cell_type": "code",
   "execution_count": 37,
   "id": "3ef0ee5e",
   "metadata": {},
   "outputs": [],
   "source": [
    "plt.figure()\n",
    "PlotFrameCoord(imgs_sim[0].cpu(), pos_tar=pos_tar.cpu(),plot_colorbar_frame=True, annotate_tar_z=True).plot()\n",
    "plt.show()"
   ]
  },
  {
   "cell_type": "code",
   "execution_count": null,
   "id": "ea0ab2e2",
   "metadata": {},
   "outputs": [],
   "source": []
  },
  {
   "cell_type": "code",
   "execution_count": null,
   "id": "e25d8805",
   "metadata": {},
   "outputs": [],
   "source": []
  },
  {
   "cell_type": "code",
   "execution_count": null,
   "id": "41bc43b0",
   "metadata": {},
   "outputs": [],
   "source": []
  },
  {
   "cell_type": "code",
   "execution_count": 25,
   "id": "a80dda5d",
   "metadata": {},
   "outputs": [],
   "source": [
    "plt.figure()\n",
    "plt.imshow(imgs_sim[13, 0].cpu().numpy())\n",
    "plt.show()"
   ]
  },
  {
   "attachments": {},
   "cell_type": "markdown",
   "id": "81982fd8",
   "metadata": {},
   "source": [
    "### Noise adding inside and outside cells"
   ]
  },
  {
   "cell_type": "code",
   "execution_count": 52,
   "id": "fd9e24ac",
   "metadata": {},
   "outputs": [],
   "source": [
    "\n",
    "dists = np.zeros_like(cell_masks_batch)\n",
    "for i in range(len(cell_masks_batch)):\n",
    "    dists[i] = edt.edt(cell_masks_batch[i])"
   ]
  },
  {
   "cell_type": "code",
   "execution_count": 53,
   "id": "a6a461df",
   "metadata": {},
   "outputs": [
    {
     "data": {
      "text/plain": [
       "(30, 1041, 1302)"
      ]
     },
     "execution_count": 53,
     "metadata": {},
     "output_type": "execute_result"
    }
   ],
   "source": [
    "dists.shape"
   ]
  },
  {
   "cell_type": "code",
   "execution_count": 54,
   "id": "094e79cb",
   "metadata": {},
   "outputs": [],
   "source": [
    "index = 12\n",
    "fig, ax = plt.subplots(nrows=1, ncols=3)\n",
    "ax[0].imshow(cell_masks_batch[index])\n",
    "ax[0].set_title('Cell mask')\n",
    "ax[1].imshow(dists[index])\n",
    "ax[1].set_title('Edt')\n",
    "ax[2].imshow(prob_map[index])\n",
    "ax[2].set_title('Prob map')\n",
    "plt.show()"
   ]
  },
  {
   "cell_type": "code",
   "execution_count": 55,
   "id": "3a0d268f",
   "metadata": {},
   "outputs": [],
   "source": [
    "def mean_bg_mask(dists, mean_map):\n",
    "    dists_copy = np.copy(dists)\n",
    "    for edt_val, mean_bg in mean_map.items():\n",
    "        dists_copy[dists == int(edt_val)] = mean_bg\n",
    "    return dists_copy"
   ]
  },
  {
   "cell_type": "code",
   "execution_count": 56,
   "id": "50c42ab1",
   "metadata": {},
   "outputs": [],
   "source": [
    "def variance_bg_mask(dists, variance_map):\n",
    "    dists_copy = np.copy(dists)\n",
    "    for edt_val, stddev_bg in variance_map.items():\n",
    "        dists_copy[dists == int(edt_val)] = stddev_bg\n",
    "    return dists_copy"
   ]
  },
  {
   "cell_type": "code",
   "execution_count": 57,
   "id": "cb2f10b9",
   "metadata": {},
   "outputs": [],
   "source": [
    "dists = np.ceil(dists)"
   ]
  },
  {
   "cell_type": "code",
   "execution_count": 58,
   "id": "645d49d3",
   "metadata": {},
   "outputs": [],
   "source": [
    "#mean_bg_cells = mean_bg_mask(dists, mean_map)\n",
    "#stddev_bg_cells = variance_bg_mask(dists, stddev_map)\n",
    "fitted_beta_map = edt_noise_map['betas']\n",
    "fitted_alpha_map = edt_noise_map['alphas']\n",
    "alpha_bg_cells = mean_bg_mask(dists, fitted_alpha_map)\n",
    "beta_bg_cells = variance_bg_mask(dists, fitted_beta_map)"
   ]
  },
  {
   "cell_type": "code",
   "execution_count": 59,
   "id": "d03f2d82",
   "metadata": {},
   "outputs": [],
   "source": [
    "index = 10\n",
    "fig, ax = plt.subplots(nrows=1, ncols=2)\n",
    "#ax[0].imshow(mean_bg_cells[index])\n",
    "ax[0].imshow(alpha_bg_cells[index])\n",
    "ax[0].set_title('Alpha values')\n",
    "#ax[0].set_title('Mean bg values')\n",
    "#ax[1].imshow(stddev_bg_cells[index])\n",
    "ax[1].imshow(beta_bg_cells[index])\n",
    "#ax[1].set_title('Std dev bg values')\n",
    "ax[1].set_title('Beta values')\n",
    "plt.show()"
   ]
  },
  {
   "cell_type": "code",
   "execution_count": 60,
   "id": "93a90224",
   "metadata": {},
   "outputs": [],
   "source": [
    "alpha_t = torch.from_numpy(alpha_bg_cells)\n",
    "beta_t = 1.0/torch.from_numpy(beta_bg_cells)"
   ]
  },
  {
   "cell_type": "code",
   "execution_count": 61,
   "id": "1d59f465",
   "metadata": {},
   "outputs": [
    {
     "data": {
      "text/plain": [
       "(torch.Size([30, 1041, 1302]), torch.Size([30, 1041, 1302]))"
      ]
     },
     "execution_count": 61,
     "metadata": {},
     "output_type": "execute_result"
    }
   ],
   "source": [
    "alpha_t.shape, beta_t.shape"
   ]
  },
  {
   "cell_type": "code",
   "execution_count": 62,
   "id": "db6c0f82",
   "metadata": {},
   "outputs": [],
   "source": [
    "m = torch.distributions.gamma.Gamma(concentration=alpha_t, rate=beta_t)\n",
    "sample = m.sample()"
   ]
  },
  {
   "cell_type": "code",
   "execution_count": 63,
   "id": "5a60d7cd",
   "metadata": {},
   "outputs": [],
   "source": [
    "index = 10\n",
    "fig, ax = plt.subplots(nrows=1, ncols=3)\n",
    "#ax[0].imshow(mean_bg_cells[index])\n",
    "ax[0].imshow(alpha_bg_cells[index])\n",
    "ax[0].set_title('Alpha bg cells')\n",
    "#ax[0].set_title('Mean bg values')\n",
    "#ax[1].imshow(stddev_bg_cells[index])\n",
    "#ax[1].set_title('Std dev bg values')\n",
    "ax[1].imshow(beta_bg_cells[index])\n",
    "ax[1].set_title('Beta bg cells')\n",
    "img = ax[2].imshow(sample[index].cpu().numpy(), cmap='gray')\n",
    "ax[2].set_title('Sampled bg values')\n",
    "fig.colorbar(img, ax=ax[2])\n",
    "plt.show()"
   ]
  },
  {
   "cell_type": "code",
   "execution_count": 64,
   "id": "19c13198",
   "metadata": {},
   "outputs": [],
   "source": [
    "index = 15\n",
    "plt.figure()\n",
    "plt.imshow(sample[index].cpu().numpy(), cmap='gray')\n",
    "plt.show()"
   ]
  },
  {
   "attachments": {},
   "cell_type": "markdown",
   "id": "9fc6fe94",
   "metadata": {},
   "source": [
    "### Dot overlay"
   ]
  },
  {
   "cell_type": "code",
   "execution_count": 65,
   "id": "3782a9cc",
   "metadata": {},
   "outputs": [],
   "source": [
    "baseline = 103.0\n",
    "e_per_adu = 0.39\n",
    "qe = 0.95\n",
    "bg_photons = (sample - baseline) * e_per_adu / qe"
   ]
  },
  {
   "cell_type": "code",
   "execution_count": 66,
   "id": "8a8751e0",
   "metadata": {},
   "outputs": [],
   "source": [
    "bg_photons = bg_photons[:, None]"
   ]
  },
  {
   "cell_type": "code",
   "execution_count": 67,
   "id": "49901918",
   "metadata": {},
   "outputs": [],
   "source": [
    "bg_photons = torch.clamp(bg_photons, min=0.0)"
   ]
  },
  {
   "cell_type": "code",
   "execution_count": 68,
   "id": "1f551763",
   "metadata": {},
   "outputs": [
    {
     "data": {
      "text/plain": [
       "(torch.Size([30, 1, 1041, 1302]), torch.Size([30, 1, 1041, 1302]))"
      ]
     },
     "execution_count": 68,
     "metadata": {},
     "output_type": "execute_result"
    }
   ],
   "source": [
    "imgs_sim.shape, bg_photons.shape"
   ]
  },
  {
   "cell_type": "code",
   "execution_count": 69,
   "id": "feba0c6a",
   "metadata": {},
   "outputs": [],
   "source": [
    "bg_photons = bg_photons.to('cuda:0')"
   ]
  },
  {
   "cell_type": "code",
   "execution_count": 70,
   "id": "425a5062",
   "metadata": {},
   "outputs": [],
   "source": [
    "plt.figure()\n",
    "plt.imshow(bg_photons[index, 0].cpu().numpy())\n",
    "plt.show()"
   ]
  },
  {
   "cell_type": "code",
   "execution_count": 71,
   "id": "445485c8",
   "metadata": {},
   "outputs": [],
   "source": [
    "after_dots = imgs_sim + bg_photons"
   ]
  },
  {
   "cell_type": "code",
   "execution_count": 72,
   "id": "a1de3632",
   "metadata": {},
   "outputs": [],
   "source": [
    "index = 10\n",
    "fig, ax = plt.subplots(nrows=1, ncols=6)\n",
    "ax[0].imshow(prob_map[index])\n",
    "ax[0].set_title('Probabilty map')\n",
    "ax[1].imshow(cell_masks_batch[index])\n",
    "ax[1].set_title('Cell mask sampled')\n",
    "ax[2].imshow(imgs_sim[index, 0].cpu().numpy())\n",
    "ax[2].set_title('Simulated PSFs')\n",
    "ax[3].imshow(S[index, 0].cpu().numpy())\n",
    "ax[3].set_title('Emitter pixel locs')\n",
    "ax[4].imshow(I[index, 0].cpu().numpy() * psf_params['photon_scale'])\n",
    "ax[4].set_title('Intensity values')\n",
    "ax[5].imshow(after_dots[index][0].cpu().numpy(), cmap='gray')\n",
    "ax[5].set_title('After overlaying dots')\n",
    "plt.show()"
   ]
  },
  {
   "cell_type": "code",
   "execution_count": null,
   "id": "4bbfd8f7",
   "metadata": {},
   "outputs": [],
   "source": []
  },
  {
   "attachments": {},
   "cell_type": "markdown",
   "id": "99feb282",
   "metadata": {},
   "source": [
    "### Adding camera noise"
   ]
  },
  {
   "cell_type": "code",
   "execution_count": 73,
   "id": "78338b5d",
   "metadata": {},
   "outputs": [],
   "source": [
    "RN = 2.2"
   ]
  },
  {
   "cell_type": "code",
   "execution_count": 74,
   "id": "d68acf6e",
   "metadata": {},
   "outputs": [],
   "source": [
    "after_dots = torch.distributions.Poisson(after_dots * qe).sample()"
   ]
  },
  {
   "cell_type": "code",
   "execution_count": 75,
   "id": "22929af4",
   "metadata": {},
   "outputs": [],
   "source": [
    "zeros = torch.zeros_like(after_dots)"
   ]
  },
  {
   "cell_type": "code",
   "execution_count": 76,
   "id": "70216e27",
   "metadata": {},
   "outputs": [],
   "source": [
    "readout_noise = torch.distributions.Normal(zeros, zeros + RN).sample()"
   ]
  },
  {
   "cell_type": "code",
   "execution_count": 77,
   "id": "f4bef6f1",
   "metadata": {},
   "outputs": [],
   "source": [
    "after_dots = after_dots + readout_noise"
   ]
  },
  {
   "cell_type": "code",
   "execution_count": 78,
   "id": "dd429778",
   "metadata": {},
   "outputs": [],
   "source": [
    "final_dots_for_net = torch.clamp((after_dots/ e_per_adu) + baseline, min=0)"
   ]
  },
  {
   "cell_type": "code",
   "execution_count": 79,
   "id": "6d0cd7cd",
   "metadata": {},
   "outputs": [],
   "source": [
    "index = 10\n",
    "fig, ax = plt.subplots(nrows=1, ncols=7)\n",
    "ax[0].imshow(sample[index].cpu().numpy(), cmap='gray')\n",
    "ax[0].set_title('Sampled background ADU')\n",
    "ax[1].imshow(cell_masks_batch[index])\n",
    "ax[1].set_title('Cell mask sampled')\n",
    "ax[2].imshow(imgs_sim[index, 0].cpu().numpy())\n",
    "ax[2].set_title('Simulated PSFs')\n",
    "ax[3].imshow(S[index, 0].cpu().numpy())\n",
    "ax[3].set_title('Emitter pixel locs')\n",
    "ax[4].imshow(I[index, 0].cpu().numpy() * psf_params['photon_scale'])\n",
    "ax[4].set_title('Intensity values')\n",
    "ax[5].imshow(after_dots[index][0].cpu().numpy(), cmap='gray')\n",
    "ax[5].set_title('After overlaying dots (photons)')\n",
    "ax[6].imshow(final_dots_for_net[index][0].cpu().numpy(), cmap='gray')\n",
    "ax[6].set_title('After camer noise (ADU)')\n",
    "plt.tight_layout()\n",
    "plt.show()"
   ]
  },
  {
   "cell_type": "code",
   "execution_count": 80,
   "id": "d7f66fc3",
   "metadata": {},
   "outputs": [],
   "source": [
    "plt.figure()\n",
    "plt.imshow(final_dots_for_net[index][0].cpu().numpy(), cmap='gray')\n",
    "plt.show()"
   ]
  },
  {
   "cell_type": "code",
   "execution_count": null,
   "id": "7047798d",
   "metadata": {},
   "outputs": [],
   "source": [
    "plt.figure()\n",
    "plt.imshow()"
   ]
  },
  {
   "cell_type": "code",
   "execution_count": null,
   "id": "52c34f9c",
   "metadata": {},
   "outputs": [],
   "source": []
  },
  {
   "cell_type": "code",
   "execution_count": null,
   "id": "df8b8b55",
   "metadata": {},
   "outputs": [],
   "source": []
  },
  {
   "cell_type": "code",
   "execution_count": 54,
   "id": "98ec5388",
   "metadata": {},
   "outputs": [],
   "source": [
    "index = 3\n",
    "plt.figure()\n",
    "plt.imshow(final_dots_for_net[index][0].cpu().numpy(), cmap='gray')\n",
    "plt.colorbar()\n",
    "plt.show()"
   ]
  },
  {
   "cell_type": "code",
   "execution_count": 51,
   "id": "b6d7b6f4",
   "metadata": {},
   "outputs": [
    {
     "data": {
      "text/plain": [
       "331.9748"
      ]
     },
     "execution_count": 51,
     "metadata": {},
     "output_type": "execute_result"
    }
   ],
   "source": [
    "final_dots_for_net[index][0].cpu().numpy().max()"
   ]
  },
  {
   "cell_type": "code",
   "execution_count": 52,
   "id": "84141459",
   "metadata": {},
   "outputs": [
    {
     "data": {
      "text/plain": [
       "76.83658"
      ]
     },
     "execution_count": 52,
     "metadata": {},
     "output_type": "execute_result"
    }
   ],
   "source": [
    "final_dots_for_net[index][0].cpu().numpy().min()"
   ]
  },
  {
   "cell_type": "code",
   "execution_count": null,
   "id": "4f365942",
   "metadata": {},
   "outputs": [],
   "source": []
  },
  {
   "cell_type": "code",
   "execution_count": null,
   "id": "d80806c9",
   "metadata": {},
   "outputs": [],
   "source": []
  }
 ],
 "metadata": {
  "kernelspec": {
   "display_name": "compile_spline",
   "language": "python",
   "name": "compile_spline"
  },
  "language_info": {
   "codemirror_mode": {
    "name": "ipython",
    "version": 3
   },
   "file_extension": ".py",
   "mimetype": "text/x-python",
   "name": "python",
   "nbconvert_exporter": "python",
   "pygments_lexer": "ipython3",
   "version": "3.11.3"
  }
 },
 "nbformat": 4,
 "nbformat_minor": 5
}
