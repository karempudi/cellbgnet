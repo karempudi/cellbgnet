{
 "cells": [
  {
   "cell_type": "code",
   "execution_count": 1,
   "id": "acf1612c",
   "metadata": {},
   "outputs": [],
   "source": [
    "%reload_ext autoreload\n",
    "%autoreload 2\n",
    "#%reload_ext notexbook'\n",
    "#%texify"
   ]
  },
  {
   "attachments": {},
   "cell_type": "markdown",
   "id": "79ca0edf",
   "metadata": {},
   "source": [
    "#### Generating Evaluation data using 30 random segmentation masks"
   ]
  },
  {
   "cell_type": "code",
   "execution_count": 2,
   "id": "c65196de",
   "metadata": {},
   "outputs": [],
   "source": [
    "import numpy as np\n",
    "import matplotlib.pyplot as plt\n",
    "import torch\n",
    "\n",
    "import os\n",
    "\n",
    "os.chdir('/home/axtr7550/Chromosome_project/cellbgnet/')\n",
    "import cellbgnet\n",
    "import cellbgnet.utils\n",
    "\n",
    "from cellbgnet.datasets import DataSimulator\n",
    "from cellbgnet.utils.hardware import cpu, gpu\n",
    "from cellbgnet.model import CellBGModel\n",
    "from cellbgnet.simulation.psf_kernel import SMAPSplineCoefficient\n",
    "from cellbgnet.generic.emitter import EmitterSet\n",
    "from cellbgnet.train_loss_infer import generate_probmap_cells\n",
    "\n",
    "os.chdir('/home/axtr7550/Chromosome_project/cellbgnet/notebooks')\n",
    "\n",
    "from skimage.io import imread\n",
    "from skimage.measure import label\n",
    "import random\n",
    "import edt\n",
    "from skimage.filters import gaussian\n",
    "from scipy.ndimage import rotate\n",
    "import random\n",
    "import pickle\n",
    "import pathlib\n",
    "from pathlib import Path\n",
    "%matplotlib qt5"
   ]
  },
  {
   "cell_type": "code",
   "execution_count": 3,
   "id": "95de9359",
   "metadata": {},
   "outputs": [],
   "source": [
    "param_file = '../cellbgnet/utils/reference_files/reference_Axel_45deg_lower_photon.yaml'\n",
    "param = cellbgnet.utils.param_io.ParamHandling().load_params(param_file)"
   ]
  },
  {
   "cell_type": "code",
   "execution_count": 4,
   "id": "a662ab27",
   "metadata": {},
   "outputs": [],
   "source": [
    "psf_params = param.PSF.to_dict()\n",
    "simulation_params = param.Simulation.to_dict()\n",
    "hardware_params = param.Hardware.to_dict()\n",
    "train_size = simulation_params['train_size']"
   ]
  },
  {
   "cell_type": "code",
   "execution_count": 5,
   "id": "1c1d693c",
   "metadata": {},
   "outputs": [],
   "source": [
    "with open(param.Simulation.edt_noise_map_path, 'rb') as fp:\n",
    "    edt_noise_map = pickle.load(fp)"
   ]
  },
  {
   "cell_type": "code",
   "execution_count": 6,
   "id": "6fdb2beb",
   "metadata": {},
   "outputs": [
    {
     "name": "stdout",
     "output_type": "stream",
     "text": [
      "INITIATING CUDA IMPLEMENTATION\n",
      "training sliding windows on camera chip:\n",
      "Area num: 0, field_xy: [0, 127, 0, 127]\n",
      "Area num: 1, field_xy: [114, 241, 0, 127]\n",
      "Area num: 2, field_xy: [228, 355, 0, 127]\n",
      "Area num: 3, field_xy: [342, 469, 0, 127]\n",
      "Area num: 4, field_xy: [456, 583, 0, 127]\n",
      "Area num: 5, field_xy: [570, 697, 0, 127]\n",
      "Area num: 6, field_xy: [684, 811, 0, 127]\n",
      "Area num: 7, field_xy: [798, 925, 0, 127]\n",
      "Area num: 8, field_xy: [912, 1039, 0, 127]\n",
      "Area num: 9, field_xy: [1026, 1153, 0, 127]\n",
      "Area num: 10, field_xy: [1140, 1267, 0, 127]\n",
      "Area num: 11, field_xy: [1174, 1301, 0, 127]\n",
      "Area num: 12, field_xy: [0, 127, 114, 241]\n",
      "Area num: 13, field_xy: [114, 241, 114, 241]\n",
      "Area num: 14, field_xy: [228, 355, 114, 241]\n",
      "Area num: 15, field_xy: [342, 469, 114, 241]\n",
      "Area num: 16, field_xy: [456, 583, 114, 241]\n",
      "Area num: 17, field_xy: [570, 697, 114, 241]\n",
      "Area num: 18, field_xy: [684, 811, 114, 241]\n",
      "Area num: 19, field_xy: [798, 925, 114, 241]\n",
      "Area num: 20, field_xy: [912, 1039, 114, 241]\n",
      "Area num: 21, field_xy: [1026, 1153, 114, 241]\n",
      "Area num: 22, field_xy: [1140, 1267, 114, 241]\n",
      "Area num: 23, field_xy: [1174, 1301, 114, 241]\n",
      "Area num: 24, field_xy: [0, 127, 228, 355]\n",
      "Area num: 25, field_xy: [114, 241, 228, 355]\n",
      "Area num: 26, field_xy: [228, 355, 228, 355]\n",
      "Area num: 27, field_xy: [342, 469, 228, 355]\n",
      "Area num: 28, field_xy: [456, 583, 228, 355]\n",
      "Area num: 29, field_xy: [570, 697, 228, 355]\n",
      "Area num: 30, field_xy: [684, 811, 228, 355]\n",
      "Area num: 31, field_xy: [798, 925, 228, 355]\n",
      "Area num: 32, field_xy: [912, 1039, 228, 355]\n",
      "Area num: 33, field_xy: [1026, 1153, 228, 355]\n",
      "Area num: 34, field_xy: [1140, 1267, 228, 355]\n",
      "Area num: 35, field_xy: [1174, 1301, 228, 355]\n",
      "Area num: 36, field_xy: [0, 127, 342, 469]\n",
      "Area num: 37, field_xy: [114, 241, 342, 469]\n",
      "Area num: 38, field_xy: [228, 355, 342, 469]\n",
      "Area num: 39, field_xy: [342, 469, 342, 469]\n",
      "Area num: 40, field_xy: [456, 583, 342, 469]\n",
      "Area num: 41, field_xy: [570, 697, 342, 469]\n",
      "Area num: 42, field_xy: [684, 811, 342, 469]\n",
      "Area num: 43, field_xy: [798, 925, 342, 469]\n",
      "Area num: 44, field_xy: [912, 1039, 342, 469]\n",
      "Area num: 45, field_xy: [1026, 1153, 342, 469]\n",
      "Area num: 46, field_xy: [1140, 1267, 342, 469]\n",
      "Area num: 47, field_xy: [1174, 1301, 342, 469]\n",
      "Area num: 48, field_xy: [0, 127, 456, 583]\n",
      "Area num: 49, field_xy: [114, 241, 456, 583]\n",
      "Area num: 50, field_xy: [228, 355, 456, 583]\n",
      "Area num: 51, field_xy: [342, 469, 456, 583]\n",
      "Area num: 52, field_xy: [456, 583, 456, 583]\n",
      "Area num: 53, field_xy: [570, 697, 456, 583]\n",
      "Area num: 54, field_xy: [684, 811, 456, 583]\n",
      "Area num: 55, field_xy: [798, 925, 456, 583]\n",
      "Area num: 56, field_xy: [912, 1039, 456, 583]\n",
      "Area num: 57, field_xy: [1026, 1153, 456, 583]\n",
      "Area num: 58, field_xy: [1140, 1267, 456, 583]\n",
      "Area num: 59, field_xy: [1174, 1301, 456, 583]\n",
      "Area num: 60, field_xy: [0, 127, 570, 697]\n",
      "Area num: 61, field_xy: [114, 241, 570, 697]\n",
      "Area num: 62, field_xy: [228, 355, 570, 697]\n",
      "Area num: 63, field_xy: [342, 469, 570, 697]\n",
      "Area num: 64, field_xy: [456, 583, 570, 697]\n",
      "Area num: 65, field_xy: [570, 697, 570, 697]\n",
      "Area num: 66, field_xy: [684, 811, 570, 697]\n",
      "Area num: 67, field_xy: [798, 925, 570, 697]\n",
      "Area num: 68, field_xy: [912, 1039, 570, 697]\n",
      "Area num: 69, field_xy: [1026, 1153, 570, 697]\n",
      "Area num: 70, field_xy: [1140, 1267, 570, 697]\n",
      "Area num: 71, field_xy: [1174, 1301, 570, 697]\n",
      "Area num: 72, field_xy: [0, 127, 684, 811]\n",
      "Area num: 73, field_xy: [114, 241, 684, 811]\n",
      "Area num: 74, field_xy: [228, 355, 684, 811]\n",
      "Area num: 75, field_xy: [342, 469, 684, 811]\n",
      "Area num: 76, field_xy: [456, 583, 684, 811]\n",
      "Area num: 77, field_xy: [570, 697, 684, 811]\n",
      "Area num: 78, field_xy: [684, 811, 684, 811]\n",
      "Area num: 79, field_xy: [798, 925, 684, 811]\n",
      "Area num: 80, field_xy: [912, 1039, 684, 811]\n",
      "Area num: 81, field_xy: [1026, 1153, 684, 811]\n",
      "Area num: 82, field_xy: [1140, 1267, 684, 811]\n",
      "Area num: 83, field_xy: [1174, 1301, 684, 811]\n",
      "Area num: 84, field_xy: [0, 127, 798, 925]\n",
      "Area num: 85, field_xy: [114, 241, 798, 925]\n",
      "Area num: 86, field_xy: [228, 355, 798, 925]\n",
      "Area num: 87, field_xy: [342, 469, 798, 925]\n",
      "Area num: 88, field_xy: [456, 583, 798, 925]\n",
      "Area num: 89, field_xy: [570, 697, 798, 925]\n",
      "Area num: 90, field_xy: [684, 811, 798, 925]\n",
      "Area num: 91, field_xy: [798, 925, 798, 925]\n",
      "Area num: 92, field_xy: [912, 1039, 798, 925]\n",
      "Area num: 93, field_xy: [1026, 1153, 798, 925]\n",
      "Area num: 94, field_xy: [1140, 1267, 798, 925]\n",
      "Area num: 95, field_xy: [1174, 1301, 798, 925]\n",
      "Area num: 96, field_xy: [0, 127, 912, 1039]\n",
      "Area num: 97, field_xy: [114, 241, 912, 1039]\n",
      "Area num: 98, field_xy: [228, 355, 912, 1039]\n",
      "Area num: 99, field_xy: [342, 469, 912, 1039]\n",
      "Area num: 100, field_xy: [456, 583, 912, 1039]\n",
      "Area num: 101, field_xy: [570, 697, 912, 1039]\n",
      "Area num: 102, field_xy: [684, 811, 912, 1039]\n",
      "Area num: 103, field_xy: [798, 925, 912, 1039]\n",
      "Area num: 104, field_xy: [912, 1039, 912, 1039]\n",
      "Area num: 105, field_xy: [1026, 1153, 912, 1039]\n",
      "Area num: 106, field_xy: [1140, 1267, 912, 1039]\n",
      "Area num: 107, field_xy: [1174, 1301, 912, 1039]\n",
      "Area num: 108, field_xy: [0, 127, 913, 1040]\n",
      "Area num: 109, field_xy: [114, 241, 913, 1040]\n",
      "Area num: 110, field_xy: [228, 355, 913, 1040]\n",
      "Area num: 111, field_xy: [342, 469, 913, 1040]\n",
      "Area num: 112, field_xy: [456, 583, 913, 1040]\n",
      "Area num: 113, field_xy: [570, 697, 913, 1040]\n",
      "Area num: 114, field_xy: [684, 811, 913, 1040]\n",
      "Area num: 115, field_xy: [798, 925, 913, 1040]\n",
      "Area num: 116, field_xy: [912, 1039, 913, 1040]\n",
      "Area num: 117, field_xy: [1026, 1153, 913, 1040]\n",
      "Area num: 118, field_xy: [1140, 1267, 913, 1040]\n",
      "Area num: 119, field_xy: [1174, 1301, 913, 1040]\n"
     ]
    }
   ],
   "source": [
    "model = cellbgnet.model.CellBGModel(param)"
   ]
  },
  {
   "attachments": {},
   "cell_type": "markdown",
   "id": "9cef7c08",
   "metadata": {},
   "source": [
    "#### Read 30 random segmentation masks"
   ]
  },
  {
   "cell_type": "code",
   "execution_count": 7,
   "id": "d36a5097",
   "metadata": {},
   "outputs": [],
   "source": [
    "filenames = model.data_generator.cell_mask_filenames\n"
   ]
  },
  {
   "cell_type": "code",
   "execution_count": 8,
   "id": "43fd413d",
   "metadata": {},
   "outputs": [],
   "source": [
    "random_filenames = random.choices(filenames, k=30)"
   ]
  },
  {
   "cell_type": "code",
   "execution_count": 9,
   "id": "8d691e01",
   "metadata": {},
   "outputs": [
    {
     "name": "stderr",
     "output_type": "stream",
     "text": [
      "/home/axtr7550/anaconda3/envs/compile_spline/lib/python3.11/site-packages/imageio/plugins/pillow.py:297: UserWarning: Loading 16-bit (uint16) PNG as int32 due to limitations in pillow's PNG decoder. This will be fixed in a future version of pillow which will make this warning dissapear.\n",
      "  warnings.warn(\n"
     ]
    }
   ],
   "source": [
    "cell_masks = []\n",
    "for i, file in enumerate(random_filenames,0):\n",
    "    img = imread(file)\n",
    "    #img = rotate(img, random_angles[i], reshape=False)\n",
    "    cell_masks.append(img)"
   ]
  },
  {
   "cell_type": "code",
   "execution_count": 10,
   "id": "d20023f8",
   "metadata": {},
   "outputs": [
    {
     "data": {
      "text/plain": [
       "(1041, 1302)"
      ]
     },
     "execution_count": 10,
     "metadata": {},
     "output_type": "execute_result"
    }
   ],
   "source": [
    "img.shape"
   ]
  },
  {
   "cell_type": "code",
   "execution_count": 11,
   "id": "47864a30",
   "metadata": {},
   "outputs": [],
   "source": [
    "cell_masks_batch = np.stack(cell_masks)"
   ]
  },
  {
   "cell_type": "code",
   "execution_count": 12,
   "id": "d15047da",
   "metadata": {},
   "outputs": [
    {
     "data": {
      "text/plain": [
       "(30, 1041, 1302)"
      ]
     },
     "execution_count": 12,
     "metadata": {},
     "output_type": "execute_result"
    }
   ],
   "source": [
    "cell_masks_batch.shape"
   ]
  },
  {
   "cell_type": "code",
   "execution_count": 26,
   "id": "502414ab",
   "metadata": {},
   "outputs": [],
   "source": [
    "plt.figure()\n",
    "plt.imshow(cell_masks_batch[0])\n",
    "plt.show()"
   ]
  },
  {
   "cell_type": "code",
   "execution_count": 13,
   "id": "d1e842de",
   "metadata": {},
   "outputs": [],
   "source": [
    "prob_map = (cell_masks_batch > 0) * 0.003125"
   ]
  },
  {
   "cell_type": "code",
   "execution_count": 16,
   "id": "b0c340f6",
   "metadata": {},
   "outputs": [],
   "source": [
    "plt.figure()\n",
    "plt.imshow(prob_map[0])\n",
    "plt.show()"
   ]
  },
  {
   "cell_type": "code",
   "execution_count": 14,
   "id": "95f68685",
   "metadata": {},
   "outputs": [
    {
     "name": "stdout",
     "output_type": "stream",
     "text": [
      "INITIATING CUDA IMPLEMENTATION\n"
     ]
    }
   ],
   "source": [
    "data_gen = DataSimulator(psf_params, simulation_params, hardware_params)"
   ]
  },
  {
   "cell_type": "code",
   "execution_count": 15,
   "id": "3cbd31a6",
   "metadata": {},
   "outputs": [],
   "source": [
    "S, X_os, Y_os, Z, I, field_xy = data_gen.sampling(batch_size=30, prob_map=gpu(prob_map), local_context=None,\n",
    "                                                  iter_num=None)"
   ]
  },
  {
   "cell_type": "code",
   "execution_count": 102,
   "id": "6277898d",
   "metadata": {},
   "outputs": [],
   "source": [
    "plt.close('all')"
   ]
  },
  {
   "cell_type": "code",
   "execution_count": null,
   "id": "4ce74fa7",
   "metadata": {},
   "outputs": [],
   "source": [
    "\n",
    "S.shape"
   ]
  },
  {
   "cell_type": "code",
   "execution_count": 19,
   "id": "c4ff5595",
   "metadata": {},
   "outputs": [],
   "source": [
    "plt.figure()\n",
    "plt.imshow(S[0][0].cpu().numpy())\n",
    "plt.show()"
   ]
  },
  {
   "cell_type": "code",
   "execution_count": 20,
   "id": "1ff98cad",
   "metadata": {},
   "outputs": [],
   "source": [
    "index = 0\n",
    "fig, ax = plt.subplots(nrows=1, ncols=6)\n",
    "ax[0].imshow(S[index][0].cpu().numpy())\n",
    "ax[0].set_title('Dot location')\n",
    "x_os_img = ax[1].imshow(X_os[index][0].cpu().numpy())\n",
    "ax[1].set_title('X offset')\n",
    "#fig.colorbar(x_os_img, ax=ax[1])\n",
    "y_os_img = ax[2].imshow(Y_os[index][0].cpu().numpy())\n",
    "ax[2].set_title('Y offset')\n",
    "#fig.colorbar(y_os_img, ax=ax[2])\n",
    "z_vals_img = ax[3].imshow(Z[index][0].cpu().numpy())\n",
    "ax[3].set_title('Z value')\n",
    "#fig.colorbar(z_vals_img, ax=ax[3])\n",
    "i_vals_img = ax[4].imshow(I[index][0].cpu().numpy())\n",
    "ax[4].set_title('Intensity Value')\n",
    "#fig.colorbar(i_vals_img, ax=ax[4])\n",
    "ax[5].imshow(cell_masks_batch[index])\n",
    "ax[5].set_title('cell mask')\n",
    "plt.show()"
   ]
  },
  {
   "cell_type": "code",
   "execution_count": 16,
   "id": "cce58585",
   "metadata": {},
   "outputs": [],
   "source": [
    "imgs_sim = data_gen.simulate_psfs(S, X_os, Y_os, Z, I)\n",
    "#6 seconds on cuda for 128"
   ]
  },
  {
   "cell_type": "code",
   "execution_count": 101,
   "id": "83002719",
   "metadata": {},
   "outputs": [],
   "source": [
    "#imgs_sim.to('cpu');\n",
    "#torch.cuda.empty_cache()"
   ]
  },
  {
   "cell_type": "code",
   "execution_count": 22,
   "id": "cf8962a8",
   "metadata": {},
   "outputs": [],
   "source": [
    "index = 0\n",
    "fig, ax = plt.subplots(nrows=1, ncols=5)\n",
    "ax[0].imshow(prob_map[index])\n",
    "ax[0].set_title('Probabilty map')\n",
    "ax[1].imshow(cell_masks_batch[index])\n",
    "ax[1].set_title('Cell mask sampled')\n",
    "ax[2].imshow(imgs_sim[index, 0].cpu().numpy())\n",
    "ax[2].set_title('Simulated PSFs')\n",
    "ax[3].imshow(S[index, 0].cpu().numpy())\n",
    "ax[3].set_title('Emitter pixel locs')\n",
    "ax[4].imshow(I[index, 0].cpu().numpy() * psf_params['photon_scale'])\n",
    "ax[4].set_title('Intensity values')\n",
    "plt.show()"
   ]
  },
  {
   "cell_type": "code",
   "execution_count": 19,
   "id": "6da9761c",
   "metadata": {},
   "outputs": [
    {
     "data": {
      "text/plain": [
       "torch.Size([30, 1041, 1302])"
      ]
     },
     "execution_count": 19,
     "metadata": {},
     "output_type": "execute_result"
    }
   ],
   "source": [
    "S.shape"
   ]
  },
  {
   "cell_type": "code",
   "execution_count": 17,
   "id": "b763b5f3",
   "metadata": {},
   "outputs": [],
   "source": [
    "xyzi = torch.cat([X_os[:, :, None], Y_os[:, :, None], Z[:, :, None], I[:, :, None]], 2)\n",
    "xyzi = xyzi[:, 0]"
   ]
  },
  {
   "cell_type": "code",
   "execution_count": 18,
   "id": "c3a0dcb1",
   "metadata": {},
   "outputs": [],
   "source": [
    "S = S[:, 0]"
   ]
  },
  {
   "cell_type": "code",
   "execution_count": 20,
   "id": "ada7622b",
   "metadata": {},
   "outputs": [],
   "source": [
    "s_inds = tuple(S.nonzero().transpose(1, 0))\n",
    "# get these molecules' sub-pixel xy offsets, z positions and photons\n",
    "xyzi_true = xyzi[s_inds[0], :, s_inds[1], s_inds[2]]"
   ]
  },
  {
   "cell_type": "code",
   "execution_count": 21,
   "id": "29ca4df0",
   "metadata": {},
   "outputs": [
    {
     "data": {
      "text/plain": [
       "tensor([[-0.1504,  0.2609, -0.6300,  0.9678],\n",
       "        [ 0.2061,  0.0233, -0.1468,  0.2924],\n",
       "        [-0.3372, -0.0662,  0.6360,  0.5397],\n",
       "        ...,\n",
       "        [-0.0041,  0.0134, -0.0677,  0.3519],\n",
       "        [ 0.3476, -0.1170, -0.5400,  0.5809],\n",
       "        [ 0.3627,  0.4325,  0.8345,  0.9288]], device='cuda:0')"
      ]
     },
     "execution_count": 21,
     "metadata": {},
     "output_type": "execute_result"
    }
   ],
   "source": [
    "xyzi_true"
   ]
  },
  {
   "cell_type": "code",
   "execution_count": 22,
   "id": "b2287a44",
   "metadata": {},
   "outputs": [],
   "source": [
    "xyzi_true[:, 0] += s_inds[2] + 0.5"
   ]
  },
  {
   "cell_type": "code",
   "execution_count": 23,
   "id": "4fd3dfc8",
   "metadata": {},
   "outputs": [],
   "source": [
    "xyzi_true[:, 1] += s_inds[1] + 0.5"
   ]
  },
  {
   "cell_type": "code",
   "execution_count": 24,
   "id": "6b780331",
   "metadata": {},
   "outputs": [],
   "source": [
    "pos_tar = xyzi_true[:, :3]"
   ]
  },
  {
   "cell_type": "code",
   "execution_count": 25,
   "id": "826f184c",
   "metadata": {},
   "outputs": [
    {
     "data": {
      "text/plain": [
       "torch.Size([10047, 3])"
      ]
     },
     "execution_count": 25,
     "metadata": {},
     "output_type": "execute_result"
    }
   ],
   "source": [
    "pos_tar.shape"
   ]
  },
  {
   "cell_type": "code",
   "execution_count": 26,
   "id": "80d56c5c",
   "metadata": {},
   "outputs": [],
   "source": [
    "pos_tar[:, 2] *= 500"
   ]
  },
  {
   "cell_type": "code",
   "execution_count": 27,
   "id": "e0e1919d",
   "metadata": {},
   "outputs": [
    {
     "data": {
      "text/plain": [
       "tensor([[ 592.3497,   99.7609, -314.9914],\n",
       "        [1016.7061,   99.5233,  -73.4096],\n",
       "        [ 932.1628,  100.4338,  318.0047],\n",
       "        ...,\n",
       "        [ 619.4959,  955.5134,  -33.8575],\n",
       "        [ 721.8476,  955.3829, -269.9925],\n",
       "        [ 736.8627,  956.9324,  417.2450]], device='cuda:0')"
      ]
     },
     "execution_count": 27,
     "metadata": {},
     "output_type": "execute_result"
    }
   ],
   "source": [
    "pos_tar"
   ]
  },
  {
   "cell_type": "code",
   "execution_count": 28,
   "id": "e16bf722",
   "metadata": {},
   "outputs": [
    {
     "data": {
      "text/plain": [
       "tensor(0.9678, device='cuda:0')"
      ]
     },
     "execution_count": 28,
     "metadata": {},
     "output_type": "execute_result"
    }
   ],
   "source": [
    "xyzi_true[0, 3]"
   ]
  },
  {
   "cell_type": "code",
   "execution_count": 29,
   "id": "b14b7d70",
   "metadata": {},
   "outputs": [
    {
     "ename": "type",
     "evalue": "name 'single_psfs' is not defined",
     "output_type": "error",
     "traceback": [
      "\u001b[0;31m---------------------------------------------------------------------------\u001b[0m",
      "\u001b[0;31mNameError\u001b[0m                                 Traceback (most recent call last)",
      "Cell \u001b[0;32mIn[29], line 2\u001b[0m\n\u001b[1;32m      1\u001b[0m plt\u001b[39m.\u001b[39mfigure()\n\u001b[0;32m----> 2\u001b[0m plt\u001b[39m.\u001b[39mimshow((single_psfs[\u001b[39m0\u001b[39m] \u001b[39m*\u001b[39m \u001b[39m0.3924\u001b[39m \u001b[39m*\u001b[39m  \u001b[39m3000\u001b[39m)\u001b[39m.\u001b[39mnumpy())\n\u001b[1;32m      3\u001b[0m plt\u001b[39m.\u001b[39mshow()\n",
      "\u001b[0;31mNameError\u001b[0m: name 'single_psfs' is not defined"
     ]
    }
   ],
   "source": [
    "plt.figure()\n",
    "plt.imshow((single_psfs[0] * 0.3924 *  3000).numpy())\n",
    "plt.show()"
   ]
  },
  {
   "cell_type": "code",
   "execution_count": null,
   "id": "dd53422e",
   "metadata": {},
   "outputs": [],
   "source": []
  },
  {
   "cell_type": "code",
   "execution_count": 30,
   "id": "21fa7b00",
   "metadata": {},
   "outputs": [],
   "source": [
    "from cellbgnet.utils.plot_funcs import PlotFrameCoord"
   ]
  },
  {
   "cell_type": "code",
   "execution_count": 31,
   "id": "f288c093",
   "metadata": {},
   "outputs": [
    {
     "data": {
      "text/plain": [
       "torch.Size([30, 1, 1041, 1302])"
      ]
     },
     "execution_count": 31,
     "metadata": {},
     "output_type": "execute_result"
    }
   ],
   "source": [
    "imgs_sim.shape"
   ]
  },
  {
   "cell_type": "code",
   "execution_count": 32,
   "id": "3ef0ee5e",
   "metadata": {},
   "outputs": [],
   "source": [
    "plt.figure()\n",
    "PlotFrameCoord(imgs_sim[0].cpu(), pos_tar=pos_tar.cpu(),plot_colorbar_frame=True, annotate_tar_z=True).plot()\n",
    "plt.show()"
   ]
  },
  {
   "cell_type": "code",
   "execution_count": null,
   "id": "ea0ab2e2",
   "metadata": {},
   "outputs": [],
   "source": []
  },
  {
   "cell_type": "code",
   "execution_count": null,
   "id": "e25d8805",
   "metadata": {},
   "outputs": [],
   "source": []
  },
  {
   "cell_type": "code",
   "execution_count": null,
   "id": "41bc43b0",
   "metadata": {},
   "outputs": [],
   "source": []
  },
  {
   "cell_type": "code",
   "execution_count": 33,
   "id": "a80dda5d",
   "metadata": {},
   "outputs": [],
   "source": [
    "plt.figure()\n",
    "plt.imshow(imgs_sim[13, 0].cpu().numpy())\n",
    "plt.show()"
   ]
  },
  {
   "attachments": {},
   "cell_type": "markdown",
   "id": "81982fd8",
   "metadata": {},
   "source": [
    "### Noise adding inside and outside cells"
   ]
  },
  {
   "cell_type": "code",
   "execution_count": 34,
   "id": "fd9e24ac",
   "metadata": {},
   "outputs": [],
   "source": [
    "\n",
    "dists = np.zeros_like(cell_masks_batch)\n",
    "for i in range(len(cell_masks_batch)):\n",
    "    dists[i] = edt.edt(cell_masks_batch[i])"
   ]
  },
  {
   "cell_type": "code",
   "execution_count": 35,
   "id": "a6a461df",
   "metadata": {},
   "outputs": [
    {
     "data": {
      "text/plain": [
       "(30, 1041, 1302)"
      ]
     },
     "execution_count": 35,
     "metadata": {},
     "output_type": "execute_result"
    }
   ],
   "source": [
    "dists.shape"
   ]
  },
  {
   "cell_type": "code",
   "execution_count": 36,
   "id": "094e79cb",
   "metadata": {},
   "outputs": [],
   "source": [
    "index = 0\n",
    "fig, ax = plt.subplots(nrows=1, ncols=3)\n",
    "ax[0].imshow(cell_masks_batch[index])\n",
    "ax[0].set_title('Cell mask')\n",
    "ax[1].imshow(dists[index])\n",
    "ax[1].set_title('Edt')\n",
    "ax[2].imshow(prob_map[index])\n",
    "ax[2].set_title('Prob map')\n",
    "plt.show()"
   ]
  },
  {
   "cell_type": "code",
   "execution_count": 37,
   "id": "3a0d268f",
   "metadata": {},
   "outputs": [],
   "source": [
    "def mean_bg_mask(dists, mean_map):\n",
    "    dists_copy = np.copy(dists)\n",
    "    for edt_val, mean_bg in mean_map.items():\n",
    "        dists_copy[dists == int(edt_val)] = mean_bg\n",
    "    return dists_copy"
   ]
  },
  {
   "cell_type": "code",
   "execution_count": 38,
   "id": "50c42ab1",
   "metadata": {},
   "outputs": [],
   "source": [
    "def variance_bg_mask(dists, variance_map):\n",
    "    dists_copy = np.copy(dists)\n",
    "    for edt_val, stddev_bg in variance_map.items():\n",
    "        dists_copy[dists == int(edt_val)] = stddev_bg\n",
    "    return dists_copy"
   ]
  },
  {
   "cell_type": "code",
   "execution_count": 39,
   "id": "cb2f10b9",
   "metadata": {},
   "outputs": [],
   "source": [
    "dists = np.ceil(dists)"
   ]
  },
  {
   "cell_type": "code",
   "execution_count": 40,
   "id": "645d49d3",
   "metadata": {},
   "outputs": [],
   "source": [
    "#mean_bg_cells = mean_bg_mask(dists, mean_map)\n",
    "#stddev_bg_cells = variance_bg_mask(dists, stddev_map)\n",
    "fitted_beta_map = edt_noise_map['betas']\n",
    "fitted_alpha_map = edt_noise_map['alphas']\n",
    "alpha_bg_cells = mean_bg_mask(dists, fitted_alpha_map)\n",
    "beta_bg_cells = variance_bg_mask(dists, fitted_beta_map)"
   ]
  },
  {
   "cell_type": "code",
   "execution_count": 41,
   "id": "d03f2d82",
   "metadata": {},
   "outputs": [],
   "source": [
    "index = 0\n",
    "fig, ax = plt.subplots(nrows=1, ncols=2)\n",
    "#ax[0].imshow(mean_bg_cells[index])\n",
    "ax[0].imshow(alpha_bg_cells[index])\n",
    "ax[0].set_title('Alpha values')\n",
    "#ax[0].set_title('Mean bg values')\n",
    "#ax[1].imshow(stddev_bg_cells[index])\n",
    "ax[1].imshow(beta_bg_cells[index])\n",
    "#ax[1].set_title('Std dev bg values')\n",
    "ax[1].set_title('Beta values')\n",
    "plt.show()"
   ]
  },
  {
   "cell_type": "code",
   "execution_count": 42,
   "id": "93a90224",
   "metadata": {},
   "outputs": [],
   "source": [
    "alpha_t = torch.from_numpy(alpha_bg_cells)\n",
    "beta_t = 1.0/torch.from_numpy(beta_bg_cells)"
   ]
  },
  {
   "cell_type": "code",
   "execution_count": 43,
   "id": "1d59f465",
   "metadata": {},
   "outputs": [
    {
     "data": {
      "text/plain": [
       "(torch.Size([30, 1041, 1302]), torch.Size([30, 1041, 1302]))"
      ]
     },
     "execution_count": 43,
     "metadata": {},
     "output_type": "execute_result"
    }
   ],
   "source": [
    "alpha_t.shape, beta_t.shape"
   ]
  },
  {
   "cell_type": "code",
   "execution_count": 44,
   "id": "db6c0f82",
   "metadata": {},
   "outputs": [],
   "source": [
    "m = torch.distributions.gamma.Gamma(concentration=alpha_t, rate=beta_t)\n",
    "sample = m.sample()"
   ]
  },
  {
   "cell_type": "code",
   "execution_count": 45,
   "id": "5a60d7cd",
   "metadata": {},
   "outputs": [],
   "source": [
    "index = 0\n",
    "fig, ax = plt.subplots(nrows=1, ncols=3)\n",
    "#ax[0].imshow(mean_bg_cells[index])\n",
    "ax[0].imshow(alpha_bg_cells[index])\n",
    "ax[0].set_title('Alpha bg cells')\n",
    "#ax[0].set_title('Mean bg values')\n",
    "#ax[1].imshow(stddev_bg_cells[index])\n",
    "#ax[1].set_title('Std dev bg values')\n",
    "ax[1].imshow(beta_bg_cells[index])\n",
    "ax[1].set_title('Beta bg cells')\n",
    "img = ax[2].imshow(sample[index].cpu().numpy(), cmap='gray')\n",
    "ax[2].set_title('Sampled bg values')\n",
    "fig.colorbar(img, ax=ax[2])\n",
    "plt.show()"
   ]
  },
  {
   "cell_type": "code",
   "execution_count": 46,
   "id": "19c13198",
   "metadata": {},
   "outputs": [],
   "source": [
    "index = 0\n",
    "plt.figure()\n",
    "plt.imshow(sample[index].cpu().numpy(), cmap='gray')\n",
    "plt.show()"
   ]
  },
  {
   "attachments": {},
   "cell_type": "markdown",
   "id": "9fc6fe94",
   "metadata": {},
   "source": [
    "### Dot overlay"
   ]
  },
  {
   "cell_type": "code",
   "execution_count": 47,
   "id": "3782a9cc",
   "metadata": {},
   "outputs": [],
   "source": [
    "baseline = 103.0\n",
    "e_per_adu = 0.39\n",
    "qe = 0.95\n",
    "bg_photons = (sample - baseline) * e_per_adu / qe"
   ]
  },
  {
   "cell_type": "code",
   "execution_count": 48,
   "id": "8a8751e0",
   "metadata": {},
   "outputs": [],
   "source": [
    "bg_photons = bg_photons[:, None]"
   ]
  },
  {
   "cell_type": "code",
   "execution_count": 49,
   "id": "49901918",
   "metadata": {},
   "outputs": [],
   "source": [
    "bg_photons = torch.clamp(bg_photons, min=0.0)"
   ]
  },
  {
   "cell_type": "code",
   "execution_count": 50,
   "id": "1f551763",
   "metadata": {},
   "outputs": [
    {
     "data": {
      "text/plain": [
       "(torch.Size([30, 1, 1041, 1302]), torch.Size([30, 1, 1041, 1302]))"
      ]
     },
     "execution_count": 50,
     "metadata": {},
     "output_type": "execute_result"
    }
   ],
   "source": [
    "imgs_sim.shape, bg_photons.shape"
   ]
  },
  {
   "cell_type": "code",
   "execution_count": 51,
   "id": "feba0c6a",
   "metadata": {},
   "outputs": [],
   "source": [
    "bg_photons = bg_photons.to('cuda:0')"
   ]
  },
  {
   "cell_type": "code",
   "execution_count": 52,
   "id": "425a5062",
   "metadata": {},
   "outputs": [],
   "source": [
    "plt.figure()\n",
    "plt.imshow(bg_photons[index, 0].cpu().numpy())\n",
    "plt.show()"
   ]
  },
  {
   "cell_type": "code",
   "execution_count": 53,
   "id": "445485c8",
   "metadata": {},
   "outputs": [],
   "source": [
    "after_dots = imgs_sim + bg_photons\n"
   ]
  },
  {
   "cell_type": "code",
   "execution_count": 54,
   "id": "b9692142",
   "metadata": {},
   "outputs": [
    {
     "data": {
      "text/plain": [
       "torch.Size([30, 1041, 1302])"
      ]
     },
     "execution_count": 54,
     "metadata": {},
     "output_type": "execute_result"
    }
   ],
   "source": [
    "S.shape"
   ]
  },
  {
   "cell_type": "code",
   "execution_count": 55,
   "id": "a1de3632",
   "metadata": {},
   "outputs": [],
   "source": [
    "index = 0\n",
    "fig, ax = plt.subplots(nrows=1, ncols=6)\n",
    "ax[0].imshow(prob_map[index])\n",
    "ax[0].set_title('Probabilty map')\n",
    "ax[1].imshow(cell_masks_batch[index])\n",
    "ax[1].set_title('Cell mask sampled')\n",
    "ax[2].imshow(imgs_sim[index, 0].cpu().numpy())\n",
    "ax[2].set_title('Simulated PSFs')\n",
    "#ax[3].imshow(S[index, 0].cpu().numpy())\n",
    "ax[3].set_title('Emitter pixel locs')\n",
    "ax[4].imshow(I[index, 0].cpu().numpy() * psf_params['photon_scale'])\n",
    "ax[4].set_title('Intensity values')\n",
    "ax[5].imshow(after_dots[index][0].cpu().numpy(), cmap='gray')\n",
    "ax[5].set_title('After overlaying dots')\n",
    "plt.show()"
   ]
  },
  {
   "cell_type": "code",
   "execution_count": null,
   "id": "4bbfd8f7",
   "metadata": {},
   "outputs": [],
   "source": []
  },
  {
   "attachments": {},
   "cell_type": "markdown",
   "id": "99feb282",
   "metadata": {},
   "source": [
    "### Adding camera noise"
   ]
  },
  {
   "cell_type": "code",
   "execution_count": 56,
   "id": "78338b5d",
   "metadata": {},
   "outputs": [],
   "source": [
    "RN = 2.2"
   ]
  },
  {
   "cell_type": "code",
   "execution_count": 57,
   "id": "d68acf6e",
   "metadata": {},
   "outputs": [
    {
     "ename": "type",
     "evalue": "Expected parameter rate (Tensor of shape (30, 1, 1041, 1302)) of distribution Poisson(rate: torch.Size([30, 1, 1041, 1302])) to satisfy the constraint GreaterThanEq(lower_bound=0.0), but found invalid values:\ntensor([[[[ 3.6433,  0.0000,  2.6589,  ...,  2.1402,  0.0000,  7.4989],\n          [ 0.0000,  5.6488,  4.4491,  ...,  2.2344,  9.9896,  3.1848],\n          [ 0.0000,  0.2239,  4.4357,  ...,  5.9087,  0.0000,  0.8490],\n          ...,\n          [ 1.4178,  0.0000,  9.3616,  ...,  0.8897,  6.4457,  0.2179],\n          [ 2.4254,  0.0000,  0.0000,  ...,  6.8551,  2.0930,  5.8479],\n          [ 4.4903,  0.1232,  0.9024,  ..., 10.9690,  1.5086,  9.8907]]],\n\n\n        [[[ 0.0000,  4.9036,  4.9885,  ...,  3.6938,  7.1447,  5.7808],\n          [ 1.4903,  4.2388,  9.7796,  ...,  0.0000,  3.3015,  1.6471],\n          [ 9.1195,  0.0000,  2.9933,  ...,  0.0000,  0.8935,  1.8073],\n          ...,\n          [ 4.3170,  1.4932,  0.0000,  ...,  2.1433,  3.4383,  5.7284],\n          [ 7.1442, 11.0152,  0.0000,  ...,  0.9844,  0.0000,  0.0000],\n          [ 3.1203,  4.5474,  5.8961,  ...,  6.1050,  0.0000,  1.9243]]],\n\n\n        [[[ 1.8137,  0.0000,  0.0000,  ...,  0.0000,  3.8405,  1.1628],\n          [ 0.0000,  1.5733,  1.0764,  ...,  0.0000,  1.4365,  1.7129],\n          [ 0.0000,  0.0000,  0.4781,  ...,  3.4826,  4.2648,  0.0000],\n          ...,\n          [ 4.2627,  0.3268,  2.2367,  ...,  0.0000,  0.0000,  3.7093],\n          [ 6.2466,  4.7369,  7.1070,  ...,  2.2688,  0.0000,  5.8247],\n          [ 0.0000,  1.5018,  0.0000,  ...,  1.4406,  0.0000,  1.6580]]],\n\n\n        ...,\n\n\n        [[[ 2.7425,  7.8029,  0.0000,  ...,  0.7239,  0.0000,  0.0000],\n          [ 0.0000,  4.5423,  2.1154,  ...,  0.0000,  3.6284,  5.8735],\n          [ 0.0000,  0.0000,  2.1484,  ...,  0.0000,  0.0000,  3.8325],\n          ...,\n          [ 0.0000,  3.6809,  0.0000,  ...,  1.7758,  0.0000,  6.1637],\n          [ 3.6228,  4.6392,  3.0163,  ...,  0.9121,  5.3673,  6.8132],\n          [ 3.5586,  3.7652,  1.3335,  ...,  0.0000,  6.6496,  0.0000]]],\n\n\n        [[[ 2.5033,  3.3326,  2.6954,  ...,  2.3767,  4.2891,  4.4320],\n          [ 0.0000,  0.3468,  1.2668,  ...,  4.0585,  1.8026,  2.5472],\n          [ 6.0020,  1.5130,  8.9904,  ...,  6.6324,  0.0000,  3.7817],\n          ...,\n          [ 5.6655,  0.0000,  0.0000,  ...,  3.1419,  0.0000,  1.3429],\n          [ 2.8069,  3.0513,  9.4921,  ...,  5.6689,  5.3812,  0.8931],\n          [ 2.3090,  3.5934,  4.2744,  ...,  0.0000,  4.5713,  1.7096]]],\n\n\n        [[[ 7.6695,  9.9347,  2.9691,  ...,  0.0000,  0.6845,  0.0000],\n          [ 1.7859,  9.3476,  5.2251,  ...,  5.0698,  0.1342,  7.2559],\n          [ 3.8193,  6.8426,  2.6687,  ...,  3.4620,  0.2959,  3.0779],\n          ...,\n          [ 2.5391,  2.7302,  1.4567,  ...,  1.0544,  0.0000,  4.6802],\n          [ 0.0000,  0.4532,  0.0000,  ...,  0.0000,  5.3342,  2.7940],\n          [ 3.5668,  0.0000,  0.0828,  ...,  1.9880,  0.0000,  2.7743]]]],\n       device='cuda:0', dtype=torch.float64)",
     "output_type": "error",
     "traceback": [
      "\u001b[0;31m---------------------------------------------------------------------------\u001b[0m",
      "\u001b[0;31mValueError\u001b[0m                                Traceback (most recent call last)",
      "Cell \u001b[0;32mIn[57], line 1\u001b[0m\n\u001b[0;32m----> 1\u001b[0m after_dots \u001b[39m=\u001b[39m torch\u001b[39m.\u001b[39mdistributions\u001b[39m.\u001b[39mPoisson(after_dots \u001b[39m*\u001b[39m qe)\u001b[39m.\u001b[39msample()\n",
      "File \u001b[0;32m~/anaconda3/envs/compile_spline/lib/python3.11/site-packages/torch/distributions/poisson.py:50\u001b[0m, in \u001b[0;36mPoisson.__init__\u001b[0;34m(self, rate, validate_args)\u001b[0m\n\u001b[1;32m     48\u001b[0m \u001b[39melse\u001b[39;00m:\n\u001b[1;32m     49\u001b[0m     batch_shape \u001b[39m=\u001b[39m \u001b[39mself\u001b[39m\u001b[39m.\u001b[39mrate\u001b[39m.\u001b[39msize()\n\u001b[0;32m---> 50\u001b[0m \u001b[39msuper\u001b[39m()\u001b[39m.\u001b[39m\u001b[39m__init__\u001b[39m(batch_shape, validate_args\u001b[39m=\u001b[39mvalidate_args)\n",
      "File \u001b[0;32m~/anaconda3/envs/compile_spline/lib/python3.11/site-packages/torch/distributions/distribution.py:62\u001b[0m, in \u001b[0;36mDistribution.__init__\u001b[0;34m(self, batch_shape, event_shape, validate_args)\u001b[0m\n\u001b[1;32m     60\u001b[0m         valid \u001b[39m=\u001b[39m constraint\u001b[39m.\u001b[39mcheck(value)\n\u001b[1;32m     61\u001b[0m         \u001b[39mif\u001b[39;00m \u001b[39mnot\u001b[39;00m valid\u001b[39m.\u001b[39mall():\n\u001b[0;32m---> 62\u001b[0m             \u001b[39mraise\u001b[39;00m \u001b[39mValueError\u001b[39;00m(\n\u001b[1;32m     63\u001b[0m                 \u001b[39mf\u001b[39m\u001b[39m\"\u001b[39m\u001b[39mExpected parameter \u001b[39m\u001b[39m{\u001b[39;00mparam\u001b[39m}\u001b[39;00m\u001b[39m \u001b[39m\u001b[39m\"\u001b[39m\n\u001b[1;32m     64\u001b[0m                 \u001b[39mf\u001b[39m\u001b[39m\"\u001b[39m\u001b[39m(\u001b[39m\u001b[39m{\u001b[39;00m\u001b[39mtype\u001b[39m(value)\u001b[39m.\u001b[39m\u001b[39m__name__\u001b[39m\u001b[39m}\u001b[39;00m\u001b[39m of shape \u001b[39m\u001b[39m{\u001b[39;00m\u001b[39mtuple\u001b[39m(value\u001b[39m.\u001b[39mshape)\u001b[39m}\u001b[39;00m\u001b[39m) \u001b[39m\u001b[39m\"\u001b[39m\n\u001b[1;32m     65\u001b[0m                 \u001b[39mf\u001b[39m\u001b[39m\"\u001b[39m\u001b[39mof distribution \u001b[39m\u001b[39m{\u001b[39;00m\u001b[39mrepr\u001b[39m(\u001b[39mself\u001b[39m)\u001b[39m}\u001b[39;00m\u001b[39m \u001b[39m\u001b[39m\"\u001b[39m\n\u001b[1;32m     66\u001b[0m                 \u001b[39mf\u001b[39m\u001b[39m\"\u001b[39m\u001b[39mto satisfy the constraint \u001b[39m\u001b[39m{\u001b[39;00m\u001b[39mrepr\u001b[39m(constraint)\u001b[39m}\u001b[39;00m\u001b[39m, \u001b[39m\u001b[39m\"\u001b[39m\n\u001b[1;32m     67\u001b[0m                 \u001b[39mf\u001b[39m\u001b[39m\"\u001b[39m\u001b[39mbut found invalid values:\u001b[39m\u001b[39m\\n\u001b[39;00m\u001b[39m{\u001b[39;00mvalue\u001b[39m}\u001b[39;00m\u001b[39m\"\u001b[39m\n\u001b[1;32m     68\u001b[0m             )\n\u001b[1;32m     69\u001b[0m \u001b[39msuper\u001b[39m()\u001b[39m.\u001b[39m\u001b[39m__init__\u001b[39m()\n",
      "\u001b[0;31mValueError\u001b[0m: Expected parameter rate (Tensor of shape (30, 1, 1041, 1302)) of distribution Poisson(rate: torch.Size([30, 1, 1041, 1302])) to satisfy the constraint GreaterThanEq(lower_bound=0.0), but found invalid values:\ntensor([[[[ 3.6433,  0.0000,  2.6589,  ...,  2.1402,  0.0000,  7.4989],\n          [ 0.0000,  5.6488,  4.4491,  ...,  2.2344,  9.9896,  3.1848],\n          [ 0.0000,  0.2239,  4.4357,  ...,  5.9087,  0.0000,  0.8490],\n          ...,\n          [ 1.4178,  0.0000,  9.3616,  ...,  0.8897,  6.4457,  0.2179],\n          [ 2.4254,  0.0000,  0.0000,  ...,  6.8551,  2.0930,  5.8479],\n          [ 4.4903,  0.1232,  0.9024,  ..., 10.9690,  1.5086,  9.8907]]],\n\n\n        [[[ 0.0000,  4.9036,  4.9885,  ...,  3.6938,  7.1447,  5.7808],\n          [ 1.4903,  4.2388,  9.7796,  ...,  0.0000,  3.3015,  1.6471],\n          [ 9.1195,  0.0000,  2.9933,  ...,  0.0000,  0.8935,  1.8073],\n          ...,\n          [ 4.3170,  1.4932,  0.0000,  ...,  2.1433,  3.4383,  5.7284],\n          [ 7.1442, 11.0152,  0.0000,  ...,  0.9844,  0.0000,  0.0000],\n          [ 3.1203,  4.5474,  5.8961,  ...,  6.1050,  0.0000,  1.9243]]],\n\n\n        [[[ 1.8137,  0.0000,  0.0000,  ...,  0.0000,  3.8405,  1.1628],\n          [ 0.0000,  1.5733,  1.0764,  ...,  0.0000,  1.4365,  1.7129],\n          [ 0.0000,  0.0000,  0.4781,  ...,  3.4826,  4.2648,  0.0000],\n          ...,\n          [ 4.2627,  0.3268,  2.2367,  ...,  0.0000,  0.0000,  3.7093],\n          [ 6.2466,  4.7369,  7.1070,  ...,  2.2688,  0.0000,  5.8247],\n          [ 0.0000,  1.5018,  0.0000,  ...,  1.4406,  0.0000,  1.6580]]],\n\n\n        ...,\n\n\n        [[[ 2.7425,  7.8029,  0.0000,  ...,  0.7239,  0.0000,  0.0000],\n          [ 0.0000,  4.5423,  2.1154,  ...,  0.0000,  3.6284,  5.8735],\n          [ 0.0000,  0.0000,  2.1484,  ...,  0.0000,  0.0000,  3.8325],\n          ...,\n          [ 0.0000,  3.6809,  0.0000,  ...,  1.7758,  0.0000,  6.1637],\n          [ 3.6228,  4.6392,  3.0163,  ...,  0.9121,  5.3673,  6.8132],\n          [ 3.5586,  3.7652,  1.3335,  ...,  0.0000,  6.6496,  0.0000]]],\n\n\n        [[[ 2.5033,  3.3326,  2.6954,  ...,  2.3767,  4.2891,  4.4320],\n          [ 0.0000,  0.3468,  1.2668,  ...,  4.0585,  1.8026,  2.5472],\n          [ 6.0020,  1.5130,  8.9904,  ...,  6.6324,  0.0000,  3.7817],\n          ...,\n          [ 5.6655,  0.0000,  0.0000,  ...,  3.1419,  0.0000,  1.3429],\n          [ 2.8069,  3.0513,  9.4921,  ...,  5.6689,  5.3812,  0.8931],\n          [ 2.3090,  3.5934,  4.2744,  ...,  0.0000,  4.5713,  1.7096]]],\n\n\n        [[[ 7.6695,  9.9347,  2.9691,  ...,  0.0000,  0.6845,  0.0000],\n          [ 1.7859,  9.3476,  5.2251,  ...,  5.0698,  0.1342,  7.2559],\n          [ 3.8193,  6.8426,  2.6687,  ...,  3.4620,  0.2959,  3.0779],\n          ...,\n          [ 2.5391,  2.7302,  1.4567,  ...,  1.0544,  0.0000,  4.6802],\n          [ 0.0000,  0.4532,  0.0000,  ...,  0.0000,  5.3342,  2.7940],\n          [ 3.5668,  0.0000,  0.0828,  ...,  1.9880,  0.0000,  2.7743]]]],\n       device='cuda:0', dtype=torch.float64)"
     ]
    }
   ],
   "source": [
    "after_dots = torch.distributions.Poisson(after_dots * qe).sample()"
   ]
  },
  {
   "cell_type": "code",
   "execution_count": 58,
   "id": "22929af4",
   "metadata": {},
   "outputs": [],
   "source": [
    "zeros = torch.zeros_like(after_dots)"
   ]
  },
  {
   "cell_type": "code",
   "execution_count": 59,
   "id": "70216e27",
   "metadata": {},
   "outputs": [],
   "source": [
    "readout_noise = torch.distributions.Normal(zeros, zeros + RN).sample()"
   ]
  },
  {
   "cell_type": "code",
   "execution_count": 60,
   "id": "f4bef6f1",
   "metadata": {},
   "outputs": [],
   "source": [
    "after_dots = after_dots + readout_noise"
   ]
  },
  {
   "cell_type": "code",
   "execution_count": 61,
   "id": "dd429778",
   "metadata": {},
   "outputs": [],
   "source": [
    "final_dots_for_net = torch.clamp((after_dots/ e_per_adu) + baseline, min=0)"
   ]
  },
  {
   "cell_type": "code",
   "execution_count": 62,
   "id": "6d0cd7cd",
   "metadata": {},
   "outputs": [],
   "source": [
    "index = 0\n",
    "fig, ax = plt.subplots(nrows=1, ncols=6)\n",
    "ax[0].imshow(sample[index].cpu().numpy(), cmap='gray')\n",
    "ax[0].set_title('Sampled background ADU')\n",
    "ax[1].imshow(cell_masks_batch[index])\n",
    "ax[1].set_title('Cell mask sampled')\n",
    "ax[2].imshow(imgs_sim[index, 0].cpu().numpy())\n",
    "ax[2].set_title('Simulated PSFs')\n",
    "#ax[3].imshow(S[index, 0].cpu().numpy())\n",
    "#ax[3].set_title('Emitter pixel locs')\n",
    "ax[3].imshow(I[index, 0].cpu().numpy() * psf_params['photon_scale'])\n",
    "ax[3].set_title('Intensity values')\n",
    "ax[4].imshow(after_dots[index][0].cpu().numpy(), cmap='gray')\n",
    "ax[4].set_title('After overlaying dots (photons)')\n",
    "ax[5].imshow(final_dots_for_net[index][0].cpu().numpy(), cmap='gray')\n",
    "ax[5].set_title('After camer noise (ADU)')\n",
    "plt.tight_layout()\n",
    "plt.show()"
   ]
  },
  {
   "cell_type": "code",
   "execution_count": 63,
   "id": "d7f66fc3",
   "metadata": {},
   "outputs": [],
   "source": [
    "plt.figure()\n",
    "plt.imshow(final_dots_for_net[index][0].cpu().numpy(), cmap='gray')\n",
    "plt.show()"
   ]
  },
  {
   "cell_type": "code",
   "execution_count": null,
   "id": "52c34f9c",
   "metadata": {},
   "outputs": [],
   "source": []
  },
  {
   "cell_type": "code",
   "execution_count": null,
   "id": "df8b8b55",
   "metadata": {},
   "outputs": [],
   "source": []
  },
  {
   "cell_type": "code",
   "execution_count": 72,
   "id": "98ec5388",
   "metadata": {},
   "outputs": [],
   "source": [
    "index = 3\n",
    "plt.figure()\n",
    "plt.imshow(final_dots_for_net[index][0].cpu().numpy(), cmap='gray', vmin=80, vmax=300)\n",
    "plt.colorbar()\n",
    "plt.show()"
   ]
  },
  {
   "cell_type": "code",
   "execution_count": 70,
   "id": "b6d7b6f4",
   "metadata": {},
   "outputs": [
    {
     "data": {
      "text/plain": [
       "304.7641911094785"
      ]
     },
     "execution_count": 70,
     "metadata": {},
     "output_type": "execute_result"
    }
   ],
   "source": [
    "final_dots_for_net[index][0].cpu().numpy().max()"
   ]
  },
  {
   "cell_type": "code",
   "execution_count": 66,
   "id": "84141459",
   "metadata": {},
   "outputs": [
    {
     "data": {
      "text/plain": [
       "76.21392442269159"
      ]
     },
     "execution_count": 66,
     "metadata": {},
     "output_type": "execute_result"
    }
   ],
   "source": [
    "final_dots_for_net[index][0].cpu().numpy().min()"
   ]
  },
  {
   "cell_type": "code",
   "execution_count": 68,
   "id": "4f365942",
   "metadata": {},
   "outputs": [
    {
     "data": {
      "text/plain": [
       "torch.Size([30, 1, 1041, 1302])"
      ]
     },
     "execution_count": 68,
     "metadata": {},
     "output_type": "execute_result"
    }
   ],
   "source": [
    "final_dots_for_net.shape"
   ]
  },
  {
   "cell_type": "code",
   "execution_count": null,
   "id": "d80806c9",
   "metadata": {},
   "outputs": [],
   "source": []
  },
  {
   "cell_type": "code",
   "execution_count": null,
   "id": "884ad6fe",
   "metadata": {},
   "outputs": [],
   "source": []
  }
 ],
 "metadata": {
  "kernelspec": {
   "display_name": "compile_spline",
   "language": "python",
   "name": "compile_spline"
  },
  "language_info": {
   "codemirror_mode": {
    "name": "ipython",
    "version": 3
   },
   "file_extension": ".py",
   "mimetype": "text/x-python",
   "name": "python",
   "nbconvert_exporter": "python",
   "pygments_lexer": "ipython3",
   "version": "3.11.3"
  }
 },
 "nbformat": 4,
 "nbformat_minor": 5
}
