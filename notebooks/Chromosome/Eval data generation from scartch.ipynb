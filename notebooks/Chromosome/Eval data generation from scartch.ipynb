{
 "cells": [
  {
   "cell_type": "code",
   "execution_count": 80,
   "id": "acf1612c",
   "metadata": {},
   "outputs": [],
   "source": [
    "%reload_ext autoreload\n",
    "%autoreload 2\n",
    "#%reload_ext notexbook'\n",
    "#%texify"
   ]
  },
  {
   "attachments": {},
   "cell_type": "markdown",
   "id": "79ca0edf",
   "metadata": {},
   "source": [
    "#### Generating Evaluation data using 30 random segmentation masks"
   ]
  },
  {
   "cell_type": "code",
   "execution_count": 81,
   "id": "c65196de",
   "metadata": {},
   "outputs": [],
   "source": [
    "import numpy as np\n",
    "import matplotlib.pyplot as plt\n",
    "import torch\n",
    "\n",
    "import os\n",
    "\n",
    "os.chdir('/home/axtr7550/Chromosome_project/cellbgnet/')\n",
    "import cellbgnet\n",
    "import cellbgnet.utils\n",
    "\n",
    "from cellbgnet.datasets import DataSimulator\n",
    "from cellbgnet.utils.hardware import cpu, gpu\n",
    "from cellbgnet.model import CellBGModel\n",
    "from cellbgnet.simulation.psf_kernel import SMAPSplineCoefficient\n",
    "from cellbgnet.generic.emitter import EmitterSet\n",
    "from cellbgnet.train_loss_infer import generate_probmap_cells\n",
    "\n",
    "os.chdir('/home/axtr7550/Chromosome_project/cellbgnet/notebooks')\n",
    "\n",
    "from skimage.io import imread\n",
    "from skimage.measure import label\n",
    "import random\n",
    "import edt\n",
    "from skimage.filters import gaussian\n",
    "from scipy.ndimage import rotate\n",
    "import random\n",
    "import pickle\n",
    "import pathlib\n",
    "from pathlib import Path\n",
    "%matplotlib qt5"
   ]
  },
  {
   "cell_type": "code",
   "execution_count": 82,
   "id": "95de9359",
   "metadata": {},
   "outputs": [],
   "source": [
    "param_file = '../cellbgnet/utils/reference_files/reference.yaml'\n",
    "param = cellbgnet.utils.param_io.ParamHandling().load_params(param_file)"
   ]
  },
  {
   "cell_type": "code",
   "execution_count": 83,
   "id": "a662ab27",
   "metadata": {},
   "outputs": [],
   "source": [
    "psf_params = param.PSF.to_dict()\n",
    "simulation_params = param.Simulation.to_dict()\n",
    "hardware_params = param.Hardware.to_dict()\n",
    "train_size = simulation_params['train_size']"
   ]
  },
  {
   "cell_type": "code",
   "execution_count": 84,
   "id": "1c1d693c",
   "metadata": {},
   "outputs": [],
   "source": [
    "with open(param.Simulation.edt_noise_map_path, 'rb') as fp:\n",
    "    edt_noise_map = pickle.load(fp)"
   ]
  },
  {
   "cell_type": "code",
   "execution_count": 85,
   "id": "6fdb2beb",
   "metadata": {},
   "outputs": [
    {
     "name": "stdout",
     "output_type": "stream",
     "text": [
      "INITIATING CUDA IMPLEMENTATION\n",
      "training sliding windows on camera chip:\n",
      "Area num: 0, field_xy: [0, 127, 0, 127]\n",
      "Area num: 1, field_xy: [114, 241, 0, 127]\n",
      "Area num: 2, field_xy: [228, 355, 0, 127]\n",
      "Area num: 3, field_xy: [342, 469, 0, 127]\n",
      "Area num: 4, field_xy: [456, 583, 0, 127]\n",
      "Area num: 5, field_xy: [570, 697, 0, 127]\n",
      "Area num: 6, field_xy: [684, 811, 0, 127]\n",
      "Area num: 7, field_xy: [798, 925, 0, 127]\n",
      "Area num: 8, field_xy: [912, 1039, 0, 127]\n",
      "Area num: 9, field_xy: [1026, 1153, 0, 127]\n",
      "Area num: 10, field_xy: [1140, 1267, 0, 127]\n",
      "Area num: 11, field_xy: [1174, 1301, 0, 127]\n",
      "Area num: 12, field_xy: [0, 127, 114, 241]\n",
      "Area num: 13, field_xy: [114, 241, 114, 241]\n",
      "Area num: 14, field_xy: [228, 355, 114, 241]\n",
      "Area num: 15, field_xy: [342, 469, 114, 241]\n",
      "Area num: 16, field_xy: [456, 583, 114, 241]\n",
      "Area num: 17, field_xy: [570, 697, 114, 241]\n",
      "Area num: 18, field_xy: [684, 811, 114, 241]\n",
      "Area num: 19, field_xy: [798, 925, 114, 241]\n",
      "Area num: 20, field_xy: [912, 1039, 114, 241]\n",
      "Area num: 21, field_xy: [1026, 1153, 114, 241]\n",
      "Area num: 22, field_xy: [1140, 1267, 114, 241]\n",
      "Area num: 23, field_xy: [1174, 1301, 114, 241]\n",
      "Area num: 24, field_xy: [0, 127, 228, 355]\n",
      "Area num: 25, field_xy: [114, 241, 228, 355]\n",
      "Area num: 26, field_xy: [228, 355, 228, 355]\n",
      "Area num: 27, field_xy: [342, 469, 228, 355]\n",
      "Area num: 28, field_xy: [456, 583, 228, 355]\n",
      "Area num: 29, field_xy: [570, 697, 228, 355]\n",
      "Area num: 30, field_xy: [684, 811, 228, 355]\n",
      "Area num: 31, field_xy: [798, 925, 228, 355]\n",
      "Area num: 32, field_xy: [912, 1039, 228, 355]\n",
      "Area num: 33, field_xy: [1026, 1153, 228, 355]\n",
      "Area num: 34, field_xy: [1140, 1267, 228, 355]\n",
      "Area num: 35, field_xy: [1174, 1301, 228, 355]\n",
      "Area num: 36, field_xy: [0, 127, 342, 469]\n",
      "Area num: 37, field_xy: [114, 241, 342, 469]\n",
      "Area num: 38, field_xy: [228, 355, 342, 469]\n",
      "Area num: 39, field_xy: [342, 469, 342, 469]\n",
      "Area num: 40, field_xy: [456, 583, 342, 469]\n",
      "Area num: 41, field_xy: [570, 697, 342, 469]\n",
      "Area num: 42, field_xy: [684, 811, 342, 469]\n",
      "Area num: 43, field_xy: [798, 925, 342, 469]\n",
      "Area num: 44, field_xy: [912, 1039, 342, 469]\n",
      "Area num: 45, field_xy: [1026, 1153, 342, 469]\n",
      "Area num: 46, field_xy: [1140, 1267, 342, 469]\n",
      "Area num: 47, field_xy: [1174, 1301, 342, 469]\n",
      "Area num: 48, field_xy: [0, 127, 456, 583]\n",
      "Area num: 49, field_xy: [114, 241, 456, 583]\n",
      "Area num: 50, field_xy: [228, 355, 456, 583]\n",
      "Area num: 51, field_xy: [342, 469, 456, 583]\n",
      "Area num: 52, field_xy: [456, 583, 456, 583]\n",
      "Area num: 53, field_xy: [570, 697, 456, 583]\n",
      "Area num: 54, field_xy: [684, 811, 456, 583]\n",
      "Area num: 55, field_xy: [798, 925, 456, 583]\n",
      "Area num: 56, field_xy: [912, 1039, 456, 583]\n",
      "Area num: 57, field_xy: [1026, 1153, 456, 583]\n",
      "Area num: 58, field_xy: [1140, 1267, 456, 583]\n",
      "Area num: 59, field_xy: [1174, 1301, 456, 583]\n",
      "Area num: 60, field_xy: [0, 127, 570, 697]\n",
      "Area num: 61, field_xy: [114, 241, 570, 697]\n",
      "Area num: 62, field_xy: [228, 355, 570, 697]\n",
      "Area num: 63, field_xy: [342, 469, 570, 697]\n",
      "Area num: 64, field_xy: [456, 583, 570, 697]\n",
      "Area num: 65, field_xy: [570, 697, 570, 697]\n",
      "Area num: 66, field_xy: [684, 811, 570, 697]\n",
      "Area num: 67, field_xy: [798, 925, 570, 697]\n",
      "Area num: 68, field_xy: [912, 1039, 570, 697]\n",
      "Area num: 69, field_xy: [1026, 1153, 570, 697]\n",
      "Area num: 70, field_xy: [1140, 1267, 570, 697]\n",
      "Area num: 71, field_xy: [1174, 1301, 570, 697]\n",
      "Area num: 72, field_xy: [0, 127, 684, 811]\n",
      "Area num: 73, field_xy: [114, 241, 684, 811]\n",
      "Area num: 74, field_xy: [228, 355, 684, 811]\n",
      "Area num: 75, field_xy: [342, 469, 684, 811]\n",
      "Area num: 76, field_xy: [456, 583, 684, 811]\n",
      "Area num: 77, field_xy: [570, 697, 684, 811]\n",
      "Area num: 78, field_xy: [684, 811, 684, 811]\n",
      "Area num: 79, field_xy: [798, 925, 684, 811]\n",
      "Area num: 80, field_xy: [912, 1039, 684, 811]\n",
      "Area num: 81, field_xy: [1026, 1153, 684, 811]\n",
      "Area num: 82, field_xy: [1140, 1267, 684, 811]\n",
      "Area num: 83, field_xy: [1174, 1301, 684, 811]\n",
      "Area num: 84, field_xy: [0, 127, 798, 925]\n",
      "Area num: 85, field_xy: [114, 241, 798, 925]\n",
      "Area num: 86, field_xy: [228, 355, 798, 925]\n",
      "Area num: 87, field_xy: [342, 469, 798, 925]\n",
      "Area num: 88, field_xy: [456, 583, 798, 925]\n",
      "Area num: 89, field_xy: [570, 697, 798, 925]\n",
      "Area num: 90, field_xy: [684, 811, 798, 925]\n",
      "Area num: 91, field_xy: [798, 925, 798, 925]\n",
      "Area num: 92, field_xy: [912, 1039, 798, 925]\n",
      "Area num: 93, field_xy: [1026, 1153, 798, 925]\n",
      "Area num: 94, field_xy: [1140, 1267, 798, 925]\n",
      "Area num: 95, field_xy: [1174, 1301, 798, 925]\n",
      "Area num: 96, field_xy: [0, 127, 912, 1039]\n",
      "Area num: 97, field_xy: [114, 241, 912, 1039]\n",
      "Area num: 98, field_xy: [228, 355, 912, 1039]\n",
      "Area num: 99, field_xy: [342, 469, 912, 1039]\n",
      "Area num: 100, field_xy: [456, 583, 912, 1039]\n",
      "Area num: 101, field_xy: [570, 697, 912, 1039]\n",
      "Area num: 102, field_xy: [684, 811, 912, 1039]\n",
      "Area num: 103, field_xy: [798, 925, 912, 1039]\n",
      "Area num: 104, field_xy: [912, 1039, 912, 1039]\n",
      "Area num: 105, field_xy: [1026, 1153, 912, 1039]\n",
      "Area num: 106, field_xy: [1140, 1267, 912, 1039]\n",
      "Area num: 107, field_xy: [1174, 1301, 912, 1039]\n",
      "Area num: 108, field_xy: [0, 127, 913, 1040]\n",
      "Area num: 109, field_xy: [114, 241, 913, 1040]\n",
      "Area num: 110, field_xy: [228, 355, 913, 1040]\n",
      "Area num: 111, field_xy: [342, 469, 913, 1040]\n",
      "Area num: 112, field_xy: [456, 583, 913, 1040]\n",
      "Area num: 113, field_xy: [570, 697, 913, 1040]\n",
      "Area num: 114, field_xy: [684, 811, 913, 1040]\n",
      "Area num: 115, field_xy: [798, 925, 913, 1040]\n",
      "Area num: 116, field_xy: [912, 1039, 913, 1040]\n",
      "Area num: 117, field_xy: [1026, 1153, 913, 1040]\n",
      "Area num: 118, field_xy: [1140, 1267, 913, 1040]\n",
      "Area num: 119, field_xy: [1174, 1301, 913, 1040]\n"
     ]
    }
   ],
   "source": [
    "model = cellbgnet.model.CellBGModel(param)"
   ]
  },
  {
   "attachments": {},
   "cell_type": "markdown",
   "id": "9cef7c08",
   "metadata": {},
   "source": [
    "#### Read 30 random segmentation masks"
   ]
  },
  {
   "cell_type": "code",
   "execution_count": 86,
   "id": "d36a5097",
   "metadata": {},
   "outputs": [],
   "source": [
    "filenames = model.data_generator.cell_mask_filenames\n"
   ]
  },
  {
   "cell_type": "code",
   "execution_count": 87,
   "id": "43fd413d",
   "metadata": {},
   "outputs": [],
   "source": [
    "random_filenames = random.choices(filenames, k=1)"
   ]
  },
  {
   "cell_type": "code",
   "execution_count": 88,
   "id": "8d691e01",
   "metadata": {},
   "outputs": [],
   "source": [
    "cell_masks = []\n",
    "for i, file in enumerate(random_filenames,0):\n",
    "    img = imread(file)\n",
    "    #img = rotate(img, random_angles[i], reshape=False)\n",
    "    cell_masks.append(img)"
   ]
  },
  {
   "cell_type": "code",
   "execution_count": 89,
   "id": "d20023f8",
   "metadata": {},
   "outputs": [
    {
     "data": {
      "text/plain": [
       "(1041, 1302)"
      ]
     },
     "execution_count": 89,
     "metadata": {},
     "output_type": "execute_result"
    }
   ],
   "source": [
    "img.shape"
   ]
  },
  {
   "cell_type": "code",
   "execution_count": 90,
   "id": "47864a30",
   "metadata": {},
   "outputs": [],
   "source": [
    "cell_masks_batch = np.stack(cell_masks)"
   ]
  },
  {
   "cell_type": "code",
   "execution_count": 91,
   "id": "d15047da",
   "metadata": {},
   "outputs": [
    {
     "data": {
      "text/plain": [
       "(1, 1041, 1302)"
      ]
     },
     "execution_count": 91,
     "metadata": {},
     "output_type": "execute_result"
    }
   ],
   "source": [
    "cell_masks_batch.shape"
   ]
  },
  {
   "cell_type": "code",
   "execution_count": 92,
   "id": "502414ab",
   "metadata": {},
   "outputs": [],
   "source": [
    "plt.figure()\n",
    "plt.imshow(cell_masks_batch[0])\n",
    "plt.show()"
   ]
  },
  {
   "cell_type": "code",
   "execution_count": 93,
   "id": "d1e842de",
   "metadata": {},
   "outputs": [],
   "source": [
    "prob_map = (cell_masks_batch > 0) * 0.003125"
   ]
  },
  {
   "cell_type": "code",
   "execution_count": 94,
   "id": "b0c340f6",
   "metadata": {},
   "outputs": [],
   "source": [
    "plt.figure()\n",
    "plt.imshow(prob_map[0])\n",
    "plt.show()"
   ]
  },
  {
   "cell_type": "code",
   "execution_count": 95,
   "id": "95f68685",
   "metadata": {},
   "outputs": [
    {
     "name": "stdout",
     "output_type": "stream",
     "text": [
      "INITIATING CUDA IMPLEMENTATION\n"
     ]
    }
   ],
   "source": [
    "data_gen = DataSimulator(psf_params, simulation_params, hardware_params)"
   ]
  },
  {
   "cell_type": "code",
   "execution_count": 96,
   "id": "3cbd31a6",
   "metadata": {},
   "outputs": [],
   "source": [
    "S, X_os, Y_os, Z, I, field_xy = data_gen.sampling(batch_size=1, prob_map=gpu(prob_map), local_context=None,\n",
    "                                                  iter_num=None)"
   ]
  },
  {
   "cell_type": "code",
   "execution_count": 97,
   "id": "6277898d",
   "metadata": {},
   "outputs": [
    {
     "data": {
      "text/plain": [
       "torch.Size([1, 1, 1041, 1302])"
      ]
     },
     "execution_count": 97,
     "metadata": {},
     "output_type": "execute_result"
    }
   ],
   "source": [
    "S.shape"
   ]
  },
  {
   "cell_type": "code",
   "execution_count": 98,
   "id": "c4ff5595",
   "metadata": {},
   "outputs": [],
   "source": [
    "plt.figure()\n",
    "plt.imshow(S[0][0].cpu().numpy())\n",
    "plt.show()"
   ]
  },
  {
   "cell_type": "code",
   "execution_count": 99,
   "id": "1ff98cad",
   "metadata": {},
   "outputs": [],
   "source": [
    "index = 0\n",
    "fig, ax = plt.subplots(nrows=1, ncols=6)\n",
    "ax[0].imshow(S[index][0].cpu().numpy())\n",
    "ax[0].set_title('Dot location')\n",
    "x_os_img = ax[1].imshow(X_os[index][0].cpu().numpy())\n",
    "ax[1].set_title('X offset')\n",
    "#fig.colorbar(x_os_img, ax=ax[1])\n",
    "y_os_img = ax[2].imshow(Y_os[index][0].cpu().numpy())\n",
    "ax[2].set_title('Y offset')\n",
    "#fig.colorbar(y_os_img, ax=ax[2])\n",
    "z_vals_img = ax[3].imshow(Z[index][0].cpu().numpy())\n",
    "ax[3].set_title('Z value')\n",
    "#fig.colorbar(z_vals_img, ax=ax[3])\n",
    "i_vals_img = ax[4].imshow(I[index][0].cpu().numpy())\n",
    "ax[4].set_title('Intensity Value')\n",
    "#fig.colorbar(i_vals_img, ax=ax[4])\n",
    "ax[5].imshow(cell_masks_batch[index])\n",
    "ax[5].set_title('cell mask')\n",
    "plt.show()"
   ]
  },
  {
   "cell_type": "code",
   "execution_count": 100,
   "id": "cce58585",
   "metadata": {},
   "outputs": [],
   "source": [
    "imgs_sim = data_gen.simulate_psfs(S, X_os, Y_os, Z, I)\n",
    "#6 seconds on cuda for 128"
   ]
  },
  {
   "cell_type": "code",
   "execution_count": 101,
   "id": "83002719",
   "metadata": {},
   "outputs": [],
   "source": [
    "#imgs_sim.to('cpu');\n",
    "#torch.cuda.empty_cache()"
   ]
  },
  {
   "cell_type": "code",
   "execution_count": 103,
   "id": "cf8962a8",
   "metadata": {},
   "outputs": [],
   "source": [
    "index = 0\n",
    "fig, ax = plt.subplots(nrows=1, ncols=5)\n",
    "ax[0].imshow(prob_map[index])\n",
    "ax[0].set_title('Probabilty map')\n",
    "ax[1].imshow(cell_masks_batch[index])\n",
    "ax[1].set_title('Cell mask sampled')\n",
    "ax[2].imshow(imgs_sim[index, 0].cpu().numpy())\n",
    "ax[2].set_title('Simulated PSFs')\n",
    "ax[3].imshow(S[index, 0].cpu().numpy())\n",
    "ax[3].set_title('Emitter pixel locs')\n",
    "ax[4].imshow(I[index, 0].cpu().numpy() * psf_params['photon_scale'])\n",
    "ax[4].set_title('Intensity values')\n",
    "plt.show()"
   ]
  },
  {
   "cell_type": "code",
   "execution_count": 104,
   "id": "6da9761c",
   "metadata": {},
   "outputs": [
    {
     "data": {
      "text/plain": [
       "torch.Size([1, 1, 1041, 1302])"
      ]
     },
     "execution_count": 104,
     "metadata": {},
     "output_type": "execute_result"
    }
   ],
   "source": [
    "S.shape"
   ]
  },
  {
   "cell_type": "code",
   "execution_count": 105,
   "id": "b763b5f3",
   "metadata": {},
   "outputs": [],
   "source": [
    "xyzi = torch.cat([X_os[:, :, None], Y_os[:, :, None], Z[:, :, None], I[:, :, None]], 2)\n",
    "xyzi = xyzi[:, 0]"
   ]
  },
  {
   "cell_type": "code",
   "execution_count": 106,
   "id": "c3a0dcb1",
   "metadata": {},
   "outputs": [],
   "source": [
    "S = S[:, 0]"
   ]
  },
  {
   "cell_type": "code",
   "execution_count": 107,
   "id": "ada7622b",
   "metadata": {},
   "outputs": [],
   "source": [
    "s_inds = tuple(S.nonzero().transpose(1, 0))\n",
    "# get these molecules' sub-pixel xy offsets, z positions and photons\n",
    "xyzi_true = xyzi[s_inds[0], :, s_inds[1], s_inds[2]]"
   ]
  },
  {
   "cell_type": "code",
   "execution_count": 108,
   "id": "29ca4df0",
   "metadata": {},
   "outputs": [
    {
     "data": {
      "text/plain": [
       "tensor([[ 0.0616, -0.1612,  0.8130,  0.2678],\n",
       "        [-0.0990,  0.3908, -0.7039,  0.7200],\n",
       "        [-0.3590,  0.2523,  0.8704,  0.5014],\n",
       "        ...,\n",
       "        [-0.0257, -0.2856, -0.0415,  0.9694],\n",
       "        [ 0.1294, -0.1374, -0.8576,  0.6913],\n",
       "        [-0.1233,  0.3096,  0.3633,  0.5354]], device='cuda:0')"
      ]
     },
     "execution_count": 108,
     "metadata": {},
     "output_type": "execute_result"
    }
   ],
   "source": [
    "xyzi_true"
   ]
  },
  {
   "cell_type": "code",
   "execution_count": 109,
   "id": "b2287a44",
   "metadata": {},
   "outputs": [],
   "source": [
    "xyzi_true[:, 0] += s_inds[2] + 0.5"
   ]
  },
  {
   "cell_type": "code",
   "execution_count": 110,
   "id": "4fd3dfc8",
   "metadata": {},
   "outputs": [],
   "source": [
    "xyzi_true[:, 1] += s_inds[1] + 0.5"
   ]
  },
  {
   "cell_type": "code",
   "execution_count": 111,
   "id": "6b780331",
   "metadata": {},
   "outputs": [],
   "source": [
    "pos_tar = xyzi_true[:, :3]"
   ]
  },
  {
   "cell_type": "code",
   "execution_count": 112,
   "id": "826f184c",
   "metadata": {},
   "outputs": [
    {
     "data": {
      "text/plain": [
       "torch.Size([353, 3])"
      ]
     },
     "execution_count": 112,
     "metadata": {},
     "output_type": "execute_result"
    }
   ],
   "source": [
    "pos_tar.shape"
   ]
  },
  {
   "cell_type": "code",
   "execution_count": 113,
   "id": "80d56c5c",
   "metadata": {},
   "outputs": [],
   "source": [
    "pos_tar[:, 2] *= 500"
   ]
  },
  {
   "cell_type": "code",
   "execution_count": 114,
   "id": "e0e1919d",
   "metadata": {},
   "outputs": [
    {
     "data": {
      "text/plain": [
       "tensor([[ 565.5616,   99.3388,  406.5049],\n",
       "        [ 780.4010,   99.8908, -351.9264],\n",
       "        [1039.1410,  100.7523,  435.1767],\n",
       "        ...,\n",
       "        [ 558.4743,  998.2144,  -20.7447],\n",
       "        [ 556.6295, 1000.3625, -428.8164],\n",
       "        [ 528.3767, 1001.8096,  181.6270]], device='cuda:0')"
      ]
     },
     "execution_count": 114,
     "metadata": {},
     "output_type": "execute_result"
    }
   ],
   "source": [
    "pos_tar"
   ]
  },
  {
   "cell_type": "code",
   "execution_count": 115,
   "id": "e16bf722",
   "metadata": {},
   "outputs": [
    {
     "data": {
      "text/plain": [
       "tensor(0.2678, device='cuda:0')"
      ]
     },
     "execution_count": 115,
     "metadata": {},
     "output_type": "execute_result"
    }
   ],
   "source": [
    "xyzi_true[0, 3]"
   ]
  },
  {
   "cell_type": "code",
   "execution_count": 117,
   "id": "b14b7d70",
   "metadata": {},
   "outputs": [
    {
     "ename": "type",
     "evalue": "name 'single_psfs' is not defined",
     "output_type": "error",
     "traceback": [
      "\u001b[0;31m---------------------------------------------------------------------------\u001b[0m",
      "\u001b[0;31mNameError\u001b[0m                                 Traceback (most recent call last)",
      "Cell \u001b[0;32mIn[117], line 2\u001b[0m\n\u001b[1;32m      1\u001b[0m plt\u001b[39m.\u001b[39mfigure()\n\u001b[0;32m----> 2\u001b[0m plt\u001b[39m.\u001b[39mimshow((single_psfs[\u001b[39m0\u001b[39m] \u001b[39m*\u001b[39m \u001b[39m0.3924\u001b[39m \u001b[39m*\u001b[39m  \u001b[39m3000\u001b[39m)\u001b[39m.\u001b[39mnumpy())\n\u001b[1;32m      3\u001b[0m plt\u001b[39m.\u001b[39mshow()\n",
      "\u001b[0;31mNameError\u001b[0m: name 'single_psfs' is not defined"
     ]
    }
   ],
   "source": [
    "plt.figure()\n",
    "plt.imshow((single_psfs[0] * 0.3924 *  3000).numpy())\n",
    "plt.show()"
   ]
  },
  {
   "cell_type": "code",
   "execution_count": null,
   "id": "dd53422e",
   "metadata": {},
   "outputs": [],
   "source": []
  },
  {
   "cell_type": "code",
   "execution_count": 118,
   "id": "21fa7b00",
   "metadata": {},
   "outputs": [],
   "source": [
    "from cellbgnet.utils.plot_funcs import PlotFrameCoord"
   ]
  },
  {
   "cell_type": "code",
   "execution_count": 119,
   "id": "f288c093",
   "metadata": {},
   "outputs": [
    {
     "data": {
      "text/plain": [
       "torch.Size([1, 1, 1041, 1302])"
      ]
     },
     "execution_count": 119,
     "metadata": {},
     "output_type": "execute_result"
    }
   ],
   "source": [
    "imgs_sim.shape"
   ]
  },
  {
   "cell_type": "code",
   "execution_count": 120,
   "id": "3ef0ee5e",
   "metadata": {},
   "outputs": [],
   "source": [
    "plt.figure()\n",
    "PlotFrameCoord(imgs_sim[0].cpu(), pos_tar=pos_tar.cpu(),plot_colorbar_frame=True, annotate_tar_z=True).plot()\n",
    "plt.show()"
   ]
  },
  {
   "cell_type": "code",
   "execution_count": null,
   "id": "ea0ab2e2",
   "metadata": {},
   "outputs": [],
   "source": []
  },
  {
   "cell_type": "code",
   "execution_count": null,
   "id": "e25d8805",
   "metadata": {},
   "outputs": [],
   "source": []
  },
  {
   "cell_type": "code",
   "execution_count": null,
   "id": "41bc43b0",
   "metadata": {},
   "outputs": [],
   "source": []
  },
  {
   "cell_type": "code",
   "execution_count": 121,
   "id": "a80dda5d",
   "metadata": {},
   "outputs": [
    {
     "ename": "type",
     "evalue": "index 13 is out of bounds for dimension 0 with size 1",
     "output_type": "error",
     "traceback": [
      "\u001b[0;31m---------------------------------------------------------------------------\u001b[0m",
      "\u001b[0;31mIndexError\u001b[0m                                Traceback (most recent call last)",
      "Cell \u001b[0;32mIn[121], line 2\u001b[0m\n\u001b[1;32m      1\u001b[0m plt\u001b[39m.\u001b[39mfigure()\n\u001b[0;32m----> 2\u001b[0m plt\u001b[39m.\u001b[39mimshow(imgs_sim[\u001b[39m13\u001b[39m, \u001b[39m0\u001b[39m]\u001b[39m.\u001b[39mcpu()\u001b[39m.\u001b[39mnumpy())\n\u001b[1;32m      3\u001b[0m plt\u001b[39m.\u001b[39mshow()\n",
      "\u001b[0;31mIndexError\u001b[0m: index 13 is out of bounds for dimension 0 with size 1"
     ]
    }
   ],
   "source": [
    "plt.figure()\n",
    "plt.imshow(imgs_sim[13, 0].cpu().numpy())\n",
    "plt.show()"
   ]
  },
  {
   "attachments": {},
   "cell_type": "markdown",
   "id": "81982fd8",
   "metadata": {},
   "source": [
    "### Noise adding inside and outside cells"
   ]
  },
  {
   "cell_type": "code",
   "execution_count": 122,
   "id": "fd9e24ac",
   "metadata": {},
   "outputs": [],
   "source": [
    "\n",
    "dists = np.zeros_like(cell_masks_batch)\n",
    "for i in range(len(cell_masks_batch)):\n",
    "    dists[i] = edt.edt(cell_masks_batch[i])"
   ]
  },
  {
   "cell_type": "code",
   "execution_count": 123,
   "id": "a6a461df",
   "metadata": {},
   "outputs": [
    {
     "data": {
      "text/plain": [
       "(1, 1041, 1302)"
      ]
     },
     "execution_count": 123,
     "metadata": {},
     "output_type": "execute_result"
    }
   ],
   "source": [
    "dists.shape"
   ]
  },
  {
   "cell_type": "code",
   "execution_count": 125,
   "id": "094e79cb",
   "metadata": {},
   "outputs": [],
   "source": [
    "index = 0\n",
    "fig, ax = plt.subplots(nrows=1, ncols=3)\n",
    "ax[0].imshow(cell_masks_batch[index])\n",
    "ax[0].set_title('Cell mask')\n",
    "ax[1].imshow(dists[index])\n",
    "ax[1].set_title('Edt')\n",
    "ax[2].imshow(prob_map[index])\n",
    "ax[2].set_title('Prob map')\n",
    "plt.show()"
   ]
  },
  {
   "cell_type": "code",
   "execution_count": 126,
   "id": "3a0d268f",
   "metadata": {},
   "outputs": [],
   "source": [
    "def mean_bg_mask(dists, mean_map):\n",
    "    dists_copy = np.copy(dists)\n",
    "    for edt_val, mean_bg in mean_map.items():\n",
    "        dists_copy[dists == int(edt_val)] = mean_bg\n",
    "    return dists_copy"
   ]
  },
  {
   "cell_type": "code",
   "execution_count": 127,
   "id": "50c42ab1",
   "metadata": {},
   "outputs": [],
   "source": [
    "def variance_bg_mask(dists, variance_map):\n",
    "    dists_copy = np.copy(dists)\n",
    "    for edt_val, stddev_bg in variance_map.items():\n",
    "        dists_copy[dists == int(edt_val)] = stddev_bg\n",
    "    return dists_copy"
   ]
  },
  {
   "cell_type": "code",
   "execution_count": 128,
   "id": "cb2f10b9",
   "metadata": {},
   "outputs": [],
   "source": [
    "dists = np.ceil(dists)"
   ]
  },
  {
   "cell_type": "code",
   "execution_count": 129,
   "id": "645d49d3",
   "metadata": {},
   "outputs": [],
   "source": [
    "#mean_bg_cells = mean_bg_mask(dists, mean_map)\n",
    "#stddev_bg_cells = variance_bg_mask(dists, stddev_map)\n",
    "fitted_beta_map = edt_noise_map['betas']\n",
    "fitted_alpha_map = edt_noise_map['alphas']\n",
    "alpha_bg_cells = mean_bg_mask(dists, fitted_alpha_map)\n",
    "beta_bg_cells = variance_bg_mask(dists, fitted_beta_map)"
   ]
  },
  {
   "cell_type": "code",
   "execution_count": 131,
   "id": "d03f2d82",
   "metadata": {},
   "outputs": [],
   "source": [
    "index = 0\n",
    "fig, ax = plt.subplots(nrows=1, ncols=2)\n",
    "#ax[0].imshow(mean_bg_cells[index])\n",
    "ax[0].imshow(alpha_bg_cells[index])\n",
    "ax[0].set_title('Alpha values')\n",
    "#ax[0].set_title('Mean bg values')\n",
    "#ax[1].imshow(stddev_bg_cells[index])\n",
    "ax[1].imshow(beta_bg_cells[index])\n",
    "#ax[1].set_title('Std dev bg values')\n",
    "ax[1].set_title('Beta values')\n",
    "plt.show()"
   ]
  },
  {
   "cell_type": "code",
   "execution_count": 132,
   "id": "93a90224",
   "metadata": {},
   "outputs": [],
   "source": [
    "alpha_t = torch.from_numpy(alpha_bg_cells)\n",
    "beta_t = 1.0/torch.from_numpy(beta_bg_cells)"
   ]
  },
  {
   "cell_type": "code",
   "execution_count": 133,
   "id": "1d59f465",
   "metadata": {},
   "outputs": [
    {
     "data": {
      "text/plain": [
       "(torch.Size([1, 1041, 1302]), torch.Size([1, 1041, 1302]))"
      ]
     },
     "execution_count": 133,
     "metadata": {},
     "output_type": "execute_result"
    }
   ],
   "source": [
    "alpha_t.shape, beta_t.shape"
   ]
  },
  {
   "cell_type": "code",
   "execution_count": 134,
   "id": "db6c0f82",
   "metadata": {},
   "outputs": [],
   "source": [
    "m = torch.distributions.gamma.Gamma(concentration=alpha_t, rate=beta_t)\n",
    "sample = m.sample()"
   ]
  },
  {
   "cell_type": "code",
   "execution_count": 136,
   "id": "5a60d7cd",
   "metadata": {},
   "outputs": [],
   "source": [
    "index = 0\n",
    "fig, ax = plt.subplots(nrows=1, ncols=3)\n",
    "#ax[0].imshow(mean_bg_cells[index])\n",
    "ax[0].imshow(alpha_bg_cells[index])\n",
    "ax[0].set_title('Alpha bg cells')\n",
    "#ax[0].set_title('Mean bg values')\n",
    "#ax[1].imshow(stddev_bg_cells[index])\n",
    "#ax[1].set_title('Std dev bg values')\n",
    "ax[1].imshow(beta_bg_cells[index])\n",
    "ax[1].set_title('Beta bg cells')\n",
    "img = ax[2].imshow(sample[index].cpu().numpy(), cmap='gray')\n",
    "ax[2].set_title('Sampled bg values')\n",
    "fig.colorbar(img, ax=ax[2])\n",
    "plt.show()"
   ]
  },
  {
   "cell_type": "code",
   "execution_count": 138,
   "id": "19c13198",
   "metadata": {},
   "outputs": [],
   "source": [
    "index = 0\n",
    "plt.figure()\n",
    "plt.imshow(sample[index].cpu().numpy(), cmap='gray')\n",
    "plt.show()"
   ]
  },
  {
   "attachments": {},
   "cell_type": "markdown",
   "id": "9fc6fe94",
   "metadata": {},
   "source": [
    "### Dot overlay"
   ]
  },
  {
   "cell_type": "code",
   "execution_count": 139,
   "id": "3782a9cc",
   "metadata": {},
   "outputs": [],
   "source": [
    "baseline = 103.0\n",
    "e_per_adu = 0.39\n",
    "qe = 0.95\n",
    "bg_photons = (sample - baseline) * e_per_adu / qe"
   ]
  },
  {
   "cell_type": "code",
   "execution_count": 140,
   "id": "8a8751e0",
   "metadata": {},
   "outputs": [],
   "source": [
    "bg_photons = bg_photons[:, None]"
   ]
  },
  {
   "cell_type": "code",
   "execution_count": 141,
   "id": "49901918",
   "metadata": {},
   "outputs": [],
   "source": [
    "bg_photons = torch.clamp(bg_photons, min=0.0)"
   ]
  },
  {
   "cell_type": "code",
   "execution_count": 142,
   "id": "1f551763",
   "metadata": {},
   "outputs": [
    {
     "data": {
      "text/plain": [
       "(torch.Size([1, 1, 1041, 1302]), torch.Size([1, 1, 1041, 1302]))"
      ]
     },
     "execution_count": 142,
     "metadata": {},
     "output_type": "execute_result"
    }
   ],
   "source": [
    "imgs_sim.shape, bg_photons.shape"
   ]
  },
  {
   "cell_type": "code",
   "execution_count": 143,
   "id": "feba0c6a",
   "metadata": {},
   "outputs": [],
   "source": [
    "bg_photons = bg_photons.to('cuda:0')"
   ]
  },
  {
   "cell_type": "code",
   "execution_count": 144,
   "id": "425a5062",
   "metadata": {},
   "outputs": [],
   "source": [
    "plt.figure()\n",
    "plt.imshow(bg_photons[index, 0].cpu().numpy())\n",
    "plt.show()"
   ]
  },
  {
   "cell_type": "code",
   "execution_count": 145,
   "id": "445485c8",
   "metadata": {},
   "outputs": [],
   "source": [
    "after_dots = imgs_sim + bg_photons\n"
   ]
  },
  {
   "cell_type": "code",
   "execution_count": 149,
   "id": "b9692142",
   "metadata": {},
   "outputs": [
    {
     "data": {
      "text/plain": [
       "torch.Size([1, 1041, 1302])"
      ]
     },
     "execution_count": 149,
     "metadata": {},
     "output_type": "execute_result"
    }
   ],
   "source": [
    "S.shape"
   ]
  },
  {
   "cell_type": "code",
   "execution_count": 150,
   "id": "a1de3632",
   "metadata": {},
   "outputs": [],
   "source": [
    "index = 0\n",
    "fig, ax = plt.subplots(nrows=1, ncols=6)\n",
    "ax[0].imshow(prob_map[index])\n",
    "ax[0].set_title('Probabilty map')\n",
    "ax[1].imshow(cell_masks_batch[index])\n",
    "ax[1].set_title('Cell mask sampled')\n",
    "ax[2].imshow(imgs_sim[index, 0].cpu().numpy())\n",
    "ax[2].set_title('Simulated PSFs')\n",
    "#ax[3].imshow(S[index, 0].cpu().numpy())\n",
    "ax[3].set_title('Emitter pixel locs')\n",
    "ax[4].imshow(I[index, 0].cpu().numpy() * psf_params['photon_scale'])\n",
    "ax[4].set_title('Intensity values')\n",
    "ax[5].imshow(after_dots[index][0].cpu().numpy(), cmap='gray')\n",
    "ax[5].set_title('After overlaying dots')\n",
    "plt.show()"
   ]
  },
  {
   "cell_type": "code",
   "execution_count": null,
   "id": "4bbfd8f7",
   "metadata": {},
   "outputs": [],
   "source": []
  },
  {
   "attachments": {},
   "cell_type": "markdown",
   "id": "99feb282",
   "metadata": {},
   "source": [
    "### Adding camera noise"
   ]
  },
  {
   "cell_type": "code",
   "execution_count": 151,
   "id": "78338b5d",
   "metadata": {},
   "outputs": [],
   "source": [
    "RN = 2.2"
   ]
  },
  {
   "cell_type": "code",
   "execution_count": 152,
   "id": "d68acf6e",
   "metadata": {},
   "outputs": [],
   "source": [
    "after_dots = torch.distributions.Poisson(after_dots * qe).sample()"
   ]
  },
  {
   "cell_type": "code",
   "execution_count": 153,
   "id": "22929af4",
   "metadata": {},
   "outputs": [],
   "source": [
    "zeros = torch.zeros_like(after_dots)"
   ]
  },
  {
   "cell_type": "code",
   "execution_count": 154,
   "id": "70216e27",
   "metadata": {},
   "outputs": [],
   "source": [
    "readout_noise = torch.distributions.Normal(zeros, zeros + RN).sample()"
   ]
  },
  {
   "cell_type": "code",
   "execution_count": 155,
   "id": "f4bef6f1",
   "metadata": {},
   "outputs": [],
   "source": [
    "after_dots = after_dots + readout_noise"
   ]
  },
  {
   "cell_type": "code",
   "execution_count": 156,
   "id": "dd429778",
   "metadata": {},
   "outputs": [],
   "source": [
    "final_dots_for_net = torch.clamp((after_dots/ e_per_adu) + baseline, min=0)"
   ]
  },
  {
   "cell_type": "code",
   "execution_count": 161,
   "id": "6d0cd7cd",
   "metadata": {},
   "outputs": [],
   "source": [
    "index = 0\n",
    "fig, ax = plt.subplots(nrows=1, ncols=6)\n",
    "ax[0].imshow(sample[index].cpu().numpy(), cmap='gray')\n",
    "ax[0].set_title('Sampled background ADU')\n",
    "ax[1].imshow(cell_masks_batch[index])\n",
    "ax[1].set_title('Cell mask sampled')\n",
    "ax[2].imshow(imgs_sim[index, 0].cpu().numpy())\n",
    "ax[2].set_title('Simulated PSFs')\n",
    "#ax[3].imshow(S[index, 0].cpu().numpy())\n",
    "#ax[3].set_title('Emitter pixel locs')\n",
    "ax[3].imshow(I[index, 0].cpu().numpy() * psf_params['photon_scale'])\n",
    "ax[3].set_title('Intensity values')\n",
    "ax[4].imshow(after_dots[index][0].cpu().numpy(), cmap='gray')\n",
    "ax[4].set_title('After overlaying dots (photons)')\n",
    "ax[5].imshow(final_dots_for_net[index][0].cpu().numpy(), cmap='gray')\n",
    "ax[5].set_title('After camer noise (ADU)')\n",
    "plt.tight_layout()\n",
    "plt.show()"
   ]
  },
  {
   "cell_type": "code",
   "execution_count": 162,
   "id": "d7f66fc3",
   "metadata": {},
   "outputs": [],
   "source": [
    "plt.figure()\n",
    "plt.imshow(final_dots_for_net[index][0].cpu().numpy(), cmap='gray')\n",
    "plt.show()"
   ]
  },
  {
   "cell_type": "code",
   "execution_count": null,
   "id": "7047798d",
   "metadata": {},
   "outputs": [],
   "source": [
    "plt.figure()\n",
    "plt.imshow()"
   ]
  },
  {
   "cell_type": "code",
   "execution_count": null,
   "id": "52c34f9c",
   "metadata": {},
   "outputs": [],
   "source": []
  },
  {
   "cell_type": "code",
   "execution_count": null,
   "id": "df8b8b55",
   "metadata": {},
   "outputs": [],
   "source": []
  },
  {
   "cell_type": "code",
   "execution_count": null,
   "id": "98ec5388",
   "metadata": {},
   "outputs": [],
   "source": [
    "index = 3\n",
    "plt.figure()\n",
    "plt.imshow(final_dots_for_net[index][0].cpu().numpy(), cmap='gray')\n",
    "plt.colorbar()\n",
    "plt.show()"
   ]
  },
  {
   "cell_type": "code",
   "execution_count": null,
   "id": "b6d7b6f4",
   "metadata": {},
   "outputs": [
    {
     "data": {
      "text/plain": [
       "331.9748"
      ]
     },
     "execution_count": 51,
     "metadata": {},
     "output_type": "execute_result"
    }
   ],
   "source": [
    "final_dots_for_net[index][0].cpu().numpy().max()"
   ]
  },
  {
   "cell_type": "code",
   "execution_count": null,
   "id": "84141459",
   "metadata": {},
   "outputs": [
    {
     "data": {
      "text/plain": [
       "76.83658"
      ]
     },
     "execution_count": 52,
     "metadata": {},
     "output_type": "execute_result"
    }
   ],
   "source": [
    "final_dots_for_net[index][0].cpu().numpy().min()"
   ]
  },
  {
   "cell_type": "code",
   "execution_count": null,
   "id": "4f365942",
   "metadata": {},
   "outputs": [],
   "source": []
  },
  {
   "cell_type": "code",
   "execution_count": null,
   "id": "d80806c9",
   "metadata": {},
   "outputs": [],
   "source": []
  }
 ],
 "metadata": {
  "kernelspec": {
   "display_name": "compile_spline",
   "language": "python",
   "name": "compile_spline"
  },
  "language_info": {
   "codemirror_mode": {
    "name": "ipython",
    "version": 3
   },
   "file_extension": ".py",
   "mimetype": "text/x-python",
   "name": "python",
   "nbconvert_exporter": "python",
   "pygments_lexer": "ipython3",
   "version": "3.11.3"
  }
 },
 "nbformat": 4,
 "nbformat_minor": 5
}
