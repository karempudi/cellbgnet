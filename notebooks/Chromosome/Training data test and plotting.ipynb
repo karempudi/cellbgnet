{
 "cells": [
  {
   "cell_type": "code",
   "execution_count": 1,
   "id": "a4b239d9",
   "metadata": {},
   "outputs": [],
   "source": [
    "%reload_ext autoreload\n",
    "%autoreload 2\n",
    "#%reload_ext notexbook\n",
    "#%texify"
   ]
  },
  {
   "cell_type": "code",
   "execution_count": 1,
   "id": "9621f7c1",
   "metadata": {},
   "outputs": [],
   "source": [
    "import numpy as np\n",
    "import matplotlib.pyplot as plt\n",
    "import torch\n",
    "\n",
    "import os\n",
    "\n",
    "os.chdir('/home/axtr7550/Chromosome_project/cellbgnet/')\n",
    "import cellbgnet\n",
    "import cellbgnet.utils\n",
    "\n",
    "from cellbgnet.datasets import DataSimulator\n",
    "from cellbgnet.utils.hardware import cpu, gpu\n",
    "from cellbgnet.model import CellBGModel\n",
    "from cellbgnet.simulation.psf_kernel import SMAPSplineCoefficient\n",
    "from cellbgnet.generic.emitter import EmitterSet\n",
    "from cellbgnet.train_loss_infer import generate_probmap_cells\n",
    "\n",
    "os.chdir('/home/axtr7550/Chromosome_project/cellbgnet/notebooks')\n",
    "\n",
    "from skimage.io import imread\n",
    "from skimage.measure import label\n",
    "import random\n",
    "import edt\n",
    "from skimage.filters import gaussian\n",
    "from scipy.ndimage import rotate\n",
    "import random\n",
    "import pickle\n",
    "import pathlib\n",
    "from pathlib import Path\n",
    "%matplotlib qt5"
   ]
  },
  {
   "cell_type": "code",
   "execution_count": 10,
   "id": "33170e44",
   "metadata": {},
   "outputs": [],
   "source": [
    "param_file = '../cellbgnet/utils/reference_files/reference.yaml'\n",
    "param = cellbgnet.utils.param_io.ParamHandling().load_params(param_file)"
   ]
  },
  {
   "cell_type": "code",
   "execution_count": 11,
   "id": "ffcd0e27",
   "metadata": {},
   "outputs": [],
   "source": [
    "psf_params = param.PSF.to_dict()\n",
    "simulation_params = param.Simulation.to_dict()\n",
    "hardware_params = param.Hardware.to_dict()\n",
    "train_size = simulation_params['train_size']"
   ]
  },
  {
   "cell_type": "code",
   "execution_count": 12,
   "id": "b0cbab64",
   "metadata": {},
   "outputs": [
    {
     "name": "stdout",
     "output_type": "stream",
     "text": [
      "INITIATING CUDA IMPLEMENTATION\n",
      "training sliding windows on camera chip:\n",
      "Area num: 0, field_xy: [0, 127, 0, 127]\n",
      "Area num: 1, field_xy: [114, 241, 0, 127]\n",
      "Area num: 2, field_xy: [228, 355, 0, 127]\n",
      "Area num: 3, field_xy: [342, 469, 0, 127]\n",
      "Area num: 4, field_xy: [456, 583, 0, 127]\n",
      "Area num: 5, field_xy: [570, 697, 0, 127]\n",
      "Area num: 6, field_xy: [684, 811, 0, 127]\n",
      "Area num: 7, field_xy: [798, 925, 0, 127]\n",
      "Area num: 8, field_xy: [912, 1039, 0, 127]\n",
      "Area num: 9, field_xy: [1026, 1153, 0, 127]\n",
      "Area num: 10, field_xy: [1140, 1267, 0, 127]\n",
      "Area num: 11, field_xy: [1174, 1301, 0, 127]\n",
      "Area num: 12, field_xy: [0, 127, 114, 241]\n",
      "Area num: 13, field_xy: [114, 241, 114, 241]\n",
      "Area num: 14, field_xy: [228, 355, 114, 241]\n",
      "Area num: 15, field_xy: [342, 469, 114, 241]\n",
      "Area num: 16, field_xy: [456, 583, 114, 241]\n",
      "Area num: 17, field_xy: [570, 697, 114, 241]\n",
      "Area num: 18, field_xy: [684, 811, 114, 241]\n",
      "Area num: 19, field_xy: [798, 925, 114, 241]\n",
      "Area num: 20, field_xy: [912, 1039, 114, 241]\n",
      "Area num: 21, field_xy: [1026, 1153, 114, 241]\n",
      "Area num: 22, field_xy: [1140, 1267, 114, 241]\n",
      "Area num: 23, field_xy: [1174, 1301, 114, 241]\n",
      "Area num: 24, field_xy: [0, 127, 228, 355]\n",
      "Area num: 25, field_xy: [114, 241, 228, 355]\n",
      "Area num: 26, field_xy: [228, 355, 228, 355]\n",
      "Area num: 27, field_xy: [342, 469, 228, 355]\n",
      "Area num: 28, field_xy: [456, 583, 228, 355]\n",
      "Area num: 29, field_xy: [570, 697, 228, 355]\n",
      "Area num: 30, field_xy: [684, 811, 228, 355]\n",
      "Area num: 31, field_xy: [798, 925, 228, 355]\n",
      "Area num: 32, field_xy: [912, 1039, 228, 355]\n",
      "Area num: 33, field_xy: [1026, 1153, 228, 355]\n",
      "Area num: 34, field_xy: [1140, 1267, 228, 355]\n",
      "Area num: 35, field_xy: [1174, 1301, 228, 355]\n",
      "Area num: 36, field_xy: [0, 127, 342, 469]\n",
      "Area num: 37, field_xy: [114, 241, 342, 469]\n",
      "Area num: 38, field_xy: [228, 355, 342, 469]\n",
      "Area num: 39, field_xy: [342, 469, 342, 469]\n",
      "Area num: 40, field_xy: [456, 583, 342, 469]\n",
      "Area num: 41, field_xy: [570, 697, 342, 469]\n",
      "Area num: 42, field_xy: [684, 811, 342, 469]\n",
      "Area num: 43, field_xy: [798, 925, 342, 469]\n",
      "Area num: 44, field_xy: [912, 1039, 342, 469]\n",
      "Area num: 45, field_xy: [1026, 1153, 342, 469]\n",
      "Area num: 46, field_xy: [1140, 1267, 342, 469]\n",
      "Area num: 47, field_xy: [1174, 1301, 342, 469]\n",
      "Area num: 48, field_xy: [0, 127, 456, 583]\n",
      "Area num: 49, field_xy: [114, 241, 456, 583]\n",
      "Area num: 50, field_xy: [228, 355, 456, 583]\n",
      "Area num: 51, field_xy: [342, 469, 456, 583]\n",
      "Area num: 52, field_xy: [456, 583, 456, 583]\n",
      "Area num: 53, field_xy: [570, 697, 456, 583]\n",
      "Area num: 54, field_xy: [684, 811, 456, 583]\n",
      "Area num: 55, field_xy: [798, 925, 456, 583]\n",
      "Area num: 56, field_xy: [912, 1039, 456, 583]\n",
      "Area num: 57, field_xy: [1026, 1153, 456, 583]\n",
      "Area num: 58, field_xy: [1140, 1267, 456, 583]\n",
      "Area num: 59, field_xy: [1174, 1301, 456, 583]\n",
      "Area num: 60, field_xy: [0, 127, 570, 697]\n",
      "Area num: 61, field_xy: [114, 241, 570, 697]\n",
      "Area num: 62, field_xy: [228, 355, 570, 697]\n",
      "Area num: 63, field_xy: [342, 469, 570, 697]\n",
      "Area num: 64, field_xy: [456, 583, 570, 697]\n",
      "Area num: 65, field_xy: [570, 697, 570, 697]\n",
      "Area num: 66, field_xy: [684, 811, 570, 697]\n",
      "Area num: 67, field_xy: [798, 925, 570, 697]\n",
      "Area num: 68, field_xy: [912, 1039, 570, 697]\n",
      "Area num: 69, field_xy: [1026, 1153, 570, 697]\n",
      "Area num: 70, field_xy: [1140, 1267, 570, 697]\n",
      "Area num: 71, field_xy: [1174, 1301, 570, 697]\n",
      "Area num: 72, field_xy: [0, 127, 684, 811]\n",
      "Area num: 73, field_xy: [114, 241, 684, 811]\n",
      "Area num: 74, field_xy: [228, 355, 684, 811]\n",
      "Area num: 75, field_xy: [342, 469, 684, 811]\n",
      "Area num: 76, field_xy: [456, 583, 684, 811]\n",
      "Area num: 77, field_xy: [570, 697, 684, 811]\n",
      "Area num: 78, field_xy: [684, 811, 684, 811]\n",
      "Area num: 79, field_xy: [798, 925, 684, 811]\n",
      "Area num: 80, field_xy: [912, 1039, 684, 811]\n",
      "Area num: 81, field_xy: [1026, 1153, 684, 811]\n",
      "Area num: 82, field_xy: [1140, 1267, 684, 811]\n",
      "Area num: 83, field_xy: [1174, 1301, 684, 811]\n",
      "Area num: 84, field_xy: [0, 127, 798, 925]\n",
      "Area num: 85, field_xy: [114, 241, 798, 925]\n",
      "Area num: 86, field_xy: [228, 355, 798, 925]\n",
      "Area num: 87, field_xy: [342, 469, 798, 925]\n",
      "Area num: 88, field_xy: [456, 583, 798, 925]\n",
      "Area num: 89, field_xy: [570, 697, 798, 925]\n",
      "Area num: 90, field_xy: [684, 811, 798, 925]\n",
      "Area num: 91, field_xy: [798, 925, 798, 925]\n",
      "Area num: 92, field_xy: [912, 1039, 798, 925]\n",
      "Area num: 93, field_xy: [1026, 1153, 798, 925]\n",
      "Area num: 94, field_xy: [1140, 1267, 798, 925]\n",
      "Area num: 95, field_xy: [1174, 1301, 798, 925]\n",
      "Area num: 96, field_xy: [0, 127, 912, 1039]\n",
      "Area num: 97, field_xy: [114, 241, 912, 1039]\n",
      "Area num: 98, field_xy: [228, 355, 912, 1039]\n",
      "Area num: 99, field_xy: [342, 469, 912, 1039]\n",
      "Area num: 100, field_xy: [456, 583, 912, 1039]\n",
      "Area num: 101, field_xy: [570, 697, 912, 1039]\n",
      "Area num: 102, field_xy: [684, 811, 912, 1039]\n",
      "Area num: 103, field_xy: [798, 925, 912, 1039]\n",
      "Area num: 104, field_xy: [912, 1039, 912, 1039]\n",
      "Area num: 105, field_xy: [1026, 1153, 912, 1039]\n",
      "Area num: 106, field_xy: [1140, 1267, 912, 1039]\n",
      "Area num: 107, field_xy: [1174, 1301, 912, 1039]\n",
      "Area num: 108, field_xy: [0, 127, 913, 1040]\n",
      "Area num: 109, field_xy: [114, 241, 913, 1040]\n",
      "Area num: 110, field_xy: [228, 355, 913, 1040]\n",
      "Area num: 111, field_xy: [342, 469, 913, 1040]\n",
      "Area num: 112, field_xy: [456, 583, 913, 1040]\n",
      "Area num: 113, field_xy: [570, 697, 913, 1040]\n",
      "Area num: 114, field_xy: [684, 811, 913, 1040]\n",
      "Area num: 115, field_xy: [798, 925, 913, 1040]\n",
      "Area num: 116, field_xy: [912, 1039, 913, 1040]\n",
      "Area num: 117, field_xy: [1026, 1153, 913, 1040]\n",
      "Area num: 118, field_xy: [1140, 1267, 913, 1040]\n",
      "Area num: 119, field_xy: [1174, 1301, 913, 1040]\n"
     ]
    }
   ],
   "source": [
    "model = cellbgnet.model.CellBGModel(param)"
   ]
  },
  {
   "cell_type": "code",
   "execution_count": 13,
   "id": "bc39a9cf",
   "metadata": {},
   "outputs": [],
   "source": [
    "model.init_recorder()"
   ]
  },
  {
   "cell_type": "code",
   "execution_count": 18,
   "id": "8596a629",
   "metadata": {},
   "outputs": [
    {
     "name": "stderr",
     "output_type": "stream",
     "text": [
      "Eval image generation:   3%|█▏                                 | 1/30 [00:00<00:05,  5.15it/s]"
     ]
    },
    {
     "name": "stdout",
     "output_type": "stream",
     "text": [
      "IN CUDA! /nIN CUDA! /n"
     ]
    },
    {
     "name": "stderr",
     "output_type": "stream",
     "text": [
      "Eval image generation:  10%|███▌                               | 3/30 [00:00<00:04,  5.83it/s]"
     ]
    },
    {
     "name": "stdout",
     "output_type": "stream",
     "text": [
      "IN CUDA! /nIN CUDA! /n"
     ]
    },
    {
     "name": "stderr",
     "output_type": "stream",
     "text": [
      "Eval image generation:  17%|█████▊                             | 5/30 [00:00<00:04,  5.97it/s]"
     ]
    },
    {
     "name": "stdout",
     "output_type": "stream",
     "text": [
      "IN CUDA! /nIN CUDA! /n"
     ]
    },
    {
     "name": "stderr",
     "output_type": "stream",
     "text": [
      "Eval image generation:  23%|████████▏                          | 7/30 [00:01<00:03,  5.90it/s]"
     ]
    },
    {
     "name": "stdout",
     "output_type": "stream",
     "text": [
      "IN CUDA! /nIN CUDA! /n"
     ]
    },
    {
     "name": "stderr",
     "output_type": "stream",
     "text": [
      "Eval image generation:  30%|██████████▌                        | 9/30 [00:01<00:03,  5.71it/s]"
     ]
    },
    {
     "name": "stdout",
     "output_type": "stream",
     "text": [
      "IN CUDA! /nIN CUDA! /n"
     ]
    },
    {
     "name": "stderr",
     "output_type": "stream",
     "text": [
      "Eval image generation:  37%|████████████▍                     | 11/30 [00:01<00:03,  5.57it/s]"
     ]
    },
    {
     "name": "stdout",
     "output_type": "stream",
     "text": [
      "IN CUDA! /nIN CUDA! /n"
     ]
    },
    {
     "name": "stderr",
     "output_type": "stream",
     "text": [
      "Eval image generation:  43%|██████████████▋                   | 13/30 [00:02<00:03,  5.55it/s]"
     ]
    },
    {
     "name": "stdout",
     "output_type": "stream",
     "text": [
      "IN CUDA! /nIN CUDA! /n"
     ]
    },
    {
     "name": "stderr",
     "output_type": "stream",
     "text": [
      "Eval image generation:  50%|█████████████████                 | 15/30 [00:02<00:02,  5.36it/s]"
     ]
    },
    {
     "name": "stdout",
     "output_type": "stream",
     "text": [
      "IN CUDA! /nIN CUDA! /n"
     ]
    },
    {
     "name": "stderr",
     "output_type": "stream",
     "text": [
      "Eval image generation:  57%|███████████████████▎              | 17/30 [00:03<00:02,  5.36it/s]"
     ]
    },
    {
     "name": "stdout",
     "output_type": "stream",
     "text": [
      "IN CUDA! /nIN CUDA! /n"
     ]
    },
    {
     "name": "stderr",
     "output_type": "stream",
     "text": [
      "Eval image generation:  63%|█████████████████████▌            | 19/30 [00:03<00:02,  5.23it/s]"
     ]
    },
    {
     "name": "stdout",
     "output_type": "stream",
     "text": [
      "IN CUDA! /nIN CUDA! /n"
     ]
    },
    {
     "name": "stderr",
     "output_type": "stream",
     "text": [
      "Eval image generation:  70%|███████████████████████▊          | 21/30 [00:03<00:01,  5.24it/s]"
     ]
    },
    {
     "name": "stdout",
     "output_type": "stream",
     "text": [
      "IN CUDA! /nIN CUDA! /n"
     ]
    },
    {
     "name": "stderr",
     "output_type": "stream",
     "text": [
      "Eval image generation:  77%|██████████████████████████        | 23/30 [00:04<00:01,  5.14it/s]"
     ]
    },
    {
     "name": "stdout",
     "output_type": "stream",
     "text": [
      "IN CUDA! /nIN CUDA! /n"
     ]
    },
    {
     "name": "stderr",
     "output_type": "stream",
     "text": [
      "Eval image generation:  83%|████████████████████████████▎     | 25/30 [00:04<00:00,  5.09it/s]"
     ]
    },
    {
     "name": "stdout",
     "output_type": "stream",
     "text": [
      "IN CUDA! /nIN CUDA! /n"
     ]
    },
    {
     "name": "stderr",
     "output_type": "stream",
     "text": [
      "Eval image generation:  87%|█████████████████████████████▍    | 26/30 [00:04<00:00,  4.94it/s]"
     ]
    },
    {
     "name": "stdout",
     "output_type": "stream",
     "text": [
      "IN CUDA! /n"
     ]
    },
    {
     "name": "stderr",
     "output_type": "stream",
     "text": [
      "Eval image generation:  90%|██████████████████████████████▌   | 27/30 [00:05<00:00,  4.88it/s]"
     ]
    },
    {
     "name": "stdout",
     "output_type": "stream",
     "text": [
      "IN CUDA! /n"
     ]
    },
    {
     "name": "stderr",
     "output_type": "stream",
     "text": [
      "Eval image generation:  97%|████████████████████████████████▊ | 29/30 [00:05<00:00,  4.92it/s]"
     ]
    },
    {
     "name": "stdout",
     "output_type": "stream",
     "text": [
      "IN CUDA! /nIN CUDA! /n"
     ]
    },
    {
     "name": "stderr",
     "output_type": "stream",
     "text": [
      "Eval image generation: 100%|██████████████████████████████████| 30/30 [00:05<00:00,  5.32it/s]"
     ]
    },
    {
     "name": "stdout",
     "output_type": "stream",
     "text": [
      "\n",
      "eval images shape: (30, 1041, 1302) contain 10184 molecules,\n"
     ]
    },
    {
     "name": "stderr",
     "output_type": "stream",
     "text": [
      "\n"
     ]
    }
   ],
   "source": [
    "model.init_eval_data()"
   ]
  },
  {
   "attachments": {},
   "cell_type": "markdown",
   "id": "8292a41b",
   "metadata": {},
   "source": [
    "#### Looking at training data"
   ]
  },
  {
   "cell_type": "code",
   "execution_count": 19,
   "id": "bdad578c",
   "metadata": {},
   "outputs": [
    {
     "name": "stdout",
     "output_type": "stream",
     "text": [
      "IN CUDA! /n"
     ]
    },
    {
     "data": {
      "text/plain": [
       "(tensor(255.3123, device='cuda:0'),\n",
       " (tensor(68.4397, device='cuda:0'),\n",
       "  tensor(75.5228, device='cuda:0'),\n",
       "  tensor(1.8551, device='cuda:0'),\n",
       "  tensor(70.7640, device='cuda:0')))"
      ]
     },
     "execution_count": 19,
     "metadata": {},
     "output_type": "execute_result"
    }
   ],
   "source": [
    "model.training(train_size, simulation_params)"
   ]
  },
  {
   "cell_type": "code",
   "execution_count": 16,
   "id": "dab880b8",
   "metadata": {},
   "outputs": [
    {
     "ename": "type",
     "evalue": "name 'segmentation' is not defined",
     "output_type": "error",
     "traceback": [
      "\u001b[0;31m---------------------------------------------------------------------------\u001b[0m",
      "\u001b[0;31mNameError\u001b[0m                                 Traceback (most recent call last)",
      "Cell \u001b[0;32mIn[16], line 4\u001b[0m\n\u001b[1;32m      2\u001b[0m random_filename \u001b[39m=\u001b[39m random\u001b[39m.\u001b[39mchoice(model\u001b[39m.\u001b[39mdata_generator\u001b[39m.\u001b[39mcell_mask_filenames)\n\u001b[1;32m      3\u001b[0m random_cell_mask \u001b[39m=\u001b[39m imread(random_filename)\n\u001b[0;32m----> 4\u001b[0m random_cell_mask \u001b[39m=\u001b[39m segmentation\u001b[39m.\u001b[39mexpand_labels(random_cell_mask, distance\u001b[39m=\u001b[39m\u001b[39m1\u001b[39m)\n\u001b[1;32m      5\u001b[0m \u001b[39mprint\u001b[39m(\u001b[39m'\u001b[39m\u001b[39msampling random filename\u001b[39m\u001b[39m'\u001b[39m, random_filename)\n\u001b[1;32m      6\u001b[0m non_cell_density \u001b[39m=\u001b[39m simulation_params[\u001b[39m'\u001b[39m\u001b[39mnon_cell_density\u001b[39m\u001b[39m'\u001b[39m]\n",
      "\u001b[0;31mNameError\u001b[0m: name 'segmentation' is not defined"
     ]
    }
   ],
   "source": [
    "\n",
    "density = simulation_params['density']\n",
    "random_filename = random.choice(model.data_generator.cell_mask_filenames)\n",
    "random_cell_mask = imread(random_filename)\n",
    "random_cell_mask = segmentation.expand_labels(random_cell_mask, distance=1)\n",
    "print('sampling random filename', random_filename)\n",
    "non_cell_density = simulation_params['non_cell_density']\n",
    "\n",
    "# generate probabilty map and cell mask crop from this one random cell mask\n",
    "prob_map, cell_masks_batch = generate_probmap_cells(random_cell_mask, model.batch_size, \n",
    "                                    train_size, density, non_cell_density,\n",
    "                                    simulation_params['margin_empty']) "
   ]
  },
  {
   "cell_type": "code",
   "execution_count": 9,
   "id": "3a6fd7d9",
   "metadata": {},
   "outputs": [
    {
     "data": {
      "text/plain": [
       "((16, 128, 128), (16, 128, 128))"
      ]
     },
     "execution_count": 9,
     "metadata": {},
     "output_type": "execute_result"
    }
   ],
   "source": [
    "prob_map.shape, cell_masks_batch.shape"
   ]
  },
  {
   "cell_type": "code",
   "execution_count": 10,
   "id": "dcbf6875",
   "metadata": {},
   "outputs": [],
   "source": [
    "index = 9\n",
    "fig, ax = plt.subplots(nrows=1, ncols=2)\n",
    "ax[0].imshow(prob_map[index])\n",
    "ax[0].set_title('Prob map')\n",
    "ax[1].imshow(cell_masks_batch[index])\n",
    "ax[1].set_title('Cell masks')\n",
    "plt.show()"
   ]
  },
  {
   "cell_type": "code",
   "execution_count": 11,
   "id": "4912726c",
   "metadata": {},
   "outputs": [],
   "source": [
    "imgs_sim, xyzi_gt, s_mask, psf_imgs_gt, locs, field_xy = model.data_generator.simulate_data( \n",
    "    prob_map=gpu(prob_map), batch_size=model.batch_size,\n",
    "    local_context=model.local_context,\n",
    "    photon_filter=model.train_params['photon_filter'],\n",
    "    photon_filter_threshold=model.train_params['photon_filter_threshold'],\n",
    "    P_locs_cse=model.train_params['P_locs_cse'],\n",
    "    iter_num=model._iter_count, train_size=train_size,\n",
    "    robust_training=model.data_generator.simulation_params['robust_training'],\n",
    "    cell_masks=cell_masks_batch\n",
    ")\n"
   ]
  },
  {
   "cell_type": "code",
   "execution_count": 12,
   "id": "bfd92688",
   "metadata": {},
   "outputs": [
    {
     "data": {
      "text/plain": [
       "tensor([  0, 127,   0, 127])"
      ]
     },
     "execution_count": 12,
     "metadata": {},
     "output_type": "execute_result"
    }
   ],
   "source": [
    "field_xy"
   ]
  },
  {
   "cell_type": "code",
   "execution_count": 13,
   "id": "c79d310f",
   "metadata": {},
   "outputs": [],
   "source": [
    "index = 2\n",
    "plt.figure()\n",
    "plt.imshow(imgs_sim[index, 0].cpu().numpy())\n",
    "plt.show()\n",
    "plt.figure()\n",
    "plt.imshow(locs[index].cpu().numpy())\n",
    "plt.show()"
   ]
  },
  {
   "cell_type": "code",
   "execution_count": null,
   "id": "0a066824",
   "metadata": {},
   "outputs": [],
   "source": []
  },
  {
   "cell_type": "code",
   "execution_count": null,
   "id": "c3276009",
   "metadata": {},
   "outputs": [],
   "source": []
  },
  {
   "cell_type": "code",
   "execution_count": null,
   "id": "f7b97741",
   "metadata": {},
   "outputs": [],
   "source": []
  },
  {
   "cell_type": "code",
   "execution_count": null,
   "id": "79992eff",
   "metadata": {},
   "outputs": [],
   "source": []
  },
  {
   "cell_type": "code",
   "execution_count": null,
   "id": "7e361828",
   "metadata": {},
   "outputs": [],
   "source": []
  },
  {
   "attachments": {},
   "cell_type": "markdown",
   "id": "18c8e3c8",
   "metadata": {},
   "source": [
    "### Adding field coordinates to train loop test"
   ]
  },
  {
   "cell_type": "code",
   "execution_count": null,
   "id": "6e6f65a5",
   "metadata": {},
   "outputs": [],
   "source": []
  },
  {
   "cell_type": "code",
   "execution_count": null,
   "id": "69d121e0",
   "metadata": {},
   "outputs": [],
   "source": []
  },
  {
   "cell_type": "code",
   "execution_count": null,
   "id": "4036de7c",
   "metadata": {},
   "outputs": [],
   "source": []
  },
  {
   "cell_type": "code",
   "execution_count": null,
   "id": "5a9551a4",
   "metadata": {},
   "outputs": [],
   "source": []
  },
  {
   "cell_type": "code",
   "execution_count": null,
   "id": "4feedb50",
   "metadata": {},
   "outputs": [],
   "source": []
  },
  {
   "cell_type": "code",
   "execution_count": null,
   "id": "fa5499af",
   "metadata": {},
   "outputs": [],
   "source": []
  },
  {
   "cell_type": "code",
   "execution_count": null,
   "id": "5e8e1a46",
   "metadata": {},
   "outputs": [],
   "source": []
  },
  {
   "cell_type": "code",
   "execution_count": null,
   "id": "af4af71b",
   "metadata": {},
   "outputs": [],
   "source": []
  },
  {
   "cell_type": "code",
   "execution_count": null,
   "id": "6ee4b8cd",
   "metadata": {},
   "outputs": [],
   "source": []
  },
  {
   "cell_type": "code",
   "execution_count": null,
   "id": "77462cf6",
   "metadata": {},
   "outputs": [],
   "source": []
  },
  {
   "cell_type": "code",
   "execution_count": null,
   "id": "bc35c96c",
   "metadata": {},
   "outputs": [],
   "source": []
  },
  {
   "cell_type": "code",
   "execution_count": null,
   "id": "d7e01efc",
   "metadata": {},
   "outputs": [],
   "source": []
  }
 ],
 "metadata": {
  "kernelspec": {
   "display_name": "compile_spline",
   "language": "python",
   "name": "compile_spline"
  },
  "language_info": {
   "codemirror_mode": {
    "name": "ipython",
    "version": 3
   },
   "file_extension": ".py",
   "mimetype": "text/x-python",
   "name": "python",
   "nbconvert_exporter": "python",
   "pygments_lexer": "ipython3",
   "version": "3.11.3"
  }
 },
 "nbformat": 4,
 "nbformat_minor": 5
}
