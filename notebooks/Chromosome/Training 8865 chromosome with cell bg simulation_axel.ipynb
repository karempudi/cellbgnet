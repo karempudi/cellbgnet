{
 "cells": [
  {
   "cell_type": "code",
   "execution_count": 43,
   "id": "373ce737",
   "metadata": {},
   "outputs": [],
   "source": [
    "%reload_ext autoreload\n",
    "%autoreload 2\n",
    "#%reload_ext notexbook\n",
    "#%texify"
   ]
  },
  {
   "cell_type": "code",
   "execution_count": 320,
   "id": "f54e3435",
   "metadata": {},
   "outputs": [],
   "source": [
    "import numpy as np\n",
    "import matplotlib.pyplot as plt\n",
    "import torch\n",
    "import time\n",
    "import sys\n",
    "sys.setrecursionlimit(10000)\n",
    "%matplotlib qt5"
   ]
  },
  {
   "cell_type": "code",
   "execution_count": 324,
   "id": "b4f79c05",
   "metadata": {},
   "outputs": [],
   "source": [
    "import numpy as np\n",
    "import matplotlib.pyplot as plt\n",
    "import torch\n",
    "\n",
    "import os\n",
    "\n",
    "os.chdir('/home/axtr7550/Chromosome_project/cellbgnet/')\n",
    "import cellbgnet\n",
    "import cellbgnet.utils\n",
    "\n",
    "from cellbgnet.datasets import DataSimulator\n",
    "from cellbgnet.utils.hardware import cpu, gpu\n",
    "from cellbgnet.model import CellBGModel\n",
    "from cellbgnet.simulation.psf_kernel import SMAPSplineCoefficient\n",
    "from cellbgnet.generic.emitter import EmitterSet\n",
    "from cellbgnet.train_loss_infer import generate_probmap_cells\n",
    "\n",
    "os.chdir('/home/axtr7550/Chromosome_project/cellbgnet/notebooks')\n",
    "\n",
    "from skimage.io import imread\n",
    "from skimage.measure import label\n",
    "import random\n",
    "import edt\n",
    "from skimage.filters import gaussian\n",
    "from scipy.ndimage import rotate\n",
    "import random\n",
    "import pickle\n",
    "import pathlib\n",
    "from pathlib import Path\n",
    "\n",
    "import matplotlib\n",
    "import seaborn as sns\n",
    "import pandas as pd\n",
    "%matplotlib qt5"
   ]
  },
  {
   "cell_type": "code",
   "execution_count": 332,
   "id": "5de7c552",
   "metadata": {},
   "outputs": [],
   "source": [
    "param_file = '../cellbgnet/utils/reference_files/reference_Axel_45deg.yaml'\n",
    "param = cellbgnet.utils.param_io.ParamHandling().load_params(param_file)"
   ]
  },
  {
   "cell_type": "code",
   "execution_count": 333,
   "id": "96045f9c",
   "metadata": {},
   "outputs": [],
   "source": [
    "psf_params = param.PSF.to_dict()\n",
    "simulation_params = param.Simulation.to_dict()\n",
    "hardware_params = param.Hardware.to_dict()\n",
    "eval_params = param.Evaluation.to_dict()\n",
    "train_size = simulation_params['train_size']"
   ]
  },
  {
   "cell_type": "code",
   "execution_count": 334,
   "id": "a2bd555f",
   "metadata": {},
   "outputs": [
    {
     "name": "stdout",
     "output_type": "stream",
     "text": [
      "INITIATING CUDA IMPLEMENTATION\n",
      "training sliding windows on camera chip:\n",
      "Area num: 0, field_xy: [0, 127, 0, 127]\n",
      "Area num: 1, field_xy: [114, 241, 0, 127]\n",
      "Area num: 2, field_xy: [228, 355, 0, 127]\n",
      "Area num: 3, field_xy: [342, 469, 0, 127]\n",
      "Area num: 4, field_xy: [456, 583, 0, 127]\n",
      "Area num: 5, field_xy: [570, 697, 0, 127]\n",
      "Area num: 6, field_xy: [684, 811, 0, 127]\n",
      "Area num: 7, field_xy: [798, 925, 0, 127]\n",
      "Area num: 8, field_xy: [912, 1039, 0, 127]\n",
      "Area num: 9, field_xy: [1026, 1153, 0, 127]\n",
      "Area num: 10, field_xy: [1140, 1267, 0, 127]\n",
      "Area num: 11, field_xy: [1174, 1301, 0, 127]\n",
      "Area num: 12, field_xy: [0, 127, 114, 241]\n",
      "Area num: 13, field_xy: [114, 241, 114, 241]\n",
      "Area num: 14, field_xy: [228, 355, 114, 241]\n",
      "Area num: 15, field_xy: [342, 469, 114, 241]\n",
      "Area num: 16, field_xy: [456, 583, 114, 241]\n",
      "Area num: 17, field_xy: [570, 697, 114, 241]\n",
      "Area num: 18, field_xy: [684, 811, 114, 241]\n",
      "Area num: 19, field_xy: [798, 925, 114, 241]\n",
      "Area num: 20, field_xy: [912, 1039, 114, 241]\n",
      "Area num: 21, field_xy: [1026, 1153, 114, 241]\n",
      "Area num: 22, field_xy: [1140, 1267, 114, 241]\n",
      "Area num: 23, field_xy: [1174, 1301, 114, 241]\n",
      "Area num: 24, field_xy: [0, 127, 228, 355]\n",
      "Area num: 25, field_xy: [114, 241, 228, 355]\n",
      "Area num: 26, field_xy: [228, 355, 228, 355]\n",
      "Area num: 27, field_xy: [342, 469, 228, 355]\n",
      "Area num: 28, field_xy: [456, 583, 228, 355]\n",
      "Area num: 29, field_xy: [570, 697, 228, 355]\n",
      "Area num: 30, field_xy: [684, 811, 228, 355]\n",
      "Area num: 31, field_xy: [798, 925, 228, 355]\n",
      "Area num: 32, field_xy: [912, 1039, 228, 355]\n",
      "Area num: 33, field_xy: [1026, 1153, 228, 355]\n",
      "Area num: 34, field_xy: [1140, 1267, 228, 355]\n",
      "Area num: 35, field_xy: [1174, 1301, 228, 355]\n",
      "Area num: 36, field_xy: [0, 127, 342, 469]\n",
      "Area num: 37, field_xy: [114, 241, 342, 469]\n",
      "Area num: 38, field_xy: [228, 355, 342, 469]\n",
      "Area num: 39, field_xy: [342, 469, 342, 469]\n",
      "Area num: 40, field_xy: [456, 583, 342, 469]\n",
      "Area num: 41, field_xy: [570, 697, 342, 469]\n",
      "Area num: 42, field_xy: [684, 811, 342, 469]\n",
      "Area num: 43, field_xy: [798, 925, 342, 469]\n",
      "Area num: 44, field_xy: [912, 1039, 342, 469]\n",
      "Area num: 45, field_xy: [1026, 1153, 342, 469]\n",
      "Area num: 46, field_xy: [1140, 1267, 342, 469]\n",
      "Area num: 47, field_xy: [1174, 1301, 342, 469]\n",
      "Area num: 48, field_xy: [0, 127, 456, 583]\n",
      "Area num: 49, field_xy: [114, 241, 456, 583]\n",
      "Area num: 50, field_xy: [228, 355, 456, 583]\n",
      "Area num: 51, field_xy: [342, 469, 456, 583]\n",
      "Area num: 52, field_xy: [456, 583, 456, 583]\n",
      "Area num: 53, field_xy: [570, 697, 456, 583]\n",
      "Area num: 54, field_xy: [684, 811, 456, 583]\n",
      "Area num: 55, field_xy: [798, 925, 456, 583]\n",
      "Area num: 56, field_xy: [912, 1039, 456, 583]\n",
      "Area num: 57, field_xy: [1026, 1153, 456, 583]\n",
      "Area num: 58, field_xy: [1140, 1267, 456, 583]\n",
      "Area num: 59, field_xy: [1174, 1301, 456, 583]\n",
      "Area num: 60, field_xy: [0, 127, 570, 697]\n",
      "Area num: 61, field_xy: [114, 241, 570, 697]\n",
      "Area num: 62, field_xy: [228, 355, 570, 697]\n",
      "Area num: 63, field_xy: [342, 469, 570, 697]\n",
      "Area num: 64, field_xy: [456, 583, 570, 697]\n",
      "Area num: 65, field_xy: [570, 697, 570, 697]\n",
      "Area num: 66, field_xy: [684, 811, 570, 697]\n",
      "Area num: 67, field_xy: [798, 925, 570, 697]\n",
      "Area num: 68, field_xy: [912, 1039, 570, 697]\n",
      "Area num: 69, field_xy: [1026, 1153, 570, 697]\n",
      "Area num: 70, field_xy: [1140, 1267, 570, 697]\n",
      "Area num: 71, field_xy: [1174, 1301, 570, 697]\n",
      "Area num: 72, field_xy: [0, 127, 684, 811]\n",
      "Area num: 73, field_xy: [114, 241, 684, 811]\n",
      "Area num: 74, field_xy: [228, 355, 684, 811]\n",
      "Area num: 75, field_xy: [342, 469, 684, 811]\n",
      "Area num: 76, field_xy: [456, 583, 684, 811]\n",
      "Area num: 77, field_xy: [570, 697, 684, 811]\n",
      "Area num: 78, field_xy: [684, 811, 684, 811]\n",
      "Area num: 79, field_xy: [798, 925, 684, 811]\n",
      "Area num: 80, field_xy: [912, 1039, 684, 811]\n",
      "Area num: 81, field_xy: [1026, 1153, 684, 811]\n",
      "Area num: 82, field_xy: [1140, 1267, 684, 811]\n",
      "Area num: 83, field_xy: [1174, 1301, 684, 811]\n",
      "Area num: 84, field_xy: [0, 127, 798, 925]\n",
      "Area num: 85, field_xy: [114, 241, 798, 925]\n",
      "Area num: 86, field_xy: [228, 355, 798, 925]\n",
      "Area num: 87, field_xy: [342, 469, 798, 925]\n",
      "Area num: 88, field_xy: [456, 583, 798, 925]\n",
      "Area num: 89, field_xy: [570, 697, 798, 925]\n",
      "Area num: 90, field_xy: [684, 811, 798, 925]\n",
      "Area num: 91, field_xy: [798, 925, 798, 925]\n",
      "Area num: 92, field_xy: [912, 1039, 798, 925]\n",
      "Area num: 93, field_xy: [1026, 1153, 798, 925]\n",
      "Area num: 94, field_xy: [1140, 1267, 798, 925]\n",
      "Area num: 95, field_xy: [1174, 1301, 798, 925]\n",
      "Area num: 96, field_xy: [0, 127, 912, 1039]\n",
      "Area num: 97, field_xy: [114, 241, 912, 1039]\n",
      "Area num: 98, field_xy: [228, 355, 912, 1039]\n",
      "Area num: 99, field_xy: [342, 469, 912, 1039]\n",
      "Area num: 100, field_xy: [456, 583, 912, 1039]\n",
      "Area num: 101, field_xy: [570, 697, 912, 1039]\n",
      "Area num: 102, field_xy: [684, 811, 912, 1039]\n",
      "Area num: 103, field_xy: [798, 925, 912, 1039]\n",
      "Area num: 104, field_xy: [912, 1039, 912, 1039]\n",
      "Area num: 105, field_xy: [1026, 1153, 912, 1039]\n",
      "Area num: 106, field_xy: [1140, 1267, 912, 1039]\n",
      "Area num: 107, field_xy: [1174, 1301, 912, 1039]\n",
      "Area num: 108, field_xy: [0, 127, 913, 1040]\n",
      "Area num: 109, field_xy: [114, 241, 913, 1040]\n",
      "Area num: 110, field_xy: [228, 355, 913, 1040]\n",
      "Area num: 111, field_xy: [342, 469, 913, 1040]\n",
      "Area num: 112, field_xy: [456, 583, 913, 1040]\n",
      "Area num: 113, field_xy: [570, 697, 913, 1040]\n",
      "Area num: 114, field_xy: [684, 811, 913, 1040]\n",
      "Area num: 115, field_xy: [798, 925, 913, 1040]\n",
      "Area num: 116, field_xy: [912, 1039, 913, 1040]\n",
      "Area num: 117, field_xy: [1026, 1153, 913, 1040]\n",
      "Area num: 118, field_xy: [1140, 1267, 913, 1040]\n",
      "Area num: 119, field_xy: [1174, 1301, 913, 1040]\n"
     ]
    }
   ],
   "source": [
    "model = cellbgnet.model.CellBGModel(param)"
   ]
  },
  {
   "cell_type": "code",
   "execution_count": 335,
   "id": "d0ef0765",
   "metadata": {},
   "outputs": [
    {
     "name": "stderr",
     "output_type": "stream",
     "text": [
      "Eval image generation: 100%|████████████████████| 30/30 [00:05<00:00,  5.64it/s]\n"
     ]
    },
    {
     "name": "stdout",
     "output_type": "stream",
     "text": [
      "\n",
      "eval images shape: (30, 1041, 1302) contain 9825 molecules,\n"
     ]
    }
   ],
   "source": [
    "model.init_recorder()\n",
    "model.init_eval_data()"
   ]
  },
  {
   "cell_type": "code",
   "execution_count": 50,
   "id": "854bec90",
   "metadata": {},
   "outputs": [
    {
     "data": {
      "text/plain": [
       "(30, 1041, 1302)"
      ]
     },
     "execution_count": 50,
     "metadata": {},
     "output_type": "execute_result"
    }
   ],
   "source": [
    "model.evaluation_params['eval_imgs'].shape"
   ]
  },
  {
   "cell_type": "code",
   "execution_count": 51,
   "id": "ddff40c6",
   "metadata": {},
   "outputs": [
    {
     "data": {
      "text/plain": [
       "{'train_size': 128,\n",
       " 'train_type': 'cells',\n",
       " 'psf_intensity_normalization': True,\n",
       " 'density': 0.003125,\n",
       " 'non_cell_density': 10,\n",
       " 'margin_empty': 0.05,\n",
       " 'z_prior': [-1, 1],\n",
       " 'survival_prob': None,\n",
       " 'min_photon': 0.25,\n",
       " 'camera': 'sCMOS',\n",
       " 'camera_chip_size': [1041, 1302],\n",
       " 'perlin_noise': False,\n",
       " 'perlin_noise_factor': 0.2,\n",
       " 'perlin_noise_res': 64,\n",
       " 'baseline': 103.0,\n",
       " 'bg_values': 112.0,\n",
       " 'e_per_adu': 0.4,\n",
       " 'qe': 0.95,\n",
       " 'spurious_c': 0.0,\n",
       " 'sig_read': '/home/axtr7550/Chromosome_project/data/chromosome_dots/pooled_8865/RN_e_venus.tiff',\n",
       " 'robust_training': False,\n",
       " 'cell_masks_dir': '/home/axtr7550/Chromosome_project/data/replisome_dots/pool_3024/phase_venus_mask/',\n",
       " 'cell_masks_filetype': '.png',\n",
       " 'edt_noise_map_path': '/home/axtr7550/Chromosome_project/data/replisome_dots/pool_3024/edt_noise.pkl',\n",
       " 'min_edt': 0,\n",
       " 'max_edt': 6,\n",
       " 'augment': True}"
      ]
     },
     "execution_count": 51,
     "metadata": {},
     "output_type": "execute_result"
    }
   ],
   "source": [
    "simulation_params"
   ]
  },
  {
   "cell_type": "code",
   "execution_count": 52,
   "id": "568b470c",
   "metadata": {},
   "outputs": [
    {
     "name": "stdout",
     "output_type": "stream",
     "text": [
      "Started training .... \n",
      "IN CUDA! /nIN CUDA! /nIN CUDA! /nIN CUDA! /nIN CUDA! /nIN CUDA! /nIN CUDA! /nIN CUDA! /nIN CUDA! /nIN CUDA! /nIN CUDA! /nIN CUDA! /nIN CUDA! /nIN CUDA! /nIN CUDA! /nIN CUDA! /nIN CUDA! /nIN CUDA! /nIN CUDA! /nIN CUDA! /nIN CUDA! /nIN CUDA! /nIN CUDA! /nIN CUDA! /nIN CUDA! /nIN CUDA! /nIN CUDA! /nIN CUDA! /nIN CUDA! /nIN CUDA! /nIN CUDA! /nIN CUDA! /nIN CUDA! /nIN CUDA! /nIN CUDA! /nIN CUDA! /nIN CUDA! /nIN CUDA! /nIN CUDA! /nIN CUDA! /nIN CUDA! /nIN CUDA! /nIN CUDA! /nIN CUDA! /nIN CUDA! /nIN CUDA! /nIN CUDA! /nIN CUDA! /nIN CUDA! /nIN CUDA! /nIN CUDA! /nIN CUDA! /nIN CUDA! /nIN CUDA! /nIN CUDA! /nIN CUDA! /nIN CUDA! /nIN CUDA! /nIN CUDA! /nIN CUDA! /nIN CUDA! /nIN CUDA! /nIN CUDA! /nIN CUDA! /nIN CUDA! /nIN CUDA! /nIN CUDA! /nIN CUDA! /nIN CUDA! /nIN CUDA! /nIN CUDA! /nIN CUDA! /nIN CUDA! /nIN CUDA! /nIN CUDA! /nIN CUDA! /nIN CUDA! /nIN CUDA! /nIN CUDA! /nIN CUDA! /nIN CUDA! /nIN CUDA! /nIN CUDA! /nIN CUDA! /nIN CUDA! /nIN CUDA! /nIN CUDA! /nIN CUDA! /nIN CUDA! /nIN CUDA! /nIN CUDA! /nIN CUDA! /nIN CUDA! /nIN CUDA! /nIN CUDA! /nIN CUDA! /nIN CUDA! /nIN CUDA! /nIN CUDA! /nIN CUDA! /n || Cost: 22129.131 || Time Upd.: 387.0 ms  || BatchNr.: 100\n",
      "IN CUDA! /nIN CUDA! /nIN CUDA! /nIN CUDA! /nIN CUDA! /nIN CUDA! /nIN CUDA! /nIN CUDA! /nIN CUDA! /nIN CUDA! /nIN CUDA! /nIN CUDA! /nIN CUDA! /nIN CUDA! /nIN CUDA! /nIN CUDA! /nIN CUDA! /nIN CUDA! /nIN CUDA! /nIN CUDA! /nIN CUDA! /nIN CUDA! /nIN CUDA! /nIN CUDA! /nIN CUDA! /nIN CUDA! /nIN CUDA! /nIN CUDA! /nIN CUDA! /nIN CUDA! /nIN CUDA! /nIN CUDA! /nIN CUDA! /nIN CUDA! /nIN CUDA! /nIN CUDA! /nIN CUDA! /nIN CUDA! /nIN CUDA! /nIN CUDA! /nIN CUDA! /nIN CUDA! /nIN CUDA! /nIN CUDA! /nIN CUDA! /nIN CUDA! /nIN CUDA! /nIN CUDA! /nIN CUDA! /nIN CUDA! /nIN CUDA! /nIN CUDA! /nIN CUDA! /nIN CUDA! /nIN CUDA! /nIN CUDA! /nIN CUDA! /nIN CUDA! /nIN CUDA! /nIN CUDA! /nIN CUDA! /nIN CUDA! /nIN CUDA! /nIN CUDA! /nIN CUDA! /nIN CUDA! /nIN CUDA! /nIN CUDA! /nIN CUDA! /nIN CUDA! /nIN CUDA! /nIN CUDA! /nIN CUDA! /nIN CUDA! /nIN CUDA! /nIN CUDA! /nIN CUDA! /nIN CUDA! /nIN CUDA! /nIN CUDA! /nIN CUDA! /nIN CUDA! /nIN CUDA! /nIN CUDA! /nIN CUDA! /nIN CUDA! /nIN CUDA! /nIN CUDA! /nIN CUDA! /nIN CUDA! /nIN CUDA! /nIN CUDA! /nIN CUDA! /nIN CUDA! /nIN CUDA! /nIN CUDA! /nIN CUDA! /nIN CUDA! /nIN CUDA! /nIN CUDA! /n || Cost: 292.558 || Time Upd.: 388.8 ms  || BatchNr.: 200\n",
      "IN CUDA! /nIN CUDA! /nIN CUDA! /nIN CUDA! /nIN CUDA! /nIN CUDA! /nIN CUDA! /nIN CUDA! /nIN CUDA! /nIN CUDA! /nIN CUDA! /nIN CUDA! /nIN CUDA! /nIN CUDA! /nIN CUDA! /nIN CUDA! /nIN CUDA! /nIN CUDA! /nIN CUDA! /nIN CUDA! /nIN CUDA! /nIN CUDA! /nIN CUDA! /nIN CUDA! /nIN CUDA! /nIN CUDA! /nIN CUDA! /nIN CUDA! /nIN CUDA! /nIN CUDA! /nIN CUDA! /nIN CUDA! /nIN CUDA! /nIN CUDA! /nIN CUDA! /nIN CUDA! /nIN CUDA! /nIN CUDA! /nIN CUDA! /nIN CUDA! /nIN CUDA! /nIN CUDA! /nIN CUDA! /nIN CUDA! /nIN CUDA! /nIN CUDA! /nIN CUDA! /nIN CUDA! /nIN CUDA! /nIN CUDA! /nIN CUDA! /nIN CUDA! /nIN CUDA! /nIN CUDA! /nIN CUDA! /nIN CUDA! /nIN CUDA! /nIN CUDA! /nIN CUDA! /nIN CUDA! /nIN CUDA! /nIN CUDA! /nIN CUDA! /nIN CUDA! /nIN CUDA! /nIN CUDA! /nIN CUDA! /nIN CUDA! /nIN CUDA! /nIN CUDA! /nIN CUDA! /nIN CUDA! /nIN CUDA! /nIN CUDA! /nIN CUDA! /nIN CUDA! /nIN CUDA! /nIN CUDA! /nIN CUDA! /nIN CUDA! /nIN CUDA! /nIN CUDA! /nIN CUDA! /nIN CUDA! /nIN CUDA! /nIN CUDA! /nIN CUDA! /nIN CUDA! /nIN CUDA! /nIN CUDA! /nIN CUDA! /nIN CUDA! /nIN CUDA! /nIN CUDA! /nIN CUDA! /nIN CUDA! /nIN CUDA! /nIN CUDA! /nIN CUDA! /nIN CUDA! /n || Cost: 140.898 || Time Upd.: 390.8 ms  || BatchNr.: 300\n",
      "IN CUDA! /nIN CUDA! /nIN CUDA! /nIN CUDA! /nIN CUDA! /nIN CUDA! /nIN CUDA! /nIN CUDA! /nIN CUDA! /nIN CUDA! /nIN CUDA! /nIN CUDA! /nIN CUDA! /nIN CUDA! /nIN CUDA! /nIN CUDA! /nIN CUDA! /nIN CUDA! /nIN CUDA! /nIN CUDA! /nIN CUDA! /nIN CUDA! /nIN CUDA! /nIN CUDA! /nIN CUDA! /nIN CUDA! /nIN CUDA! /nIN CUDA! /nIN CUDA! /nIN CUDA! /nIN CUDA! /nIN CUDA! /nIN CUDA! /nIN CUDA! /nIN CUDA! /nIN CUDA! /nIN CUDA! /nIN CUDA! /nIN CUDA! /nIN CUDA! /nIN CUDA! /nIN CUDA! /nIN CUDA! /nIN CUDA! /nIN CUDA! /nIN CUDA! /nIN CUDA! /nIN CUDA! /nIN CUDA! /nIN CUDA! /nIN CUDA! /nIN CUDA! /nIN CUDA! /nIN CUDA! /nIN CUDA! /nIN CUDA! /nIN CUDA! /nIN CUDA! /nIN CUDA! /nIN CUDA! /nIN CUDA! /nIN CUDA! /nIN CUDA! /nIN CUDA! /nIN CUDA! /nIN CUDA! /nIN CUDA! /nIN CUDA! /nIN CUDA! /nIN CUDA! /nIN CUDA! /nIN CUDA! /nIN CUDA! /nIN CUDA! /nIN CUDA! /nIN CUDA! /nIN CUDA! /nIN CUDA! /nIN CUDA! /nIN CUDA! /nIN CUDA! /nIN CUDA! /nIN CUDA! /nIN CUDA! /nIN CUDA! /nIN CUDA! /nIN CUDA! /nIN CUDA! /nIN CUDA! /nIN CUDA! /nIN CUDA! /nIN CUDA! /nIN CUDA! /nIN CUDA! /nIN CUDA! /nIN CUDA! /nIN CUDA! /nIN CUDA! /nIN CUDA! /nIN CUDA! /n || Cost: 84.351 || Time Upd.: 389.2 ms  || BatchNr.: 400\n",
      "IN CUDA! /nIN CUDA! /nIN CUDA! /nIN CUDA! /nIN CUDA! /nIN CUDA! /nIN CUDA! /nIN CUDA! /nIN CUDA! /nIN CUDA! /nIN CUDA! /nIN CUDA! /nIN CUDA! /nIN CUDA! /nIN CUDA! /nIN CUDA! /nIN CUDA! /nIN CUDA! /nIN CUDA! /nIN CUDA! /nIN CUDA! /nIN CUDA! /nIN CUDA! /nIN CUDA! /nIN CUDA! /nIN CUDA! /nIN CUDA! /nIN CUDA! /nIN CUDA! /nIN CUDA! /nIN CUDA! /nIN CUDA! /nIN CUDA! /nIN CUDA! /nIN CUDA! /nIN CUDA! /nIN CUDA! /nIN CUDA! /nIN CUDA! /nIN CUDA! /nIN CUDA! /nIN CUDA! /nIN CUDA! /nIN CUDA! /nIN CUDA! /nIN CUDA! /nIN CUDA! /nIN CUDA! /nIN CUDA! /nIN CUDA! /nIN CUDA! /nIN CUDA! /nIN CUDA! /nIN CUDA! /nIN CUDA! /nIN CUDA! /nIN CUDA! /nIN CUDA! /nIN CUDA! /nIN CUDA! /nIN CUDA! /nIN CUDA! /nIN CUDA! /nIN CUDA! /nIN CUDA! /nIN CUDA! /nIN CUDA! /nIN CUDA! /nIN CUDA! /nIN CUDA! /nIN CUDA! /nIN CUDA! /nIN CUDA! /nIN CUDA! /nIN CUDA! /nIN CUDA! /nIN CUDA! /nIN CUDA! /nIN CUDA! /nIN CUDA! /nIN CUDA! /nIN CUDA! /nIN CUDA! /nIN CUDA! /nIN CUDA! /nIN CUDA! /nIN CUDA! /nIN CUDA! /nIN CUDA! /nIN CUDA! /nIN CUDA! /nIN CUDA! /nIN CUDA! /nIN CUDA! /nIN CUDA! /nIN CUDA! /nIN CUDA! /nIN CUDA! /nIN CUDA! /nIN CUDA! /n || Cost: 73.347 || Time Upd.: 386.7 ms  || BatchNr.: 500\n",
      "IN CUDA! /nIN CUDA! /nIN CUDA! /nIN CUDA! /nIN CUDA! /nIN CUDA! /nIN CUDA! /nIN CUDA! /nIN CUDA! /nIN CUDA! /nIN CUDA! /nIN CUDA! /nIN CUDA! /nIN CUDA! /nIN CUDA! /nIN CUDA! /nIN CUDA! /nIN CUDA! /nIN CUDA! /nIN CUDA! /nIN CUDA! /nIN CUDA! /nIN CUDA! /nIN CUDA! /nIN CUDA! /nIN CUDA! /nIN CUDA! /nIN CUDA! /nIN CUDA! /nIN CUDA! /nIN CUDA! /nIN CUDA! /nIN CUDA! /nIN CUDA! /nIN CUDA! /nIN CUDA! /nIN CUDA! /nIN CUDA! /nIN CUDA! /nIN CUDA! /nIN CUDA! /nIN CUDA! /nIN CUDA! /nIN CUDA! /nIN CUDA! /nIN CUDA! /nIN CUDA! /nIN CUDA! /nIN CUDA! /nIN CUDA! /nIN CUDA! /nIN CUDA! /nIN CUDA! /nIN CUDA! /nIN CUDA! /nIN CUDA! /nIN CUDA! /nIN CUDA! /nIN CUDA! /nIN CUDA! /nIN CUDA! /nIN CUDA! /nIN CUDA! /nIN CUDA! /nIN CUDA! /nIN CUDA! /nIN CUDA! /nIN CUDA! /nIN CUDA! /nIN CUDA! /nIN CUDA! /nIN CUDA! /nIN CUDA! /nIN CUDA! /nIN CUDA! /nIN CUDA! /nIN CUDA! /nIN CUDA! /nIN CUDA! /nIN CUDA! /nIN CUDA! /nIN CUDA! /nIN CUDA! /nIN CUDA! /nIN CUDA! /nIN CUDA! /nIN CUDA! /nIN CUDA! /nIN CUDA! /nIN CUDA! /nIN CUDA! /nIN CUDA! /nIN CUDA! /nIN CUDA! /nIN CUDA! /nIN CUDA! /nIN CUDA! /nIN CUDA! /nIN CUDA! /nIN CUDA! /n || Cost: 55.268 || Time Upd.: 385.6 ms  || BatchNr.: 600\n",
      "IN CUDA! /nIN CUDA! /nIN CUDA! /nIN CUDA! /nIN CUDA! /nIN CUDA! /nIN CUDA! /nIN CUDA! /nIN CUDA! /nIN CUDA! /nIN CUDA! /nIN CUDA! /nIN CUDA! /nIN CUDA! /nIN CUDA! /nIN CUDA! /nIN CUDA! /nIN CUDA! /nIN CUDA! /nIN CUDA! /nIN CUDA! /nIN CUDA! /nIN CUDA! /nIN CUDA! /nIN CUDA! /nIN CUDA! /nIN CUDA! /nIN CUDA! /nIN CUDA! /nIN CUDA! /nIN CUDA! /nIN CUDA! /nIN CUDA! /nIN CUDA! /nIN CUDA! /nIN CUDA! /nIN CUDA! /nIN CUDA! /nIN CUDA! /nIN CUDA! /nIN CUDA! /nIN CUDA! /nIN CUDA! /nIN CUDA! /nIN CUDA! /nIN CUDA! /nIN CUDA! /nIN CUDA! /nIN CUDA! /nIN CUDA! /nIN CUDA! /nIN CUDA! /nIN CUDA! /nIN CUDA! /nIN CUDA! /nIN CUDA! /nIN CUDA! /nIN CUDA! /nIN CUDA! /nIN CUDA! /nIN CUDA! /nIN CUDA! /nIN CUDA! /nIN CUDA! /nIN CUDA! /nIN CUDA! /nIN CUDA! /nIN CUDA! /nIN CUDA! /nIN CUDA! /nIN CUDA! /nIN CUDA! /nIN CUDA! /nIN CUDA! /nIN CUDA! /nIN CUDA! /nIN CUDA! /nIN CUDA! /nIN CUDA! /nIN CUDA! /nIN CUDA! /nIN CUDA! /nIN CUDA! /nIN CUDA! /nIN CUDA! /nIN CUDA! /nIN CUDA! /nIN CUDA! /nIN CUDA! /nIN CUDA! /nIN CUDA! /nIN CUDA! /nIN CUDA! /nIN CUDA! /nIN CUDA! /nIN CUDA! /nIN CUDA! /nIN CUDA! /nIN CUDA! /nIN CUDA! /n || Cost: 49.586 || Time Upd.: 384.9 ms  || BatchNr.: 700\n",
      "IN CUDA! /nIN CUDA! /nIN CUDA! /nIN CUDA! /nIN CUDA! /nIN CUDA! /nIN CUDA! /nIN CUDA! /nIN CUDA! /nIN CUDA! /nIN CUDA! /nIN CUDA! /nIN CUDA! /nIN CUDA! /nIN CUDA! /nIN CUDA! /nIN CUDA! /nIN CUDA! /nIN CUDA! /nIN CUDA! /nIN CUDA! /nIN CUDA! /nIN CUDA! /nIN CUDA! /nIN CUDA! /nIN CUDA! /nIN CUDA! /nIN CUDA! /nIN CUDA! /nIN CUDA! /nIN CUDA! /nIN CUDA! /nIN CUDA! /nIN CUDA! /nIN CUDA! /nIN CUDA! /nIN CUDA! /nIN CUDA! /nIN CUDA! /nIN CUDA! /nIN CUDA! /nIN CUDA! /nIN CUDA! /nIN CUDA! /nIN CUDA! /nIN CUDA! /nIN CUDA! /nIN CUDA! /nIN CUDA! /nIN CUDA! /nIN CUDA! /nIN CUDA! /nIN CUDA! /nIN CUDA! /nIN CUDA! /nIN CUDA! /nIN CUDA! /nIN CUDA! /nIN CUDA! /nIN CUDA! /nIN CUDA! /nIN CUDA! /nIN CUDA! /nIN CUDA! /nIN CUDA! /nIN CUDA! /nIN CUDA! /nIN CUDA! /nIN CUDA! /nIN CUDA! /nIN CUDA! /nIN CUDA! /nIN CUDA! /nIN CUDA! /nIN CUDA! /nIN CUDA! /nIN CUDA! /nIN CUDA! /nIN CUDA! /nIN CUDA! /nIN CUDA! /nIN CUDA! /nIN CUDA! /nIN CUDA! /nIN CUDA! /nIN CUDA! /nIN CUDA! /nIN CUDA! /nIN CUDA! /nIN CUDA! /nIN CUDA! /nIN CUDA! /nIN CUDA! /nIN CUDA! /nIN CUDA! /nIN CUDA! /nIN CUDA! /nIN CUDA! /nIN CUDA! /nIN CUDA! /n || Cost: 45.131 || Time Upd.: 383.9 ms  || BatchNr.: 800\n",
      "IN CUDA! /nIN CUDA! /nIN CUDA! /nIN CUDA! /nIN CUDA! /nIN CUDA! /nIN CUDA! /nIN CUDA! /nIN CUDA! /nIN CUDA! /nIN CUDA! /nIN CUDA! /nIN CUDA! /nIN CUDA! /nIN CUDA! /nIN CUDA! /nIN CUDA! /nIN CUDA! /nIN CUDA! /nIN CUDA! /nIN CUDA! /nIN CUDA! /nIN CUDA! /nIN CUDA! /nIN CUDA! /nIN CUDA! /nIN CUDA! /nIN CUDA! /nIN CUDA! /nIN CUDA! /nIN CUDA! /nIN CUDA! /nIN CUDA! /nIN CUDA! /nIN CUDA! /nIN CUDA! /nIN CUDA! /nIN CUDA! /nIN CUDA! /nIN CUDA! /nIN CUDA! /nIN CUDA! /nIN CUDA! /nIN CUDA! /nIN CUDA! /nIN CUDA! /nIN CUDA! /nIN CUDA! /nIN CUDA! /nIN CUDA! /nIN CUDA! /nIN CUDA! /nIN CUDA! /nIN CUDA! /nIN CUDA! /nIN CUDA! /nIN CUDA! /nIN CUDA! /nIN CUDA! /nIN CUDA! /nIN CUDA! /nIN CUDA! /nIN CUDA! /nIN CUDA! /nIN CUDA! /nIN CUDA! /nIN CUDA! /nIN CUDA! /nIN CUDA! /nIN CUDA! /nIN CUDA! /nIN CUDA! /nIN CUDA! /nIN CUDA! /nIN CUDA! /nIN CUDA! /nIN CUDA! /nIN CUDA! /nIN CUDA! /nIN CUDA! /nIN CUDA! /nIN CUDA! /nIN CUDA! /nIN CUDA! /nIN CUDA! /nIN CUDA! /nIN CUDA! /nIN CUDA! /nIN CUDA! /nIN CUDA! /nIN CUDA! /nIN CUDA! /nIN CUDA! /nIN CUDA! /nIN CUDA! /nIN CUDA! /nIN CUDA! /nIN CUDA! /nIN CUDA! /nIN CUDA! /n || Cost: 42.904 || Time Upd.: 384.7 ms  || BatchNr.: 900\n",
      "IN CUDA! /nIN CUDA! /nIN CUDA! /nIN CUDA! /nIN CUDA! /nIN CUDA! /nIN CUDA! /nIN CUDA! /nIN CUDA! /nIN CUDA! /nIN CUDA! /nIN CUDA! /nIN CUDA! /nIN CUDA! /nIN CUDA! /nIN CUDA! /nIN CUDA! /nIN CUDA! /nIN CUDA! /nIN CUDA! /nIN CUDA! /nIN CUDA! /nIN CUDA! /nIN CUDA! /nIN CUDA! /nIN CUDA! /nIN CUDA! /nIN CUDA! /nIN CUDA! /nIN CUDA! /nIN CUDA! /nIN CUDA! /nIN CUDA! /nIN CUDA! /nIN CUDA! /nIN CUDA! /nIN CUDA! /nIN CUDA! /nIN CUDA! /nIN CUDA! /nIN CUDA! /nIN CUDA! /nIN CUDA! /nIN CUDA! /nIN CUDA! /nIN CUDA! /nIN CUDA! /nIN CUDA! /nIN CUDA! /nIN CUDA! /nIN CUDA! /nIN CUDA! /nIN CUDA! /nIN CUDA! /nIN CUDA! /nIN CUDA! /nIN CUDA! /nIN CUDA! /nIN CUDA! /nIN CUDA! /nIN CUDA! /nIN CUDA! /nIN CUDA! /nIN CUDA! /nIN CUDA! /nIN CUDA! /nIN CUDA! /nIN CUDA! /nIN CUDA! /nIN CUDA! /nIN CUDA! /nIN CUDA! /nIN CUDA! /nIN CUDA! /nIN CUDA! /nIN CUDA! /nIN CUDA! /nIN CUDA! /nIN CUDA! /nIN CUDA! /nIN CUDA! /nIN CUDA! /nIN CUDA! /nIN CUDA! /nIN CUDA! /nIN CUDA! /nIN CUDA! /nIN CUDA! /nIN CUDA! /nIN CUDA! /nIN CUDA! /nIN CUDA! /nIN CUDA! /nIN CUDA! /nIN CUDA! /nIN CUDA! /nIN CUDA! /nIN CUDA! /nIN CUDA! /nIN CUDA! /n || Cost: 36.322 || Time Upd.: 388.9 ms  || BatchNr.: 1000\n",
      "processing area:99/99, input field_xy:[1258 1301 1001 1040], use_coordconv:True, retain locs in area:[1278, 1301, 1021, 1040]UDA! /nIN CUDA! /nIN CUDA! /nIN CUDA! /nIN CUDA! /nIN CUDA! /nIN CUDA! /nIN CUDA! /nIN CUDA! /nIN CUDA! /nIN CUDA! /nIN CUDA! /nIN CUDA! /nIN CUDA! /nIN CUDA! /nIN CUDA! /nIN CUDA! /nIN CUDA! /nIN CUDA! /nIN CUDA! /nIN CUDA! /nIN CUDA! /nIN CUDA! /nIN CUDA! /nIN CUDA! /nIN CUDA! /nIN CUDA! /nIN CUDA! /nIN CUDA! /nIN CUDA! /nIN CUDA! /nIN CUDA! /nIN CUDA! /nIN CUDA! /nIN CUDA! /nIN CUDA! /nIN CUDA! /nIN CUDA! /nIN CUDA! /nIN CUDA! /nIN CUDA! /nIN CUDA! /nIN CUDA! /nIN CUDA! /nIN CUDA! /nIN CUDA! /nIN CUDA! /nIN CUDA! /nIN CUDA! /nIN CUDA! /nIN CUDA! /nIN CUDA! /nIN CUDA! /nIN CUDA! /nIN CUDA! /nIN CUDA! /nIN CUDA! /nIN CUDA! /nIN CUDA! /nIN CUDA! /nIN CUDA! /nIN CUDA! /nIN CUDA! /nIN CUDA! /nIN CUDA! /nIN CUDA! /nIN CUDA! /nIN CUDA! /nIN CUDA! /nIN CUDA! /nIN CUDA! /nIN CUDA! /nIN CUDA! /nIN CUDA! /nIN CUDA! /nIN CUDA! /nIN CUDA! /nIN CUDA! /nIN CUDA! /nIN CUDA! /nIN CUDA! /nIN CUDA! /nIN CUDA! /nIN CUDA! /nIN CUDA! /nIN CUDA! /nIN CUDA! /nIN CUDA! /nIN CUDA! /n\n",
      "\n",
      "evaluation on 30 images, contain ground truth: 10094FOV: x=[0, 84630] y=[0, 67665]\n",
      "after FOV and border segmentation,truth: 10094 ,preds: 5646\n",
      "JoR: 1.127 || Eff_3d: 38.837 || Jaccard: 0.558 || Factor: 258.306 || RMSE_lat: 49.516 || RMSE_ax: 68.596 || RMSE_x: 33.653 || RMSE_y: 36.322 || Cost: 33.446 || Recall: 0.558 || Precision: 0.998 || BatchNr.: 1100 || Time Upd.: 392.3 ms \n",
      " || Count Cost: 15.5952 || Localization Cost: 18.7755 || Bg Cost: 0.0691 || P_locs Cost: 24.0846saving this model, eff_3d, rmse_lat, rmse_ax and BatchNr are : 38.837 || 49.516 || 68.596 || 1100\n",
      "\n",
      "\n",
      "processing area:99/99, input field_xy:[1258 1301 1001 1040], use_coordconv:True, retain locs in area:[1278, 1301, 1021, 1040]UDA! /nIN CUDA! /nIN CUDA! /nIN CUDA! /nIN CUDA! /nIN CUDA! /nIN CUDA! /nIN CUDA! /nIN CUDA! /nIN CUDA! /nIN CUDA! /nIN CUDA! /nIN CUDA! /nIN CUDA! /nIN CUDA! /nIN CUDA! /nIN CUDA! /nIN CUDA! /nIN CUDA! /nIN CUDA! /nIN CUDA! /nIN CUDA! /nIN CUDA! /nIN CUDA! /nIN CUDA! /nIN CUDA! /nIN CUDA! /nIN CUDA! /nIN CUDA! /nIN CUDA! /nIN CUDA! /nIN CUDA! /nIN CUDA! /nIN CUDA! /nIN CUDA! /nIN CUDA! /nIN CUDA! /nIN CUDA! /nIN CUDA! /nIN CUDA! /nIN CUDA! /nIN CUDA! /nIN CUDA! /nIN CUDA! /nIN CUDA! /nIN CUDA! /nIN CUDA! /nIN CUDA! /nIN CUDA! /nIN CUDA! /nIN CUDA! /nIN CUDA! /nIN CUDA! /nIN CUDA! /nIN CUDA! /nIN CUDA! /nIN CUDA! /nIN CUDA! /nIN CUDA! /nIN CUDA! /nIN CUDA! /nIN CUDA! /nIN CUDA! /nIN CUDA! /nIN CUDA! /nIN CUDA! /nIN CUDA! /nIN CUDA! /nIN CUDA! /nIN CUDA! /nIN CUDA! /nIN CUDA! /nIN CUDA! /nIN CUDA! /nIN CUDA! /nIN CUDA! /nIN CUDA! /nIN CUDA! /nIN CUDA! /nIN CUDA! /nIN CUDA! /nIN CUDA! /nIN CUDA! /nIN CUDA! /nIN CUDA! /nIN CUDA! /nIN CUDA! /nIN CUDA! /nIN CUDA! /n\n",
      "\n",
      "evaluation on 30 images, contain ground truth: 10094FOV: x=[0, 84630] y=[0, 67665]\n",
      "after FOV and border segmentation,truth: 10094 ,preds: 5956\n",
      "JoR: 1.066 || Eff_3d: 39.022 || Jaccard: 0.588 || Factor: 351.805 || RMSE_lat: 55.122 || RMSE_ax: 66.985 || RMSE_x: 35.205 || RMSE_y: 42.415 || Cost: 30.816 || Recall: 0.589 || Precision: 0.997 || BatchNr.: 1200 || Time Upd.: 389.5 ms \n",
      " || Count Cost: 15.5297 || Localization Cost: 17.0315 || Bg Cost: 0.0608 || P_locs Cost: 23.2455saving this model, eff_3d, rmse_lat, rmse_ax and BatchNr are : 39.022 || 55.122 || 66.985 || 1200\n",
      "\n",
      "\n",
      "processing area:99/99, input field_xy:[1258 1301 1001 1040], use_coordconv:True, retain locs in area:[1278, 1301, 1021, 1040]UDA! /nIN CUDA! /nIN CUDA! /nIN CUDA! /nIN CUDA! /nIN CUDA! /nIN CUDA! /nIN CUDA! /nIN CUDA! /nIN CUDA! /nIN CUDA! /nIN CUDA! /nIN CUDA! /nIN CUDA! /nIN CUDA! /nIN CUDA! /nIN CUDA! /nIN CUDA! /nIN CUDA! /nIN CUDA! /nIN CUDA! /nIN CUDA! /nIN CUDA! /nIN CUDA! /nIN CUDA! /nIN CUDA! /nIN CUDA! /nIN CUDA! /nIN CUDA! /nIN CUDA! /nIN CUDA! /nIN CUDA! /nIN CUDA! /nIN CUDA! /nIN CUDA! /nIN CUDA! /nIN CUDA! /nIN CUDA! /nIN CUDA! /nIN CUDA! /nIN CUDA! /nIN CUDA! /nIN CUDA! /nIN CUDA! /nIN CUDA! /nIN CUDA! /nIN CUDA! /nIN CUDA! /nIN CUDA! /nIN CUDA! /nIN CUDA! /nIN CUDA! /nIN CUDA! /nIN CUDA! /nIN CUDA! /nIN CUDA! /nIN CUDA! /nIN CUDA! /nIN CUDA! /nIN CUDA! /nIN CUDA! /nIN CUDA! /nIN CUDA! /nIN CUDA! /nIN CUDA! /nIN CUDA! /nIN CUDA! /nIN CUDA! /nIN CUDA! /nIN CUDA! /nIN CUDA! /nIN CUDA! /nIN CUDA! /nIN CUDA! /nIN CUDA! /nIN CUDA! /nIN CUDA! /nIN CUDA! /nIN CUDA! /nIN CUDA! /nIN CUDA! /nIN CUDA! /nIN CUDA! /nIN CUDA! /nIN CUDA! /nIN CUDA! /nIN CUDA! /nIN CUDA! /nIN CUDA! /n\n",
      "\n",
      "evaluation on 30 images, contain ground truth: 10094FOV: x=[0, 84630] y=[0, 67665]\n",
      "after FOV and border segmentation,truth: 10094 ,preds: 7281\n",
      "JoR: 1.206 || Eff_3d: 39.901 || Jaccard: 0.709 || Factor: 390.123 || RMSE_lat: 58.792 || RMSE_ax: 92.423 || RMSE_x: 41.072 || RMSE_y: 42.067 || Cost: 30.880 || Recall: 0.714 || Precision: 0.990 || BatchNr.: 1300 || Time Upd.: 389.2 ms \n",
      " || Count Cost: 15.3769 || Localization Cost: 16.7093 || Bg Cost: 0.0665 || P_locs Cost: 23.1016saving this model, eff_3d, rmse_lat, rmse_ax and BatchNr are : 39.901 || 58.792 || 92.423 || 1300\n",
      "\n",
      "\n",
      "processing area:99/99, input field_xy:[1258 1301 1001 1040], use_coordconv:True, retain locs in area:[1278, 1301, 1021, 1040]UDA! /nIN CUDA! /nIN CUDA! /nIN CUDA! /nIN CUDA! /nIN CUDA! /nIN CUDA! /nIN CUDA! /nIN CUDA! /nIN CUDA! /nIN CUDA! /nIN CUDA! /nIN CUDA! /nIN CUDA! /nIN CUDA! /nIN CUDA! /nIN CUDA! /nIN CUDA! /nIN CUDA! /nIN CUDA! /nIN CUDA! /nIN CUDA! /nIN CUDA! /nIN CUDA! /nIN CUDA! /nIN CUDA! /nIN CUDA! /nIN CUDA! /nIN CUDA! /nIN CUDA! /nIN CUDA! /nIN CUDA! /nIN CUDA! /nIN CUDA! /nIN CUDA! /nIN CUDA! /nIN CUDA! /nIN CUDA! /nIN CUDA! /nIN CUDA! /nIN CUDA! /nIN CUDA! /nIN CUDA! /nIN CUDA! /nIN CUDA! /nIN CUDA! /nIN CUDA! /nIN CUDA! /nIN CUDA! /nIN CUDA! /nIN CUDA! /nIN CUDA! /nIN CUDA! /nIN CUDA! /nIN CUDA! /nIN CUDA! /nIN CUDA! /nIN CUDA! /nIN CUDA! /nIN CUDA! /nIN CUDA! /nIN CUDA! /nIN CUDA! /nIN CUDA! /nIN CUDA! /nIN CUDA! /nIN CUDA! /nIN CUDA! /nIN CUDA! /nIN CUDA! /nIN CUDA! /nIN CUDA! /nIN CUDA! /nIN CUDA! /nIN CUDA! /nIN CUDA! /nIN CUDA! /nIN CUDA! /nIN CUDA! /nIN CUDA! /nIN CUDA! /nIN CUDA! /nIN CUDA! /nIN CUDA! /nIN CUDA! /nIN CUDA! /nIN CUDA! /nIN CUDA! /nIN CUDA! /n\n",
      "\n",
      "evaluation on 30 images, contain ground truth: 10094FOV: x=[0, 84630] y=[0, 67665]\n",
      "after FOV and border segmentation,truth: 10094 ,preds: 7309\n",
      "JoR: 1.349 || Eff_3d: 47.901 || Jaccard: 0.714 || Factor: 400.846 || RMSE_lat: 52.911 || RMSE_ax: 66.882 || RMSE_x: 40.839 || RMSE_y: 33.642 || Cost: 30.107 || Recall: 0.718 || Precision: 0.992 || BatchNr.: 1400 || Time Upd.: 384.4 ms \n",
      " || Count Cost: 15.9127 || Localization Cost: 16.3889 || Bg Cost: 0.0601 || P_locs Cost: 22.9000saving this model, eff_3d, rmse_lat, rmse_ax and BatchNr are : 47.901 || 52.911 || 66.882 || 1400\n",
      "\n",
      "\n",
      "processing area:99/99, input field_xy:[1258 1301 1001 1040], use_coordconv:True, retain locs in area:[1278, 1301, 1021, 1040]UDA! /nIN CUDA! /nIN CUDA! /nIN CUDA! /nIN CUDA! /nIN CUDA! /nIN CUDA! /nIN CUDA! /nIN CUDA! /nIN CUDA! /nIN CUDA! /nIN CUDA! /nIN CUDA! /nIN CUDA! /nIN CUDA! /nIN CUDA! /nIN CUDA! /nIN CUDA! /nIN CUDA! /nIN CUDA! /nIN CUDA! /nIN CUDA! /nIN CUDA! /nIN CUDA! /nIN CUDA! /nIN CUDA! /nIN CUDA! /nIN CUDA! /nIN CUDA! /nIN CUDA! /nIN CUDA! /nIN CUDA! /nIN CUDA! /nIN CUDA! /nIN CUDA! /nIN CUDA! /nIN CUDA! /nIN CUDA! /nIN CUDA! /nIN CUDA! /nIN CUDA! /nIN CUDA! /nIN CUDA! /nIN CUDA! /nIN CUDA! /nIN CUDA! /nIN CUDA! /nIN CUDA! /nIN CUDA! /nIN CUDA! /nIN CUDA! /nIN CUDA! /nIN CUDA! /nIN CUDA! /nIN CUDA! /nIN CUDA! /nIN CUDA! /nIN CUDA! /nIN CUDA! /nIN CUDA! /nIN CUDA! /nIN CUDA! /nIN CUDA! /nIN CUDA! /nIN CUDA! /nIN CUDA! /nIN CUDA! /nIN CUDA! /nIN CUDA! /nIN CUDA! /nIN CUDA! /nIN CUDA! /nIN CUDA! /nIN CUDA! /nIN CUDA! /nIN CUDA! /nIN CUDA! /nIN CUDA! /nIN CUDA! /nIN CUDA! /nIN CUDA! /nIN CUDA! /nIN CUDA! /nIN CUDA! /nIN CUDA! /nIN CUDA! /nIN CUDA! /nIN CUDA! /nIN CUDA! /n\n",
      "\n",
      "evaluation on 30 images, contain ground truth: 10094FOV: x=[0, 84630] y=[0, 67665]\n",
      "after FOV and border segmentation,truth: 10094 ,preds: 6902\n",
      "JoR: 1.336 || Eff_3d: 48.103 || Jaccard: 0.680 || Factor: 332.500 || RMSE_lat: 50.948 || RMSE_ax: 59.480 || RMSE_x: 37.814 || RMSE_y: 34.143 || Cost: 28.688 || Recall: 0.682 || Precision: 0.997 || BatchNr.: 1500 || Time Upd.: 390.6 ms \n",
      " || Count Cost: 16.3781 || Localization Cost: 14.9076 || Bg Cost: 0.0605 || P_locs Cost: 22.6618saving this model, eff_3d, rmse_lat, rmse_ax and BatchNr are : 48.103 || 50.948 || 59.480 || 1500\n",
      "\n",
      "\n",
      "processing area:99/99, input field_xy:[1258 1301 1001 1040], use_coordconv:True, retain locs in area:[1278, 1301, 1021, 1040]UDA! /nIN CUDA! /nIN CUDA! /nIN CUDA! /nIN CUDA! /nIN CUDA! /nIN CUDA! /nIN CUDA! /nIN CUDA! /nIN CUDA! /nIN CUDA! /nIN CUDA! /nIN CUDA! /nIN CUDA! /nIN CUDA! /nIN CUDA! /nIN CUDA! /nIN CUDA! /nIN CUDA! /nIN CUDA! /nIN CUDA! /nIN CUDA! /nIN CUDA! /nIN CUDA! /nIN CUDA! /nIN CUDA! /nIN CUDA! /nIN CUDA! /nIN CUDA! /nIN CUDA! /nIN CUDA! /nIN CUDA! /nIN CUDA! /nIN CUDA! /nIN CUDA! /nIN CUDA! /nIN CUDA! /nIN CUDA! /nIN CUDA! /nIN CUDA! /nIN CUDA! /nIN CUDA! /nIN CUDA! /nIN CUDA! /nIN CUDA! /nIN CUDA! /nIN CUDA! /nIN CUDA! /nIN CUDA! /nIN CUDA! /nIN CUDA! /nIN CUDA! /nIN CUDA! /nIN CUDA! /nIN CUDA! /nIN CUDA! /nIN CUDA! /nIN CUDA! /nIN CUDA! /nIN CUDA! /nIN CUDA! /nIN CUDA! /nIN CUDA! /nIN CUDA! /nIN CUDA! /nIN CUDA! /nIN CUDA! /nIN CUDA! /nIN CUDA! /nIN CUDA! /nIN CUDA! /nIN CUDA! /nIN CUDA! /nIN CUDA! /nIN CUDA! /nIN CUDA! /nIN CUDA! /nIN CUDA! /nIN CUDA! /nIN CUDA! /nIN CUDA! /nIN CUDA! /nIN CUDA! /nIN CUDA! /nIN CUDA! /nIN CUDA! /nIN CUDA! /nIN CUDA! /nIN CUDA! /n\n",
      "\n",
      "evaluation on 30 images, contain ground truth: 10094FOV: x=[0, 84630] y=[0, 67665]\n",
      "after FOV and border segmentation,truth: 10094 ,preds: 6784\n",
      "JoR: 1.287 || Eff_3d: 45.599 || Jaccard: 0.667 || Factor: 296.538 || RMSE_lat: 51.815 || RMSE_ax: 66.796 || RMSE_x: 39.310 || RMSE_y: 33.756 || Cost: 27.396 || Recall: 0.669 || Precision: 0.995 || BatchNr.: 1600 || Time Upd.: 387.2 ms \n",
      " || Count Cost: 15.9834 || Localization Cost: 14.0478 || Bg Cost: 0.0576 || P_locs Cost: 22.1785saving this model, eff_3d, rmse_lat, rmse_ax and BatchNr are : 45.599 || 51.815 || 66.796 || 1600\n",
      "\n",
      "\n",
      "processing area:99/99, input field_xy:[1258 1301 1001 1040], use_coordconv:True, retain locs in area:[1278, 1301, 1021, 1040]UDA! /nIN CUDA! /nIN CUDA! /nIN CUDA! /nIN CUDA! /nIN CUDA! /nIN CUDA! /nIN CUDA! /nIN CUDA! /nIN CUDA! /nIN CUDA! /nIN CUDA! /nIN CUDA! /nIN CUDA! /nIN CUDA! /nIN CUDA! /nIN CUDA! /nIN CUDA! /nIN CUDA! /nIN CUDA! /nIN CUDA! /nIN CUDA! /nIN CUDA! /nIN CUDA! /nIN CUDA! /nIN CUDA! /nIN CUDA! /nIN CUDA! /nIN CUDA! /nIN CUDA! /nIN CUDA! /nIN CUDA! /nIN CUDA! /nIN CUDA! /nIN CUDA! /nIN CUDA! /nIN CUDA! /nIN CUDA! /nIN CUDA! /nIN CUDA! /nIN CUDA! /nIN CUDA! /nIN CUDA! /nIN CUDA! /nIN CUDA! /nIN CUDA! /nIN CUDA! /nIN CUDA! /nIN CUDA! /nIN CUDA! /nIN CUDA! /nIN CUDA! /nIN CUDA! /nIN CUDA! /nIN CUDA! /nIN CUDA! /nIN CUDA! /nIN CUDA! /nIN CUDA! /nIN CUDA! /nIN CUDA! /nIN CUDA! /nIN CUDA! /nIN CUDA! /nIN CUDA! /nIN CUDA! /nIN CUDA! /nIN CUDA! /nIN CUDA! /nIN CUDA! /nIN CUDA! /nIN CUDA! /nIN CUDA! /nIN CUDA! /nIN CUDA! /nIN CUDA! /nIN CUDA! /nIN CUDA! /nIN CUDA! /nIN CUDA! /nIN CUDA! /nIN CUDA! /nIN CUDA! /nIN CUDA! /nIN CUDA! /nIN CUDA! /nIN CUDA! /nIN CUDA! /nIN CUDA! /n\n",
      "\n",
      "evaluation on 30 images, contain ground truth: 10094FOV: x=[0, 84630] y=[0, 67665]\n",
      "after FOV and border segmentation,truth: 10094 ,preds: 6683\n",
      "JoR: 1.377 || Eff_3d: 46.611 || Jaccard: 0.659 || Factor: 313.531 || RMSE_lat: 47.907 || RMSE_ax: 67.654 || RMSE_x: 36.354 || RMSE_y: 31.200 || Cost: 28.104 || Recall: 0.660 || Precision: 0.998 || BatchNr.: 1700 || Time Upd.: 389.5 ms \n",
      " || Count Cost: 15.6076 || Localization Cost: 14.8293 || Bg Cost: 0.0573 || P_locs Cost: 22.2671saving this model, eff_3d, rmse_lat, rmse_ax and BatchNr are : 46.611 || 47.907 || 67.654 || 1700\n",
      "\n",
      "\n",
      "processing area:99/99, input field_xy:[1258 1301 1001 1040], use_coordconv:True, retain locs in area:[1278, 1301, 1021, 1040]UDA! /nIN CUDA! /nIN CUDA! /nIN CUDA! /nIN CUDA! /nIN CUDA! /nIN CUDA! /nIN CUDA! /nIN CUDA! /nIN CUDA! /nIN CUDA! /nIN CUDA! /nIN CUDA! /nIN CUDA! /nIN CUDA! /nIN CUDA! /nIN CUDA! /nIN CUDA! /nIN CUDA! /nIN CUDA! /nIN CUDA! /nIN CUDA! /nIN CUDA! /nIN CUDA! /nIN CUDA! /nIN CUDA! /nIN CUDA! /nIN CUDA! /nIN CUDA! /nIN CUDA! /nIN CUDA! /nIN CUDA! /nIN CUDA! /nIN CUDA! /nIN CUDA! /nIN CUDA! /nIN CUDA! /nIN CUDA! /nIN CUDA! /nIN CUDA! /nIN CUDA! /nIN CUDA! /nIN CUDA! /nIN CUDA! /nIN CUDA! /nIN CUDA! /nIN CUDA! /nIN CUDA! /nIN CUDA! /nIN CUDA! /nIN CUDA! /nIN CUDA! /nIN CUDA! /nIN CUDA! /nIN CUDA! /nIN CUDA! /nIN CUDA! /nIN CUDA! /nIN CUDA! /nIN CUDA! /nIN CUDA! /nIN CUDA! /nIN CUDA! /nIN CUDA! /nIN CUDA! /nIN CUDA! /nIN CUDA! /nIN CUDA! /nIN CUDA! /nIN CUDA! /nIN CUDA! /nIN CUDA! /nIN CUDA! /nIN CUDA! /nIN CUDA! /nIN CUDA! /nIN CUDA! /nIN CUDA! /nIN CUDA! /nIN CUDA! /nIN CUDA! /nIN CUDA! /nIN CUDA! /nIN CUDA! /nIN CUDA! /nIN CUDA! /nIN CUDA! /nIN CUDA! /nIN CUDA! /n\n",
      "\n",
      "evaluation on 30 images, contain ground truth: 10094FOV: x=[0, 84630] y=[0, 67665]\n",
      "after FOV and border segmentation,truth: 10094 ,preds: 8040\n",
      "JoR: 1.382 || Eff_3d: 50.049 || Jaccard: 0.769 || Factor: 519.313 || RMSE_lat: 55.627 || RMSE_ax: 64.456 || RMSE_x: 42.033 || RMSE_y: 36.436 || Cost: 26.329 || Recall: 0.781 || Precision: 0.980 || BatchNr.: 1800 || Time Upd.: 384.6 ms \n",
      " || Count Cost: 15.4649 || Localization Cost: 13.4639 || Bg Cost: 0.0545 || P_locs Cost: 21.6635saving this model, eff_3d, rmse_lat, rmse_ax and BatchNr are : 50.049 || 55.627 || 64.456 || 1800\n",
      "\n",
      "\n",
      "processing area:99/99, input field_xy:[1258 1301 1001 1040], use_coordconv:True, retain locs in area:[1278, 1301, 1021, 1040]UDA! /nIN CUDA! /nIN CUDA! /nIN CUDA! /nIN CUDA! /nIN CUDA! /nIN CUDA! /nIN CUDA! /nIN CUDA! /nIN CUDA! /nIN CUDA! /nIN CUDA! /nIN CUDA! /nIN CUDA! /nIN CUDA! /nIN CUDA! /nIN CUDA! /nIN CUDA! /nIN CUDA! /nIN CUDA! /nIN CUDA! /nIN CUDA! /nIN CUDA! /nIN CUDA! /nIN CUDA! /nIN CUDA! /nIN CUDA! /nIN CUDA! /nIN CUDA! /nIN CUDA! /nIN CUDA! /nIN CUDA! /nIN CUDA! /nIN CUDA! /nIN CUDA! /nIN CUDA! /nIN CUDA! /nIN CUDA! /nIN CUDA! /nIN CUDA! /nIN CUDA! /nIN CUDA! /nIN CUDA! /nIN CUDA! /nIN CUDA! /nIN CUDA! /nIN CUDA! /nIN CUDA! /nIN CUDA! /nIN CUDA! /nIN CUDA! /nIN CUDA! /nIN CUDA! /nIN CUDA! /nIN CUDA! /nIN CUDA! /nIN CUDA! /nIN CUDA! /nIN CUDA! /nIN CUDA! /nIN CUDA! /nIN CUDA! /nIN CUDA! /nIN CUDA! /nIN CUDA! /nIN CUDA! /nIN CUDA! /nIN CUDA! /nIN CUDA! /nIN CUDA! /nIN CUDA! /nIN CUDA! /nIN CUDA! /nIN CUDA! /nIN CUDA! /nIN CUDA! /nIN CUDA! /nIN CUDA! /nIN CUDA! /nIN CUDA! /nIN CUDA! /nIN CUDA! /nIN CUDA! /nIN CUDA! /nIN CUDA! /nIN CUDA! /nIN CUDA! /nIN CUDA! /nIN CUDA! /n\n",
      "\n",
      "evaluation on 30 images, contain ground truth: 10094FOV: x=[0, 84630] y=[0, 67665]\n",
      "after FOV and border segmentation,truth: 10094 ,preds: 7006\n",
      "JoR: 1.339 || Eff_3d: 48.666 || Jaccard: 0.688 || Factor: 442.063 || RMSE_lat: 51.357 || RMSE_ax: 57.780 || RMSE_x: 39.378 || RMSE_y: 32.968 || Cost: 25.875 || Recall: 0.690 || Precision: 0.994 || BatchNr.: 1900 || Time Upd.: 389.3 ms \n",
      " || Count Cost: 16.7272 || Localization Cost: 12.9887 || Bg Cost: 0.0501 || P_locs Cost: 22.1366saving this model, eff_3d, rmse_lat, rmse_ax and BatchNr are : 48.666 || 51.357 || 57.780 || 1900\n",
      "\n",
      "\n",
      "processing area:99/99, input field_xy:[1258 1301 1001 1040], use_coordconv:True, retain locs in area:[1278, 1301, 1021, 1040]UDA! /nIN CUDA! /nIN CUDA! /nIN CUDA! /nIN CUDA! /nIN CUDA! /nIN CUDA! /nIN CUDA! /nIN CUDA! /nIN CUDA! /nIN CUDA! /nIN CUDA! /nIN CUDA! /nIN CUDA! /nIN CUDA! /nIN CUDA! /nIN CUDA! /nIN CUDA! /nIN CUDA! /nIN CUDA! /nIN CUDA! /nIN CUDA! /nIN CUDA! /nIN CUDA! /nIN CUDA! /nIN CUDA! /nIN CUDA! /nIN CUDA! /nIN CUDA! /nIN CUDA! /nIN CUDA! /nIN CUDA! /nIN CUDA! /nIN CUDA! /nIN CUDA! /nIN CUDA! /nIN CUDA! /nIN CUDA! /nIN CUDA! /nIN CUDA! /nIN CUDA! /nIN CUDA! /nIN CUDA! /nIN CUDA! /nIN CUDA! /nIN CUDA! /nIN CUDA! /nIN CUDA! /nIN CUDA! /nIN CUDA! /nIN CUDA! /nIN CUDA! /nIN CUDA! /nIN CUDA! /nIN CUDA! /nIN CUDA! /nIN CUDA! /nIN CUDA! /nIN CUDA! /nIN CUDA! /nIN CUDA! /nIN CUDA! /nIN CUDA! /nIN CUDA! /nIN CUDA! /nIN CUDA! /nIN CUDA! /nIN CUDA! /nIN CUDA! /nIN CUDA! /nIN CUDA! /nIN CUDA! /nIN CUDA! /nIN CUDA! /nIN CUDA! /nIN CUDA! /nIN CUDA! /nIN CUDA! /nIN CUDA! /nIN CUDA! /nIN CUDA! /nIN CUDA! /nIN CUDA! /nIN CUDA! /nIN CUDA! /nIN CUDA! /nIN CUDA! /nIN CUDA! /nIN CUDA! /n\n",
      "\n",
      "evaluation on 30 images, contain ground truth: 10094FOV: x=[0, 84630] y=[0, 67665]\n",
      "after FOV and border segmentation,truth: 10094 ,preds: 7409\n",
      "JoR: 1.433 || Eff_3d: 49.075 || Jaccard: 0.727 || Factor: 345.093 || RMSE_lat: 50.771 || RMSE_ax: 69.675 || RMSE_x: 37.897 || RMSE_y: 33.786 || Cost: 27.887 || Recall: 0.730 || Precision: 0.995 || BatchNr.: 2000 || Time Upd.: 388.6 ms \n",
      " || Count Cost: 16.9463 || Localization Cost: 13.5686 || Bg Cost: 0.0675 || P_locs Cost: 22.1152saving this model, eff_3d, rmse_lat, rmse_ax and BatchNr are : 49.075 || 50.771 || 69.675 || 2000\n",
      "\n",
      "\n",
      "processing area:99/99, input field_xy:[1258 1301 1001 1040], use_coordconv:True, retain locs in area:[1278, 1301, 1021, 1040]UDA! /nIN CUDA! /nIN CUDA! /nIN CUDA! /nIN CUDA! /nIN CUDA! /nIN CUDA! /nIN CUDA! /nIN CUDA! /nIN CUDA! /nIN CUDA! /nIN CUDA! /nIN CUDA! /nIN CUDA! /nIN CUDA! /nIN CUDA! /nIN CUDA! /nIN CUDA! /nIN CUDA! /nIN CUDA! /nIN CUDA! /nIN CUDA! /nIN CUDA! /nIN CUDA! /nIN CUDA! /nIN CUDA! /nIN CUDA! /nIN CUDA! /nIN CUDA! /nIN CUDA! /nIN CUDA! /nIN CUDA! /nIN CUDA! /nIN CUDA! /nIN CUDA! /nIN CUDA! /nIN CUDA! /nIN CUDA! /nIN CUDA! /nIN CUDA! /nIN CUDA! /nIN CUDA! /nIN CUDA! /nIN CUDA! /nIN CUDA! /nIN CUDA! /nIN CUDA! /nIN CUDA! /nIN CUDA! /nIN CUDA! /nIN CUDA! /nIN CUDA! /nIN CUDA! /nIN CUDA! /nIN CUDA! /nIN CUDA! /nIN CUDA! /nIN CUDA! /nIN CUDA! /nIN CUDA! /nIN CUDA! /nIN CUDA! /nIN CUDA! /nIN CUDA! /nIN CUDA! /nIN CUDA! /nIN CUDA! /nIN CUDA! /nIN CUDA! /nIN CUDA! /nIN CUDA! /nIN CUDA! /nIN CUDA! /nIN CUDA! /nIN CUDA! /nIN CUDA! /nIN CUDA! /nIN CUDA! /nIN CUDA! /nIN CUDA! /nIN CUDA! /nIN CUDA! /nIN CUDA! /nIN CUDA! /nIN CUDA! /nIN CUDA! /nIN CUDA! /nIN CUDA! /nIN CUDA! /n\n",
      "\n",
      "evaluation on 30 images, contain ground truth: 10094FOV: x=[0, 84630] y=[0, 67665]\n",
      "after FOV and border segmentation,truth: 10094 ,preds: 7441\n",
      "JoR: 1.450 || Eff_3d: 48.145 || Jaccard: 0.734 || Factor: 357.242 || RMSE_lat: 50.597 || RMSE_ax: 76.284 || RMSE_x: 36.240 || RMSE_y: 35.310 || Cost: 26.467 || Recall: 0.735 || Precision: 0.997 || BatchNr.: 2100 || Time Upd.: 386.2 ms \n",
      " || Count Cost: 15.4433 || Localization Cost: 13.4752 || Bg Cost: 0.0566 || P_locs Cost: 21.5054saving this model, eff_3d, rmse_lat, rmse_ax and BatchNr are : 48.145 || 50.597 || 76.284 || 2100\n",
      "\n",
      "\n",
      "IN CUDA! /nIN CUDA! /nIN CUDA! /nIN CUDA! /nIN CUDA! /nIN CUDA! /nIN CUDA! /nIN CUDA! /nIN CUDA! /nIN CUDA! /nIN CUDA! /nIN CUDA! /nIN CUDA! /nIN CUDA! /nIN CUDA! /nIN CUDA! /nIN CUDA! /nIN CUDA! /nIN CUDA! /nIN CUDA! /nIN CUDA! /nIN CUDA! /nIN CUDA! /nIN CUDA! /nIN CUDA! /nIN CUDA! /nIN CUDA! /nIN CUDA! /nIN CUDA! /nIN CUDA! /nIN CUDA! /nIN CUDA! /nIN CUDA! /nIN CUDA! /nIN CUDA! /nIN CUDA! /nIN CUDA! /nIN CUDA! /nIN CUDA! /nIN CUDA! /nIN CUDA! /nIN CUDA! /nIN CUDA! /nIN CUDA! /nIN CUDA! /nIN CUDA! /nIN CUDA! /nIN CUDA! /nIN CUDA! /nIN CUDA! /nIN CUDA! /nIN CUDA! /nIN CUDA! /nIN CUDA! /nIN CUDA! /nIN CUDA! /nIN CUDA! /nIN CUDA! /nIN CUDA! /nIN CUDA! /nIN CUDA! /nIN CUDA! /nIN CUDA! /nIN CUDA! /nIN CUDA! /nIN CUDA! /nIN CUDA! /nIN CUDA! /nIN CUDA! /nIN CUDA! /nIN CUDA! /nIN CUDA! /nIN CUDA! /nIN CUDA! /nIN CUDA! /nIN CUDA! /nIN CUDA! /nIN CUDA! /nIN CUDA! /nIN CUDA! /nIN CUDA! /nIN CUDA! /nIN CUDA! /nIN CUDA! /nIN CUDA! /nIN CUDA! /nIN CUDA! /nIN CUDA! /nIN CUDA! /n"
     ]
    },
    {
     "ename": "KeyboardInterrupt",
     "evalue": "",
     "output_type": "error",
     "traceback": [
      "\u001b[0;31m---------------------------------------------------------------------------\u001b[0m",
      "\u001b[0;31mKeyboardInterrupt\u001b[0m                         Traceback (most recent call last)",
      "Cell \u001b[0;32mIn[52], line 2\u001b[0m\n\u001b[1;32m      1\u001b[0m start_time \u001b[39m=\u001b[39m time\u001b[39m.\u001b[39mtime()\n\u001b[0;32m----> 2\u001b[0m model\u001b[39m.\u001b[39mfit(batch_size\u001b[39m=\u001b[39m\u001b[39m32\u001b[39m, max_iters\u001b[39m=\u001b[39m\u001b[39m20000\u001b[39m, print_output\u001b[39m=\u001b[39m\u001b[39mTrue\u001b[39;00m, print_freq\u001b[39m=\u001b[39m\u001b[39m100\u001b[39m)\n\u001b[1;32m      3\u001b[0m duration \u001b[39m=\u001b[39m time\u001b[39m.\u001b[39mtime() \u001b[39m-\u001b[39m start_time\n",
      "File \u001b[0;32m~/Chromosome_project/cellbgnet/cellbgnet/model.py:266\u001b[0m, in \u001b[0;36mCellBGModel.fit\u001b[0;34m(self, batch_size, max_iters, print_output, print_freq)\u001b[0m\n\u001b[1;32m    264\u001b[0m \u001b[39m# Evaluate the performance and save model every print_fre iterations\u001b[39;00m\n\u001b[1;32m    265\u001b[0m \u001b[39mfor\u001b[39;00m _ \u001b[39min\u001b[39;00m \u001b[39mrange\u001b[39m(\u001b[39mself\u001b[39m\u001b[39m.\u001b[39mprint_freq):\n\u001b[0;32m--> 266\u001b[0m     loss, (count_loss, loc_loss, bg_loss, P_locs_error) \u001b[39m=\u001b[39m \u001b[39mself\u001b[39m\u001b[39m.\u001b[39mtraining(\u001b[39mself\u001b[39m\u001b[39m.\u001b[39mtrain_size, \u001b[39mself\u001b[39m\u001b[39m.\u001b[39mdata_generator\u001b[39m.\u001b[39msimulation_params)\n\u001b[1;32m    267\u001b[0m     total_cost\u001b[39m.\u001b[39mappend(cpu(loss))\n\u001b[1;32m    268\u001b[0m     count_cost\u001b[39m.\u001b[39mappend(cpu(count_loss))\n",
      "File \u001b[0;32m~/Chromosome_project/cellbgnet/cellbgnet/train_loss_infer.py:123\u001b[0m, in \u001b[0;36mTrainFuncs.training\u001b[0;34m(self, train_size, simulation_params)\u001b[0m\n\u001b[1;32m    118\u001b[0m     prob_map, cell_masks_batch \u001b[39m=\u001b[39m generate_probmap_cells(random_cell_mask, \u001b[39mself\u001b[39m\u001b[39m.\u001b[39mbatch_size, \n\u001b[1;32m    119\u001b[0m                                         train_size, density, non_cell_density,\n\u001b[1;32m    120\u001b[0m                                         simulation_params[\u001b[39m'\u001b[39m\u001b[39mmargin_empty\u001b[39m\u001b[39m'\u001b[39m], simulation_params[\u001b[39m'\u001b[39m\u001b[39maugment\u001b[39m\u001b[39m'\u001b[39m]) \n\u001b[1;32m    122\u001b[0m     \u001b[39m# bg returned by datasimulator is just the psf and not the bg\u001b[39;00m\n\u001b[0;32m--> 123\u001b[0m     imgs_sim, xyzi_gt, s_mask, psf_imgs_gt, locs, field_xy \u001b[39m=\u001b[39m \u001b[39mself\u001b[39m\u001b[39m.\u001b[39mdata_generator\u001b[39m.\u001b[39msimulate_data( \n\u001b[1;32m    124\u001b[0m         prob_map\u001b[39m=\u001b[39mgpu(prob_map), batch_size\u001b[39m=\u001b[39m\u001b[39mself\u001b[39m\u001b[39m.\u001b[39mbatch_size,\n\u001b[1;32m    125\u001b[0m         local_context\u001b[39m=\u001b[39m\u001b[39mself\u001b[39m\u001b[39m.\u001b[39mlocal_context,\n\u001b[1;32m    126\u001b[0m         photon_filter\u001b[39m=\u001b[39m\u001b[39mself\u001b[39m\u001b[39m.\u001b[39mtrain_params[\u001b[39m'\u001b[39m\u001b[39mphoton_filter\u001b[39m\u001b[39m'\u001b[39m],\n\u001b[1;32m    127\u001b[0m         photon_filter_threshold\u001b[39m=\u001b[39m\u001b[39mself\u001b[39m\u001b[39m.\u001b[39mtrain_params[\u001b[39m'\u001b[39m\u001b[39mphoton_filter_threshold\u001b[39m\u001b[39m'\u001b[39m],\n\u001b[1;32m    128\u001b[0m         P_locs_cse\u001b[39m=\u001b[39m\u001b[39mself\u001b[39m\u001b[39m.\u001b[39mtrain_params[\u001b[39m'\u001b[39m\u001b[39mP_locs_cse\u001b[39m\u001b[39m'\u001b[39m],\n\u001b[1;32m    129\u001b[0m         iter_num\u001b[39m=\u001b[39m\u001b[39mself\u001b[39m\u001b[39m.\u001b[39m_iter_count, train_size\u001b[39m=\u001b[39mtrain_size,\n\u001b[1;32m    130\u001b[0m         robust_training\u001b[39m=\u001b[39m\u001b[39mself\u001b[39m\u001b[39m.\u001b[39mdata_generator\u001b[39m.\u001b[39msimulation_params[\u001b[39m'\u001b[39m\u001b[39mrobust_training\u001b[39m\u001b[39m'\u001b[39m],\n\u001b[1;32m    131\u001b[0m         cell_masks\u001b[39m=\u001b[39mcell_masks_batch\n\u001b[1;32m    132\u001b[0m     )\n\u001b[1;32m    135\u001b[0m P, xyzi_est, xyzi_sig, psf_imgs_est \u001b[39m=\u001b[39m \u001b[39mself\u001b[39m\u001b[39m.\u001b[39minferring(imgs_sim, field_xy, \n\u001b[1;32m    136\u001b[0m                                         camera_chip_size\u001b[39m=\u001b[39m[\u001b[39mself\u001b[39m\u001b[39m.\u001b[39mdata_generator\u001b[39m.\u001b[39mcamera_chip_size[\u001b[39m1\u001b[39m], \n\u001b[1;32m    137\u001b[0m                                                           \u001b[39mself\u001b[39m\u001b[39m.\u001b[39mdata_generator\u001b[39m.\u001b[39mcamera_chip_size[\u001b[39m0\u001b[39m]])\n\u001b[1;32m    139\u001b[0m \u001b[39m# loss\u001b[39;00m\n\u001b[1;32m    140\u001b[0m \u001b[39m#loss_total, = self.final_loss(P, xyzi_est, xyzi_sig, xyzi_gt, s_mask, psf_imgs_est, psf_imgs_gt, locs)\u001b[39;00m\n",
      "File \u001b[0;32m~/Chromosome_project/cellbgnet/cellbgnet/datasets.py:598\u001b[0m, in \u001b[0;36mDataSimulator.simulate_data\u001b[0;34m(self, prob_map, batch_size, local_context, photon_filter, photon_filter_threshold, P_locs_cse, iter_num, train_size, robust_training, cell_masks, constant_photon_counts)\u001b[0m\n\u001b[1;32m    596\u001b[0m \u001b[39m# if there are emitters sampled on the image\u001b[39;00m\n\u001b[1;32m    597\u001b[0m \u001b[39mif\u001b[39;00m S\u001b[39m.\u001b[39msum():\n\u001b[0;32m--> 598\u001b[0m     imgs_sim \u001b[39m+\u001b[39m\u001b[39m=\u001b[39m \u001b[39mself\u001b[39m\u001b[39m.\u001b[39msimulate_psfs(S, X_os, Y_os, Z, I, robust_training\u001b[39m=\u001b[39mrobust_training)\n\u001b[1;32m    599\u001b[0m     xyzi \u001b[39m=\u001b[39m torch\u001b[39m.\u001b[39mcat([X_os[:, :, \u001b[39mNone\u001b[39;00m], Y_os[:, :, \u001b[39mNone\u001b[39;00m], Z[:, :, \u001b[39mNone\u001b[39;00m], I[:, :, \u001b[39mNone\u001b[39;00m]], \u001b[39m2\u001b[39m)\n\u001b[1;32m    601\u001b[0m     S \u001b[39m=\u001b[39m S[:, \u001b[39m1\u001b[39m] \u001b[39mif\u001b[39;00m local_context \u001b[39melse\u001b[39;00m S[:, \u001b[39m0\u001b[39m]\n",
      "File \u001b[0;32m~/Chromosome_project/cellbgnet/cellbgnet/datasets.py:386\u001b[0m, in \u001b[0;36mDataSimulator.simulate_psfs\u001b[0;34m(self, S, X_os, Y_os, Z, I, robust_training)\u001b[0m\n\u001b[1;32m    383\u001b[0m \u001b[39m# not ix_high is n_emitters and not batch_size, as only one emitter is put on one frame\u001b[39;00m\n\u001b[1;32m    384\u001b[0m psfs_sim \u001b[39m=\u001b[39m \u001b[39mself\u001b[39m\u001b[39m.\u001b[39mpsf\u001b[39m.\u001b[39mforward(em\u001b[39m.\u001b[39mxyz_px, em\u001b[39m.\u001b[39mphot, em\u001b[39m.\u001b[39mframe_ix, ix_low\u001b[39m=\u001b[39m\u001b[39m0\u001b[39m, ix_high\u001b[39m=\u001b[39mn_emitters\u001b[39m-\u001b[39m\u001b[39m1\u001b[39m)\n\u001b[0;32m--> 386\u001b[0m imgs_sim \u001b[39m=\u001b[39m \u001b[39mself\u001b[39m\u001b[39m.\u001b[39mplace_centered_psfs(S, psfs_sim, i_vals)\n\u001b[1;32m    387\u001b[0m torch\u001b[39m.\u001b[39mclamp_min_(imgs_sim, \u001b[39m0\u001b[39m)\n\u001b[1;32m    388\u001b[0m imgs_sim \u001b[39m=\u001b[39m imgs_sim\u001b[39m.\u001b[39mreshape([batch_size, n_inp, h, w])\n",
      "File \u001b[0;32m~/Chromosome_project/cellbgnet/cellbgnet/datasets.py:300\u001b[0m, in \u001b[0;36mDataSimulator.place_centered_psfs\u001b[0;34m(self, S, psfs_sim, i_vals)\u001b[0m\n\u001b[1;32m    298\u001b[0m     w_cut \u001b[39m=\u001b[39m W[i, row_start[i]: row_end[i] , col_start[i]: col_end[i]]\n\u001b[1;32m    299\u001b[0m     \u001b[39m#print(i, w_cut.shape, row_rl[i], col_rl[i])\u001b[39;00m\n\u001b[0;32m--> 300\u001b[0m     recs[s_inds[\u001b[39m0\u001b[39m][i], row_rl[i]:row_rl[i] \u001b[39m+\u001b[39m w_cut\u001b[39m.\u001b[39mshape[\u001b[39m0\u001b[39m], col_rl[i]:col_rl[i] \u001b[39m+\u001b[39m w_cut\u001b[39m.\u001b[39mshape[\u001b[39m1\u001b[39m]] \u001b[39m+\u001b[39m\u001b[39m=\u001b[39m w_cut\n\u001b[1;32m    301\u001b[0m \u001b[39mreturn\u001b[39;00m recs\n",
      "\u001b[0;31mKeyboardInterrupt\u001b[0m: "
     ]
    }
   ],
   "source": [
    "start_time = time.time()\n",
    "model.fit(batch_size=32, max_iters=20000, print_output=True, print_freq=100)\n",
    "duration = time.time() - start_time"
   ]
  },
  {
   "cell_type": "code",
   "execution_count": 53,
   "id": "0e25b8e8",
   "metadata": {},
   "outputs": [],
   "source": [
    "from cellbgnet.utils.plot_funcs import plot_train_record"
   ]
  },
  {
   "cell_type": "code",
   "execution_count": 54,
   "id": "fd198789",
   "metadata": {},
   "outputs": [],
   "source": [
    "plot_train_record(model)"
   ]
  },
  {
   "cell_type": "code",
   "execution_count": 31,
   "id": "fd69b7c5",
   "metadata": {},
   "outputs": [
    {
     "data": {
      "text/plain": [
       "'/home/axtr7550/Chromosome_project/cellbgnet/notebooks'"
      ]
     },
     "execution_count": 31,
     "metadata": {},
     "output_type": "execute_result"
    }
   ],
   "source": [
    "directory = 'axtr7550/Chromosome_project/outdata/'\n",
    "import os\n",
    "os.getcwd()"
   ]
  },
  {
   "cell_type": "code",
   "execution_count": null,
   "id": "93f164f6",
   "metadata": {},
   "outputs": [],
   "source": []
  },
  {
   "cell_type": "code",
   "execution_count": null,
   "id": "782978ba",
   "metadata": {},
   "outputs": [],
   "source": []
  },
  {
   "cell_type": "code",
   "execution_count": null,
   "id": "60487821",
   "metadata": {},
   "outputs": [],
   "source": []
  },
  {
   "cell_type": "code",
   "execution_count": null,
   "id": "f5c43bd4",
   "metadata": {},
   "outputs": [],
   "source": []
  }
 ],
 "metadata": {
  "kernelspec": {
   "display_name": "compile_spline",
   "language": "python",
   "name": "compile_spline"
  }
 },
 "nbformat": 4,
 "nbformat_minor": 5
}
