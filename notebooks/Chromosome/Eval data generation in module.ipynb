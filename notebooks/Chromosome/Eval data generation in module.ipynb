{
 "cells": [
  {
   "cell_type": "code",
   "execution_count": 1,
   "id": "24773d3a",
   "metadata": {},
   "outputs": [],
   "source": [
    "%reload_ext autoreload\n",
    "%autoreload 2\n",
    "#%reload_ext notexbook\n",
    "#%texify"
   ]
  },
  {
   "cell_type": "code",
   "execution_count": 2,
   "id": "4b542a97",
   "metadata": {},
   "outputs": [],
   "source": [
    "import numpy as np\n",
    "import matplotlib.pyplot as plt\n",
    "import torch\n",
    "import cellbgnet\n",
    "import cellbgnet.utils\n",
    "from cellbgnet.datasets import DataSimulator\n",
    "from cellbgnet.utils.hardware import cpu, gpu\n",
    "from cellbgnet.model import CellBGModel\n",
    "from cellbgnet.simulation.psf_kernel import SMAPSplineCoefficient\n",
    "from cellbgnet.generic.emitter import EmitterSet\n",
    "from cellbgnet.train_loss_infer import generate_probmap_cells\n",
    "from skimage.io import imread\n",
    "from skimage.measure import label\n",
    "import random\n",
    "import edt\n",
    "from skimage.filters import gaussian\n",
    "import random\n",
    "import pickle\n",
    "import pathlib\n",
    "from pathlib import Path\n",
    "%matplotlib qt5"
   ]
  },
  {
   "cell_type": "code",
   "execution_count": 5,
   "id": "4dcdc560",
   "metadata": {},
   "outputs": [],
   "source": [
    "param_file = '../../cellbgnet/utils/reference_files/reference_Axel_45deg_lower_photon.yaml'\n",
    "param = cellbgnet.utils.param_io.ParamHandling().load_params(param_file)"
   ]
  },
  {
   "cell_type": "code",
   "execution_count": 6,
   "id": "970db9f9",
   "metadata": {},
   "outputs": [],
   "source": [
    "psf_params = param.PSF.to_dict()\n",
    "simulation_params = param.Simulation.to_dict()\n",
    "hardware_params = param.Hardware.to_dict()\n",
    "train_size = simulation_params['train_size']"
   ]
  },
  {
   "cell_type": "code",
   "execution_count": 7,
   "id": "8a48d379",
   "metadata": {},
   "outputs": [
    {
     "name": "stdout",
     "output_type": "stream",
     "text": [
      "INITIATING CUDA IMPLEMENTATION\n",
      "training sliding windows on camera chip:\n",
      "Area num: 0, field_xy: [0, 127, 0, 127]\n",
      "Area num: 1, field_xy: [114, 241, 0, 127]\n",
      "Area num: 2, field_xy: [228, 355, 0, 127]\n",
      "Area num: 3, field_xy: [342, 469, 0, 127]\n",
      "Area num: 4, field_xy: [456, 583, 0, 127]\n",
      "Area num: 5, field_xy: [570, 697, 0, 127]\n",
      "Area num: 6, field_xy: [684, 811, 0, 127]\n",
      "Area num: 7, field_xy: [798, 925, 0, 127]\n",
      "Area num: 8, field_xy: [912, 1039, 0, 127]\n",
      "Area num: 9, field_xy: [1026, 1153, 0, 127]\n",
      "Area num: 10, field_xy: [1140, 1267, 0, 127]\n",
      "Area num: 11, field_xy: [1174, 1301, 0, 127]\n",
      "Area num: 12, field_xy: [0, 127, 114, 241]\n",
      "Area num: 13, field_xy: [114, 241, 114, 241]\n",
      "Area num: 14, field_xy: [228, 355, 114, 241]\n",
      "Area num: 15, field_xy: [342, 469, 114, 241]\n",
      "Area num: 16, field_xy: [456, 583, 114, 241]\n",
      "Area num: 17, field_xy: [570, 697, 114, 241]\n",
      "Area num: 18, field_xy: [684, 811, 114, 241]\n",
      "Area num: 19, field_xy: [798, 925, 114, 241]\n",
      "Area num: 20, field_xy: [912, 1039, 114, 241]\n",
      "Area num: 21, field_xy: [1026, 1153, 114, 241]\n",
      "Area num: 22, field_xy: [1140, 1267, 114, 241]\n",
      "Area num: 23, field_xy: [1174, 1301, 114, 241]\n",
      "Area num: 24, field_xy: [0, 127, 228, 355]\n",
      "Area num: 25, field_xy: [114, 241, 228, 355]\n",
      "Area num: 26, field_xy: [228, 355, 228, 355]\n",
      "Area num: 27, field_xy: [342, 469, 228, 355]\n",
      "Area num: 28, field_xy: [456, 583, 228, 355]\n",
      "Area num: 29, field_xy: [570, 697, 228, 355]\n",
      "Area num: 30, field_xy: [684, 811, 228, 355]\n",
      "Area num: 31, field_xy: [798, 925, 228, 355]\n",
      "Area num: 32, field_xy: [912, 1039, 228, 355]\n",
      "Area num: 33, field_xy: [1026, 1153, 228, 355]\n",
      "Area num: 34, field_xy: [1140, 1267, 228, 355]\n",
      "Area num: 35, field_xy: [1174, 1301, 228, 355]\n",
      "Area num: 36, field_xy: [0, 127, 342, 469]\n",
      "Area num: 37, field_xy: [114, 241, 342, 469]\n",
      "Area num: 38, field_xy: [228, 355, 342, 469]\n",
      "Area num: 39, field_xy: [342, 469, 342, 469]\n",
      "Area num: 40, field_xy: [456, 583, 342, 469]\n",
      "Area num: 41, field_xy: [570, 697, 342, 469]\n",
      "Area num: 42, field_xy: [684, 811, 342, 469]\n",
      "Area num: 43, field_xy: [798, 925, 342, 469]\n",
      "Area num: 44, field_xy: [912, 1039, 342, 469]\n",
      "Area num: 45, field_xy: [1026, 1153, 342, 469]\n",
      "Area num: 46, field_xy: [1140, 1267, 342, 469]\n",
      "Area num: 47, field_xy: [1174, 1301, 342, 469]\n",
      "Area num: 48, field_xy: [0, 127, 456, 583]\n",
      "Area num: 49, field_xy: [114, 241, 456, 583]\n",
      "Area num: 50, field_xy: [228, 355, 456, 583]\n",
      "Area num: 51, field_xy: [342, 469, 456, 583]\n",
      "Area num: 52, field_xy: [456, 583, 456, 583]\n",
      "Area num: 53, field_xy: [570, 697, 456, 583]\n",
      "Area num: 54, field_xy: [684, 811, 456, 583]\n",
      "Area num: 55, field_xy: [798, 925, 456, 583]\n",
      "Area num: 56, field_xy: [912, 1039, 456, 583]\n",
      "Area num: 57, field_xy: [1026, 1153, 456, 583]\n",
      "Area num: 58, field_xy: [1140, 1267, 456, 583]\n",
      "Area num: 59, field_xy: [1174, 1301, 456, 583]\n",
      "Area num: 60, field_xy: [0, 127, 570, 697]\n",
      "Area num: 61, field_xy: [114, 241, 570, 697]\n",
      "Area num: 62, field_xy: [228, 355, 570, 697]\n",
      "Area num: 63, field_xy: [342, 469, 570, 697]\n",
      "Area num: 64, field_xy: [456, 583, 570, 697]\n",
      "Area num: 65, field_xy: [570, 697, 570, 697]\n",
      "Area num: 66, field_xy: [684, 811, 570, 697]\n",
      "Area num: 67, field_xy: [798, 925, 570, 697]\n",
      "Area num: 68, field_xy: [912, 1039, 570, 697]\n",
      "Area num: 69, field_xy: [1026, 1153, 570, 697]\n",
      "Area num: 70, field_xy: [1140, 1267, 570, 697]\n",
      "Area num: 71, field_xy: [1174, 1301, 570, 697]\n",
      "Area num: 72, field_xy: [0, 127, 684, 811]\n",
      "Area num: 73, field_xy: [114, 241, 684, 811]\n",
      "Area num: 74, field_xy: [228, 355, 684, 811]\n",
      "Area num: 75, field_xy: [342, 469, 684, 811]\n",
      "Area num: 76, field_xy: [456, 583, 684, 811]\n",
      "Area num: 77, field_xy: [570, 697, 684, 811]\n",
      "Area num: 78, field_xy: [684, 811, 684, 811]\n",
      "Area num: 79, field_xy: [798, 925, 684, 811]\n",
      "Area num: 80, field_xy: [912, 1039, 684, 811]\n",
      "Area num: 81, field_xy: [1026, 1153, 684, 811]\n",
      "Area num: 82, field_xy: [1140, 1267, 684, 811]\n",
      "Area num: 83, field_xy: [1174, 1301, 684, 811]\n",
      "Area num: 84, field_xy: [0, 127, 798, 925]\n",
      "Area num: 85, field_xy: [114, 241, 798, 925]\n",
      "Area num: 86, field_xy: [228, 355, 798, 925]\n",
      "Area num: 87, field_xy: [342, 469, 798, 925]\n",
      "Area num: 88, field_xy: [456, 583, 798, 925]\n",
      "Area num: 89, field_xy: [570, 697, 798, 925]\n",
      "Area num: 90, field_xy: [684, 811, 798, 925]\n",
      "Area num: 91, field_xy: [798, 925, 798, 925]\n",
      "Area num: 92, field_xy: [912, 1039, 798, 925]\n",
      "Area num: 93, field_xy: [1026, 1153, 798, 925]\n",
      "Area num: 94, field_xy: [1140, 1267, 798, 925]\n",
      "Area num: 95, field_xy: [1174, 1301, 798, 925]\n",
      "Area num: 96, field_xy: [0, 127, 912, 1039]\n",
      "Area num: 97, field_xy: [114, 241, 912, 1039]\n",
      "Area num: 98, field_xy: [228, 355, 912, 1039]\n",
      "Area num: 99, field_xy: [342, 469, 912, 1039]\n",
      "Area num: 100, field_xy: [456, 583, 912, 1039]\n",
      "Area num: 101, field_xy: [570, 697, 912, 1039]\n",
      "Area num: 102, field_xy: [684, 811, 912, 1039]\n",
      "Area num: 103, field_xy: [798, 925, 912, 1039]\n",
      "Area num: 104, field_xy: [912, 1039, 912, 1039]\n",
      "Area num: 105, field_xy: [1026, 1153, 912, 1039]\n",
      "Area num: 106, field_xy: [1140, 1267, 912, 1039]\n",
      "Area num: 107, field_xy: [1174, 1301, 912, 1039]\n",
      "Area num: 108, field_xy: [0, 127, 913, 1040]\n",
      "Area num: 109, field_xy: [114, 241, 913, 1040]\n",
      "Area num: 110, field_xy: [228, 355, 913, 1040]\n",
      "Area num: 111, field_xy: [342, 469, 913, 1040]\n",
      "Area num: 112, field_xy: [456, 583, 913, 1040]\n",
      "Area num: 113, field_xy: [570, 697, 913, 1040]\n",
      "Area num: 114, field_xy: [684, 811, 913, 1040]\n",
      "Area num: 115, field_xy: [798, 925, 913, 1040]\n",
      "Area num: 116, field_xy: [912, 1039, 913, 1040]\n",
      "Area num: 117, field_xy: [1026, 1153, 913, 1040]\n",
      "Area num: 118, field_xy: [1140, 1267, 913, 1040]\n",
      "Area num: 119, field_xy: [1174, 1301, 913, 1040]\n"
     ]
    }
   ],
   "source": [
    "model = cellbgnet.model.CellBGModel(param)"
   ]
  },
  {
   "cell_type": "code",
   "execution_count": 8,
   "id": "f3a6f53d",
   "metadata": {},
   "outputs": [],
   "source": [
    "model.init_recorder()"
   ]
  },
  {
   "cell_type": "code",
   "execution_count": 9,
   "id": "5ff7faab",
   "metadata": {},
   "outputs": [
    {
     "name": "stderr",
     "output_type": "stream",
     "text": [
      "/home/axtr7550/anaconda3/envs/compile_spline/lib/python3.11/site-packages/imageio/plugins/pillow.py:297: UserWarning: Loading 16-bit (uint16) PNG as int32 due to limitations in pillow's PNG decoder. This will be fixed in a future version of pillow which will make this warning dissapear.\n",
      "  warnings.warn(\n",
      "Eval image generation: 100%|█████████████████████████████████████████████████████████████████████████████████████████████████████████████████████████████████████████████████████████████████████████████████████████████████████████████████████| 128/128 [00:55<00:00,  2.32it/s]\n"
     ]
    },
    {
     "name": "stdout",
     "output_type": "stream",
     "text": [
      "\n",
      "eval images shape: (128, 1041, 1302) contain 42742 molecules,\n"
     ]
    }
   ],
   "source": [
    "model.init_eval_data()"
   ]
  },
  {
   "cell_type": "code",
   "execution_count": 9,
   "id": "5f61ab62",
   "metadata": {},
   "outputs": [
    {
     "data": {
      "text/plain": [
       "dtype('float64')"
      ]
     },
     "execution_count": 9,
     "metadata": {},
     "output_type": "execute_result"
    }
   ],
   "source": [
    "model.evaluation_params['eval_imgs'].dtype"
   ]
  },
  {
   "cell_type": "code",
   "execution_count": 11,
   "id": "38d1f997",
   "metadata": {},
   "outputs": [],
   "source": [
    "for i in range(5):\n",
    "    plt.figure()\n",
    "    plt.imshow(model.evaluation_params['eval_imgs'][i], vmin=80, vmax=300, cmap='gray')\n",
    "    plt.title(i)\n",
    "    plt.colorbar()\n",
    "    plt.show()"
   ]
  },
  {
   "cell_type": "code",
   "execution_count": null,
   "id": "7e94bca0",
   "metadata": {},
   "outputs": [],
   "source": []
  },
  {
   "cell_type": "code",
   "execution_count": null,
   "id": "44490447",
   "metadata": {},
   "outputs": [],
   "source": []
  },
  {
   "cell_type": "code",
   "execution_count": null,
   "id": "ce80e379",
   "metadata": {},
   "outputs": [],
   "source": []
  },
  {
   "cell_type": "code",
   "execution_count": null,
   "id": "b44595bf",
   "metadata": {},
   "outputs": [],
   "source": []
  },
  {
   "cell_type": "code",
   "execution_count": null,
   "id": "f68e2709",
   "metadata": {},
   "outputs": [],
   "source": []
  },
  {
   "cell_type": "code",
   "execution_count": null,
   "id": "243e66b9",
   "metadata": {},
   "outputs": [],
   "source": []
  },
  {
   "cell_type": "code",
   "execution_count": null,
   "id": "9bf5533f",
   "metadata": {},
   "outputs": [],
   "source": []
  }
 ],
 "metadata": {
  "kernelspec": {
   "display_name": "compile_spline",
   "language": "python",
   "name": "compile_spline"
  }
 },
 "nbformat": 4,
 "nbformat_minor": 5
}
