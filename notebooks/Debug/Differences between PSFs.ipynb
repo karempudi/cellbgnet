{
 "cells": [
  {
   "cell_type": "markdown",
   "id": "e88f43f6-5267-4376-9c67-24c5e91c3366",
   "metadata": {},
   "source": [
    "#### Things to plot\n",
    "\n",
    "1. "
   ]
  },
  {
   "cell_type": "code",
   "execution_count": null,
   "id": "67d99ba6-928a-49da-83d5-ea05f1b19478",
   "metadata": {},
   "outputs": [],
   "source": []
  }
 ],
 "metadata": {
  "kernelspec": {
   "display_name": "Python 3 (ipykernel)",
   "language": "python",
   "name": "python3"
  },
  "language_info": {
   "codemirror_mode": {
    "name": "ipython",
    "version": 3
   },
   "file_extension": ".py",
   "mimetype": "text/x-python",
   "name": "python",
   "nbconvert_exporter": "python",
   "pygments_lexer": "ipython3",
   "version": "3.9.18"
  }
 },
 "nbformat": 4,
 "nbformat_minor": 5
}
