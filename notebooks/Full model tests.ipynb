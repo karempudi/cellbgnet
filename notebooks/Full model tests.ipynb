{
 "cells": [
  {
   "cell_type": "code",
   "execution_count": 1,
   "id": "ef128d30",
   "metadata": {},
   "outputs": [],
   "source": [
    "%reload_ext autoreload\n",
    "%autoreload 2\n",
    "#%reload_ext notexbook\n",
    "#%texify"
   ]
  },
  {
   "cell_type": "code",
   "execution_count": 2,
   "id": "d6b4a9e7",
   "metadata": {},
   "outputs": [],
   "source": [
    "import numpy as np\n",
    "import matplotlib.pyplot as plt\n",
    "import torch\n",
    "%matplotlib qt5"
   ]
  },
  {
   "cell_type": "code",
   "execution_count": 4,
   "id": "f047a54b",
   "metadata": {},
   "outputs": [],
   "source": [
    "import numpy as np\n",
    "import matplotlib.pyplot as plt\n",
    "import torch\n",
    "\n",
    "import os\n",
    "\n",
    "os.chdir('/home/axtr7550/Chromosome_project/cellbgnet/')\n",
    "import cellbgnet\n",
    "import cellbgnet.utils\n",
    "\n",
    "from cellbgnet.datasets import DataSimulator\n",
    "from cellbgnet.utils.hardware import cpu, gpu\n",
    "from cellbgnet.model import CellBGModel\n",
    "from cellbgnet.simulation.psf_kernel import SMAPSplineCoefficient\n",
    "from cellbgnet.generic.emitter import EmitterSet\n",
    "from cellbgnet.train_loss_infer import generate_probmap_cells\n",
    "\n",
    "os.chdir('/home/axtr7550/Chromosome_project/cellbgnet/notebooks')\n",
    "\n",
    "from skimage.io import imread\n",
    "from skimage.measure import label\n",
    "import random\n",
    "import edt\n",
    "from skimage.filters import gaussian\n",
    "from scipy.ndimage import rotate\n",
    "import random\n",
    "import pickle\n",
    "import pathlib\n",
    "from pathlib import Path\n",
    "%matplotlib qt5"
   ]
  },
  {
   "cell_type": "code",
   "execution_count": 5,
   "id": "3cc6038e",
   "metadata": {},
   "outputs": [],
   "source": [
    "param_file = '../cellbgnet/utils/reference_files/reference_Axel.yaml'\n",
    "param = cellbgnet.utils.param_io.ParamHandling().load_params(param_file)"
   ]
  },
  {
   "cell_type": "code",
   "execution_count": 6,
   "id": "b6a45b08",
   "metadata": {},
   "outputs": [],
   "source": [
    "psf_params = param.PSF.to_dict()\n",
    "simulation_params = param.Simulation.to_dict()\n",
    "hardware_params = param.Hardware.to_dict()\n",
    "train_size = simulation_params['train_size']"
   ]
  },
  {
   "attachments": {},
   "cell_type": "markdown",
   "id": "fda71d81",
   "metadata": {},
   "source": [
    "### Testing the model"
   ]
  },
  {
   "cell_type": "code",
   "execution_count": 7,
   "id": "e2d2993e",
   "metadata": {},
   "outputs": [
    {
     "name": "stdout",
     "output_type": "stream",
     "text": [
      "INITIATING CUDA IMPLEMENTATION\n",
      "training sliding windows on camera chip:\n",
      "Area num: 0, field_xy: [0, 127, 0, 127]\n",
      "Area num: 1, field_xy: [114, 241, 0, 127]\n",
      "Area num: 2, field_xy: [228, 355, 0, 127]\n",
      "Area num: 3, field_xy: [342, 469, 0, 127]\n",
      "Area num: 4, field_xy: [456, 583, 0, 127]\n",
      "Area num: 5, field_xy: [570, 697, 0, 127]\n",
      "Area num: 6, field_xy: [684, 811, 0, 127]\n",
      "Area num: 7, field_xy: [798, 925, 0, 127]\n",
      "Area num: 8, field_xy: [912, 1039, 0, 127]\n",
      "Area num: 9, field_xy: [1026, 1153, 0, 127]\n",
      "Area num: 10, field_xy: [1140, 1267, 0, 127]\n",
      "Area num: 11, field_xy: [1174, 1301, 0, 127]\n",
      "Area num: 12, field_xy: [0, 127, 114, 241]\n",
      "Area num: 13, field_xy: [114, 241, 114, 241]\n",
      "Area num: 14, field_xy: [228, 355, 114, 241]\n",
      "Area num: 15, field_xy: [342, 469, 114, 241]\n",
      "Area num: 16, field_xy: [456, 583, 114, 241]\n",
      "Area num: 17, field_xy: [570, 697, 114, 241]\n",
      "Area num: 18, field_xy: [684, 811, 114, 241]\n",
      "Area num: 19, field_xy: [798, 925, 114, 241]\n",
      "Area num: 20, field_xy: [912, 1039, 114, 241]\n",
      "Area num: 21, field_xy: [1026, 1153, 114, 241]\n",
      "Area num: 22, field_xy: [1140, 1267, 114, 241]\n",
      "Area num: 23, field_xy: [1174, 1301, 114, 241]\n",
      "Area num: 24, field_xy: [0, 127, 228, 355]\n",
      "Area num: 25, field_xy: [114, 241, 228, 355]\n",
      "Area num: 26, field_xy: [228, 355, 228, 355]\n",
      "Area num: 27, field_xy: [342, 469, 228, 355]\n",
      "Area num: 28, field_xy: [456, 583, 228, 355]\n",
      "Area num: 29, field_xy: [570, 697, 228, 355]\n",
      "Area num: 30, field_xy: [684, 811, 228, 355]\n",
      "Area num: 31, field_xy: [798, 925, 228, 355]\n",
      "Area num: 32, field_xy: [912, 1039, 228, 355]\n",
      "Area num: 33, field_xy: [1026, 1153, 228, 355]\n",
      "Area num: 34, field_xy: [1140, 1267, 228, 355]\n",
      "Area num: 35, field_xy: [1174, 1301, 228, 355]\n",
      "Area num: 36, field_xy: [0, 127, 342, 469]\n",
      "Area num: 37, field_xy: [114, 241, 342, 469]\n",
      "Area num: 38, field_xy: [228, 355, 342, 469]\n",
      "Area num: 39, field_xy: [342, 469, 342, 469]\n",
      "Area num: 40, field_xy: [456, 583, 342, 469]\n",
      "Area num: 41, field_xy: [570, 697, 342, 469]\n",
      "Area num: 42, field_xy: [684, 811, 342, 469]\n",
      "Area num: 43, field_xy: [798, 925, 342, 469]\n",
      "Area num: 44, field_xy: [912, 1039, 342, 469]\n",
      "Area num: 45, field_xy: [1026, 1153, 342, 469]\n",
      "Area num: 46, field_xy: [1140, 1267, 342, 469]\n",
      "Area num: 47, field_xy: [1174, 1301, 342, 469]\n",
      "Area num: 48, field_xy: [0, 127, 456, 583]\n",
      "Area num: 49, field_xy: [114, 241, 456, 583]\n",
      "Area num: 50, field_xy: [228, 355, 456, 583]\n",
      "Area num: 51, field_xy: [342, 469, 456, 583]\n",
      "Area num: 52, field_xy: [456, 583, 456, 583]\n",
      "Area num: 53, field_xy: [570, 697, 456, 583]\n",
      "Area num: 54, field_xy: [684, 811, 456, 583]\n",
      "Area num: 55, field_xy: [798, 925, 456, 583]\n",
      "Area num: 56, field_xy: [912, 1039, 456, 583]\n",
      "Area num: 57, field_xy: [1026, 1153, 456, 583]\n",
      "Area num: 58, field_xy: [1140, 1267, 456, 583]\n",
      "Area num: 59, field_xy: [1174, 1301, 456, 583]\n",
      "Area num: 60, field_xy: [0, 127, 570, 697]\n",
      "Area num: 61, field_xy: [114, 241, 570, 697]\n",
      "Area num: 62, field_xy: [228, 355, 570, 697]\n",
      "Area num: 63, field_xy: [342, 469, 570, 697]\n",
      "Area num: 64, field_xy: [456, 583, 570, 697]\n",
      "Area num: 65, field_xy: [570, 697, 570, 697]\n",
      "Area num: 66, field_xy: [684, 811, 570, 697]\n",
      "Area num: 67, field_xy: [798, 925, 570, 697]\n",
      "Area num: 68, field_xy: [912, 1039, 570, 697]\n",
      "Area num: 69, field_xy: [1026, 1153, 570, 697]\n",
      "Area num: 70, field_xy: [1140, 1267, 570, 697]\n",
      "Area num: 71, field_xy: [1174, 1301, 570, 697]\n",
      "Area num: 72, field_xy: [0, 127, 684, 811]\n",
      "Area num: 73, field_xy: [114, 241, 684, 811]\n",
      "Area num: 74, field_xy: [228, 355, 684, 811]\n",
      "Area num: 75, field_xy: [342, 469, 684, 811]\n",
      "Area num: 76, field_xy: [456, 583, 684, 811]\n",
      "Area num: 77, field_xy: [570, 697, 684, 811]\n",
      "Area num: 78, field_xy: [684, 811, 684, 811]\n",
      "Area num: 79, field_xy: [798, 925, 684, 811]\n",
      "Area num: 80, field_xy: [912, 1039, 684, 811]\n",
      "Area num: 81, field_xy: [1026, 1153, 684, 811]\n",
      "Area num: 82, field_xy: [1140, 1267, 684, 811]\n",
      "Area num: 83, field_xy: [1174, 1301, 684, 811]\n",
      "Area num: 84, field_xy: [0, 127, 798, 925]\n",
      "Area num: 85, field_xy: [114, 241, 798, 925]\n",
      "Area num: 86, field_xy: [228, 355, 798, 925]\n",
      "Area num: 87, field_xy: [342, 469, 798, 925]\n",
      "Area num: 88, field_xy: [456, 583, 798, 925]\n",
      "Area num: 89, field_xy: [570, 697, 798, 925]\n",
      "Area num: 90, field_xy: [684, 811, 798, 925]\n",
      "Area num: 91, field_xy: [798, 925, 798, 925]\n",
      "Area num: 92, field_xy: [912, 1039, 798, 925]\n",
      "Area num: 93, field_xy: [1026, 1153, 798, 925]\n",
      "Area num: 94, field_xy: [1140, 1267, 798, 925]\n",
      "Area num: 95, field_xy: [1174, 1301, 798, 925]\n",
      "Area num: 96, field_xy: [0, 127, 912, 1039]\n",
      "Area num: 97, field_xy: [114, 241, 912, 1039]\n",
      "Area num: 98, field_xy: [228, 355, 912, 1039]\n",
      "Area num: 99, field_xy: [342, 469, 912, 1039]\n",
      "Area num: 100, field_xy: [456, 583, 912, 1039]\n",
      "Area num: 101, field_xy: [570, 697, 912, 1039]\n",
      "Area num: 102, field_xy: [684, 811, 912, 1039]\n",
      "Area num: 103, field_xy: [798, 925, 912, 1039]\n",
      "Area num: 104, field_xy: [912, 1039, 912, 1039]\n",
      "Area num: 105, field_xy: [1026, 1153, 912, 1039]\n",
      "Area num: 106, field_xy: [1140, 1267, 912, 1039]\n",
      "Area num: 107, field_xy: [1174, 1301, 912, 1039]\n",
      "Area num: 108, field_xy: [0, 127, 913, 1040]\n",
      "Area num: 109, field_xy: [114, 241, 913, 1040]\n",
      "Area num: 110, field_xy: [228, 355, 913, 1040]\n",
      "Area num: 111, field_xy: [342, 469, 913, 1040]\n",
      "Area num: 112, field_xy: [456, 583, 913, 1040]\n",
      "Area num: 113, field_xy: [570, 697, 913, 1040]\n",
      "Area num: 114, field_xy: [684, 811, 913, 1040]\n",
      "Area num: 115, field_xy: [798, 925, 913, 1040]\n",
      "Area num: 116, field_xy: [912, 1039, 913, 1040]\n",
      "Area num: 117, field_xy: [1026, 1153, 913, 1040]\n",
      "Area num: 118, field_xy: [1140, 1267, 913, 1040]\n",
      "Area num: 119, field_xy: [1174, 1301, 913, 1040]\n"
     ]
    }
   ],
   "source": [
    "model = cellbgnet.model.CellBGModel(param)"
   ]
  },
  {
   "cell_type": "code",
   "execution_count": 8,
   "id": "8318b5f0",
   "metadata": {},
   "outputs": [
    {
     "name": "stderr",
     "output_type": "stream",
     "text": [
      "/home/axtr7550/anaconda3/envs/compile_spline/lib/python3.11/site-packages/imageio/plugins/pillow.py:297: UserWarning: Loading 16-bit (uint16) PNG as int32 due to limitations in pillow's PNG decoder. This will be fixed in a future version of pillow which will make this warning dissapear.\n",
      "  warnings.warn(\n"
     ]
    },
    {
     "data": {
      "text/plain": [
       "(tensor(202462.7812, device='cuda:0'),\n",
       " (tensor(30.6710, device='cuda:0'),\n",
       "  tensor(88.8533, device='cuda:0'),\n",
       "  tensor(2529.3955, device='cuda:0'),\n",
       "  tensor(64.6259, device='cuda:0')))"
      ]
     },
     "execution_count": 8,
     "metadata": {},
     "output_type": "execute_result"
    }
   ],
   "source": [
    "model.training(128, simulation_params)"
   ]
  },
  {
   "cell_type": "code",
   "execution_count": null,
   "id": "ded2de67",
   "metadata": {},
   "outputs": [],
   "source": []
  },
  {
   "attachments": {},
   "cell_type": "markdown",
   "id": "b6f0414b",
   "metadata": {},
   "source": [
    "### Testing data simulator"
   ]
  },
  {
   "cell_type": "code",
   "execution_count": 9,
   "id": "c69a089a",
   "metadata": {},
   "outputs": [
    {
     "name": "stdout",
     "output_type": "stream",
     "text": [
      "INITIATING CUDA IMPLEMENTATION\n"
     ]
    }
   ],
   "source": [
    "data_gen = DataSimulator(psf_params, simulation_params, hardware_params)"
   ]
  },
  {
   "cell_type": "code",
   "execution_count": 10,
   "id": "95236f37",
   "metadata": {},
   "outputs": [],
   "source": [
    "prob_map = np.zeros([1, train_size, train_size])\n",
    "prob_map[0, int(simulation_params['margin_empty'] * train_size): int((1 - simulation_params['margin_empty']) * train_size),\n",
    "         int(simulation_params['margin_empty'] * train_size): int((1 - simulation_params['margin_empty']) * train_size)] += 1\n",
    "prob_map = prob_map / prob_map.sum() * 4"
   ]
  },
  {
   "cell_type": "code",
   "execution_count": 11,
   "id": "5c39ee26",
   "metadata": {},
   "outputs": [
    {
     "ename": "type",
     "evalue": "'DataSimulator' object has no attribute 'sliding_win'",
     "output_type": "error",
     "traceback": [
      "\u001b[0;31m---------------------------------------------------------------------------\u001b[0m",
      "\u001b[0;31mAttributeError\u001b[0m                            Traceback (most recent call last)",
      "Cell \u001b[0;32mIn[11], line 1\u001b[0m\n\u001b[0;32m----> 1\u001b[0m imgs_sim, xyzi_gt, s_mask, psf_imgs_gt, locs \u001b[39m=\u001b[39m data_gen\u001b[39m.\u001b[39msimulate_data(gpu(prob_map), batch_size\u001b[39m=\u001b[39m\u001b[39m128\u001b[39m)\n",
      "File \u001b[0;32m~/Chromosome_project/cellbgnet/cellbgnet/datasets.py:593\u001b[0m, in \u001b[0;36mDataSimulator.simulate_data\u001b[0;34m(self, prob_map, batch_size, local_context, photon_filter, photon_filter_threshold, P_locs_cse, iter_num, train_size, robust_training, cell_masks, constant_photon_counts)\u001b[0m\n\u001b[1;32m    589\u001b[0m     pix_cor \u001b[39m=\u001b[39m torch\u001b[39m.\u001b[39mzeros([batch_size, \u001b[39m0\u001b[39m, \u001b[39m2\u001b[39m])\u001b[39m.\u001b[39mtype(torch\u001b[39m.\u001b[39mFloatTensor)\n\u001b[1;32m    591\u001b[0m \u001b[39m# do the sampling and construct what is needed. \u001b[39;00m\n\u001b[1;32m    592\u001b[0m \u001b[39m# S is locs, X_os, Y_os are offsets, Z and I are also scaled values in appropriate ranges\u001b[39;00m\n\u001b[0;32m--> 593\u001b[0m S, X_os, Y_os, Z, I, field_xy \u001b[39m=\u001b[39m \u001b[39mself\u001b[39m\u001b[39m.\u001b[39msampling(batch_size\u001b[39m=\u001b[39mbatch_size, prob_map\u001b[39m=\u001b[39mprob_map, local_context\u001b[39m=\u001b[39mlocal_context,\n\u001b[1;32m    594\u001b[0m                             iter_num\u001b[39m=\u001b[39miter_num, train_size\u001b[39m=\u001b[39mtrain_size, constant_photon_counts\u001b[39m=\u001b[39mconstant_photon_counts)\n\u001b[1;32m    596\u001b[0m \u001b[39m# if there are emitters sampled on the image\u001b[39;00m\n\u001b[1;32m    597\u001b[0m \u001b[39mif\u001b[39;00m S\u001b[39m.\u001b[39msum():\n",
      "File \u001b[0;32m~/Chromosome_project/cellbgnet/cellbgnet/datasets.py:522\u001b[0m, in \u001b[0;36mDataSimulator.sampling\u001b[0;34m(self, prob_map, batch_size, local_context, iter_num, train_size, constant_photon_counts)\u001b[0m\n\u001b[1;32m    520\u001b[0m \u001b[39m# when generating training data we only use train_size * train_size image\u001b[39;00m\n\u001b[1;32m    521\u001b[0m \u001b[39mif\u001b[39;00m prob_map\u001b[39m.\u001b[39mshape[\u001b[39m1\u001b[39m] \u001b[39m==\u001b[39m prob_map\u001b[39m.\u001b[39mshape[\u001b[39m2\u001b[39m] \u001b[39m==\u001b[39m train_size:\n\u001b[0;32m--> 522\u001b[0m     index  \u001b[39m=\u001b[39m iter_num \u001b[39m%\u001b[39m \u001b[39mlen\u001b[39m(\u001b[39mself\u001b[39m\u001b[39m.\u001b[39msliding_win)\n\u001b[1;32m    523\u001b[0m     \u001b[39m# get the fov of the train size from the full camera chip\u001b[39;00m\n\u001b[1;32m    524\u001b[0m     field_xy \u001b[39m=\u001b[39m torch\u001b[39m.\u001b[39mtensor(\u001b[39mself\u001b[39m\u001b[39m.\u001b[39msliding_win[index])\n",
      "\u001b[0;31mAttributeError\u001b[0m: 'DataSimulator' object has no attribute 'sliding_win'"
     ]
    }
   ],
   "source": [
    "imgs_sim, xyzi_gt, s_mask, psf_imgs_gt, locs = data_gen.simulate_data(gpu(prob_map), batch_size=128)"
   ]
  },
  {
   "cell_type": "code",
   "execution_count": 12,
   "id": "a4abf0e4",
   "metadata": {},
   "outputs": [
    {
     "data": {
      "text/plain": [
       "'cuda:0'"
      ]
     },
     "execution_count": 12,
     "metadata": {},
     "output_type": "execute_result"
    }
   ],
   "source": [
    "data_gen.device"
   ]
  },
  {
   "cell_type": "code",
   "execution_count": 13,
   "id": "b1f48724",
   "metadata": {},
   "outputs": [
    {
     "data": {
      "text/plain": [
       "torch.Size([128, 1, 128, 128])"
      ]
     },
     "execution_count": 13,
     "metadata": {},
     "output_type": "execute_result"
    }
   ],
   "source": [
    "imgs_sim.shape"
   ]
  },
  {
   "cell_type": "code",
   "execution_count": 14,
   "id": "e4b33d64",
   "metadata": {},
   "outputs": [],
   "source": [
    "plt.figure()\n",
    "plt.imshow(imgs_sim[3, 0].cpu().numpy())\n",
    "plt.show()"
   ]
  },
  {
   "cell_type": "code",
   "execution_count": 15,
   "id": "b6d43b7f",
   "metadata": {},
   "outputs": [
    {
     "data": {
      "text/plain": [
       "<matplotlib.image.AxesImage at 0x7f78d9145220>"
      ]
     },
     "execution_count": 15,
     "metadata": {},
     "output_type": "execute_result"
    }
   ],
   "source": [
    "plt.figure()\n",
    "plt.imshow(psf_imgs_gt[3].cpu())"
   ]
  },
  {
   "cell_type": "code",
   "execution_count": 17,
   "id": "5b3bfb78",
   "metadata": {},
   "outputs": [
    {
     "data": {
      "text/plain": [
       "torch.Size([128, 1, 128, 128])"
      ]
     },
     "execution_count": 17,
     "metadata": {},
     "output_type": "execute_result"
    }
   ],
   "source": [
    "imgs_sim.shape"
   ]
  },
  {
   "cell_type": "code",
   "execution_count": 18,
   "id": "61023d70",
   "metadata": {},
   "outputs": [
    {
     "data": {
      "text/plain": [
       "torch.Size([128, 128, 128])"
      ]
     },
     "execution_count": 18,
     "metadata": {},
     "output_type": "execute_result"
    }
   ],
   "source": [
    "psf_imgs_gt.shape"
   ]
  },
  {
   "cell_type": "code",
   "execution_count": null,
   "id": "abef2f88",
   "metadata": {},
   "outputs": [],
   "source": []
  },
  {
   "cell_type": "code",
   "execution_count": 19,
   "id": "dd7c6966",
   "metadata": {},
   "outputs": [
    {
     "data": {
      "text/plain": [
       "torch.Size([128, 10, 4])"
      ]
     },
     "execution_count": 19,
     "metadata": {},
     "output_type": "execute_result"
    }
   ],
   "source": [
    "xyzi_gt.shape"
   ]
  },
  {
   "cell_type": "code",
   "execution_count": null,
   "id": "c283c1b5",
   "metadata": {},
   "outputs": [],
   "source": []
  },
  {
   "cell_type": "code",
   "execution_count": null,
   "id": "1855a10a",
   "metadata": {},
   "outputs": [],
   "source": []
  },
  {
   "cell_type": "code",
   "execution_count": null,
   "id": "fa65f225",
   "metadata": {},
   "outputs": [],
   "source": []
  },
  {
   "cell_type": "code",
   "execution_count": null,
   "id": "c5a19d9d",
   "metadata": {},
   "outputs": [],
   "source": []
  },
  {
   "cell_type": "code",
   "execution_count": null,
   "id": "7f03149d",
   "metadata": {},
   "outputs": [],
   "source": []
  },
  {
   "cell_type": "code",
   "execution_count": null,
   "id": "f278bd5d",
   "metadata": {},
   "outputs": [],
   "source": []
  },
  {
   "cell_type": "code",
   "execution_count": 16,
   "id": "1bd44267",
   "metadata": {},
   "outputs": [
    {
     "data": {
      "text/plain": [
       "tensor([1., 1., 1., 1., 1., 0., 0., 0., 0., 0.], device='cuda:0')"
      ]
     },
     "execution_count": 16,
     "metadata": {},
     "output_type": "execute_result"
    }
   ],
   "source": [
    "s_mask[3,:]"
   ]
  },
  {
   "cell_type": "code",
   "execution_count": 17,
   "id": "3664abbb",
   "metadata": {},
   "outputs": [
    {
     "data": {
      "text/plain": [
       "tensor([[ 81.7735,  16.0448,   0.6458,   0.9556],\n",
       "        [  8.2155,  46.8738,  -0.2595,   0.5951],\n",
       "        [117.7596,  64.0497,  -0.4851,   0.6828],\n",
       "        [ 54.7972,  79.3062,   0.5025,   0.9386],\n",
       "        [ 97.5091, 100.9258,   0.9972,   0.6686],\n",
       "        [  0.0000,   0.0000,   0.0000,   0.0000],\n",
       "        [  0.0000,   0.0000,   0.0000,   0.0000],\n",
       "        [  0.0000,   0.0000,   0.0000,   0.0000],\n",
       "        [  0.0000,   0.0000,   0.0000,   0.0000]], device='cuda:0')"
      ]
     },
     "execution_count": 17,
     "metadata": {},
     "output_type": "execute_result"
    }
   ],
   "source": [
    "xyzi_gt[3, :]"
   ]
  },
  {
   "cell_type": "code",
   "execution_count": null,
   "id": "98a7b42a",
   "metadata": {},
   "outputs": [],
   "source": []
  },
  {
   "cell_type": "code",
   "execution_count": null,
   "id": "ba625a18",
   "metadata": {},
   "outputs": [],
   "source": []
  }
 ],
 "metadata": {
  "kernelspec": {
   "display_name": "compile_spline",
   "language": "python",
   "name": "compile_spline"
  },
  "language_info": {
   "codemirror_mode": {
    "name": "ipython",
    "version": 3
   },
   "file_extension": ".py",
   "mimetype": "text/x-python",
   "name": "python",
   "nbconvert_exporter": "python",
   "pygments_lexer": "ipython3",
   "version": "3.11.3"
  }
 },
 "nbformat": 4,
 "nbformat_minor": 5
}
