{
 "cells": [
  {
   "cell_type": "code",
   "execution_count": 1,
   "id": "21d91658",
   "metadata": {},
   "outputs": [],
   "source": [
    "%reload_ext autoreload\n",
    "%autoreload 2"
   ]
  },
  {
   "cell_type": "markdown",
   "id": "05604fc3-f687-4e3c-b475-06f23113b120",
   "metadata": {},
   "source": [
    "## Experiment EXP-23-CA3091, EXP-24-CB4713, EXP-24-CB4719"
   ]
  },
  {
   "cell_type": "code",
   "execution_count": 2,
   "id": "09b23adc-a6dd-4f39-be27-1cffc54313eb",
   "metadata": {},
   "outputs": [],
   "source": [
    "import json\n",
    "import numpy as np\n",
    "import matplotlib.pyplot as plt\n",
    "import pathlib\n",
    "from pathlib import Path\n",
    "%matplotlib qt5"
   ]
  },
  {
   "cell_type": "code",
   "execution_count": 3,
   "id": "c0dcc47a-30ff-4fdc-9eb1-14fd6d867ffc",
   "metadata": {},
   "outputs": [],
   "source": [
    "all_data = []"
   ]
  },
  {
   "cell_type": "code",
   "execution_count": 4,
   "id": "bacc2300-b16d-4da2-a33f-6d73125b1d4b",
   "metadata": {},
   "outputs": [
    {
     "name": "stdout",
     "output_type": "stream",
     "text": [
      "Number of beads: 4\n",
      "Number of beads: 9\n",
      "Number of beads: 16\n",
      "Number of beads: 29\n",
      "Number of beads: 14\n"
     ]
    }
   ],
   "source": [
    "### Number of beads:\n",
    "DATA_DIR = Path('/mnt/sda1/SMLAT/data/real_data/only_beads/EXP-23-CA3091/beadsLocalizationAccuracy/lowIntensityLocalizations/')\n",
    "for i in range(1, 6):\n",
    "    with open(DATA_DIR / Path('Pos' + str(i)), 'r') as fh:\n",
    "        data = json.load(fh)\n",
    "        print(f\"Number of beads: {len(data)}\")\n",
    "        if len(data) != 0:\n",
    "            all_data.extend(data)"
   ]
  },
  {
   "cell_type": "code",
   "execution_count": 5,
   "id": "9319bc00-221e-4b57-b277-a4c0b48e4134",
   "metadata": {},
   "outputs": [],
   "source": [
    "DATA_DIR = Path('/mnt/sda1/SMLAT/data/real_data/only_beads/EXP-24-CB4713/fluorChannelRegistration3D/localizations_vs_z/')\n",
    "for filename in sorted(list(DATA_DIR.glob('*'))):\n",
    "    with open(filename, 'r') as fh:\n",
    "        data = json.load(fh)\n",
    "    #print(f\"Number of beads: {len(data)}\")\n",
    "        if len(data) != 0:\n",
    "            all_data.extend(data)"
   ]
  },
  {
   "cell_type": "code",
   "execution_count": 6,
   "id": "b0cb3dec-b68e-4975-a9d7-fc8335e22b0a",
   "metadata": {},
   "outputs": [],
   "source": [
    "DATA_DIR = Path('/mnt/sda1/SMLAT/data/real_data/only_beads/EXP-24-CB4719/fluorChannelRegistration3D/localizations_vs_z_101/')\n",
    "for filename in sorted(list(DATA_DIR.glob('*'))):\n",
    "    with open(filename, 'r') as fh:\n",
    "        data = json.load(fh)\n",
    "        #print(f\"Number of beads: {len(data)}\")\n",
    "        if len(data) != 0:\n",
    "            all_data.extend(data)"
   ]
  },
  {
   "cell_type": "code",
   "execution_count": 7,
   "id": "3d8ea12f-0973-4fa5-ab94-a0d14ef02e94",
   "metadata": {},
   "outputs": [],
   "source": [
    "DATA_DIR = Path('/mnt/sda1/SMLAT/data/real_data/only_beads/EXP-24-CB4719/fluorChannelRegistration3D/localizations_vs_z_102/')\n",
    "for filename in sorted(list(DATA_DIR.glob('*'))):\n",
    "    with open(filename, 'r') as fh:\n",
    "        data = json.load(fh)\n",
    "        #print(f\"Number of beads: {len(data)}\")\n",
    "        if len(data) != 0:\n",
    "            all_data.extend(data)"
   ]
  },
  {
   "cell_type": "code",
   "execution_count": 8,
   "id": "bbbaeb5b-107b-41f4-8f03-75b82b67b314",
   "metadata": {},
   "outputs": [],
   "source": [
    "DATA_DIR = Path('/mnt/sda1/SMLAT/data/real_data/only_beads/EXP-24-CB4719/fluorChannelRegistration3D/localizations_vs_z_103/')\n",
    "for filename in sorted(list(DATA_DIR.glob('*'))):\n",
    "    with open(filename, 'r') as fh:\n",
    "        data = json.load(fh)\n",
    "        #print(f\"Number of beads: {len(data)}\")\n",
    "        if len(data) != 0:\n",
    "            all_data.extend(data)"
   ]
  },
  {
   "cell_type": "code",
   "execution_count": null,
   "id": "30fcd977-5619-4ee6-9a90-5dcc03f620bd",
   "metadata": {},
   "outputs": [],
   "source": []
  },
  {
   "cell_type": "code",
   "execution_count": 9,
   "id": "e4060880-1914-453c-950c-5abf5eed250d",
   "metadata": {},
   "outputs": [
    {
     "data": {
      "text/plain": [
       "1701"
      ]
     },
     "execution_count": 9,
     "metadata": {},
     "output_type": "execute_result"
    }
   ],
   "source": [
    "len(all_data)"
   ]
  },
  {
   "cell_type": "code",
   "execution_count": 10,
   "id": "1f6b9811-0d1d-4e7e-830a-0c97e944ba1d",
   "metadata": {},
   "outputs": [
    {
     "data": {
      "text/plain": [
       "dict_keys(['bead_no', 'x', 'y', 'z', 'ph', 'x_sigma', 'y_sigma', 'z_sigma', 'ph_sigma'])"
      ]
     },
     "execution_count": 10,
     "metadata": {},
     "output_type": "execute_result"
    }
   ],
   "source": [
    "all_data[0].keys()"
   ]
  },
  {
   "cell_type": "code",
   "execution_count": 11,
   "id": "dcf51557-0acc-44d3-9500-83a4f049e8ea",
   "metadata": {},
   "outputs": [
    {
     "data": {
      "text/plain": [
       "[1653.92578125,\n",
       " 1516.7547607421875,\n",
       " 1555.9029541015625,\n",
       " 1386.6798095703125,\n",
       " 1339.0155029296875,\n",
       " 1551.360595703125,\n",
       " 1553.19189453125,\n",
       " 1485.6495361328125,\n",
       " 1760.02978515625,\n",
       " 1440.072509765625,\n",
       " 1221.911865234375,\n",
       " 1626.4915771484375,\n",
       " 1638.2347412109375,\n",
       " 1447.280517578125,\n",
       " 1722.836181640625,\n",
       " 1609.3990478515625,\n",
       " 1469.8367919921875,\n",
       " 1595.677734375,\n",
       " 1614.62646484375,\n",
       " 1387.81884765625,\n",
       " 1732.0,\n",
       " 1853.8580322265625,\n",
       " 1549.402587890625,\n",
       " 1507.365966796875,\n",
       " 1559.8046875,\n",
       " 1691.17529296875,\n",
       " 1640.1982421875,\n",
       " 1397.6876220703125,\n",
       " 1469.1204833984375,\n",
       " 1279.19384765625,\n",
       " 1455.131591796875,\n",
       " 1600.40234375,\n",
       " 1522.29833984375,\n",
       " 1469.0806884765625,\n",
       " 1551.463623046875,\n",
       " 1634.6685791015625,\n",
       " 1330.9814453125,\n",
       " 1564.80078125,\n",
       " 1502.6754150390625,\n",
       " 1547.3507080078125,\n",
       " 1534.42138671875,\n",
       " 1479.6112060546875,\n",
       " 1453.30322265625,\n",
       " 1283.376953125,\n",
       " 1169.40576171875,\n",
       " 1371.272216796875,\n",
       " 1160.95751953125,\n",
       " 1192.0916748046875,\n",
       " 1121.2764892578125,\n",
       " 1308.333984375,\n",
       " 1036.1951904296875,\n",
       " 1150.36669921875,\n",
       " 1317.391357421875,\n",
       " 1067.4072265625,\n",
       " 1250.1761474609375,\n",
       " 1232.2117919921875,\n",
       " 1099.8272705078125,\n",
       " 1300.865966796875,\n",
       " 1236.8876953125,\n",
       " 1168.6397705078125,\n",
       " 1202.3511962890625,\n",
       " 1054.0545654296875,\n",
       " 1223.431884765625,\n",
       " 1377.1094970703125,\n",
       " 1124.3277587890625,\n",
       " 1177.7596435546875,\n",
       " 1017.856689453125,\n",
       " 1048.6202392578125,\n",
       " 1214.0838623046875,\n",
       " 1118.0107421875,\n",
       " 1329.150390625,\n",
       " 1113.84814453125,\n",
       " 1261.26708984375,\n",
       " 1279.7896728515625,\n",
       " 1315.540771484375,\n",
       " 1211.5347900390625,\n",
       " 1597.9102783203125,\n",
       " 1156.676513671875,\n",
       " 1199.9930419921875,\n",
       " 1157.49462890625,\n",
       " 1376.8367919921875,\n",
       " 1392.0172119140625,\n",
       " 1390.9271240234375,\n",
       " 1298.241455078125,\n",
       " 1185.6302490234375,\n",
       " 1261.61083984375,\n",
       " 1227.667724609375,\n",
       " 1396.1220703125,\n",
       " 1314.8922119140625,\n",
       " 1120.891357421875,\n",
       " 1299.4781494140625,\n",
       " 1376.027587890625,\n",
       " 1454.3592529296875,\n",
       " 1264.8433837890625,\n",
       " 1449.903564453125,\n",
       " 1126.4908447265625,\n",
       " 1144.606689453125,\n",
       " 1239.3056640625,\n",
       " 1124.7762451171875,\n",
       " 1022.622314453125,\n",
       " 1276.101318359375,\n",
       " 1325.725341796875,\n",
       " 1195.9547119140625,\n",
       " 1293.14599609375,\n",
       " 1157.821533203125,\n",
       " 1196.240966796875,\n",
       " 1188.4134521484375,\n",
       " 1199.647216796875,\n",
       " 1165.3916015625,\n",
       " 1100.803955078125,\n",
       " 1154.4356689453125,\n",
       " 1388.9974365234375,\n",
       " 1123.666259765625,\n",
       " 1262.1328125,\n",
       " 1349.530029296875,\n",
       " 1209.1351318359375,\n",
       " 1214.0537109375,\n",
       " 786.6221923828125,\n",
       " 1036.38623046875,\n",
       " 1005.8184814453125,\n",
       " 1063.3941650390625,\n",
       " 1095.8524169921875,\n",
       " 979.0910034179688,\n",
       " 1081.747314453125,\n",
       " 1175.5394287109375,\n",
       " 1252.452880859375,\n",
       " 1191.907958984375,\n",
       " 1208.494384765625,\n",
       " 1151.4398193359375,\n",
       " 1301.3221435546875,\n",
       " 1371.186767578125,\n",
       " 1155.2532958984375,\n",
       " 1156.9814453125,\n",
       " 1104.6646728515625,\n",
       " 1076.935546875,\n",
       " 1348.820068359375,\n",
       " 1159.2723388671875,\n",
       " 1097.1962890625,\n",
       " 1174.5491943359375,\n",
       " 1075.5712890625,\n",
       " 1390.7535400390625,\n",
       " 1301.2869873046875,\n",
       " 1162.607177734375,\n",
       " 1204.107177734375,\n",
       " 1231.254638671875,\n",
       " 1166.2176513671875,\n",
       " 1108.438720703125,\n",
       " 1057.0670166015625,\n",
       " 1339.9952392578125,\n",
       " 1289.420166015625,\n",
       " 1218.5654296875,\n",
       " 1151.6092529296875,\n",
       " 1055.0179443359375,\n",
       " 1106.6656494140625,\n",
       " 1088.8861083984375,\n",
       " 1193.3914794921875,\n",
       " 1204.3062744140625,\n",
       " 1103.074951171875,\n",
       " 1052.2138671875,\n",
       " 1065.255126953125,\n",
       " 1268.2152099609375,\n",
       " 1136.8389892578125,\n",
       " 1159.021240234375,\n",
       " 1229.1759033203125,\n",
       " 1224.5018310546875,\n",
       " 1134.714599609375,\n",
       " 1105.08984375,\n",
       " 1303.49609375,\n",
       " 1181.6527099609375,\n",
       " 1146.1575927734375,\n",
       " 1227.2406005859375,\n",
       " 1248.8470458984375,\n",
       " 1224.8721923828125,\n",
       " 1260.4873046875,\n",
       " 1336.5606689453125,\n",
       " 1195.3760986328125,\n",
       " 1232.82958984375,\n",
       " 1165.9613037109375,\n",
       " 1158.6912841796875,\n",
       " 1125.791259765625,\n",
       " 1205.1610107421875,\n",
       " 1170.4434814453125,\n",
       " 1173.452392578125,\n",
       " 1119.3638916015625,\n",
       " 1318.5247802734375,\n",
       " 1091.7314453125,\n",
       " 1186.23388671875,\n",
       " 1249.1090087890625,\n",
       " 1232.06396484375,\n",
       " 1292.1083984375,\n",
       " 1215.8880615234375,\n",
       " 1206.37255859375,\n",
       " 1198.109375,\n",
       " 1343.4324951171875,\n",
       " 1409.4111328125]"
      ]
     },
     "execution_count": 11,
     "metadata": {},
     "output_type": "execute_result"
    }
   ],
   "source": [
    "all_data[0]['ph']"
   ]
  },
  {
   "cell_type": "code",
   "execution_count": 12,
   "id": "6ac2c31e-7f54-468b-aa61-688cc0b8bcd1",
   "metadata": {},
   "outputs": [],
   "source": [
    "photon_counts = [np.mean(one_bead['ph']) for one_bead in all_data]"
   ]
  },
  {
   "cell_type": "code",
   "execution_count": 13,
   "id": "7f7265e6-fe02-4059-9193-7fa2c3b85c28",
   "metadata": {},
   "outputs": [
    {
     "data": {
      "text/plain": [
       "1820.8298292361446"
      ]
     },
     "execution_count": 13,
     "metadata": {},
     "output_type": "execute_result"
    }
   ],
   "source": [
    "np.mean(photon_counts)"
   ]
  },
  {
   "cell_type": "code",
   "execution_count": 14,
   "id": "ba7a0331-5201-4fac-9f3d-8e0b18107891",
   "metadata": {},
   "outputs": [
    {
     "data": {
      "text/plain": [
       "711.1393788655599"
      ]
     },
     "execution_count": 14,
     "metadata": {},
     "output_type": "execute_result"
    }
   ],
   "source": [
    "np.min(photon_counts)"
   ]
  },
  {
   "cell_type": "code",
   "execution_count": 15,
   "id": "646cb399-c91f-4b9b-a3e7-a5a8c217a470",
   "metadata": {},
   "outputs": [],
   "source": [
    "tuples = [(np.mean(one_bead['z']), np.std(one_bead['x']), np.std(one_bead['y']), np.std(one_bead['z']), len(one_bead['z']), np.mean(one_bead['ph']))\n",
    "          for one_bead in all_data\n",
    "                     if len(one_bead['z']) > 30 and np.mean(one_bead['ph']) > 700.0\n",
    "         ]"
   ]
  },
  {
   "cell_type": "code",
   "execution_count": 16,
   "id": "1c316975-bf09-46cf-9e72-5944eddde222",
   "metadata": {},
   "outputs": [],
   "source": [
    "counts = [len(one_bead['z']) for one_bead in all_data]\n"
   ]
  },
  {
   "cell_type": "code",
   "execution_count": null,
   "id": "9e1ae774-0dd5-4ca3-a881-b1da11922a09",
   "metadata": {},
   "outputs": [],
   "source": []
  },
  {
   "cell_type": "code",
   "execution_count": 17,
   "id": "b1cf0403-8d31-4302-ad32-311d5d78b509",
   "metadata": {},
   "outputs": [],
   "source": [
    "z_values = [bead[0] for bead in tuples]\n",
    "x_std = [bead[1] for bead in tuples]\n",
    "y_std = [bead[2] for bead in tuples]\n",
    "z_std = [bead[3] for bead in tuples]\n",
    "ph_counts = [bead[5] for bead in tuples]"
   ]
  },
  {
   "cell_type": "code",
   "execution_count": 18,
   "id": "bcf2ed08-8102-47fb-ab80-b319e6f6179b",
   "metadata": {},
   "outputs": [
    {
     "data": {
      "text/plain": [
       "1947.8840252890523"
      ]
     },
     "execution_count": 18,
     "metadata": {},
     "output_type": "execute_result"
    }
   ],
   "source": [
    "np.mean(ph_counts)"
   ]
  },
  {
   "cell_type": "code",
   "execution_count": null,
   "id": "02828082-9b1a-45c5-b4f4-f80361a3de4e",
   "metadata": {},
   "outputs": [],
   "source": []
  },
  {
   "cell_type": "code",
   "execution_count": 19,
   "id": "d6d32de1-13dc-4657-806d-fed67491ca9c",
   "metadata": {},
   "outputs": [
    {
     "data": {
      "text/plain": [
       "(1311, 1947.8840252890523)"
      ]
     },
     "execution_count": 19,
     "metadata": {},
     "output_type": "execute_result"
    }
   ],
   "source": [
    "len(z_values), np.mean(ph_counts)"
   ]
  },
  {
   "cell_type": "markdown",
   "id": "fe794522-bb57-425e-b6d7-be7bc8f0eb08",
   "metadata": {},
   "source": [
    "plt.figure()\n",
    "plt.plot(z_values, x_std, 'r*')\n",
    "plt.show()"
   ]
  },
  {
   "cell_type": "markdown",
   "id": "25d95d56-fd9e-442b-bb85-e54e630aac82",
   "metadata": {},
   "source": [
    "plt.figure()\n",
    "plt.plot(z_values, y_std, 'b*')\n",
    "plt.show()"
   ]
  },
  {
   "cell_type": "markdown",
   "id": "f70694d3-c9b7-406f-ac9b-2b41bc6ef388",
   "metadata": {},
   "source": [
    "plt.figure()\n",
    "plt.plot(z_values, z_std, 'g*')\n",
    "plt.show()"
   ]
  },
  {
   "cell_type": "code",
   "execution_count": 20,
   "id": "6744abcb-e13d-440e-b46d-b84c6031db5f",
   "metadata": {},
   "outputs": [],
   "source": [
    "import numpy as np\n",
    "import matplotlib.pyplot as plt\n",
    "import torch\n",
    "import time\n",
    "import sys\n",
    "import pathlib\n",
    "import pickle\n",
    "from pathlib import Path\n",
    "import matplotlib.animation as animation\n",
    "import seaborn as sns\n",
    "sns.set_style('white')\n",
    "sys.setrecursionlimit(10000)\n",
    "%matplotlib qt5"
   ]
  },
  {
   "cell_type": "code",
   "execution_count": 21,
   "id": "14d857f0-5879-4fb4-8c14-15287b97e57b",
   "metadata": {},
   "outputs": [],
   "source": [
    "import cellbgnet\n",
    "import cellbgnet.utils\n",
    "from cellbgnet.datasets import DataSimulator\n",
    "from cellbgnet.utils.hardware import cpu, gpu\n",
    "from cellbgnet.model import CellBGModel\n",
    "from cellbgnet.utils.plot_funcs import plot_od, plot_train_record\n",
    "from cellbgnet.simulation.psf_kernel import SMAPSplineCoefficient\n",
    "from cellbgnet.analyze_eval import spline_crlb_plot\n",
    "from cellbgnet.utils.plot_funcs import plot_psf"
   ]
  },
  {
   "cell_type": "code",
   "execution_count": 22,
   "id": "7f365e86-9c09-4c4b-a7f6-116d7562ea08",
   "metadata": {},
   "outputs": [],
   "source": [
    "model_path = Path('/mnt/sda1/SMLAT/training_runs/model_rotated_45_venus_beads2.pkl')\n",
    "with open(model_path, 'rb') as f:\n",
    "    chromo_model = pickle.load(f)"
   ]
  },
  {
   "cell_type": "code",
   "execution_count": 23,
   "id": "f14c33ef-520f-4284-abb1-e3654d9bb249",
   "metadata": {},
   "outputs": [
    {
     "data": {
      "text/plain": [
       "{'train_size': 128,\n",
       " 'train_type': 'uniform',\n",
       " 'psf_intensity_normalization': True,\n",
       " 'density': 0.003125,\n",
       " 'non_cell_density': 10,\n",
       " 'margin_empty': 0.05,\n",
       " 'z_prior': [-1, 1],\n",
       " 'survival_prob': None,\n",
       " 'min_photon': 0.15,\n",
       " 'camera': 'sCMOS',\n",
       " 'camera_chip_size': [1041, 1302],\n",
       " 'perlin_noise': False,\n",
       " 'perlin_noise_factor': 0.2,\n",
       " 'perlin_noise_res': 64,\n",
       " 'baseline': 103.0,\n",
       " 'bg_values': 112.0,\n",
       " 'bg_width': 20,\n",
       " 'e_per_adu': 0.38,\n",
       " 'qe': 0.95,\n",
       " 'spurious_c': 0.0,\n",
       " 'sig_read': '/mnt/sda1/SMLAT/data/real_data/dark_images/RN_e_venus_upgraded.tiff',\n",
       " 'robust_training': False,\n",
       " 'cell_masks_dir': '/mnt/sda1/SMLAT/data/real_data/chromosome_dots/EXP-23-CA3045/pool_3045_ter_pos01/phase_venus_mask/',\n",
       " 'cell_masks_filetype': '.png',\n",
       " 'edt_noise_map_path': '/mnt/sda1/SMLAT/data/real_data/chromosome_dots/EXP-23-CA3045/edt_noise.pkl',\n",
       " 'min_edt': 0,\n",
       " 'max_edt': 6,\n",
       " 'augment': True}"
      ]
     },
     "execution_count": 23,
     "metadata": {},
     "output_type": "execute_result"
    }
   ],
   "source": [
    "chromo_model.simulation_params"
   ]
  },
  {
   "cell_type": "code",
   "execution_count": 24,
   "id": "1b9a9f93-faaa-41b4-8f99-04e45b86004e",
   "metadata": {},
   "outputs": [],
   "source": [
    "mol_photons = (chromo_model.data_generator.simulation_params['min_photon'] + 1) /2 * chromo_model.data_generator.psf_params['photon_scale']"
   ]
  },
  {
   "cell_type": "code",
   "execution_count": 25,
   "id": "d4793d2e-d9c9-46ea-9cdc-1b655f000d4d",
   "metadata": {},
   "outputs": [
    {
     "data": {
      "text/plain": [
       "2875.0"
      ]
     },
     "execution_count": 25,
     "metadata": {},
     "output_type": "execute_result"
    }
   ],
   "source": [
    "mol_photons"
   ]
  },
  {
   "cell_type": "code",
   "execution_count": 62,
   "id": "8cdd39e0-1677-451b-8d99-435e7fe68dbd",
   "metadata": {},
   "outputs": [
    {
     "name": "stdout",
     "output_type": "stream",
     "text": [
      "Mean CRLB x over full z range:-600.0 - 600.0 [nm] is: 12.362032890319824\n",
      "Mean CRLB y over full z range:-600.0 - 600.0 [nm] is  11.97386360168457\n",
      "Mean CRLB z over full z range:-600.0 - 600.0 [nm] is  36.54850769042969\n"
     ]
    }
   ],
   "source": [
    "calib_file = chromo_model.psf_params['calib_file']\n",
    "crlb, rois = spline_crlb_plot(calib_file, z_range=600.0, photon_counts=1947.0, bg_photons=5.8, img_size=41)"
   ]
  },
  {
   "cell_type": "code",
   "execution_count": 63,
   "id": "43bf5c91-7620-4b43-a9a4-1e8f91ccba3f",
   "metadata": {},
   "outputs": [],
   "source": [
    "z = torch.arange(-600.0, 610.0, 10.0)"
   ]
  },
  {
   "cell_type": "code",
   "execution_count": 64,
   "id": "18a9e084-a31b-4ec5-9095-cfe9f2c366fc",
   "metadata": {},
   "outputs": [
    {
     "data": {
      "text/plain": [
       "torch.Size([121, 5])"
      ]
     },
     "execution_count": 64,
     "metadata": {},
     "output_type": "execute_result"
    }
   ],
   "source": [
    "crlb.shape"
   ]
  },
  {
   "cell_type": "code",
   "execution_count": 65,
   "id": "60b307e2-2152-4fb5-bfd4-ad61d9435090",
   "metadata": {},
   "outputs": [
    {
     "data": {
      "text/plain": [
       "torch.Size([121])"
      ]
     },
     "execution_count": 65,
     "metadata": {},
     "output_type": "execute_result"
    }
   ],
   "source": [
    "z.shape"
   ]
  },
  {
   "cell_type": "code",
   "execution_count": 66,
   "id": "36f0dd8e-4487-4b76-b554-8d7f4edea219",
   "metadata": {},
   "outputs": [
    {
     "data": {
      "text/plain": [
       "1311"
      ]
     },
     "execution_count": 66,
     "metadata": {},
     "output_type": "execute_result"
    }
   ],
   "source": [
    "len(x_std)"
   ]
  },
  {
   "cell_type": "code",
   "execution_count": 67,
   "id": "4adbc3a9-5602-48ad-b23d-a65ff4439f09",
   "metadata": {},
   "outputs": [],
   "source": [
    "fig, ax = plt.subplots(nrows=1, ncols = 3, figsize=(16,4))\n",
    "\n",
    "ax[0].plot(z_values, x_std, 'b*', label = 'Bead data')\n",
    "ax[0].plot(z, crlb[:, 0], 'r--', label = r'$\\sqrt{CRLB_{x}}$ (nm) Spline model')\n",
    "ax[0].set_xlim([-500, 500])\n",
    "ax[0].set_ylim([0, 120])\n",
    "ax[0].set_xlabel('Z (nm)', fontsize=16)\n",
    "ax[0].set_ylabel('Localization precision in X (nm)', fontsize=16)\n",
    "ax[0].legend(loc='upper right', fontsize=12)\n",
    "ax[0].tick_params(labelsize=16)\n",
    "\n",
    "ax[1].plot(z_values, y_std, 'g*', label = 'Bead data')\n",
    "ax[1].plot(z, crlb[:, 1], 'r--', label = r'$\\sqrt{CRLB_{y}}$ (nm) Spline model')\n",
    "ax[1].set_xlim([-500, 500])\n",
    "ax[1].set_ylim([0, 120])\n",
    "ax[1].set_xlabel('Z (nm)', fontsize=16)\n",
    "ax[1].set_ylabel('Localization precision in Y (nm)', fontsize=16)\n",
    "ax[1].legend(loc='upper right', fontsize=12)\n",
    "ax[1].tick_params(labelsize=16)\n",
    "\n",
    "ax[2].plot(z_values, z_std, 'k*', label = 'Bead data')\n",
    "ax[2].plot(z, crlb[:, 2], 'r--', label = r'$\\sqrt{CRLB_{z}}$ (nm) Spline model')\n",
    "ax[2].set_xlim([-500, 500])\n",
    "ax[2].set_xlabel('Z (nm)', fontsize=16)\n",
    "ax[2].set_ylabel('Localization precision in Z (nm)', fontsize=16)\n",
    "ax[2].legend(loc='upper right', fontsize=12)\n",
    "ax[2].tick_params(labelsize=16)\n",
    "\n",
    "#fig.delaxes(ax[1, 1])\n",
    "#plt.suptitle(f'N = {len(x_std)} bead total (each localized >= 30 times)', fontsize=16, verticalalignment='baseline')\n",
    "plt.tight_layout()\n",
    "plt.show()"
   ]
  },
  {
   "cell_type": "code",
   "execution_count": 68,
   "id": "8aa61fff-3e8d-4882-9d72-0c826e3cce5d",
   "metadata": {},
   "outputs": [],
   "source": [
    "bins = np.linspace(-500, 500, 21)"
   ]
  },
  {
   "cell_type": "code",
   "execution_count": 69,
   "id": "8b2b18df-3f1c-498e-84fb-fd64371e2852",
   "metadata": {},
   "outputs": [
    {
     "data": {
      "text/plain": [
       "array([-500., -450., -400., -350., -300., -250., -200., -150., -100.,\n",
       "        -50.,    0.,   50.,  100.,  150.,  200.,  250.,  300.,  350.,\n",
       "        400.,  450.,  500.])"
      ]
     },
     "execution_count": 69,
     "metadata": {},
     "output_type": "execute_result"
    }
   ],
   "source": [
    "bins"
   ]
  },
  {
   "cell_type": "code",
   "execution_count": 70,
   "id": "e855405e-1caf-4488-973e-4365faf95bb3",
   "metadata": {},
   "outputs": [],
   "source": [
    "digitized = np.digitize(z_values, bins)"
   ]
  },
  {
   "cell_type": "code",
   "execution_count": 71,
   "id": "f5a1b7fd-44b9-434e-8e2e-9e06888acaa7",
   "metadata": {},
   "outputs": [
    {
     "data": {
      "text/plain": [
       "(1311,)"
      ]
     },
     "execution_count": 71,
     "metadata": {},
     "output_type": "execute_result"
    }
   ],
   "source": [
    "digitized.shape"
   ]
  },
  {
   "cell_type": "code",
   "execution_count": 72,
   "id": "298880b7-972c-4c8f-ba24-593339fefa9d",
   "metadata": {},
   "outputs": [],
   "source": [
    "x_std = np.array(x_std)\n",
    "y_std = np.array(y_std)\n",
    "z_std = np.array(z_std)"
   ]
  },
  {
   "cell_type": "code",
   "execution_count": 73,
   "id": "e2abdded-0455-4560-9d4b-7d07877de249",
   "metadata": {},
   "outputs": [],
   "source": [
    "from scipy.stats import median_abs_deviation"
   ]
  },
  {
   "cell_type": "code",
   "execution_count": null,
   "id": "53dc483f-112e-4f58-87d8-3d99512f068b",
   "metadata": {},
   "outputs": [],
   "source": []
  },
  {
   "cell_type": "code",
   "execution_count": 74,
   "id": "4617b57c-7150-4d42-9661-8504dc966e99",
   "metadata": {},
   "outputs": [],
   "source": [
    "bin_means_x = np.array([(x_std[digitized == i].mean(), (bins[i-1] + bins[i])/2) for i in range(1, len(bins))])\n",
    "bin_std_x = np.array([(median_abs_deviation(x_std[digitized == i]), (bins[i-1] + bins[i])/2) for i in range(1, len(bins))])\n",
    "bin_means_y = np.array([(y_std[digitized == i].mean(), (bins[i-1] + bins[i])/2) for i in range(1, len(bins))])\n",
    "bin_std_y = np.array([(median_abs_deviation(y_std[digitized == i]), (bins[i-1] + bins[i])/2) for i in range(1, len(bins))])\n",
    "bin_means_z = np.array([(z_std[digitized == i].mean(), (bins[i-1] + bins[i])/2) for i in range(1, len(bins))])\n",
    "bin_std_z = np.array([(median_abs_deviation(z_std[digitized == i]), (bins[i-1] + bins[i])/2) for i in range(1, len(bins))])\n"
   ]
  },
  {
   "cell_type": "code",
   "execution_count": 75,
   "id": "7a4c3a19-044d-4d69-96e3-28a883f8c4e4",
   "metadata": {},
   "outputs": [
    {
     "data": {
      "text/plain": [
       "array([[   4.8218895 , -475.        ],\n",
       "       [   5.09561088, -425.        ],\n",
       "       [   6.58809867, -375.        ],\n",
       "       [   5.00707005, -325.        ],\n",
       "       [   5.84208227, -275.        ],\n",
       "       [   4.97893122, -225.        ],\n",
       "       [   3.74349973, -175.        ],\n",
       "       [   4.50835795, -125.        ],\n",
       "       [   2.89050684,  -75.        ],\n",
       "       [   2.68265828,  -25.        ],\n",
       "       [   4.05324237,   25.        ],\n",
       "       [   3.16588101,   75.        ],\n",
       "       [   3.44610747,  125.        ],\n",
       "       [   3.13553061,  175.        ],\n",
       "       [   3.03347991,  225.        ],\n",
       "       [   2.53854072,  275.        ],\n",
       "       [   2.65665718,  325.        ],\n",
       "       [   1.74611679,  375.        ],\n",
       "       [   3.78763209,  425.        ],\n",
       "       [   2.8851597 ,  475.        ]])"
      ]
     },
     "execution_count": 75,
     "metadata": {},
     "output_type": "execute_result"
    }
   ],
   "source": [
    "bin_std_x"
   ]
  },
  {
   "cell_type": "code",
   "execution_count": null,
   "id": "ec7a664e-095d-41c3-a244-1ff180136687",
   "metadata": {},
   "outputs": [],
   "source": []
  },
  {
   "cell_type": "code",
   "execution_count": null,
   "id": "9673cb81-285c-4ecf-8a26-b7ca4d25d542",
   "metadata": {},
   "outputs": [],
   "source": []
  },
  {
   "cell_type": "markdown",
   "id": "e900f634-a6a0-47e7-aecb-93857fe823e7",
   "metadata": {},
   "source": [
    "### Plotting and saving figures for the binned bead localization plots"
   ]
  },
  {
   "cell_type": "code",
   "execution_count": 76,
   "id": "d994967b-433f-4903-a29b-442553dc2b58",
   "metadata": {},
   "outputs": [],
   "source": [
    "SAVE_DIR = Path('/mnt/sda1/SMLAT/figures/main/beads_crlb')"
   ]
  },
  {
   "cell_type": "code",
   "execution_count": null,
   "id": "2f092393-fe1b-40e8-bfd6-a0104ed528c0",
   "metadata": {},
   "outputs": [],
   "source": []
  },
  {
   "cell_type": "code",
   "execution_count": null,
   "id": "e2fec1d3-cb40-44ac-b56c-ad0792ae53e5",
   "metadata": {},
   "outputs": [],
   "source": []
  },
  {
   "cell_type": "code",
   "execution_count": 77,
   "id": "0a63134d-4542-47cc-ae32-551cfc8c77d1",
   "metadata": {},
   "outputs": [],
   "source": [
    "save_x = SAVE_DIR / Path('lprecision_x.pdf')\n",
    "fig, ax = plt.subplots(nrows=1, ncols=1)\n",
    "ax.errorbar(bin_means_x[:, 1], bin_means_x[:, 0], yerr=bin_std_x[:, 0], fmt='bo', label='Bead data', capsize=3)\n",
    "ax.plot(z, crlb[:, 0], 'r--', label = r'$\\sqrt{CRLB_{x}}$ (nm) Spline model')\n",
    "ax.legend(loc='upper right', fontsize=12)\n",
    "ax.set_xlim([-500, 500])\n",
    "ax.set_ylim([0, 50])\n",
    "ax.set_xlabel('Z (nm)', fontsize=16)\n",
    "ax.set_ylabel('Localization precision in X (nm)', fontsize=16)\n",
    "ax.tick_params(labelsize=16)\n",
    "fig.savefig(save_x, bbox_inches='tight', pad_inches=0, transparent=True, dpi=300)\n",
    "#plt.close(fig)\n",
    "plt.show()"
   ]
  },
  {
   "cell_type": "code",
   "execution_count": null,
   "id": "04d0e275-9d3b-44d4-842d-0c9a0bb84495",
   "metadata": {},
   "outputs": [],
   "source": []
  },
  {
   "cell_type": "code",
   "execution_count": null,
   "id": "c9190f6f-71eb-4257-884c-fb02313ed3fe",
   "metadata": {},
   "outputs": [],
   "source": []
  },
  {
   "cell_type": "code",
   "execution_count": null,
   "id": "4f46bbb4-cd51-4661-9925-9ecca470b6fa",
   "metadata": {},
   "outputs": [],
   "source": []
  },
  {
   "cell_type": "code",
   "execution_count": 78,
   "id": "339e489f-82f1-414a-9e23-870dbae3442e",
   "metadata": {},
   "outputs": [],
   "source": [
    "save_x = SAVE_DIR / Path('lprecision_y.pdf')\n",
    "fig, ax = plt.subplots(nrows=1, ncols=1)\n",
    "ax.errorbar(bin_means_y[:, 1], bin_means_y[:, 0], yerr=bin_std_y[:, 0], fmt='go', label='Bead data', capsize=3)\n",
    "ax.plot(z, crlb[:, 1], 'r--', label = r'$\\sqrt{CRLB_{y}}$ (nm) Spline model')\n",
    "ax.legend(loc='upper right', fontsize=12)\n",
    "ax.set_xlim([-500, 500])\n",
    "ax.set_ylim([0, 50])\n",
    "ax.set_xlabel('Z (nm)', fontsize=16)\n",
    "ax.set_ylabel('Localization precision in Y (nm)', fontsize=16)\n",
    "ax.tick_params(labelsize=16)\n",
    "\n",
    "fig.savefig(save_x, bbox_inches='tight', pad_inches=0, transparent=True, dpi=300)\n",
    "#plt.close(fig)\n",
    "plt.show()"
   ]
  },
  {
   "cell_type": "code",
   "execution_count": 79,
   "id": "066557d4-f23c-4f80-99ae-46698331f559",
   "metadata": {},
   "outputs": [],
   "source": [
    "save_x = SAVE_DIR / Path('lprecision_z.pdf')\n",
    "fig, ax = plt.subplots(nrows=1, ncols=1)\n",
    "ax.errorbar(bin_means_z[:, 1], bin_means_z[:, 0], yerr=bin_std_z[:, 0], fmt='ko', label='Bead data', capsize=3)\n",
    "ax.plot(z, crlb[:, 2], 'r--', label = r'$\\sqrt{CRLB_{z}}$ (nm) Spline model')\n",
    "ax.legend(loc='upper right',fontsize=12)\n",
    "ax.set_xlim([-500, 500])\n",
    "\n",
    "ax.set_xlabel('Z (nm)', fontsize=16)\n",
    "ax.set_ylabel('Localization precision in Z (nm)', fontsize=16)\n",
    "ax.tick_params(labelsize=16)\n",
    "\n",
    "fig.savefig(save_x, bbox_inches='tight', pad_inches=0, transparent=True, dpi=300)\n",
    "#plt.close(fig)\n",
    "plt.show()"
   ]
  },
  {
   "cell_type": "code",
   "execution_count": null,
   "id": "8de473bf-1bc4-4da0-9f67-44b8e51b1f5d",
   "metadata": {},
   "outputs": [],
   "source": []
  },
  {
   "cell_type": "markdown",
   "id": "75437d56-db22-4c04-a811-461292beb321",
   "metadata": {},
   "source": [
    "### Image stack saved from EXP-24-CB4719/fluorChannelRegistration3D/zStack_locError_103 Position 123 for the figure"
   ]
  },
  {
   "cell_type": "code",
   "execution_count": 80,
   "id": "d8ed3bcb-893f-4865-ae19-b9484f53c922",
   "metadata": {},
   "outputs": [],
   "source": [
    "from skimage.io import imread"
   ]
  },
  {
   "cell_type": "code",
   "execution_count": 57,
   "id": "9ccc2ec3-a5eb-48fd-95f2-510b9c15a7b4",
   "metadata": {},
   "outputs": [],
   "source": [
    "stack_dir = Path('/mnt/sda1/SMLAT/figures/main/beads_crlb/stack/')"
   ]
  },
  {
   "cell_type": "code",
   "execution_count": 58,
   "id": "1ea97fc4-da5a-4af4-9bc2-1465b0b3fa88",
   "metadata": {},
   "outputs": [],
   "source": [
    "images_filenames = sorted(list(stack_dir.glob('*.png')))"
   ]
  },
  {
   "cell_type": "code",
   "execution_count": 59,
   "id": "5af3e2b8-a3cc-42f5-8699-8adb1f5775c6",
   "metadata": {},
   "outputs": [],
   "source": [
    "images = [imread(filename) for filename in images_filenames]"
   ]
  },
  {
   "cell_type": "code",
   "execution_count": null,
   "id": "35660b20-4010-4f3d-88b9-f410d5d9d586",
   "metadata": {},
   "outputs": [],
   "source": []
  },
  {
   "cell_type": "code",
   "execution_count": 67,
   "id": "0bdb7740-28f3-4ffa-805e-fdf4610759f7",
   "metadata": {},
   "outputs": [],
   "source": [
    "for i, image in enumerate(images, 0):\n",
    "    save_path = Path('/mnt/sda1/SMLAT/figures/main/beads_crlb/stack_cmapped/') / Path(images_filenames[i].name)\n",
    "    fig, ax = plt.subplots(nrows=1, ncols=1)\n",
    "    ax.imshow(image, cmap='gray')\n",
    "    ax.set_axis_off()\n",
    "    fig.savefig(save_path, bbox_inches='tight', pad_inches=0, transparent=True, dpi=300)\n",
    "    plt.close(fig)\n",
    "    plt.show()"
   ]
  },
  {
   "cell_type": "code",
   "execution_count": null,
   "id": "cc58fc9b-4cfa-4bc0-ad1e-5d63cc460e3e",
   "metadata": {},
   "outputs": [],
   "source": []
  }
 ],
 "metadata": {
  "kernelspec": {
   "display_name": "Python 3 (ipykernel)",
   "language": "python",
   "name": "python3"
  },
  "language_info": {
   "codemirror_mode": {
    "name": "ipython",
    "version": 3
   },
   "file_extension": ".py",
   "mimetype": "text/x-python",
   "name": "python",
   "nbconvert_exporter": "python",
   "pygments_lexer": "ipython3",
   "version": "3.9.18"
  }
 },
 "nbformat": 4,
 "nbformat_minor": 5
}
