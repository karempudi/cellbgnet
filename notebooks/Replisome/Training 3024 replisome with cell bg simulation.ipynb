{
 "cells": [
  {
   "cell_type": "code",
   "execution_count": null,
   "id": "373ce737",
   "metadata": {},
   "outputs": [],
   "source": [
    "%reload_ext autoreload\n",
    "%autoreload 2\n",
    "%reload_ext notexbook\n",
    "%texify"
   ]
  },
  {
   "cell_type": "code",
   "execution_count": null,
   "id": "f54e3435",
   "metadata": {},
   "outputs": [],
   "source": [
    "import numpy as np\n",
    "import matplotlib.pyplot as plt\n",
    "import torch\n",
    "import time\n",
    "import sys\n",
    "sys.setrecursionlimit(10000)\n",
    "%matplotlib qt5"
   ]
  },
  {
   "cell_type": "code",
   "execution_count": null,
   "id": "b4f79c05",
   "metadata": {},
   "outputs": [],
   "source": [
    "import cellbgnet\n",
    "import cellbgnet.utils\n",
    "from cellbgnet.datasets import DataSimulator\n",
    "from cellbgnet.utils.hardware import cpu, gpu\n",
    "from cellbgnet.model import CellBGModel"
   ]
  },
  {
   "cell_type": "code",
   "execution_count": null,
   "id": "5de7c552",
   "metadata": {},
   "outputs": [],
   "source": [
    "param_file = '../../cellbgnet/utils/reference_files/reference_replisome.yaml'\n",
    "param = cellbgnet.utils.param_io.ParamHandling().load_params(param_file)"
   ]
  },
  {
   "cell_type": "code",
   "execution_count": null,
   "id": "96045f9c",
   "metadata": {},
   "outputs": [],
   "source": [
    "psf_params = param.PSF.to_dict()\n",
    "simulation_params = param.Simulation.to_dict()\n",
    "hardware_params = param.Hardware.to_dict()\n",
    "eval_params = param.Evaluation.to_dict()\n",
    "train_size = simulation_params['train_size']"
   ]
  },
  {
   "cell_type": "code",
   "execution_count": null,
   "id": "a2bd555f",
   "metadata": {},
   "outputs": [],
   "source": [
    "model = cellbgnet.model.CellBGModel(param)"
   ]
  },
  {
   "cell_type": "code",
   "execution_count": null,
   "id": "d0ef0765",
   "metadata": {},
   "outputs": [],
   "source": [
    "model.init_recorder()\n",
    "model.init_eval_data()"
   ]
  },
  {
   "cell_type": "code",
   "execution_count": null,
   "id": "854bec90",
   "metadata": {},
   "outputs": [],
   "source": [
    "model.evaluation_params['eval_imgs'].shape"
   ]
  },
  {
   "cell_type": "code",
   "execution_count": null,
   "id": "ddff40c6",
   "metadata": {},
   "outputs": [],
   "source": [
    "simulation_params"
   ]
  },
  {
   "cell_type": "code",
   "execution_count": null,
   "id": "568b470c",
   "metadata": {},
   "outputs": [],
   "source": [
    "start_time = time.time()\n",
    "model.fit(batch_size=32, max_iters=20000, print_output=True, print_freq=100)\n",
    "duration = time.time() - start_time"
   ]
  },
  {
   "cell_type": "code",
   "execution_count": null,
   "id": "cc93034f",
   "metadata": {},
   "outputs": [],
   "source": []
  },
  {
   "cell_type": "code",
   "execution_count": null,
   "id": "2c1260e6",
   "metadata": {},
   "outputs": [],
   "source": []
  },
  {
   "cell_type": "code",
   "execution_count": null,
   "id": "0e25b8e8",
   "metadata": {},
   "outputs": [],
   "source": []
  }
 ],
 "metadata": {
  "kernelspec": {
   "display_name": "Python 3 (ipykernel)",
   "language": "python",
   "name": "python3"
  },
  "language_info": {
   "codemirror_mode": {
    "name": "ipython",
    "version": 3
   },
   "file_extension": ".py",
   "mimetype": "text/x-python",
   "name": "python",
   "nbconvert_exporter": "python",
   "pygments_lexer": "ipython3",
   "version": "3.9.7"
  }
 },
 "nbformat": 4,
 "nbformat_minor": 5
}
