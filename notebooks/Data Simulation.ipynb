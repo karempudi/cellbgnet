{
 "cells": [
  {
   "cell_type": "code",
   "execution_count": 1,
   "id": "47e6e43f",
   "metadata": {},
   "outputs": [],
   "source": [
    "%reload_ext autoreload\n",
    "%autoreload 2\n",
    "#%reload_ext notexbook\n",
    "#%texify"
   ]
  },
  {
   "cell_type": "code",
   "execution_count": 42,
   "id": "c4cfb11b",
   "metadata": {},
   "outputs": [],
   "source": [
    "import numpy as np\n",
    "import matplotlib.pyplot as plt\n",
    "import torch\n",
    "\n",
    "import os\n",
    "\n",
    "os.chdir('/home/axtr7550/Chromosome_project/cellbgnet/')\n",
    "import cellbgnet\n",
    "import cellbgnet.utils\n",
    "\n",
    "from cellbgnet.datasets import DataSimulator\n",
    "from cellbgnet.utils.hardware import cpu, gpu\n",
    "from cellbgnet.model import CellBGModel\n",
    "from cellbgnet.simulation.psf_kernel import SMAPSplineCoefficient\n",
    "from cellbgnet.generic.emitter import EmitterSet\n",
    "from cellbgnet.train_loss_infer import generate_probmap_cells\n",
    "\n",
    "os.chdir('/home/axtr7550/Chromosome_project/cellbgnet/notebooks')\n",
    "\n",
    "from skimage.io import imread\n",
    "from skimage.measure import label\n",
    "import random\n",
    "import edt\n",
    "from skimage.filters import gaussian\n",
    "from scipy.ndimage import rotate\n",
    "import random\n",
    "import pickle\n",
    "import pathlib\n",
    "from pathlib import Path\n",
    "%matplotlib qt5"
   ]
  },
  {
   "cell_type": "code",
   "execution_count": 4,
   "id": "f2b5aee7",
   "metadata": {},
   "outputs": [],
   "source": [
    "train_size = 128\n",
    "margin_empty = 0.05\n",
    "batch_size = 10\n",
    "z_prior=[-1, 1]\n",
    "min_ph = 0.428"
   ]
  },
  {
   "cell_type": "code",
   "execution_count": 5,
   "id": "68d6ff66",
   "metadata": {},
   "outputs": [],
   "source": [
    "prob_map = np.zeros([1, train_size, train_size])\n",
    "prob_map[0, int(margin_empty * train_size): int((1 - margin_empty) * train_size),\n",
    "         int(margin_empty * train_size): int((1 - margin_empty) * train_size)] += 1\n",
    "prob_map = prob_map / prob_map.sum() * 4"
   ]
  },
  {
   "cell_type": "code",
   "execution_count": 6,
   "id": "318eb9bb",
   "metadata": {},
   "outputs": [],
   "source": [
    "prob_map_t = torch.tensor(prob_map)"
   ]
  },
  {
   "cell_type": "code",
   "execution_count": 7,
   "id": "92892c55",
   "metadata": {},
   "outputs": [],
   "source": [
    "prob_map_t = prob_map_t.reshape(1, 1, prob_map_t.shape[-2], prob_map_t.shape[-1]).repeat_interleave(batch_size, 0)"
   ]
  },
  {
   "cell_type": "code",
   "execution_count": 8,
   "id": "55e9811a",
   "metadata": {},
   "outputs": [
    {
     "data": {
      "text/plain": [
       "torch.Size([10, 1, 128, 128])"
      ]
     },
     "execution_count": 8,
     "metadata": {},
     "output_type": "execute_result"
    }
   ],
   "source": [
    "prob_map_t.shape"
   ]
  },
  {
   "cell_type": "code",
   "execution_count": 9,
   "id": "2b6d5ae8",
   "metadata": {},
   "outputs": [],
   "source": [
    "locs = torch.distributions.Binomial(1, prob_map_t).sample()\n",
    "zeros = torch.zeros_like(locs)\n",
    "z = torch.distributions.Uniform(zeros + z_prior[0], zeros + z_prior[1]).sample()\n",
    "x_os = torch.distributions.Uniform(zeros - 0.5, zeros + 0.5).sample()\n",
    "y_os = torch.distributions.Uniform(zeros - 0.5, zeros + 0.5).sample()\n",
    "ints = torch.distributions.Uniform(torch.zeros_like(locs) + min_ph,\n",
    "                                   torch.ones_like(locs)).sample()\n",
    "x_os *= locs\n",
    "y_os *= locs\n",
    "z *= locs\n",
    "ints *= locs"
   ]
  },
  {
   "cell_type": "code",
   "execution_count": 10,
   "id": "a4eb1550",
   "metadata": {},
   "outputs": [
    {
     "data": {
      "text/plain": [
       "torch.Size([10, 1, 128, 128])"
      ]
     },
     "execution_count": 10,
     "metadata": {},
     "output_type": "execute_result"
    }
   ],
   "source": [
    "locs.shape"
   ]
  },
  {
   "cell_type": "code",
   "execution_count": 11,
   "id": "a3692ab8",
   "metadata": {},
   "outputs": [
    {
     "data": {
      "text/plain": [
       "(torch.Size([10, 1, 128, 128]),\n",
       " torch.Size([10, 1, 128, 128]),\n",
       " torch.Size([10, 1, 128, 128]),\n",
       " torch.Size([10, 1, 128, 128]))"
      ]
     },
     "execution_count": 11,
     "metadata": {},
     "output_type": "execute_result"
    }
   ],
   "source": [
    "x_os.shape, y_os.shape, z.shape, ints.shape"
   ]
  },
  {
   "cell_type": "code",
   "execution_count": 12,
   "id": "65051754",
   "metadata": {},
   "outputs": [
    {
     "data": {
      "image/png": "[encoded data removed]",
      "text/plain": [
       "<Figure size 432x288 with 1 Axes>"
      ]
     },
     "metadata": {
      "needs_background": "light"
     },
     "output_type": "display_data"
    },
    {
     "data": {
      "image/png": "[encoded data removed]",
      "text/plain": [
       "<Figure size 432x288 with 1 Axes>"
      ]
     },
     "metadata": {
      "needs_background": "light"
     },
     "output_type": "display_data"
    }
   ],
   "source": [
    "plt.figure()\n",
    "plt.imshow(ints[0][0].numpy(), cmap='gray')\n",
    "plt.show()\n",
    "plt.figure()\n",
    "plt.imshow(x_os[0][0].numpy(), cmap='gray')\n",
    "plt.show()"
   ]
  },
  {
   "cell_type": "code",
   "execution_count": 13,
   "id": "fa331758",
   "metadata": {},
   "outputs": [],
   "source": [
    "batch_size, n_inp, h, w = locs.shape[0], locs.shape[1], locs.shape[2], locs.shape[3]\n",
    "xyzi = torch.cat([x_os.reshape([-1, 1, h, w]), y_os.reshape([-1, 1, h, w]), \n",
    "                 z.reshape([-1, 1, h, w]), ints.reshape([-1, 1, h, w])], 1)"
   ]
  },
  {
   "cell_type": "code",
   "execution_count": 14,
   "id": "5fb836fc",
   "metadata": {},
   "outputs": [
    {
     "data": {
      "text/plain": [
       "torch.Size([10, 4, 128, 128])"
      ]
     },
     "execution_count": 14,
     "metadata": {},
     "output_type": "execute_result"
    }
   ],
   "source": [
    "xyzi.shape"
   ]
  },
  {
   "cell_type": "code",
   "execution_count": 15,
   "id": "eff8d56c",
   "metadata": {},
   "outputs": [],
   "source": [
    "S = locs.reshape([-1, h, w])"
   ]
  },
  {
   "cell_type": "code",
   "execution_count": 16,
   "id": "3e3196f2",
   "metadata": {},
   "outputs": [
    {
     "data": {
      "text/plain": [
       "(torch.Size([10, 128, 128]), torch.Size([10, 4, 128, 128]))"
      ]
     },
     "execution_count": 16,
     "metadata": {},
     "output_type": "execute_result"
    }
   ],
   "source": [
    "S.shape, xyzi.shape"
   ]
  },
  {
   "cell_type": "code",
   "execution_count": 17,
   "id": "587913f9",
   "metadata": {},
   "outputs": [],
   "source": [
    "n_samples = S.shape[0] // xyzi.shape[0] # for our case it will be one, as we don't use blinking\n",
    "XYZI_rep = xyzi.repeat_interleave(n_samples, 0)"
   ]
  },
  {
   "cell_type": "code",
   "execution_count": 18,
   "id": "d58ccee1",
   "metadata": {},
   "outputs": [
    {
     "data": {
      "text/plain": [
       "(torch.Size([10, 4, 128, 128]), torch.Size([10, 128, 128]))"
      ]
     },
     "execution_count": 18,
     "metadata": {},
     "output_type": "execute_result"
    }
   ],
   "source": [
    "XYZI_rep.shape, S.shape"
   ]
  },
  {
   "cell_type": "code",
   "execution_count": 19,
   "id": "e11a0e45",
   "metadata": {},
   "outputs": [],
   "source": [
    "s_inds = tuple(S.nonzero().transpose(1, 0))\n",
    "x_os_vals = (XYZI_rep[:, 0][s_inds])[:, None, None]\n",
    "y_os_vals = (XYZI_rep[:, 1][s_inds])[:, None, None]\n",
    "# z_vals will be between -1 and 1, so they will be scaled to nm's here\n",
    "z_vals = (XYZI_rep[:, 2][s_inds])[:, None, None]\n",
    "#z_vals = 400 *(XYZI_rep[:, 2][s_inds])[:, None, None]\n",
    "i_vals = (XYZI_rep[:, 3][s_inds])[:, None, None]"
   ]
  },
  {
   "cell_type": "code",
   "execution_count": 20,
   "id": "db26916c",
   "metadata": {},
   "outputs": [
    {
     "data": {
      "text/plain": [
       "(torch.Size([37, 1, 1]), torch.Size([37, 1, 1]), torch.Size([37, 1, 1]))"
      ]
     },
     "execution_count": 20,
     "metadata": {},
     "output_type": "execute_result"
    }
   ],
   "source": [
    "x_os_vals.shape, y_os_vals.shape, z_vals.shape"
   ]
  },
  {
   "cell_type": "code",
   "execution_count": 79,
   "id": "1376f53b",
   "metadata": {},
   "outputs": [],
   "source": []
  },
  {
   "cell_type": "code",
   "execution_count": 80,
   "id": "6b132330",
   "metadata": {},
   "outputs": [],
   "source": [
    "n_emitters = len(s_inds[0])"
   ]
  },
  {
   "cell_type": "code",
   "execution_count": 133,
   "id": "cf8053ba",
   "metadata": {},
   "outputs": [],
   "source": [
    "xyz = torch.zeros((n_emitters, 3))\n",
    "xyz[:, 0] = s_inds[1] - x_os_vals[:, 0, 0]\n",
    "xyz[:, 1] = s_inds[2] - y_os_vals[:, 0, 0]\n",
    "xyz[:, 2] = -500#z_vals[:, 0, 0]*500\n",
    "photon_counts = 7000 * i_vals[:, 0, 0]\n",
    "#photon_counts=torch.ones((n_emitters,))\n",
    "frame_ix = s_inds[0]\n"
   ]
  },
  {
   "cell_type": "code",
   "execution_count": 134,
   "id": "7be184d4",
   "metadata": {},
   "outputs": [
    {
     "data": {
      "text/plain": [
       "tensor([3123.8689, 4185.9419, 6387.7220, 4188.1872, 3449.5595, 3838.5068,\n",
       "        3879.1328, 3857.8161, 3686.1916, 4678.8131, 4256.7910, 5107.2064,\n",
       "        4886.6535, 4139.1210, 5912.8864, 6022.7872, 3846.5109, 4712.4430,\n",
       "        5987.8612, 6768.4554, 6231.9332, 6283.5469, 6445.8466, 6837.6724,\n",
       "        4052.4923, 4376.7914, 5639.4687, 4679.6779, 4993.1908, 4803.4737,\n",
       "        6884.4030, 4751.7370, 5886.1281, 6188.4066, 3364.6081, 5929.5944,\n",
       "        6457.0954], dtype=torch.float64)"
      ]
     },
     "execution_count": 134,
     "metadata": {},
     "output_type": "execute_result"
    }
   ],
   "source": [
    "photon_counts"
   ]
  },
  {
   "cell_type": "code",
   "execution_count": 135,
   "id": "a353b56d",
   "metadata": {},
   "outputs": [],
   "source": [
    "em = EmitterSet(xyz=xyz, phot=photon_counts, frame_ix=frame_ix.long(),\n",
    "                id=torch.arange(n_emitters).long(), xy_unit='px', px_size=[-65, 65])"
   ]
  },
  {
   "cell_type": "code",
   "execution_count": 136,
   "id": "c3912a2b",
   "metadata": {},
   "outputs": [
    {
     "name": "stdout",
     "output_type": "stream",
     "text": [
      "EmitterSet\n",
      "::num emitters: 37\n",
      "::xy unit: px\n",
      "::px size: tensor([-65.,  65.])\n",
      "::frame range: 0 - 9\n",
      "::spanned volume: [   7.549572   15.726474 -500.      ] - [ 119.8495   120.26703 -500.     ]\n"
     ]
    }
   ],
   "source": [
    "print(em)"
   ]
  },
  {
   "cell_type": "code",
   "execution_count": null,
   "id": "e01f8ece",
   "metadata": {},
   "outputs": [],
   "source": []
  },
  {
   "cell_type": "code",
   "execution_count": 137,
   "id": "8921b982",
   "metadata": {},
   "outputs": [],
   "source": [
    "param_file = '../cellbgnet/utils/reference_files/reference_Axel.yaml'\n",
    "param = cellbgnet.utils.param_io.ParamHandling().load_params(param_file)\n",
    "\n",
    "psf_params = param.PSF.to_dict()\n",
    "simulation_params = param.Simulation.to_dict()\n",
    "hardware_params = param.Hardware.to_dict()\n",
    "train_size = simulation_params['train_size']\n",
    "calib_file = psf_params['calib_file']"
   ]
  },
  {
   "cell_type": "code",
   "execution_count": 138,
   "id": "12293d62",
   "metadata": {},
   "outputs": [
    {
     "name": "stdout",
     "output_type": "stream",
     "text": [
      "INITIATING CUDA IMPLEMENTATION\n"
     ]
    }
   ],
   "source": [
    "psf = SMAPSplineCoefficient(calib_file=calib_file).init_spline(\n",
    "                xextent=[-0.5, 127.5],\n",
    "                yextent=[-0.5, 127.5],\n",
    "                img_shape=[128, 128],\n",
    "                device='cuda',\n",
    "                roi_size=None, roi_auto_center=None)"
   ]
  },
  {
   "cell_type": "code",
   "execution_count": 139,
   "id": "c405f5bc",
   "metadata": {},
   "outputs": [],
   "source": [
    "images = psf.forward(em.xyz_px, em.phot, em.frame_ix, ix_low=0, ix_high=batch_size-1)"
   ]
  },
  {
   "cell_type": "code",
   "execution_count": 140,
   "id": "e94a20a5",
   "metadata": {},
   "outputs": [],
   "source": [
    "fig, ax = plt.subplots(nrows=1, ncols=2)\n",
    "ax[0].imshow(images[0].numpy())\n",
    "ax[1].imshow(S[0].numpy())\n",
    "plt.show()"
   ]
  },
  {
   "cell_type": "code",
   "execution_count": 30,
   "id": "4b2111e1",
   "metadata": {},
   "outputs": [],
   "source": [
    "xyzi_out = torch.cat([x_os[:, :, None], y_os[:, :, None], z[:, :, None], ints[:, :, None]], 2)"
   ]
  },
  {
   "cell_type": "code",
   "execution_count": 31,
   "id": "88197ca1",
   "metadata": {},
   "outputs": [
    {
     "data": {
      "text/plain": [
       "torch.Size([10, 1, 128, 128])"
      ]
     },
     "execution_count": 31,
     "metadata": {},
     "output_type": "execute_result"
    }
   ],
   "source": [
    "x_os.shape"
   ]
  },
  {
   "cell_type": "code",
   "execution_count": 110,
   "id": "14e2a65c",
   "metadata": {},
   "outputs": [
    {
     "name": "stdout",
     "output_type": "stream",
     "text": [
      "tensor([419.9944, 288.6327, 219.9361])\n",
      "tensor([3449.5595, 3838.5068, 3879.1328], dtype=torch.float64)\n"
     ]
    }
   ],
   "source": [
    "print(xyz[4:7, 2])\n",
    "print(photon_counts[4:7])\n"
   ]
  },
  {
   "cell_type": "code",
   "execution_count": 112,
   "id": "f800619e",
   "metadata": {},
   "outputs": [
    {
     "data": {
      "text/plain": [
       "tensor([-330.7420,   73.0032, -226.5336,    9.2997,  419.9944,  288.6327,\n",
       "         219.9361,  -55.8457, -280.4829,  354.1179,  -49.1153,   42.3140,\n",
       "        -131.0833, -304.3746,  135.7513,  371.9028,  119.2344, -297.3761,\n",
       "          55.5406,  291.0450,  367.6997,   60.9403,  -48.1121, -444.0425,\n",
       "        -476.3845,   15.6784, -246.9846, -411.1091,  371.2677,  441.8641,\n",
       "          47.9519,  468.3302,  -50.2303, -237.0907,  430.4861, -154.2435,\n",
       "         275.0820])"
      ]
     },
     "execution_count": 112,
     "metadata": {},
     "output_type": "execute_result"
    }
   ],
   "source": [
    "xyz[:, 2]"
   ]
  },
  {
   "cell_type": "code",
   "execution_count": 32,
   "id": "a7e9fb97",
   "metadata": {},
   "outputs": [
    {
     "data": {
      "text/plain": [
       "torch.Size([10, 1, 4, 128, 128])"
      ]
     },
     "execution_count": 32,
     "metadata": {},
     "output_type": "execute_result"
    }
   ],
   "source": [
    "xyzi_out.shape"
   ]
  },
  {
   "cell_type": "code",
   "execution_count": 53,
   "id": "2b404477",
   "metadata": {},
   "outputs": [],
   "source": [
    "xyzi = xyzi_out[:, 0]"
   ]
  },
  {
   "cell_type": "code",
   "execution_count": 34,
   "id": "0b9c3ec1",
   "metadata": {},
   "outputs": [
    {
     "data": {
      "text/plain": [
       "torch.Size([10, 1, 128, 128])"
      ]
     },
     "execution_count": 34,
     "metadata": {},
     "output_type": "execute_result"
    }
   ],
   "source": [
    "locs.shape"
   ]
  },
  {
   "cell_type": "code",
   "execution_count": 35,
   "id": "42213727",
   "metadata": {},
   "outputs": [],
   "source": [
    "S = locs[:, 0]"
   ]
  },
  {
   "cell_type": "code",
   "execution_count": 36,
   "id": "d6d401a0",
   "metadata": {},
   "outputs": [],
   "source": [
    "s_inds = tuple(S.nonzero().transpose(1, 0))\n",
    "# get these molecules' sub-pixel xy offsets, z positions and photons\n",
    "xyzi_true = xyzi[s_inds[0], :, s_inds[1], s_inds[2]]"
   ]
  },
  {
   "cell_type": "code",
   "execution_count": 37,
   "id": "182dc556",
   "metadata": {},
   "outputs": [
    {
     "data": {
      "text/plain": [
       "<matplotlib.image.AxesImage at 0x7fee53984290>"
      ]
     },
     "execution_count": 37,
     "metadata": {},
     "output_type": "execute_result"
    },
    {
     "data": {
      "image/png": "[encoded data removed]",
      "text/plain": [
       "<Figure size 432x288 with 1 Axes>"
      ]
     },
     "metadata": {
      "needs_background": "light"
     },
     "output_type": "display_data"
    }
   ],
   "source": [
    "plt.figure()\n",
    "plt.imshow(x_os[0, 0,].numpy())"
   ]
  },
  {
   "cell_type": "code",
   "execution_count": 38,
   "id": "5088915a",
   "metadata": {},
   "outputs": [
    {
     "data": {
      "text/plain": [
       "(tensor([0, 0, 0, 0, 1, 1, 1, 2, 2, 3, 3, 3, 3, 3, 3, 4, 4, 4, 4, 5, 5, 5, 5, 5,\n",
       "         6, 7, 7, 7, 8, 8, 8, 8, 8, 8, 9, 9, 9]),\n",
       " tensor([ 10,  93, 110, 116,   8,  61, 114,  74, 110,  20,  22,  32, 104, 117,\n",
       "         120,  10,  28,  32,  71,  13,  77,  82, 111, 114,  43,  26,  65,  82,\n",
       "          10,  12,  15,  29,  74, 101,  60,  70,  82]),\n",
       " tensor([ 55,  64, 112,  77,  61,  55,  71,  19,  19, 119,  27, 105,  94, 120,\n",
       "         117,  35,  72,  53,  61,  27,  98,  48,  48,  29,  16,  34,  29,  77,\n",
       "         111,  51,  19,  86,  40,  67,  57, 114,  82]))"
      ]
     },
     "execution_count": 38,
     "metadata": {},
     "output_type": "execute_result"
    }
   ],
   "source": [
    "s_inds[0], s_inds[1], s_inds[2]"
   ]
  },
  {
   "cell_type": "code",
   "execution_count": null,
   "id": "f6224610",
   "metadata": {},
   "outputs": [],
   "source": []
  },
  {
   "cell_type": "code",
   "execution_count": 39,
   "id": "bca2552f",
   "metadata": {},
   "outputs": [],
   "source": [
    "\n",
    "s_counts = torch.unique_consecutive(s_inds[0], return_counts=True)[1]\n",
    "s_max = s_counts.max()"
   ]
  },
  {
   "cell_type": "code",
   "execution_count": 40,
   "id": "923b55dd",
   "metadata": {},
   "outputs": [
    {
     "data": {
      "text/plain": [
       "tensor(6)"
      ]
     },
     "execution_count": 40,
     "metadata": {},
     "output_type": "execute_result"
    }
   ],
   "source": [
    "s_max"
   ]
  },
  {
   "cell_type": "code",
   "execution_count": 41,
   "id": "16f16a44",
   "metadata": {},
   "outputs": [
    {
     "data": {
      "text/plain": [
       "tensor([4, 3, 2, 6, 4, 5, 1, 3, 6, 3])"
      ]
     },
     "execution_count": 41,
     "metadata": {},
     "output_type": "execute_result"
    }
   ],
   "source": [
    "s_counts"
   ]
  },
  {
   "cell_type": "code",
   "execution_count": null,
   "id": "2d96fd41",
   "metadata": {},
   "outputs": [],
   "source": []
  },
  {
   "cell_type": "code",
   "execution_count": null,
   "id": "61148906",
   "metadata": {},
   "outputs": [],
   "source": []
  },
  {
   "cell_type": "code",
   "execution_count": null,
   "id": "51539581",
   "metadata": {},
   "outputs": [],
   "source": []
  }
 ],
 "metadata": {
  "kernelspec": {
   "display_name": "compile_spline",
   "language": "python",
   "name": "compile_spline"
  },
  "language_info": {
   "codemirror_mode": {
    "name": "ipython",
    "version": 3
   },
   "file_extension": ".py",
   "mimetype": "text/x-python",
   "name": "python",
   "nbconvert_exporter": "python",
   "pygments_lexer": "ipython3",
   "version": "3.11.3"
  }
 },
 "nbformat": 4,
 "nbformat_minor": 5
}
